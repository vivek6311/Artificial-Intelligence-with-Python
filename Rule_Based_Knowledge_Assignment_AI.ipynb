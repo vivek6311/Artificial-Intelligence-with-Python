{
  "nbformat": 4,
  "nbformat_minor": 0,
  "metadata": {
    "colab": {
      "provenance": [],
      "authorship_tag": "ABX9TyODM6t1hzf1qWZskQS+pnun",
      "include_colab_link": true
    },
    "kernelspec": {
      "name": "python3",
      "display_name": "Python 3"
    },
    "language_info": {
      "name": "python"
    }
  },
  "cells": [
    {
      "cell_type": "markdown",
      "metadata": {
        "id": "view-in-github",
        "colab_type": "text"
      },
      "source": [
        "<a href=\"https://colab.research.google.com/github/vivek6311/Artificial-Intelligence-with-Python/blob/master/Rule_Based_Knowledge_Assignment_AI.ipynb\" target=\"_parent\"><img src=\"https://colab.research.google.com/assets/colab-badge.svg\" alt=\"Open In Colab\"/></a>"
      ]
    },
    {
      "cell_type": "code",
      "execution_count": 3,
      "metadata": {
        "colab": {
          "base_uri": "https://localhost:8080/"
        },
        "id": "IhFF28lia9SR",
        "outputId": "fa3543b9-593a-4c4f-b115-833f28d2afe2"
      },
      "outputs": [
        {
          "output_type": "stream",
          "name": "stdout",
          "text": [
            "{'a', 'h', 'k', 'c', 'e', 'd', 'g'}\n",
            "q\n",
            "{'i': [{'l', 'k', 'm'}], 'q': [{'i', 'l', 'j'}, {'a', 'b'}, {'n', 'l', 'p', 'o'}], 'b': [{'d', 'c', 'e'}, {'f', 'h'}], 'r': [{'h', 'c'}], 's': [{'m', 'j', 'r'}], 'f': [{'g'}]}\n"
          ]
        }
      ],
      "source": [
        "from typing import List, Dict, Set\n",
        "with open(\"/content/file.txt\") as f:\n",
        "    observations = set(f.readline().strip().split(\",\"))\n",
        "    # Empty Line\n",
        "    f.readline()\n",
        "    rules = {}\n",
        "    # Loop over the remaining lines\n",
        "    for line in f.readlines():\n",
        "        # For rules\n",
        "        if \"=>\" in line:\n",
        "            # Split with \"=>\"\n",
        "            rule, goal = line.strip().split(\"=>\")\n",
        "            # If the goal is already present in dictionary, append the\n",
        "            # new rule_line as a set to the list\n",
        "            # If goal not present, create an empty list and than\n",
        "            # append the rule set\n",
        "            rules.setdefault(goal, []).append(set(rule.split(\"+\")))\n",
        "        # For Final Goal\n",
        "        elif line.isalpha():\n",
        "            finalgoal = line\n",
        "\n",
        "print(observations)\n",
        "print(finalgoal)\n",
        "print(rules)"
      ]
    },
    {
      "cell_type": "markdown",
      "source": [
        "Backward Chainning\n"
      ],
      "metadata": {
        "id": "kuqqr8Hg-hPZ"
      }
    },
    {
      "cell_type": "code",
      "source": [
        "def backwardChainning(rules_set: Dict, \n",
        "                    observation_set: Set,\n",
        "                    final_goal: str,\n",
        "                    path: List) -> bool:\n",
        "    \"\"\"\n",
        "    Predict the given Final Goal is reachable or not from the given observations.\n",
        "    \"\"\"\n",
        "    # Base Cases\n",
        "    # If final_goal in observation, return True\n",
        "    if final_goal in observation_set:\n",
        "        return True, path\n",
        "    # If Goal/Final Goal not in observation\n",
        "    # Not even in knowledge base, we can't reach it.\n",
        "    # Return False\n",
        "    elif final_goal not in rules_set:\n",
        "        return False, path\n",
        "\n",
        "    for rule_set in rules_set[final_goal]:\n",
        "        for rule in rule_set:\n",
        "            # Recursion with Depth First Search\n",
        "            temp_result, path = backwardChainning(rules_set, observation_set, rule, path)\n",
        "            if temp_result == False:\n",
        "                break # Go to next rule_set\n",
        "        # If there was no break, which means all rule in the set\n",
        "        # was present, return True.\n",
        "        if temp_result: \n",
        "            path.append(f\"{rule_set} => {final_goal}\")\n",
        "            return temp_result, path\n",
        "        \n",
        "    return temp_result, path\n",
        "\n",
        "isFinalGoalReached, path = backwardChainning(rules, observations, finalgoal, [])\n",
        "print(f\"Is the expected Final Goal {finalgoal} is reachable: {isFinalGoalReached}\")\n",
        "print(f\"The path to reach the Final Goal is: {'; '.join(path)}\")"
      ],
      "metadata": {
        "colab": {
          "base_uri": "https://localhost:8080/"
        },
        "id": "QzUscaweborT",
        "outputId": "6746f895-0435-4853-c0f2-3fd8dfa06c56"
      },
      "execution_count": 4,
      "outputs": [
        {
          "output_type": "stream",
          "name": "stdout",
          "text": [
            "Is the expected Final Goal q is reachable: True\n",
            "The path to reach the Final Goal is: {'d', 'c', 'e'} => b; {'a', 'b'} => q\n"
          ]
        }
      ]
    },
    {
      "cell_type": "markdown",
      "source": [
        "Forward Chainning\n"
      ],
      "metadata": {
        "id": "6UdTEEiA-zcV"
      }
    },
    {
      "cell_type": "markdown",
      "source": [],
      "metadata": {
        "id": "50KhlvG0-d4X"
      }
    },
    {
      "cell_type": "code",
      "source": [
        "def forwardChainning(rules_set: Dict, observation_set: set) -> str or None:\n",
        "    reached_goals = []\n",
        "    addition = True\n",
        "\n",
        "    while addition:\n",
        "        # Loop until there is no addition to observation\n",
        "        addition = False\n",
        "        # Go through each goal in the rules\n",
        "        for goal, rule_list in rules_set.items():\n",
        "            # Loop through all the set of rules(paths) to reach\n",
        "            # the goal\n",
        "            if goal in observation_set:\n",
        "                continue\n",
        "            # Check for each observation in the rule list(each line in txt file)\n",
        "            for rule_set in rule_list:\n",
        "                for rule in rule_set:\n",
        "                    # If observation is not present, skip the list\n",
        "                    if rule not in observation_set:\n",
        "                        break\n",
        "                else:\n",
        "                    # All rule of rule_set is present in observation\n",
        "                    # So goal acheived, add to observation set\n",
        "                    observation_set.add(goal)\n",
        "                    \n",
        "                    # Add the goal to listr of goals reached.\n",
        "                    reached_goals.append(goal)\n",
        "\n",
        "                    # Since there was an addition, we have to do one more run\n",
        "                    addition = True\n",
        "\n",
        "                    # Since goal is reached no need to check for further in that list.\n",
        "                    break\n",
        "    \n",
        "    return reached_goals"
      ],
      "metadata": {
        "id": "81ye8bG4bLL3"
      },
      "execution_count": 10,
      "outputs": []
    },
    {
      "cell_type": "code",
      "source": [
        "obs_copy = observations.copy()\n",
        "acheivableGoals = forwardChainning(rules, obs_copy)\n",
        "print(f\"The acheivable goals from the given observations are: {', '.join(acheivableGoals)}\")"
      ],
      "metadata": {
        "colab": {
          "base_uri": "https://localhost:8080/"
        },
        "id": "30--ORoO-61V",
        "outputId": "1268b580-9336-4e8f-aa9b-2a3ef413f104"
      },
      "execution_count": 11,
      "outputs": [
        {
          "output_type": "stream",
          "name": "stdout",
          "text": [
            "The acheivable goals from the given observations are: b, r, f, q\n"
          ]
        }
      ]
    },
    {
      "cell_type": "code",
      "source": [],
      "metadata": {
        "id": "9hZIlcS4IQO0"
      },
      "execution_count": null,
      "outputs": []
    }
  ]
}