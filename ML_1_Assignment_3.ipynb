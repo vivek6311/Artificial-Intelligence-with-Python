{
  "nbformat": 4,
  "nbformat_minor": 0,
  "metadata": {
    "colab": {
      "provenance": [],
      "authorship_tag": "ABX9TyP9Bw6bqaYzdUIGqYxrWRFg",
      "include_colab_link": true
    },
    "kernelspec": {
      "name": "python3",
      "display_name": "Python 3"
    },
    "language_info": {
      "name": "python"
    }
  },
  "cells": [
    {
      "cell_type": "markdown",
      "metadata": {
        "id": "view-in-github",
        "colab_type": "text"
      },
      "source": [
        "<a href=\"https://colab.research.google.com/github/vivek6311/Artificial-Intelligence-with-Python/blob/master/ML_1_Assignment_3.ipynb\" target=\"_parent\"><img src=\"https://colab.research.google.com/assets/colab-badge.svg\" alt=\"Open In Colab\"/></a>"
      ]
    },
    {
      "cell_type": "code",
      "execution_count": 151,
      "metadata": {
        "id": "fz4AW1MrqtX9"
      },
      "outputs": [],
      "source": [
        "import numpy as np\n",
        "import pandas as pd\n",
        "import tensorflow as tf\n",
        "import tensorflow_datasets\n",
        "import matplotlib.pyplot as plt"
      ]
    },
    {
      "cell_type": "code",
      "source": [
        "from keras.datasets import mnist"
      ],
      "metadata": {
        "id": "zHaUyPrgq35d"
      },
      "execution_count": 152,
      "outputs": []
    },
    {
      "cell_type": "code",
      "source": [
        "(train_X, train_y), (test_X, test_y) = mnist.load_data()"
      ],
      "metadata": {
        "id": "8b37jEVrtjKR"
      },
      "execution_count": 153,
      "outputs": []
    },
    {
      "cell_type": "code",
      "source": [
        "train_X.shape"
      ],
      "metadata": {
        "colab": {
          "base_uri": "https://localhost:8080/",
          "height": 0
        },
        "id": "6hJvHZe7tokX",
        "outputId": "a6f93b4d-cf68-46cb-9065-f156effb2cb3"
      },
      "execution_count": 154,
      "outputs": [
        {
          "output_type": "execute_result",
          "data": {
            "text/plain": [
              "(60000, 28, 28)"
            ]
          },
          "metadata": {},
          "execution_count": 154
        }
      ]
    },
    {
      "cell_type": "code",
      "source": [
        "test_X.shape"
      ],
      "metadata": {
        "colab": {
          "base_uri": "https://localhost:8080/",
          "height": 0
        },
        "id": "219gMN11tqoQ",
        "outputId": "871c03d5-c60d-4c52-cc25-99b989b0559c"
      },
      "execution_count": 155,
      "outputs": [
        {
          "output_type": "execute_result",
          "data": {
            "text/plain": [
              "(10000, 28, 28)"
            ]
          },
          "metadata": {},
          "execution_count": 155
        }
      ]
    },
    {
      "cell_type": "code",
      "source": [
        "train_y.shape"
      ],
      "metadata": {
        "colab": {
          "base_uri": "https://localhost:8080/",
          "height": 0
        },
        "id": "v1sICbU1uLrn",
        "outputId": "0257e18e-22be-4ed2-d68e-28d3eb901d4d"
      },
      "execution_count": 156,
      "outputs": [
        {
          "output_type": "execute_result",
          "data": {
            "text/plain": [
              "(60000,)"
            ]
          },
          "metadata": {},
          "execution_count": 156
        }
      ]
    },
    {
      "cell_type": "code",
      "source": [
        "np.where(train_y == 3)"
      ],
      "metadata": {
        "colab": {
          "base_uri": "https://localhost:8080/",
          "height": 0
        },
        "id": "MIFe1w561UCl",
        "outputId": "c1df0b97-252f-4cc9-ebad-0fae67eb357d"
      },
      "execution_count": 157,
      "outputs": [
        {
          "output_type": "execute_result",
          "data": {
            "text/plain": [
              "(array([    7,    10,    12, ..., 59978, 59980, 59996]),)"
            ]
          },
          "metadata": {},
          "execution_count": 157
        }
      ]
    },
    {
      "cell_type": "code",
      "source": [
        "train_X = train_X[np.where(train_y==3)][0:200,:]"
      ],
      "metadata": {
        "id": "eEpY2knqhhim"
      },
      "execution_count": 158,
      "outputs": []
    },
    {
      "cell_type": "code",
      "source": [
        "train_y = train_y[np.where(train_y==3)][0:200]"
      ],
      "metadata": {
        "id": "CHK3UNgqiyA8"
      },
      "execution_count": 159,
      "outputs": []
    },
    {
      "cell_type": "code",
      "source": [
        "train_X.shape"
      ],
      "metadata": {
        "colab": {
          "base_uri": "https://localhost:8080/",
          "height": 0
        },
        "id": "e6WbHBREjTMs",
        "outputId": "28b03daf-b81d-4579-d02f-c9a3dd821d50"
      },
      "execution_count": 160,
      "outputs": [
        {
          "output_type": "execute_result",
          "data": {
            "text/plain": [
              "(200, 28, 28)"
            ]
          },
          "metadata": {},
          "execution_count": 160
        }
      ]
    },
    {
      "cell_type": "code",
      "source": [
        "from sklearn.decomposition import PCA"
      ],
      "metadata": {
        "id": "apQpjOo91A6B"
      },
      "execution_count": 161,
      "outputs": []
    },
    {
      "cell_type": "code",
      "source": [
        "plt.imshow(train_X[0])"
      ],
      "metadata": {
        "colab": {
          "base_uri": "https://localhost:8080/",
          "height": 282
        },
        "id": "VON5ieTc1Fgp",
        "outputId": "039329a9-4e15-4d28-ec90-8c5bbb216a81"
      },
      "execution_count": 162,
      "outputs": [
        {
          "output_type": "execute_result",
          "data": {
            "text/plain": [
              "<matplotlib.image.AxesImage at 0x7efd28982310>"
            ]
          },
          "metadata": {},
          "execution_count": 162
        },
        {
          "output_type": "display_data",
          "data": {
            "text/plain": [
              "<Figure size 432x288 with 1 Axes>"
            ],
            "image/png": "[encoded data removed]"
          },
          "metadata": {
            "needs_background": "light"
          }
        }
      ]
    },
    {
      "cell_type": "code",
      "source": [
        "u, s, v = np.linalg.svd(train_X[0])"
      ],
      "metadata": {
        "id": "rQYL4MmF1q8l"
      },
      "execution_count": 163,
      "outputs": []
    },
    {
      "cell_type": "code",
      "source": [
        "pd.Series(s)"
      ],
      "metadata": {
        "colab": {
          "base_uri": "https://localhost:8080/",
          "height": 0
        },
        "id": "BXtrOCZTjeVJ",
        "outputId": "9fdf160b-492d-41eb-f6c5-6a4ad33f42a2"
      },
      "execution_count": 164,
      "outputs": [
        {
          "output_type": "execute_result",
          "data": {
            "text/plain": [
              "0     2.315397e+03\n",
              "1     1.160593e+03\n",
              "2     7.367525e+02\n",
              "3     5.816248e+02\n",
              "4     4.650246e+02\n",
              "5     2.691638e+02\n",
              "6     2.157416e+02\n",
              "7     1.396781e+02\n",
              "8     1.202397e+02\n",
              "9     1.141483e+02\n",
              "10    8.844231e+01\n",
              "11    8.459734e+01\n",
              "12    6.492073e+01\n",
              "13    4.158862e+01\n",
              "14    3.158996e+01\n",
              "15    1.278208e+01\n",
              "16    1.035078e+01\n",
              "17    7.245033e+00\n",
              "18    1.559633e-13\n",
              "19    1.559633e-13\n",
              "20    1.559633e-13\n",
              "21    1.559633e-13\n",
              "22    1.559633e-13\n",
              "23    1.559633e-13\n",
              "24    1.559633e-13\n",
              "25    1.559633e-13\n",
              "26    1.559633e-13\n",
              "27    1.559633e-13\n",
              "dtype: float64"
            ]
          },
          "metadata": {},
          "execution_count": 164
        }
      ]
    },
    {
      "cell_type": "code",
      "source": [
        " PCA(3).fit_transform(train_X[0])"
      ],
      "metadata": {
        "colab": {
          "base_uri": "https://localhost:8080/",
          "height": 0
        },
        "id": "Yxt8aOrs2LjS",
        "outputId": "a8ff74eb-56da-4325-93f8-05efe96b1d7f"
      },
      "execution_count": 165,
      "outputs": [
        {
          "output_type": "execute_result",
          "data": {
            "text/plain": [
              "array([[-314.49332422,   96.75368031,  -18.05044186],\n",
              "       [-314.49332422,   96.75368031,  -18.05044186],\n",
              "       [-314.49332422,   96.75368031,  -18.05044186],\n",
              "       [-314.49332422,   96.75368031,  -18.05044186],\n",
              "       [-314.49332422,   96.75368031,  -18.05044186],\n",
              "       [ 177.39434161, -273.04335199,  117.39924297],\n",
              "       [ 420.832021  , -218.58521326, -104.61319943],\n",
              "       [ 511.522119  , -170.66547699, -203.91767123],\n",
              "       [ 307.5329325 , -168.55685274, -284.89886862],\n",
              "       [-163.84470935, -210.48598005, -238.33194846],\n",
              "       [-172.45282068, -250.00520441, -179.62399326],\n",
              "       [-128.69565729, -280.56563651,  -57.84481535],\n",
              "       [  41.52407045, -311.89032276,  104.80777939],\n",
              "       [ 311.90536597,  -70.4657958 ,  109.75396192],\n",
              "       [ 425.50295599,  116.67694486,   46.90160296],\n",
              "       [ 453.00734934,   53.42351706,   37.96127167],\n",
              "       [ -24.41547156,  -98.43118943,   97.51221845],\n",
              "       [-187.22464366, -128.63437845,   95.03888841],\n",
              "       [-164.31915098, -139.39181164,  121.04343977],\n",
              "       [ -70.9307768 , -144.30822307,  217.10323179],\n",
              "       [  57.99703616,  -40.71705172,  329.65698944],\n",
              "       [ 311.80145823,  271.94707657,  212.81249679],\n",
              "       [ 374.24176362,  503.01738316,  -12.22553259],\n",
              "       [ 171.54799165,  479.06922402, -146.23078009],\n",
              "       [-136.97958149,  307.58290063, -117.90077964],\n",
              "       [-314.49332422,   96.75368031,  -18.05044186],\n",
              "       [-314.49332422,   96.75368031,  -18.05044186],\n",
              "       [-314.49332422,   96.75368031,  -18.05044186]])"
            ]
          },
          "metadata": {},
          "execution_count": 165
        }
      ]
    },
    {
      "cell_type": "code",
      "source": [
        "X=train_X"
      ],
      "metadata": {
        "id": "RHz1_2RD2W-q"
      },
      "execution_count": 166,
      "outputs": []
    },
    {
      "cell_type": "code",
      "source": [
        "X = np.reshape(X, (200, 784))"
      ],
      "metadata": {
        "id": "oNa-qveH9nff"
      },
      "execution_count": 167,
      "outputs": []
    },
    {
      "cell_type": "code",
      "source": [
        "#mean = np.mean(X, axis=0)"
      ],
      "metadata": {
        "id": "38fpg--19qLn"
      },
      "execution_count": 168,
      "outputs": []
    },
    {
      "cell_type": "code",
      "source": [
        "#mean.shape"
      ],
      "metadata": {
        "id": "5RlG4fte9y3h"
      },
      "execution_count": 169,
      "outputs": []
    },
    {
      "cell_type": "code",
      "source": [
        "#mean = np.reshape(mean, (28,28))"
      ],
      "metadata": {
        "id": "g7OQHNMd9zao"
      },
      "execution_count": 170,
      "outputs": []
    },
    {
      "cell_type": "code",
      "source": [
        "#plt.imshow(mean)"
      ],
      "metadata": {
        "id": "TjxoabqG9_bJ"
      },
      "execution_count": 171,
      "outputs": []
    },
    {
      "cell_type": "code",
      "source": [
        "l=[]\n",
        "for i in train_X:\n",
        "  y=i.flatten()\n",
        "  y=y.reshape(1, y.shape[0])\n",
        "  l.append(y[0])"
      ],
      "metadata": {
        "id": "_UnlAYpB_Nrg"
      },
      "execution_count": 172,
      "outputs": []
    },
    {
      "cell_type": "code",
      "source": [
        "#l.shape"
      ],
      "metadata": {
        "id": "lZKcMcpR93x3"
      },
      "execution_count": 173,
      "outputs": []
    },
    {
      "cell_type": "code",
      "source": [
        "means= np.mean(l, axis=0)\n",
        "means.shape\n",
        "#means = np.reshape(means, (28,28))"
      ],
      "metadata": {
        "colab": {
          "base_uri": "https://localhost:8080/",
          "height": 0
        },
        "id": "fewATeo0V8Sq",
        "outputId": "95860aa0-80b9-4494-af67-768ac8406703"
      },
      "execution_count": 174,
      "outputs": [
        {
          "output_type": "execute_result",
          "data": {
            "text/plain": [
              "(784,)"
            ]
          },
          "metadata": {},
          "execution_count": 174
        }
      ]
    },
    {
      "cell_type": "code",
      "source": [
        "B= l-means"
      ],
      "metadata": {
        "id": "VGaVg1J9V9S8"
      },
      "execution_count": 175,
      "outputs": []
    },
    {
      "cell_type": "code",
      "source": [
        "l = np.array(l)\n",
        "C= np.cov(l.T)\n",
        "C"
      ],
      "metadata": {
        "colab": {
          "base_uri": "https://localhost:8080/",
          "height": 0
        },
        "id": "oxWOtzTlwfLb",
        "outputId": "3d24a4d0-776d-464c-857b-ce1c135df42f"
      },
      "execution_count": 183,
      "outputs": [
        {
          "output_type": "execute_result",
          "data": {
            "text/plain": [
              "array([[0., 0., 0., ..., 0., 0., 0.],\n",
              "       [0., 0., 0., ..., 0., 0., 0.],\n",
              "       [0., 0., 0., ..., 0., 0., 0.],\n",
              "       ...,\n",
              "       [0., 0., 0., ..., 0., 0., 0.],\n",
              "       [0., 0., 0., ..., 0., 0., 0.],\n",
              "       [0., 0., 0., ..., 0., 0., 0.]])"
            ]
          },
          "metadata": {},
          "execution_count": 183
        }
      ]
    },
    {
      "cell_type": "code",
      "source": [
        "E_values, E_vectors= np.linalg.eig(C)\n",
        "print(E_values)\n",
        "print(E_vectors)"
      ],
      "metadata": {
        "colab": {
          "base_uri": "https://localhost:8080/",
          "height": 0
        },
        "id": "i4zJiF4hwhlh",
        "outputId": "680a499c-af91-487d-b0c3-fc824e03bb18"
      },
      "execution_count": 177,
      "outputs": [
        {
          "output_type": "stream",
          "name": "stdout",
          "text": [
            "[ 4.26580655e+05+0.00000000e+00j  2.71913150e+05+0.00000000e+00j\n",
            "  2.25730587e+05+0.00000000e+00j  1.73801858e+05+0.00000000e+00j\n",
            "  1.49193737e+05+0.00000000e+00j  1.16119758e+05+0.00000000e+00j\n",
            "  9.63103166e+04+0.00000000e+00j  8.14503198e+04+0.00000000e+00j\n",
            "  7.31688693e+04+0.00000000e+00j  7.02439493e+04+0.00000000e+00j\n",
            "  6.64239005e+04+0.00000000e+00j  5.88463719e+04+0.00000000e+00j\n",
            "  5.38774446e+04+0.00000000e+00j  4.92220140e+04+0.00000000e+00j\n",
            "  4.52921023e+04+0.00000000e+00j  4.37768655e+04+0.00000000e+00j\n",
            "  3.60228912e+04+0.00000000e+00j  3.55180315e+04+0.00000000e+00j\n",
            "  3.26273716e+04+0.00000000e+00j  3.04982734e+04+0.00000000e+00j\n",
            "  2.93703401e+04+0.00000000e+00j  2.77839143e+04+0.00000000e+00j\n",
            "  2.57554512e+04+0.00000000e+00j  2.37089628e+04+0.00000000e+00j\n",
            "  2.30915741e+04+0.00000000e+00j  2.19177447e+04+0.00000000e+00j\n",
            "  2.09891652e+04+0.00000000e+00j  1.91928365e+04+0.00000000e+00j\n",
            "  1.82615954e+04+0.00000000e+00j  1.80511589e+04+0.00000000e+00j\n",
            "  1.76468253e+04+0.00000000e+00j  1.72944923e+04+0.00000000e+00j\n",
            "  1.63286207e+04+0.00000000e+00j  1.49815275e+04+0.00000000e+00j\n",
            "  1.46423330e+04+0.00000000e+00j  1.33124420e+04+0.00000000e+00j\n",
            "  1.29300930e+04+0.00000000e+00j  1.23157438e+04+0.00000000e+00j\n",
            "  1.20687885e+04+0.00000000e+00j  1.16507961e+04+0.00000000e+00j\n",
            "  1.10945782e+04+0.00000000e+00j  1.08994175e+04+0.00000000e+00j\n",
            "  1.06572219e+04+0.00000000e+00j  1.02733467e+04+0.00000000e+00j\n",
            "  9.98359148e+03+0.00000000e+00j  9.81302994e+03+0.00000000e+00j\n",
            "  9.57354892e+03+0.00000000e+00j  8.81322040e+03+0.00000000e+00j\n",
            "  8.70943388e+03+0.00000000e+00j  8.41484855e+03+0.00000000e+00j\n",
            "  8.20824342e+03+0.00000000e+00j  8.06283864e+03+0.00000000e+00j\n",
            "  7.80772803e+03+0.00000000e+00j  7.41256597e+03+0.00000000e+00j\n",
            "  7.12670211e+03+0.00000000e+00j  6.94981658e+03+0.00000000e+00j\n",
            "  6.76780067e+03+0.00000000e+00j  6.56397508e+03+0.00000000e+00j\n",
            "  6.34007010e+03+0.00000000e+00j  6.11281382e+03+0.00000000e+00j\n",
            "  5.85833942e+03+0.00000000e+00j  5.73337070e+03+0.00000000e+00j\n",
            "  5.67547286e+03+0.00000000e+00j  5.52701946e+03+0.00000000e+00j\n",
            "  5.32634733e+03+0.00000000e+00j  5.05198567e+03+0.00000000e+00j\n",
            "  4.98416754e+03+0.00000000e+00j  4.89928721e+03+0.00000000e+00j\n",
            "  4.83870763e+03+0.00000000e+00j  4.52951745e+03+0.00000000e+00j\n",
            "  4.33082657e+03+0.00000000e+00j  4.26700124e+03+0.00000000e+00j\n",
            "  4.17318831e+03+0.00000000e+00j  4.07146650e+03+0.00000000e+00j\n",
            "  4.04385241e+03+0.00000000e+00j  3.95156677e+03+0.00000000e+00j\n",
            "  3.80569023e+03+0.00000000e+00j  3.69832014e+03+0.00000000e+00j\n",
            "  3.58078374e+03+0.00000000e+00j  3.46463781e+03+0.00000000e+00j\n",
            "  3.34594008e+03+0.00000000e+00j  3.32459799e+03+0.00000000e+00j\n",
            "  3.27144988e+03+0.00000000e+00j  3.21673126e+03+0.00000000e+00j\n",
            "  3.04532798e+03+0.00000000e+00j  3.01543499e+03+0.00000000e+00j\n",
            "  2.93160819e+03+0.00000000e+00j  2.87332760e+03+0.00000000e+00j\n",
            "  2.83736700e+03+0.00000000e+00j  2.74176998e+03+0.00000000e+00j\n",
            "  2.71581184e+03+0.00000000e+00j  2.68152953e+03+0.00000000e+00j\n",
            "  2.63920026e+03+0.00000000e+00j  2.35122883e+03+0.00000000e+00j\n",
            "  2.39302773e+03+0.00000000e+00j  2.45428805e+03+0.00000000e+00j\n",
            "  2.50785784e+03+0.00000000e+00j  2.30581514e+03+0.00000000e+00j\n",
            "  2.23156925e+03+0.00000000e+00j  2.15522372e+03+0.00000000e+00j\n",
            "  2.14156873e+03+0.00000000e+00j  2.10367282e+03+0.00000000e+00j\n",
            "  2.02803054e+03+0.00000000e+00j  1.99048308e+03+0.00000000e+00j\n",
            "  1.96301110e+03+0.00000000e+00j  1.89771994e+03+0.00000000e+00j\n",
            "  1.85613049e+03+0.00000000e+00j  1.80024644e+03+0.00000000e+00j\n",
            "  1.76199488e+03+0.00000000e+00j  1.72277072e+03+0.00000000e+00j\n",
            "  1.69686586e+03+0.00000000e+00j  1.68992591e+03+0.00000000e+00j\n",
            "  1.61685154e+03+0.00000000e+00j  1.59642408e+03+0.00000000e+00j\n",
            "  1.56166035e+03+0.00000000e+00j  1.52577616e+03+0.00000000e+00j\n",
            "  1.50065670e+03+0.00000000e+00j  1.46235436e+03+0.00000000e+00j\n",
            "  1.43135968e+03+0.00000000e+00j  1.41683033e+03+0.00000000e+00j\n",
            "  1.35494639e+03+0.00000000e+00j  1.36147307e+03+0.00000000e+00j\n",
            "  1.29729078e+03+0.00000000e+00j  1.26334165e+03+0.00000000e+00j\n",
            "  1.23440401e+03+0.00000000e+00j  1.20728987e+03+0.00000000e+00j\n",
            "  1.20464219e+03+0.00000000e+00j  1.14464038e+03+0.00000000e+00j\n",
            "  1.16014452e+03+0.00000000e+00j  1.08844209e+03+0.00000000e+00j\n",
            "  1.10075478e+03+0.00000000e+00j  1.05738396e+03+0.00000000e+00j\n",
            "  1.04344800e+03+0.00000000e+00j  1.02912344e+03+0.00000000e+00j\n",
            "  9.85811282e+02+0.00000000e+00j  9.80697848e+02+0.00000000e+00j\n",
            "  9.54866885e+02+0.00000000e+00j  9.37269957e+02+0.00000000e+00j\n",
            "  9.19174168e+02+0.00000000e+00j  8.97111267e+02+0.00000000e+00j\n",
            "  8.62540512e+02+0.00000000e+00j  8.56456890e+02+0.00000000e+00j\n",
            "  8.19290641e+02+0.00000000e+00j  7.92242600e+02+0.00000000e+00j\n",
            "  7.77298636e+02+0.00000000e+00j  7.50745641e+02+0.00000000e+00j\n",
            "  7.43154554e+02+0.00000000e+00j  7.33495164e+02+0.00000000e+00j\n",
            "  7.17420987e+02+0.00000000e+00j  7.02863630e+02+0.00000000e+00j\n",
            "  6.61092030e+02+0.00000000e+00j  6.50488663e+02+0.00000000e+00j\n",
            "  6.40583356e+02+0.00000000e+00j  6.29119272e+02+0.00000000e+00j\n",
            "  6.14122427e+02+0.00000000e+00j  5.88485338e+02+0.00000000e+00j\n",
            "  5.95716619e+02+0.00000000e+00j  5.57495787e+02+0.00000000e+00j\n",
            "  5.29617259e+02+0.00000000e+00j  5.34474178e+02+0.00000000e+00j\n",
            "  5.19552573e+02+0.00000000e+00j  4.98602151e+02+0.00000000e+00j\n",
            "  4.84468447e+02+0.00000000e+00j  4.82268719e+02+0.00000000e+00j\n",
            "  4.69735947e+02+0.00000000e+00j  4.52159882e+02+0.00000000e+00j\n",
            "  4.39842289e+02+0.00000000e+00j  4.33026001e+02+0.00000000e+00j\n",
            "  4.12650338e+02+0.00000000e+00j  1.58951331e+02+0.00000000e+00j\n",
            "  1.63433007e+02+0.00000000e+00j  1.70216545e+02+0.00000000e+00j\n",
            "  1.75984536e+02+0.00000000e+00j  1.88232027e+02+0.00000000e+00j\n",
            "  1.99729656e+02+0.00000000e+00j  2.04136947e+02+0.00000000e+00j\n",
            "  2.11216764e+02+0.00000000e+00j  2.22118495e+02+0.00000000e+00j\n",
            "  2.17307533e+02+0.00000000e+00j  3.90932627e+02+0.00000000e+00j\n",
            "  4.03023891e+02+0.00000000e+00j  3.84404169e+02+0.00000000e+00j\n",
            "  3.78719319e+02+0.00000000e+00j  3.67874356e+02+0.00000000e+00j\n",
            "  3.59207719e+02+0.00000000e+00j  3.48493609e+02+0.00000000e+00j\n",
            "  3.37212621e+02+0.00000000e+00j  2.54169698e+02+0.00000000e+00j\n",
            "  3.20035811e+02+0.00000000e+00j  2.68839709e+02+0.00000000e+00j\n",
            "  2.77743388e+02+0.00000000e+00j  2.84807550e+02+0.00000000e+00j\n",
            "  2.86267576e+02+0.00000000e+00j  3.09701064e+02+0.00000000e+00j\n",
            "  3.07228330e+02+0.00000000e+00j  1.47084954e+02+0.00000000e+00j\n",
            "  1.29752623e+02+0.00000000e+00j  1.22485683e+02+0.00000000e+00j\n",
            "  1.05968984e+02+0.00000000e+00j -8.78794003e-11+0.00000000e+00j\n",
            "  9.08535019e-11+0.00000000e+00j -8.33390625e-11+0.00000000e+00j\n",
            "  7.61387724e-11+0.00000000e+00j -7.23468541e-11+0.00000000e+00j\n",
            " -6.93969044e-11+0.00000000e+00j  7.05954932e-11+0.00000000e+00j\n",
            "  6.50986255e-11+0.00000000e+00j  6.29056021e-11+0.00000000e+00j\n",
            " -6.27330198e-11+0.00000000e+00j -6.26531975e-11+0.00000000e+00j\n",
            " -6.12781712e-11+0.00000000e+00j  5.73303521e-11+6.74945116e-13j\n",
            "  5.73303521e-11-6.74945116e-13j -5.80248032e-11+0.00000000e+00j\n",
            " -5.46536272e-11+0.00000000e+00j -5.44497319e-11+1.25740120e-12j\n",
            " -5.44497319e-11-1.25740120e-12j -5.18704019e-11+0.00000000e+00j\n",
            " -5.14394795e-11+0.00000000e+00j  5.37676724e-11+0.00000000e+00j\n",
            "  5.31169521e-11+0.00000000e+00j -4.79738360e-11+7.66117785e-13j\n",
            " -4.79738360e-11-7.66117785e-13j -4.40323866e-11+2.93464993e-12j\n",
            " -4.40323866e-11-2.93464993e-12j -4.39641594e-11+0.00000000e+00j\n",
            " -4.13350055e-11+0.00000000e+00j -4.04082617e-11+0.00000000e+00j\n",
            " -3.98714489e-11+5.11140021e-13j -3.98714489e-11-5.11140021e-13j\n",
            " -3.88187607e-11+0.00000000e+00j -3.69420905e-11+0.00000000e+00j\n",
            " -3.49817625e-11+0.00000000e+00j  5.11534951e-11+0.00000000e+00j\n",
            "  4.84169267e-11+0.00000000e+00j  4.68754394e-11+0.00000000e+00j\n",
            "  4.56803549e-11+1.09671257e-12j  4.56803549e-11-1.09671257e-12j\n",
            "  4.58534785e-11+0.00000000e+00j  4.24221881e-11+0.00000000e+00j\n",
            "  4.10889302e-11+0.00000000e+00j  4.04222366e-11+0.00000000e+00j\n",
            "  3.98382288e-11+6.73181607e-13j  3.98382288e-11-6.73181607e-13j\n",
            "  3.81880151e-11+1.00530439e-13j  3.81880151e-11-1.00530439e-13j\n",
            "  3.55195631e-11+0.00000000e+00j  3.46929313e-11+1.71165531e-12j\n",
            "  3.46929313e-11-1.71165531e-12j -3.34448292e-11+8.33001815e-13j\n",
            " -3.34448292e-11-8.33001815e-13j -3.32038246e-11+0.00000000e+00j\n",
            " -3.15061011e-11+2.33526110e-13j -3.15061011e-11-2.33526110e-13j\n",
            " -3.04163159e-11+9.51716204e-13j -3.04163159e-11-9.51716204e-13j\n",
            " -2.74684697e-11+3.80579291e-12j -2.74684697e-11-3.80579291e-12j\n",
            " -2.94297681e-11+0.00000000e+00j -2.72802733e-11+1.23038770e-13j\n",
            " -2.72802733e-11-1.23038770e-13j -2.53493058e-11+1.50315878e-12j\n",
            " -2.53493058e-11-1.50315878e-12j -2.57042136e-11+5.49518601e-13j\n",
            " -2.57042136e-11-5.49518601e-13j -2.37737165e-11+0.00000000e+00j\n",
            "  3.38400484e-11+0.00000000e+00j  3.31307917e-11+1.30254861e-12j\n",
            "  3.31307917e-11-1.30254861e-12j  3.23547609e-11+0.00000000e+00j\n",
            "  3.14489623e-11+0.00000000e+00j  3.08818648e-11+9.48357799e-13j\n",
            "  3.08818648e-11-9.48357799e-13j  2.94784536e-11+0.00000000e+00j\n",
            "  2.90710116e-11+1.68057775e-12j  2.90710116e-11-1.68057775e-12j\n",
            "  2.65990489e-11+2.07498092e-12j  2.65990489e-11-2.07498092e-12j\n",
            "  2.32503884e-11+2.28244730e-12j  2.32503884e-11-2.28244730e-12j\n",
            "  2.50924381e-11+0.00000000e+00j  2.44001524e-11+0.00000000e+00j\n",
            "  2.47915411e-11+0.00000000e+00j  2.28931231e-11+0.00000000e+00j\n",
            "  2.23675144e-11+0.00000000e+00j  2.16896866e-11+8.91327272e-13j\n",
            "  2.16896866e-11-8.91327272e-13j  1.86891204e-11+2.67441283e-12j\n",
            "  1.86891204e-11-2.67441283e-12j  2.08895181e-11+1.16941952e-12j\n",
            "  2.08895181e-11-1.16941952e-12j  2.07448678e-11+0.00000000e+00j\n",
            "  2.04668618e-11+0.00000000e+00j  1.84417200e-11+1.44994370e-12j\n",
            "  1.84417200e-11-1.44994370e-12j  1.88455887e-11+0.00000000e+00j\n",
            "  1.67832343e-11+1.26399914e-12j  1.67832343e-11-1.26399914e-12j\n",
            " -2.29173771e-11+0.00000000e+00j -2.26696820e-11+1.00879977e-12j\n",
            " -2.26696820e-11-1.00879977e-12j -2.24345176e-11+7.17774502e-13j\n",
            " -2.24345176e-11-7.17774502e-13j -2.02739475e-11+1.45579951e-12j\n",
            " -2.02739475e-11-1.45579951e-12j -2.03933375e-11+0.00000000e+00j\n",
            " -1.79213234e-11+2.99986330e-12j -1.79213234e-11-2.99986330e-12j\n",
            " -1.82050697e-11+1.14317727e-12j -1.82050697e-11-1.14317727e-12j\n",
            " -1.73116950e-11+1.51463693e-12j -1.73116950e-11-1.51463693e-12j\n",
            " -1.79836351e-11+0.00000000e+00j -1.71120459e-11+5.69537399e-13j\n",
            " -1.71120459e-11-5.69537399e-13j -1.62037812e-11+6.12589694e-13j\n",
            " -1.62037812e-11-6.12589694e-13j -1.56537840e-11+0.00000000e+00j\n",
            " -1.47407692e-11+0.00000000e+00j -1.28879276e-11+2.12220434e-12j\n",
            " -1.28879276e-11-2.12220434e-12j -1.33401741e-11+1.73603242e-12j\n",
            " -1.33401741e-11-1.73603242e-12j -1.39310933e-11+4.61491819e-13j\n",
            " -1.39310933e-11-4.61491819e-13j -1.13890330e-11+1.28733311e-12j\n",
            " -1.13890330e-11-1.28733311e-12j -1.17861794e-11+5.68631507e-13j\n",
            " -1.17861794e-11-5.68631507e-13j -1.23975229e-11+0.00000000e+00j\n",
            "  1.59022308e-11+1.53066466e-12j  1.59022308e-11-1.53066466e-12j\n",
            "  1.68479483e-11+0.00000000e+00j  1.50358848e-11+9.22041413e-13j\n",
            "  1.50358848e-11-9.22041413e-13j  1.50970223e-11+1.56922774e-13j\n",
            "  1.50970223e-11-1.56922774e-13j  1.31726237e-11+1.43637696e-12j\n",
            "  1.31726237e-11-1.43637696e-12j  1.42585751e-11+0.00000000e+00j\n",
            "  1.15460882e-11+1.66104645e-12j  1.15460882e-11-1.66104645e-12j\n",
            "  1.10761398e-11+8.93082967e-13j  1.10761398e-11-8.93082967e-13j\n",
            "  1.32961185e-11+0.00000000e+00j  1.21229424e-11+1.08578650e-12j\n",
            "  1.21229424e-11-1.08578650e-12j  1.22091492e-11+0.00000000e+00j\n",
            " -1.05976374e-11+3.49887569e-13j -1.05976374e-11-3.49887569e-13j\n",
            "  1.03470122e-11+7.46564911e-13j  1.03470122e-11-7.46564911e-13j\n",
            " -8.75073359e-12+3.38087704e-12j -8.75073359e-12-3.38087704e-12j\n",
            " -9.56468414e-12+0.00000000e+00j -9.83887493e-12+0.00000000e+00j\n",
            "  8.83772048e-12+1.27984860e-12j  8.83772048e-12-1.27984860e-12j\n",
            "  9.41145276e-12+6.67673291e-13j  9.41145276e-12-6.67673291e-13j\n",
            "  9.91270553e-12+0.00000000e+00j  5.65950378e-12+4.72216571e-12j\n",
            "  5.65950378e-12-4.72216571e-12j -6.41501995e-12+4.56669244e-12j\n",
            " -6.41501995e-12-4.56669244e-12j -8.08887641e-12+3.03736418e-12j\n",
            " -8.08887641e-12-3.03736418e-12j -8.35159853e-12+1.61338226e-12j\n",
            " -8.35159853e-12-1.61338226e-12j -8.19614883e-12+4.46067829e-13j\n",
            " -8.19614883e-12-4.46067829e-13j -7.29905467e-12+1.44309138e-12j\n",
            " -7.29905467e-12-1.44309138e-12j -7.69267350e-12+0.00000000e+00j\n",
            "  7.47585691e-12+1.20200738e-12j  7.47585691e-12-1.20200738e-12j\n",
            "  8.01239512e-12+2.58202644e-13j  8.01239512e-12-2.58202644e-13j\n",
            "  7.81463395e-12+0.00000000e+00j  7.20969601e-12+3.21442019e-13j\n",
            "  7.20969601e-12-3.21442019e-13j -7.57649088e-12+0.00000000e+00j\n",
            " -6.36733209e-12+0.00000000e+00j -6.21806449e-12+1.25886685e-13j\n",
            " -6.21806449e-12-1.25886685e-13j  6.25101393e-12+1.36720252e-12j\n",
            "  6.25101393e-12-1.36720252e-12j  6.28606634e-12+0.00000000e+00j\n",
            "  5.95767652e-12+3.25239620e-13j  5.95767652e-12-3.25239620e-13j\n",
            " -5.32273090e-12+1.54265907e-12j -5.32273090e-12-1.54265907e-12j\n",
            " -5.56624072e-12+8.35098056e-13j -5.56624072e-12-8.35098056e-13j\n",
            " -5.31157230e-12+0.00000000e+00j -1.52867054e-12+2.85710519e-12j\n",
            " -1.52867054e-12-2.85710519e-12j -4.84325320e-12+0.00000000e+00j\n",
            " -4.52051229e-12+0.00000000e+00j -4.30246585e-12+4.87053668e-13j\n",
            " -4.30246585e-12-4.87053668e-13j -3.81725614e-12+6.54191539e-13j\n",
            " -3.81725614e-12-6.54191539e-13j  5.25312344e-12+0.00000000e+00j\n",
            "  5.08414324e-12+5.53104419e-13j  5.08414324e-12-5.53104419e-13j\n",
            "  4.24078545e-12+1.14485851e-12j  4.24078545e-12-1.14485851e-12j\n",
            "  4.87040146e-12+0.00000000e+00j  4.41237072e-12+0.00000000e+00j\n",
            "  4.20747776e-12+4.39835922e-13j  4.20747776e-12-4.39835922e-13j\n",
            "  3.10284060e-12+1.41527494e-12j  3.10284060e-12-1.41527494e-12j\n",
            " -2.90262810e-12+1.31276791e-12j -2.90262810e-12-1.31276791e-12j\n",
            " -3.47136838e-12+2.21829893e-13j -3.47136838e-12-2.21829893e-13j\n",
            " -3.37483378e-12+4.44230542e-13j -3.37483378e-12-4.44230542e-13j\n",
            "  3.37988119e-12+4.28187121e-13j  3.37988119e-12-4.28187121e-13j\n",
            "  2.78281883e-12+7.28319862e-13j  2.78281883e-12-7.28319862e-13j\n",
            "  3.17480261e-12+0.00000000e+00j -2.29974583e-12+8.85214592e-13j\n",
            " -2.29974583e-12-8.85214592e-13j -2.81874999e-12+0.00000000e+00j\n",
            " -2.55287454e-12+0.00000000e+00j -2.34801663e-12+0.00000000e+00j\n",
            " -2.17700312e-12+1.87512476e-13j -2.17700312e-12-1.87512476e-13j\n",
            " -1.19910431e-12+1.03890871e-12j -1.19910431e-12-1.03890871e-12j\n",
            "  8.25330824e-13+1.35914921e-12j  8.25330824e-13-1.35914921e-12j\n",
            "  1.83604387e-12+9.03237002e-13j  1.83604387e-12-9.03237002e-13j\n",
            "  2.83400539e-12+0.00000000e+00j  2.51447533e-12+0.00000000e+00j\n",
            "  2.28341404e-12+0.00000000e+00j  1.61323336e-12+1.41921113e-13j\n",
            "  1.61323336e-12-1.41921113e-13j  1.69953691e-12+2.96178273e-14j\n",
            "  1.69953691e-12-2.96178273e-14j -1.57397772e-12+1.65977443e-13j\n",
            " -1.57397772e-12-1.65977443e-13j -1.26113542e-12+1.76794700e-13j\n",
            " -1.26113542e-12-1.76794700e-13j  1.28420078e-12+0.00000000e+00j\n",
            "  1.10286997e-12+9.46997832e-14j  1.10286997e-12-9.46997832e-14j\n",
            " -1.16502530e-12+0.00000000e+00j -9.28997841e-13+2.34505761e-13j\n",
            " -9.28997841e-13-2.34505761e-13j -5.94958222e-13+4.26178009e-13j\n",
            " -5.94958222e-13-4.26178009e-13j  1.89403851e-13+5.71721151e-13j\n",
            "  1.89403851e-13-5.71721151e-13j  5.80817249e-13+3.86838593e-13j\n",
            "  5.80817249e-13-3.86838593e-13j -9.24736257e-13+0.00000000e+00j\n",
            "  7.18427949e-13+1.86383135e-13j  7.18427949e-13-1.86383135e-13j\n",
            " -6.88693083e-13+0.00000000e+00j  6.62434444e-13+0.00000000e+00j\n",
            " -4.72205211e-14+2.93070195e-13j -4.72205211e-14-2.93070195e-13j\n",
            "  3.35516476e-13+8.40797028e-14j  3.35516476e-13-8.40797028e-14j\n",
            " -3.55011989e-13+5.71520543e-14j -3.55011989e-13-5.71520543e-14j\n",
            " -2.31219630e-13+1.44282477e-13j -2.31219630e-13-1.44282477e-13j\n",
            "  2.02286840e-13+1.25292613e-13j  2.02286840e-13-1.25292613e-13j\n",
            " -2.55453711e-13+0.00000000e+00j  2.36357558e-13+0.00000000e+00j\n",
            " -1.44349881e-13+1.19322777e-13j -1.44349881e-13-1.19322777e-13j\n",
            "  1.82182396e-13+0.00000000e+00j -6.38490872e-14+4.34566551e-14j\n",
            " -6.38490872e-14-4.34566551e-14j  1.02281218e-13+0.00000000e+00j\n",
            "  4.08743792e-14+6.28301383e-14j  4.08743792e-14-6.28301383e-14j\n",
            "  4.73391903e-14+0.00000000e+00j  4.06641658e-14+2.37848507e-14j\n",
            "  4.06641658e-14-2.37848507e-14j -2.19489329e-14+1.48502508e-14j\n",
            " -2.19489329e-14-1.48502508e-14j -1.42755885e-14+0.00000000e+00j\n",
            "  0.00000000e+00+0.00000000e+00j  0.00000000e+00+0.00000000e+00j\n",
            "  0.00000000e+00+0.00000000e+00j  0.00000000e+00+0.00000000e+00j\n",
            "  0.00000000e+00+0.00000000e+00j  0.00000000e+00+0.00000000e+00j\n",
            "  0.00000000e+00+0.00000000e+00j  0.00000000e+00+0.00000000e+00j\n",
            "  0.00000000e+00+0.00000000e+00j  0.00000000e+00+0.00000000e+00j\n",
            "  0.00000000e+00+0.00000000e+00j  0.00000000e+00+0.00000000e+00j\n",
            "  0.00000000e+00+0.00000000e+00j  0.00000000e+00+0.00000000e+00j\n",
            "  0.00000000e+00+0.00000000e+00j  0.00000000e+00+0.00000000e+00j\n",
            "  0.00000000e+00+0.00000000e+00j  0.00000000e+00+0.00000000e+00j\n",
            "  0.00000000e+00+0.00000000e+00j  0.00000000e+00+0.00000000e+00j\n",
            "  0.00000000e+00+0.00000000e+00j  0.00000000e+00+0.00000000e+00j\n",
            "  0.00000000e+00+0.00000000e+00j  0.00000000e+00+0.00000000e+00j\n",
            "  0.00000000e+00+0.00000000e+00j  0.00000000e+00+0.00000000e+00j\n",
            "  0.00000000e+00+0.00000000e+00j  0.00000000e+00+0.00000000e+00j\n",
            "  0.00000000e+00+0.00000000e+00j  0.00000000e+00+0.00000000e+00j\n",
            "  0.00000000e+00+0.00000000e+00j  0.00000000e+00+0.00000000e+00j\n",
            "  0.00000000e+00+0.00000000e+00j  0.00000000e+00+0.00000000e+00j\n",
            "  0.00000000e+00+0.00000000e+00j  0.00000000e+00+0.00000000e+00j\n",
            "  0.00000000e+00+0.00000000e+00j  0.00000000e+00+0.00000000e+00j\n",
            "  0.00000000e+00+0.00000000e+00j  0.00000000e+00+0.00000000e+00j\n",
            "  0.00000000e+00+0.00000000e+00j  0.00000000e+00+0.00000000e+00j\n",
            "  0.00000000e+00+0.00000000e+00j  0.00000000e+00+0.00000000e+00j\n",
            "  0.00000000e+00+0.00000000e+00j  0.00000000e+00+0.00000000e+00j\n",
            "  0.00000000e+00+0.00000000e+00j  0.00000000e+00+0.00000000e+00j\n",
            "  0.00000000e+00+0.00000000e+00j  0.00000000e+00+0.00000000e+00j\n",
            "  0.00000000e+00+0.00000000e+00j  0.00000000e+00+0.00000000e+00j\n",
            "  0.00000000e+00+0.00000000e+00j  0.00000000e+00+0.00000000e+00j\n",
            "  0.00000000e+00+0.00000000e+00j  0.00000000e+00+0.00000000e+00j\n",
            "  0.00000000e+00+0.00000000e+00j  0.00000000e+00+0.00000000e+00j\n",
            "  0.00000000e+00+0.00000000e+00j  0.00000000e+00+0.00000000e+00j\n",
            "  0.00000000e+00+0.00000000e+00j  0.00000000e+00+0.00000000e+00j\n",
            "  0.00000000e+00+0.00000000e+00j  0.00000000e+00+0.00000000e+00j\n",
            "  0.00000000e+00+0.00000000e+00j  0.00000000e+00+0.00000000e+00j\n",
            "  0.00000000e+00+0.00000000e+00j  0.00000000e+00+0.00000000e+00j\n",
            "  0.00000000e+00+0.00000000e+00j  0.00000000e+00+0.00000000e+00j\n",
            "  0.00000000e+00+0.00000000e+00j  0.00000000e+00+0.00000000e+00j\n",
            "  0.00000000e+00+0.00000000e+00j  0.00000000e+00+0.00000000e+00j\n",
            "  0.00000000e+00+0.00000000e+00j  0.00000000e+00+0.00000000e+00j\n",
            "  0.00000000e+00+0.00000000e+00j  0.00000000e+00+0.00000000e+00j\n",
            "  0.00000000e+00+0.00000000e+00j  0.00000000e+00+0.00000000e+00j\n",
            "  0.00000000e+00+0.00000000e+00j  0.00000000e+00+0.00000000e+00j\n",
            "  0.00000000e+00+0.00000000e+00j  0.00000000e+00+0.00000000e+00j\n",
            "  0.00000000e+00+0.00000000e+00j  0.00000000e+00+0.00000000e+00j\n",
            "  0.00000000e+00+0.00000000e+00j  0.00000000e+00+0.00000000e+00j\n",
            "  0.00000000e+00+0.00000000e+00j  0.00000000e+00+0.00000000e+00j\n",
            "  0.00000000e+00+0.00000000e+00j  0.00000000e+00+0.00000000e+00j\n",
            "  0.00000000e+00+0.00000000e+00j  0.00000000e+00+0.00000000e+00j\n",
            "  0.00000000e+00+0.00000000e+00j  0.00000000e+00+0.00000000e+00j\n",
            "  0.00000000e+00+0.00000000e+00j  0.00000000e+00+0.00000000e+00j\n",
            "  0.00000000e+00+0.00000000e+00j  0.00000000e+00+0.00000000e+00j\n",
            "  0.00000000e+00+0.00000000e+00j  0.00000000e+00+0.00000000e+00j\n",
            "  0.00000000e+00+0.00000000e+00j  0.00000000e+00+0.00000000e+00j\n",
            "  0.00000000e+00+0.00000000e+00j  0.00000000e+00+0.00000000e+00j\n",
            "  0.00000000e+00+0.00000000e+00j  0.00000000e+00+0.00000000e+00j\n",
            "  0.00000000e+00+0.00000000e+00j  0.00000000e+00+0.00000000e+00j\n",
            "  0.00000000e+00+0.00000000e+00j  0.00000000e+00+0.00000000e+00j\n",
            "  0.00000000e+00+0.00000000e+00j  0.00000000e+00+0.00000000e+00j\n",
            "  0.00000000e+00+0.00000000e+00j  0.00000000e+00+0.00000000e+00j\n",
            "  0.00000000e+00+0.00000000e+00j  0.00000000e+00+0.00000000e+00j\n",
            "  0.00000000e+00+0.00000000e+00j  0.00000000e+00+0.00000000e+00j\n",
            "  0.00000000e+00+0.00000000e+00j  0.00000000e+00+0.00000000e+00j\n",
            "  0.00000000e+00+0.00000000e+00j  0.00000000e+00+0.00000000e+00j\n",
            "  0.00000000e+00+0.00000000e+00j  0.00000000e+00+0.00000000e+00j\n",
            "  0.00000000e+00+0.00000000e+00j  0.00000000e+00+0.00000000e+00j\n",
            "  0.00000000e+00+0.00000000e+00j  0.00000000e+00+0.00000000e+00j\n",
            "  0.00000000e+00+0.00000000e+00j  0.00000000e+00+0.00000000e+00j\n",
            "  0.00000000e+00+0.00000000e+00j  0.00000000e+00+0.00000000e+00j\n",
            "  0.00000000e+00+0.00000000e+00j  0.00000000e+00+0.00000000e+00j\n",
            "  0.00000000e+00+0.00000000e+00j  0.00000000e+00+0.00000000e+00j\n",
            "  0.00000000e+00+0.00000000e+00j  0.00000000e+00+0.00000000e+00j\n",
            "  0.00000000e+00+0.00000000e+00j  0.00000000e+00+0.00000000e+00j\n",
            "  0.00000000e+00+0.00000000e+00j  0.00000000e+00+0.00000000e+00j\n",
            "  0.00000000e+00+0.00000000e+00j  0.00000000e+00+0.00000000e+00j\n",
            "  0.00000000e+00+0.00000000e+00j  0.00000000e+00+0.00000000e+00j\n",
            "  0.00000000e+00+0.00000000e+00j  0.00000000e+00+0.00000000e+00j\n",
            "  0.00000000e+00+0.00000000e+00j  0.00000000e+00+0.00000000e+00j\n",
            "  0.00000000e+00+0.00000000e+00j  0.00000000e+00+0.00000000e+00j\n",
            "  0.00000000e+00+0.00000000e+00j  0.00000000e+00+0.00000000e+00j\n",
            "  0.00000000e+00+0.00000000e+00j  0.00000000e+00+0.00000000e+00j\n",
            "  0.00000000e+00+0.00000000e+00j  0.00000000e+00+0.00000000e+00j\n",
            "  0.00000000e+00+0.00000000e+00j  0.00000000e+00+0.00000000e+00j\n",
            "  0.00000000e+00+0.00000000e+00j  0.00000000e+00+0.00000000e+00j\n",
            "  0.00000000e+00+0.00000000e+00j  0.00000000e+00+0.00000000e+00j\n",
            "  0.00000000e+00+0.00000000e+00j  0.00000000e+00+0.00000000e+00j\n",
            "  0.00000000e+00+0.00000000e+00j  0.00000000e+00+0.00000000e+00j\n",
            "  0.00000000e+00+0.00000000e+00j  0.00000000e+00+0.00000000e+00j\n",
            "  0.00000000e+00+0.00000000e+00j  0.00000000e+00+0.00000000e+00j\n",
            "  0.00000000e+00+0.00000000e+00j  0.00000000e+00+0.00000000e+00j\n",
            "  0.00000000e+00+0.00000000e+00j  0.00000000e+00+0.00000000e+00j\n",
            "  0.00000000e+00+0.00000000e+00j  0.00000000e+00+0.00000000e+00j\n",
            "  0.00000000e+00+0.00000000e+00j  0.00000000e+00+0.00000000e+00j\n",
            "  0.00000000e+00+0.00000000e+00j  0.00000000e+00+0.00000000e+00j\n",
            "  0.00000000e+00+0.00000000e+00j  0.00000000e+00+0.00000000e+00j\n",
            "  0.00000000e+00+0.00000000e+00j  0.00000000e+00+0.00000000e+00j\n",
            "  0.00000000e+00+0.00000000e+00j  0.00000000e+00+0.00000000e+00j\n",
            "  0.00000000e+00+0.00000000e+00j  0.00000000e+00+0.00000000e+00j\n",
            "  0.00000000e+00+0.00000000e+00j  0.00000000e+00+0.00000000e+00j\n",
            "  0.00000000e+00+0.00000000e+00j  0.00000000e+00+0.00000000e+00j\n",
            "  0.00000000e+00+0.00000000e+00j  0.00000000e+00+0.00000000e+00j\n",
            "  0.00000000e+00+0.00000000e+00j  0.00000000e+00+0.00000000e+00j\n",
            "  0.00000000e+00+0.00000000e+00j  0.00000000e+00+0.00000000e+00j\n",
            "  0.00000000e+00+0.00000000e+00j  0.00000000e+00+0.00000000e+00j\n",
            "  0.00000000e+00+0.00000000e+00j  0.00000000e+00+0.00000000e+00j\n",
            "  0.00000000e+00+0.00000000e+00j  0.00000000e+00+0.00000000e+00j\n",
            "  0.00000000e+00+0.00000000e+00j  0.00000000e+00+0.00000000e+00j\n",
            "  0.00000000e+00+0.00000000e+00j  0.00000000e+00+0.00000000e+00j\n",
            "  0.00000000e+00+0.00000000e+00j  0.00000000e+00+0.00000000e+00j\n",
            "  0.00000000e+00+0.00000000e+00j  0.00000000e+00+0.00000000e+00j\n",
            "  0.00000000e+00+0.00000000e+00j  0.00000000e+00+0.00000000e+00j\n",
            "  0.00000000e+00+0.00000000e+00j  0.00000000e+00+0.00000000e+00j\n",
            "  0.00000000e+00+0.00000000e+00j  0.00000000e+00+0.00000000e+00j\n",
            "  0.00000000e+00+0.00000000e+00j  0.00000000e+00+0.00000000e+00j\n",
            "  0.00000000e+00+0.00000000e+00j  0.00000000e+00+0.00000000e+00j\n",
            "  0.00000000e+00+0.00000000e+00j  0.00000000e+00+0.00000000e+00j\n",
            "  0.00000000e+00+0.00000000e+00j  0.00000000e+00+0.00000000e+00j\n",
            "  0.00000000e+00+0.00000000e+00j  0.00000000e+00+0.00000000e+00j\n",
            "  0.00000000e+00+0.00000000e+00j  0.00000000e+00+0.00000000e+00j\n",
            "  0.00000000e+00+0.00000000e+00j  0.00000000e+00+0.00000000e+00j\n",
            "  0.00000000e+00+0.00000000e+00j  0.00000000e+00+0.00000000e+00j\n",
            "  0.00000000e+00+0.00000000e+00j  0.00000000e+00+0.00000000e+00j\n",
            "  0.00000000e+00+0.00000000e+00j  0.00000000e+00+0.00000000e+00j\n",
            "  0.00000000e+00+0.00000000e+00j  0.00000000e+00+0.00000000e+00j\n",
            "  0.00000000e+00+0.00000000e+00j  0.00000000e+00+0.00000000e+00j\n",
            "  0.00000000e+00+0.00000000e+00j  0.00000000e+00+0.00000000e+00j\n",
            "  0.00000000e+00+0.00000000e+00j  0.00000000e+00+0.00000000e+00j\n",
            "  0.00000000e+00+0.00000000e+00j  0.00000000e+00+0.00000000e+00j\n",
            "  0.00000000e+00+0.00000000e+00j  0.00000000e+00+0.00000000e+00j\n",
            "  0.00000000e+00+0.00000000e+00j  0.00000000e+00+0.00000000e+00j\n",
            "  0.00000000e+00+0.00000000e+00j  0.00000000e+00+0.00000000e+00j\n",
            "  0.00000000e+00+0.00000000e+00j  0.00000000e+00+0.00000000e+00j\n",
            "  0.00000000e+00+0.00000000e+00j  0.00000000e+00+0.00000000e+00j\n",
            "  0.00000000e+00+0.00000000e+00j  0.00000000e+00+0.00000000e+00j\n",
            "  0.00000000e+00+0.00000000e+00j  0.00000000e+00+0.00000000e+00j\n",
            "  0.00000000e+00+0.00000000e+00j  0.00000000e+00+0.00000000e+00j\n",
            "  0.00000000e+00+0.00000000e+00j  0.00000000e+00+0.00000000e+00j\n",
            "  0.00000000e+00+0.00000000e+00j  0.00000000e+00+0.00000000e+00j\n",
            "  0.00000000e+00+0.00000000e+00j  0.00000000e+00+0.00000000e+00j\n",
            "  0.00000000e+00+0.00000000e+00j  0.00000000e+00+0.00000000e+00j\n",
            "  0.00000000e+00+0.00000000e+00j  0.00000000e+00+0.00000000e+00j\n",
            "  0.00000000e+00+0.00000000e+00j  0.00000000e+00+0.00000000e+00j\n",
            "  0.00000000e+00+0.00000000e+00j  0.00000000e+00+0.00000000e+00j\n",
            "  0.00000000e+00+0.00000000e+00j  0.00000000e+00+0.00000000e+00j\n",
            "  0.00000000e+00+0.00000000e+00j  0.00000000e+00+0.00000000e+00j\n",
            "  0.00000000e+00+0.00000000e+00j  0.00000000e+00+0.00000000e+00j\n",
            "  0.00000000e+00+0.00000000e+00j  0.00000000e+00+0.00000000e+00j\n",
            "  0.00000000e+00+0.00000000e+00j  0.00000000e+00+0.00000000e+00j]\n",
            "[[0.+0.j 0.+0.j 0.+0.j ... 0.+0.j 0.+0.j 0.+0.j]\n",
            " [0.+0.j 0.+0.j 0.+0.j ... 0.+0.j 0.+0.j 0.+0.j]\n",
            " [0.+0.j 0.+0.j 0.+0.j ... 0.+0.j 0.+0.j 0.+0.j]\n",
            " ...\n",
            " [0.+0.j 0.+0.j 0.+0.j ... 1.+0.j 0.+0.j 0.+0.j]\n",
            " [0.+0.j 0.+0.j 0.+0.j ... 0.+0.j 1.+0.j 0.+0.j]\n",
            " [0.+0.j 0.+0.j 0.+0.j ... 0.+0.j 0.+0.j 1.+0.j]]\n"
          ]
        }
      ]
    },
    {
      "cell_type": "code",
      "source": [
        "order = np.argsort(E_values)[::-1]\n",
        "Arranged_Vectors=E_vectors[order]\n",
        "final=Arranged_Vectors[:3,:]\n",
        "final.shape"
      ],
      "metadata": {
        "colab": {
          "base_uri": "https://localhost:8080/",
          "height": 0
        },
        "id": "EAvkBgKfxpa7",
        "outputId": "0b79af1e-3780-4a4a-90f3-3410d1ca75eb"
      },
      "execution_count": 178,
      "outputs": [
        {
          "output_type": "execute_result",
          "data": {
            "text/plain": [
              "(3, 784)"
            ]
          },
          "metadata": {},
          "execution_count": 178
        }
      ]
    },
    {
      "cell_type": "code",
      "source": [
        "#Arranged_Vectors= Arranged_Vectors[:2]\n",
        "#Arranged_Vectors.shape"
      ],
      "metadata": {
        "id": "mF6KDDhWxxY6"
      },
      "execution_count": 179,
      "outputs": []
    },
    {
      "cell_type": "code",
      "source": [
        "#final=np.matmul(B,Arranged_Vectors.T)\n",
        "#final.shape\n",
        "v1=final[0].reshape(28,28)"
      ],
      "metadata": {
        "id": "upWTTuIMxzQC"
      },
      "execution_count": 180,
      "outputs": []
    },
    {
      "cell_type": "code",
      "source": [
        "import matplotlib.pyplot as plt\n",
        "import matplotlib.image as mpimg\n",
        "plt.imshow(np.real(v1))"
      ],
      "metadata": {
        "colab": {
          "base_uri": "https://localhost:8080/",
          "height": 282
        },
        "id": "uH8RWVFy8yCq",
        "outputId": "4ce21b42-a15c-454a-bb58-c1d06d151fa8"
      },
      "execution_count": 181,
      "outputs": [
        {
          "output_type": "execute_result",
          "data": {
            "text/plain": [
              "<matplotlib.image.AxesImage at 0x7efd28959580>"
            ]
          },
          "metadata": {},
          "execution_count": 181
        },
        {
          "output_type": "display_data",
          "data": {
            "text/plain": [
              "<Figure size 432x288 with 1 Axes>"
            ],
            "image/png": "[encoded data removed]"
          },
          "metadata": {
            "needs_background": "light"
          }
        }
      ]
    },
    {
      "cell_type": "code",
      "source": [],
      "metadata": {
        "id": "tHV-6b_d-vww"
      },
      "execution_count": 181,
      "outputs": []
    },
    {
      "cell_type": "code",
      "source": [],
      "metadata": {
        "id": "LfSI4HIL_Dat"
      },
      "execution_count": 181,
      "outputs": []
    },
    {
      "cell_type": "code",
      "source": [],
      "metadata": {
        "id": "eBXqqVTo_FaS"
      },
      "execution_count": 181,
      "outputs": []
    }
  ]
}