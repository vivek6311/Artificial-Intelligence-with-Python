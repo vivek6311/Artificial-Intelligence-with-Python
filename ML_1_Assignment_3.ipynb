{
  "nbformat": 4,
  "nbformat_minor": 0,
  "metadata": {
    "colab": {
      "provenance": [],
      "authorship_tag": "ABX9TyOdixVDWFAHyWiaGcfaEDm6",
      "include_colab_link": true
    },
    "kernelspec": {
      "name": "python3",
      "display_name": "Python 3"
    },
    "language_info": {
      "name": "python"
    }
  },
  "cells": [
    {
      "cell_type": "markdown",
      "metadata": {
        "id": "view-in-github",
        "colab_type": "text"
      },
      "source": [
        "<a href=\"https://colab.research.google.com/github/vivek6311/Artificial-Intelligence-with-Python/blob/master/ML_1_Assignment_3.ipynb\" target=\"_parent\"><img src=\"https://colab.research.google.com/assets/colab-badge.svg\" alt=\"Open In Colab\"/></a>"
      ]
    },
    {
      "cell_type": "code",
      "execution_count": 6,
      "metadata": {
        "id": "fz4AW1MrqtX9"
      },
      "outputs": [],
      "source": [
        "import numpy as np\n",
        "import pandas as pd\n",
        "import tensorflow as tf\n",
        "import tensorflow_datasets\n",
        "import matplotlib.pyplot as plt"
      ]
    },
    {
      "cell_type": "code",
      "source": [
        "from keras.datasets import mnist"
      ],
      "metadata": {
        "id": "zHaUyPrgq35d"
      },
      "execution_count": 7,
      "outputs": []
    },
    {
      "cell_type": "code",
      "source": [
        "(train_X, train_y), (test_X, test_y) = mnist.load_data()"
      ],
      "metadata": {
        "colab": {
          "base_uri": "https://localhost:8080/"
        },
        "id": "8b37jEVrtjKR",
        "outputId": "3b8c4e78-16aa-4769-bd2a-2bfe7fbba68f"
      },
      "execution_count": 8,
      "outputs": [
        {
          "output_type": "stream",
          "name": "stdout",
          "text": [
            "Downloading data from https://storage.googleapis.com/tensorflow/tf-keras-datasets/mnist.npz\n",
            "11490434/11490434 [==============================] - 1s 0us/step\n"
          ]
        }
      ]
    },
    {
      "cell_type": "code",
      "source": [
        "train_X.shape"
      ],
      "metadata": {
        "colab": {
          "base_uri": "https://localhost:8080/"
        },
        "id": "6hJvHZe7tokX",
        "outputId": "7b9122ce-d5ad-4d38-ad88-1dcbcae0a246"
      },
      "execution_count": 9,
      "outputs": [
        {
          "output_type": "execute_result",
          "data": {
            "text/plain": [
              "(60000, 28, 28)"
            ]
          },
          "metadata": {},
          "execution_count": 9
        }
      ]
    },
    {
      "cell_type": "code",
      "source": [
        "test_X.shape"
      ],
      "metadata": {
        "colab": {
          "base_uri": "https://localhost:8080/"
        },
        "id": "219gMN11tqoQ",
        "outputId": "96472d5d-1c90-4c08-cd66-bd991ba5ed78"
      },
      "execution_count": 10,
      "outputs": [
        {
          "output_type": "execute_result",
          "data": {
            "text/plain": [
              "(10000, 28, 28)"
            ]
          },
          "metadata": {},
          "execution_count": 10
        }
      ]
    },
    {
      "cell_type": "code",
      "source": [
        "train_y.shape"
      ],
      "metadata": {
        "colab": {
          "base_uri": "https://localhost:8080/"
        },
        "id": "v1sICbU1uLrn",
        "outputId": "29b1c998-94d4-4da9-a5d2-7ed6b85e7a93"
      },
      "execution_count": 11,
      "outputs": [
        {
          "output_type": "execute_result",
          "data": {
            "text/plain": [
              "(60000,)"
            ]
          },
          "metadata": {},
          "execution_count": 11
        }
      ]
    },
    {
      "cell_type": "code",
      "source": [
        "np.where(train_y == 3)"
      ],
      "metadata": {
        "colab": {
          "base_uri": "https://localhost:8080/"
        },
        "id": "MIFe1w561UCl",
        "outputId": "59c540fb-566c-455a-c3fe-9d12e8470117"
      },
      "execution_count": 12,
      "outputs": [
        {
          "output_type": "execute_result",
          "data": {
            "text/plain": [
              "(array([    7,    10,    12, ..., 59978, 59980, 59996]),)"
            ]
          },
          "metadata": {},
          "execution_count": 12
        }
      ]
    },
    {
      "cell_type": "code",
      "source": [
        "train_X = train_X[np.where(train_y==3)][0:200,:]"
      ],
      "metadata": {
        "id": "eEpY2knqhhim"
      },
      "execution_count": 13,
      "outputs": []
    },
    {
      "cell_type": "code",
      "source": [
        "train_y = train_y[np.where(train_y==3)][0:200]"
      ],
      "metadata": {
        "id": "CHK3UNgqiyA8"
      },
      "execution_count": 14,
      "outputs": []
    },
    {
      "cell_type": "code",
      "source": [
        "train_X.shape"
      ],
      "metadata": {
        "colab": {
          "base_uri": "https://localhost:8080/"
        },
        "id": "e6WbHBREjTMs",
        "outputId": "1887f658-4c4b-406b-b394-26eef2a02bef"
      },
      "execution_count": 17,
      "outputs": [
        {
          "output_type": "execute_result",
          "data": {
            "text/plain": [
              "(200, 28, 28)"
            ]
          },
          "metadata": {},
          "execution_count": 17
        }
      ]
    },
    {
      "cell_type": "code",
      "source": [
        "from sklearn.decomposition import PCA"
      ],
      "metadata": {
        "id": "apQpjOo91A6B"
      },
      "execution_count": 19,
      "outputs": []
    },
    {
      "cell_type": "code",
      "source": [
        "plt.imshow(train_X[0])"
      ],
      "metadata": {
        "colab": {
          "base_uri": "https://localhost:8080/",
          "height": 282
        },
        "id": "VON5ieTc1Fgp",
        "outputId": "cce07052-e88c-498d-bda1-e355415ab0f3"
      },
      "execution_count": 20,
      "outputs": [
        {
          "output_type": "execute_result",
          "data": {
            "text/plain": [
              "<matplotlib.image.AxesImage at 0x7efd2e273bb0>"
            ]
          },
          "metadata": {},
          "execution_count": 20
        },
        {
          "output_type": "display_data",
          "data": {
            "text/plain": [
              "<Figure size 432x288 with 1 Axes>"
            ],
            "image/png": "[encoded data removed]"
          },
          "metadata": {
            "needs_background": "light"
          }
        }
      ]
    },
    {
      "cell_type": "code",
      "source": [
        "u, s, v = np.linalg.svd(train_X[0])"
      ],
      "metadata": {
        "id": "rQYL4MmF1q8l"
      },
      "execution_count": 21,
      "outputs": []
    },
    {
      "cell_type": "code",
      "source": [
        "pd.Series(s)"
      ],
      "metadata": {
        "colab": {
          "base_uri": "https://localhost:8080/"
        },
        "id": "BXtrOCZTjeVJ",
        "outputId": "1e58c7d5-6718-45a0-f438-c21cb4b41395"
      },
      "execution_count": 22,
      "outputs": [
        {
          "output_type": "execute_result",
          "data": {
            "text/plain": [
              "0     2.315397e+03\n",
              "1     1.160593e+03\n",
              "2     7.367525e+02\n",
              "3     5.816248e+02\n",
              "4     4.650246e+02\n",
              "5     2.691638e+02\n",
              "6     2.157416e+02\n",
              "7     1.396781e+02\n",
              "8     1.202397e+02\n",
              "9     1.141483e+02\n",
              "10    8.844231e+01\n",
              "11    8.459734e+01\n",
              "12    6.492073e+01\n",
              "13    4.158862e+01\n",
              "14    3.158996e+01\n",
              "15    1.278208e+01\n",
              "16    1.035078e+01\n",
              "17    7.245033e+00\n",
              "18    1.559633e-13\n",
              "19    1.559633e-13\n",
              "20    1.559633e-13\n",
              "21    1.559633e-13\n",
              "22    1.559633e-13\n",
              "23    1.559633e-13\n",
              "24    1.559633e-13\n",
              "25    1.559633e-13\n",
              "26    1.559633e-13\n",
              "27    1.559633e-13\n",
              "dtype: float64"
            ]
          },
          "metadata": {},
          "execution_count": 22
        }
      ]
    },
    {
      "cell_type": "code",
      "source": [
        " PCA(3).fit_transform(train_X[0])"
      ],
      "metadata": {
        "colab": {
          "base_uri": "https://localhost:8080/"
        },
        "id": "Yxt8aOrs2LjS",
        "outputId": "80bdd3d2-1a2d-412a-cbe7-9787eb91f122"
      },
      "execution_count": 23,
      "outputs": [
        {
          "output_type": "execute_result",
          "data": {
            "text/plain": [
              "array([[-314.49332422,   96.75368031,  -18.05044186],\n",
              "       [-314.49332422,   96.75368031,  -18.05044186],\n",
              "       [-314.49332422,   96.75368031,  -18.05044186],\n",
              "       [-314.49332422,   96.75368031,  -18.05044186],\n",
              "       [-314.49332422,   96.75368031,  -18.05044186],\n",
              "       [ 177.39434161, -273.04335199,  117.39924297],\n",
              "       [ 420.832021  , -218.58521326, -104.61319943],\n",
              "       [ 511.522119  , -170.66547699, -203.91767123],\n",
              "       [ 307.5329325 , -168.55685274, -284.89886862],\n",
              "       [-163.84470935, -210.48598005, -238.33194846],\n",
              "       [-172.45282068, -250.00520441, -179.62399326],\n",
              "       [-128.69565729, -280.56563651,  -57.84481535],\n",
              "       [  41.52407045, -311.89032276,  104.80777939],\n",
              "       [ 311.90536597,  -70.4657958 ,  109.75396192],\n",
              "       [ 425.50295599,  116.67694486,   46.90160296],\n",
              "       [ 453.00734934,   53.42351706,   37.96127167],\n",
              "       [ -24.41547156,  -98.43118943,   97.51221845],\n",
              "       [-187.22464366, -128.63437845,   95.03888841],\n",
              "       [-164.31915098, -139.39181164,  121.04343977],\n",
              "       [ -70.9307768 , -144.30822307,  217.10323179],\n",
              "       [  57.99703616,  -40.71705172,  329.65698944],\n",
              "       [ 311.80145823,  271.94707657,  212.81249679],\n",
              "       [ 374.24176362,  503.01738316,  -12.22553259],\n",
              "       [ 171.54799165,  479.06922402, -146.23078009],\n",
              "       [-136.97958149,  307.58290063, -117.90077964],\n",
              "       [-314.49332422,   96.75368031,  -18.05044186],\n",
              "       [-314.49332422,   96.75368031,  -18.05044186],\n",
              "       [-314.49332422,   96.75368031,  -18.05044186]])"
            ]
          },
          "metadata": {},
          "execution_count": 23
        }
      ]
    },
    {
      "cell_type": "code",
      "source": [
        "X=train_X"
      ],
      "metadata": {
        "id": "RHz1_2RD2W-q"
      },
      "execution_count": 24,
      "outputs": []
    },
    {
      "cell_type": "code",
      "source": [
        "28*28"
      ],
      "metadata": {
        "colab": {
          "base_uri": "https://localhost:8080/"
        },
        "id": "ivXuRET99sVf",
        "outputId": "a1398533-4659-48c1-fa4b-c474cd7fc0f0"
      },
      "execution_count": 25,
      "outputs": [
        {
          "output_type": "execute_result",
          "data": {
            "text/plain": [
              "784"
            ]
          },
          "metadata": {},
          "execution_count": 25
        }
      ]
    },
    {
      "cell_type": "code",
      "source": [
        "X = np.reshape(X, (200, 784))"
      ],
      "metadata": {
        "id": "oNa-qveH9nff"
      },
      "execution_count": 26,
      "outputs": []
    },
    {
      "cell_type": "code",
      "source": [
        "mean = np.mean(X, axis=0)"
      ],
      "metadata": {
        "id": "38fpg--19qLn"
      },
      "execution_count": 27,
      "outputs": []
    },
    {
      "cell_type": "code",
      "source": [
        "mean.shape"
      ],
      "metadata": {
        "colab": {
          "base_uri": "https://localhost:8080/"
        },
        "id": "5RlG4fte9y3h",
        "outputId": "543ba7a8-9a90-44d9-ccbd-ccf1c16cdc02"
      },
      "execution_count": 28,
      "outputs": [
        {
          "output_type": "execute_result",
          "data": {
            "text/plain": [
              "(784,)"
            ]
          },
          "metadata": {},
          "execution_count": 28
        }
      ]
    },
    {
      "cell_type": "code",
      "source": [
        "mean = np.reshape(mean, (28,28))"
      ],
      "metadata": {
        "id": "g7OQHNMd9zao"
      },
      "execution_count": 29,
      "outputs": []
    },
    {
      "cell_type": "code",
      "source": [
        "plt.imshow(mean)"
      ],
      "metadata": {
        "colab": {
          "base_uri": "https://localhost:8080/",
          "height": 282
        },
        "id": "TjxoabqG9_bJ",
        "outputId": "b2c98a06-2349-4c7f-b090-3a68fff2eec0"
      },
      "execution_count": 30,
      "outputs": [
        {
          "output_type": "execute_result",
          "data": {
            "text/plain": [
              "<matplotlib.image.AxesImage at 0x7efd2dddd970>"
            ]
          },
          "metadata": {},
          "execution_count": 30
        },
        {
          "output_type": "display_data",
          "data": {
            "text/plain": [
              "<Figure size 432x288 with 1 Axes>"
            ],
            "image/png": "[encoded data removed]"
          },
          "metadata": {
            "needs_background": "light"
          }
        }
      ]
    },
    {
      "cell_type": "code",
      "source": [
        "cov = np.cov(X)"
      ],
      "metadata": {
        "id": "nHLdvWdk-AST"
      },
      "execution_count": 31,
      "outputs": []
    },
    {
      "cell_type": "code",
      "source": [
        "eig, vec = np.linalg.eig(cov)"
      ],
      "metadata": {
        "id": "lcl1LFNC-LEE"
      },
      "execution_count": 32,
      "outputs": []
    },
    {
      "cell_type": "code",
      "source": [
        "vec = vec[np.argsort(eig)[::-1],:]\n",
        "\n",
        "eig = eig[np.argsort(eig)[::-1]]"
      ],
      "metadata": {
        "id": "bnGXDFtD-N7_"
      },
      "execution_count": 33,
      "outputs": []
    },
    {
      "cell_type": "code",
      "source": [
        "vec.shape"
      ],
      "metadata": {
        "colab": {
          "base_uri": "https://localhost:8080/"
        },
        "id": "8_KgEEi9-SiE",
        "outputId": "206787d3-8b0f-4273-85f5-52d557334b4b"
      },
      "execution_count": 34,
      "outputs": [
        {
          "output_type": "execute_result",
          "data": {
            "text/plain": [
              "(200, 200)"
            ]
          },
          "metadata": {},
          "execution_count": 34
        }
      ]
    },
    {
      "cell_type": "code",
      "source": [
        "u1=vec[:,0]\n",
        "u2=vec[:,1]\n",
        "u3=vec[:,2]"
      ],
      "metadata": {
        "id": "1x03n6b--fdu"
      },
      "execution_count": 35,
      "outputs": []
    },
    {
      "cell_type": "code",
      "source": [
        "trans_X = PCA(9).fit_transform(X)"
      ],
      "metadata": {
        "id": "dODsrFs0-qnJ"
      },
      "execution_count": 36,
      "outputs": []
    },
    {
      "cell_type": "code",
      "source": [
        "trans_X = trans_X.reshape((200, 3,3))"
      ],
      "metadata": {
        "id": "53h80_PV-tqr"
      },
      "execution_count": 37,
      "outputs": []
    },
    {
      "cell_type": "code",
      "source": [
        "plt.imshow(trans_X[0])"
      ],
      "metadata": {
        "colab": {
          "base_uri": "https://localhost:8080/",
          "height": 286
        },
        "id": "wb-rCfpV_FMR",
        "outputId": "e7a20e90-669a-4a6f-b571-c8e477c7135d"
      },
      "execution_count": 38,
      "outputs": [
        {
          "output_type": "execute_result",
          "data": {
            "text/plain": [
              "<matplotlib.image.AxesImage at 0x7efd2b542b80>"
            ]
          },
          "metadata": {},
          "execution_count": 38
        },
        {
          "output_type": "display_data",
          "data": {
            "text/plain": [
              "<Figure size 432x288 with 1 Axes>"
            ],
            "image/png": "[encoded data removed]"
          },
          "metadata": {
            "needs_background": "light"
          }
        }
      ]
    },
    {
      "cell_type": "code",
      "source": [
        "l=[]\n",
        "for i in train_X:\n",
        "  y=i.flatten()\n",
        "  y=y.reshape(1, y.shape[0])\n",
        "  l.append(y[0])"
      ],
      "metadata": {
        "id": "_UnlAYpB_Nrg"
      },
      "execution_count": 39,
      "outputs": []
    },
    {
      "cell_type": "code",
      "source": [
        "#l.shape"
      ],
      "metadata": {
        "id": "lZKcMcpR93x3"
      },
      "execution_count": 40,
      "outputs": []
    },
    {
      "cell_type": "code",
      "source": [
        "means= np.mean(l, axis=0)\n",
        "means"
      ],
      "metadata": {
        "colab": {
          "base_uri": "https://localhost:8080/"
        },
        "id": "fewATeo0V8Sq",
        "outputId": "9f1c283f-c57e-4be9-a239-da969685e0e9"
      },
      "execution_count": 41,
      "outputs": [
        {
          "output_type": "execute_result",
          "data": {
            "text/plain": [
              "array([0.00000e+00, 0.00000e+00, 0.00000e+00, 0.00000e+00, 0.00000e+00,\n",
              "       0.00000e+00, 0.00000e+00, 0.00000e+00, 0.00000e+00, 0.00000e+00,\n",
              "       0.00000e+00, 0.00000e+00, 0.00000e+00, 0.00000e+00, 0.00000e+00,\n",
              "       0.00000e+00, 0.00000e+00, 0.00000e+00, 0.00000e+00, 0.00000e+00,\n",
              "       0.00000e+00, 0.00000e+00, 0.00000e+00, 0.00000e+00, 0.00000e+00,\n",
              "       0.00000e+00, 0.00000e+00, 0.00000e+00, 0.00000e+00, 0.00000e+00,\n",
              "       0.00000e+00, 0.00000e+00, 0.00000e+00, 0.00000e+00, 0.00000e+00,\n",
              "       0.00000e+00, 0.00000e+00, 0.00000e+00, 0.00000e+00, 0.00000e+00,\n",
              "       0.00000e+00, 0.00000e+00, 0.00000e+00, 0.00000e+00, 0.00000e+00,\n",
              "       0.00000e+00, 0.00000e+00, 0.00000e+00, 0.00000e+00, 0.00000e+00,\n",
              "       0.00000e+00, 0.00000e+00, 0.00000e+00, 0.00000e+00, 0.00000e+00,\n",
              "       0.00000e+00, 0.00000e+00, 0.00000e+00, 0.00000e+00, 0.00000e+00,\n",
              "       0.00000e+00, 0.00000e+00, 0.00000e+00, 0.00000e+00, 0.00000e+00,\n",
              "       0.00000e+00, 0.00000e+00, 0.00000e+00, 0.00000e+00, 0.00000e+00,\n",
              "       0.00000e+00, 0.00000e+00, 0.00000e+00, 0.00000e+00, 0.00000e+00,\n",
              "       0.00000e+00, 0.00000e+00, 0.00000e+00, 0.00000e+00, 0.00000e+00,\n",
              "       0.00000e+00, 0.00000e+00, 0.00000e+00, 0.00000e+00, 0.00000e+00,\n",
              "       0.00000e+00, 0.00000e+00, 0.00000e+00, 0.00000e+00, 0.00000e+00,\n",
              "       0.00000e+00, 2.00000e-02, 5.20000e-01, 1.26500e+00, 3.28500e+00,\n",
              "       4.48500e+00, 6.23500e+00, 6.40500e+00, 5.19500e+00, 3.80500e+00,\n",
              "       6.09500e+00, 6.85000e+00, 4.16500e+00, 2.84000e+00, 1.41500e+00,\n",
              "       3.85000e-01, 0.00000e+00, 0.00000e+00, 0.00000e+00, 0.00000e+00,\n",
              "       0.00000e+00, 0.00000e+00, 0.00000e+00, 0.00000e+00, 0.00000e+00,\n",
              "       0.00000e+00, 0.00000e+00, 1.05000e-01, 5.10000e-01, 1.76500e+00,\n",
              "       3.10000e+00, 6.25500e+00, 2.09000e+01, 3.55150e+01, 5.15300e+01,\n",
              "       6.05850e+01, 6.39800e+01, 6.74300e+01, 6.36950e+01, 5.78700e+01,\n",
              "       4.72350e+01, 3.30200e+01, 1.71650e+01, 5.56000e+00, 2.14500e+00,\n",
              "       3.95000e-01, 0.00000e+00, 0.00000e+00, 0.00000e+00, 0.00000e+00,\n",
              "       0.00000e+00, 0.00000e+00, 0.00000e+00, 1.33500e+00, 1.88500e+00,\n",
              "       4.15000e+00, 8.66000e+00, 1.52850e+01, 2.26500e+01, 4.13850e+01,\n",
              "       6.81600e+01, 9.83100e+01, 1.22435e+02, 1.46055e+02, 1.55490e+02,\n",
              "       1.55085e+02, 1.44840e+02, 1.21540e+02, 1.01000e+02, 7.56350e+01,\n",
              "       5.01650e+01, 2.52050e+01, 7.29500e+00, 3.60500e+00, 0.00000e+00,\n",
              "       0.00000e+00, 0.00000e+00, 0.00000e+00, 0.00000e+00, 0.00000e+00,\n",
              "       0.00000e+00, 1.37500e+00, 4.78000e+00, 1.07850e+01, 2.26350e+01,\n",
              "       3.63800e+01, 5.34700e+01, 7.54700e+01, 1.09070e+02, 1.43015e+02,\n",
              "       1.65230e+02, 1.75805e+02, 1.82200e+02, 1.85780e+02, 1.78510e+02,\n",
              "       1.55515e+02, 1.41595e+02, 1.19085e+02, 8.79100e+01, 4.75550e+01,\n",
              "       2.09450e+01, 6.53000e+00, 0.00000e+00, 0.00000e+00, 0.00000e+00,\n",
              "       0.00000e+00, 0.00000e+00, 6.40000e-01, 0.00000e+00, 3.99000e+00,\n",
              "       9.07500e+00, 1.74500e+01, 2.97900e+01, 4.30600e+01, 6.23350e+01,\n",
              "       8.73000e+01, 1.11480e+02, 1.29115e+02, 1.45345e+02, 1.47025e+02,\n",
              "       1.50645e+02, 1.51815e+02, 1.61330e+02, 1.56810e+02, 1.45630e+02,\n",
              "       1.32810e+02, 1.06365e+02, 6.30950e+01, 3.06100e+01, 8.53500e+00,\n",
              "       0.00000e+00, 0.00000e+00, 0.00000e+00, 0.00000e+00, 0.00000e+00,\n",
              "       0.00000e+00, 0.00000e+00, 4.13500e+00, 1.18250e+01, 1.84400e+01,\n",
              "       2.41150e+01, 3.47300e+01, 4.93500e+01, 6.72700e+01, 8.25500e+01,\n",
              "       9.08600e+01, 9.06900e+01, 8.92750e+01, 9.22200e+01, 1.07335e+02,\n",
              "       1.34500e+02, 1.44670e+02, 1.40520e+02, 1.27720e+02, 1.00895e+02,\n",
              "       6.12700e+01, 2.67650e+01, 7.87500e+00, 0.00000e+00, 0.00000e+00,\n",
              "       0.00000e+00, 0.00000e+00, 0.00000e+00, 0.00000e+00, 5.60000e-01,\n",
              "       2.72500e+00, 8.33000e+00, 1.25350e+01, 1.54400e+01, 2.32950e+01,\n",
              "       3.31100e+01, 4.31000e+01, 4.97300e+01, 5.00750e+01, 4.76000e+01,\n",
              "       5.39650e+01, 7.04050e+01, 1.06325e+02, 1.40790e+02, 1.53315e+02,\n",
              "       1.35025e+02, 1.18795e+02, 9.14150e+01, 5.00550e+01, 2.08300e+01,\n",
              "       4.71500e+00, 0.00000e+00, 0.00000e+00, 0.00000e+00, 0.00000e+00,\n",
              "       0.00000e+00, 0.00000e+00, 4.40000e-01, 2.38000e+00, 5.42500e+00,\n",
              "       5.23500e+00, 8.41000e+00, 1.25100e+01, 2.02350e+01, 2.53650e+01,\n",
              "       3.01800e+01, 3.11300e+01, 4.42850e+01, 6.71700e+01, 1.01330e+02,\n",
              "       1.42885e+02, 1.69370e+02, 1.63305e+02, 1.30905e+02, 9.97250e+01,\n",
              "       6.29100e+01, 3.02800e+01, 1.09550e+01, 3.44000e+00, 0.00000e+00,\n",
              "       0.00000e+00, 0.00000e+00, 0.00000e+00, 0.00000e+00, 0.00000e+00,\n",
              "       0.00000e+00, 5.20000e-01, 2.86000e+00, 2.59000e+00, 4.71000e+00,\n",
              "       6.47500e+00, 9.20500e+00, 1.90000e+01, 3.26050e+01, 5.77650e+01,\n",
              "       9.09000e+01, 1.28000e+02, 1.66385e+02, 1.88655e+02, 1.82090e+02,\n",
              "       1.53400e+02, 1.13440e+02, 7.60000e+01, 3.97800e+01, 1.33900e+01,\n",
              "       7.02500e+00, 2.27500e+00, 0.00000e+00, 0.00000e+00, 0.00000e+00,\n",
              "       0.00000e+00, 0.00000e+00, 0.00000e+00, 0.00000e+00, 0.00000e+00,\n",
              "       7.45000e-01, 1.69500e+00, 1.38500e+00, 5.32500e+00, 1.40250e+01,\n",
              "       3.30800e+01, 6.76200e+01, 1.11865e+02, 1.50580e+02, 1.84215e+02,\n",
              "       2.04085e+02, 2.02800e+02, 1.76800e+02, 1.38310e+02, 9.59350e+01,\n",
              "       5.75550e+01, 2.63700e+01, 1.06250e+01, 4.90000e+00, 5.45000e-01,\n",
              "       0.00000e+00, 0.00000e+00, 0.00000e+00, 0.00000e+00, 0.00000e+00,\n",
              "       0.00000e+00, 0.00000e+00, 0.00000e+00, 0.00000e+00, 1.25000e-01,\n",
              "       2.28000e+00, 1.10800e+01, 2.52400e+01, 4.96000e+01, 9.46750e+01,\n",
              "       1.41440e+02, 1.74580e+02, 1.94435e+02, 1.97725e+02, 1.92190e+02,\n",
              "       1.80095e+02, 1.49640e+02, 1.06425e+02, 6.23950e+01, 3.31050e+01,\n",
              "       9.85500e+00, 3.61000e+00, 5.45000e-01, 0.00000e+00, 0.00000e+00,\n",
              "       0.00000e+00, 0.00000e+00, 0.00000e+00, 0.00000e+00, 0.00000e+00,\n",
              "       0.00000e+00, 0.00000e+00, 3.05000e-01, 5.37500e+00, 1.44600e+01,\n",
              "       3.00400e+01, 5.66950e+01, 8.96450e+01, 1.31260e+02, 1.55180e+02,\n",
              "       1.63135e+02, 1.60245e+02, 1.64400e+02, 1.68580e+02, 1.64030e+02,\n",
              "       1.37480e+02, 8.56400e+01, 4.59700e+01, 1.66900e+01, 4.41500e+00,\n",
              "       1.39500e+00, 1.45000e-01, 0.00000e+00, 0.00000e+00, 0.00000e+00,\n",
              "       0.00000e+00, 0.00000e+00, 0.00000e+00, 0.00000e+00, 1.00000e-01,\n",
              "       1.56500e+00, 4.44000e+00, 1.36150e+01, 2.46250e+01, 4.13700e+01,\n",
              "       6.03850e+01, 7.97950e+01, 9.35000e+01, 9.76800e+01, 9.72700e+01,\n",
              "       1.05675e+02, 1.36205e+02, 1.62225e+02, 1.53895e+02, 1.10835e+02,\n",
              "       5.87600e+01, 2.61800e+01, 9.06000e+00, 1.95000e+00, 1.08500e+00,\n",
              "       0.00000e+00, 0.00000e+00, 0.00000e+00, 0.00000e+00, 0.00000e+00,\n",
              "       5.00000e-01, 1.07500e+00, 3.28000e+00, 6.97000e+00, 1.01900e+01,\n",
              "       1.58700e+01, 2.05100e+01, 2.48350e+01, 2.90950e+01, 3.07450e+01,\n",
              "       3.30750e+01, 3.80850e+01, 4.70150e+01, 6.68300e+01, 1.06815e+02,\n",
              "       1.54660e+02, 1.64940e+02, 1.22985e+02, 6.93450e+01, 3.24700e+01,\n",
              "       1.36050e+01, 3.19500e+00, 1.26500e+00, 0.00000e+00, 0.00000e+00,\n",
              "       0.00000e+00, 0.00000e+00, 0.00000e+00, 5.20000e-01, 3.30000e+00,\n",
              "       1.21000e+01, 2.11350e+01, 1.81400e+01, 2.01900e+01, 2.10900e+01,\n",
              "       1.88400e+01, 1.23850e+01, 9.39000e+00, 7.44500e+00, 1.03350e+01,\n",
              "       1.88950e+01, 4.86700e+01, 9.79600e+01, 1.49020e+02, 1.66785e+02,\n",
              "       1.28730e+02, 6.76600e+01, 3.52400e+01, 1.77100e+01, 5.91500e+00,\n",
              "       1.26500e+00, 0.00000e+00, 0.00000e+00, 0.00000e+00, 0.00000e+00,\n",
              "       0.00000e+00, 3.50000e-02, 5.69500e+00, 2.00450e+01, 3.51900e+01,\n",
              "       3.34600e+01, 3.42000e+01, 2.89700e+01, 2.03800e+01, 1.75750e+01,\n",
              "       1.35050e+01, 1.00700e+01, 1.18500e+01, 2.63600e+01, 6.37800e+01,\n",
              "       1.14065e+02, 1.53185e+02, 1.59140e+02, 1.20945e+02, 6.36600e+01,\n",
              "       3.28150e+01, 1.88150e+01, 6.37500e+00, 1.26500e+00, 0.00000e+00,\n",
              "       0.00000e+00, 0.00000e+00, 0.00000e+00, 0.00000e+00, 1.82500e+00,\n",
              "       1.08000e+01, 3.73950e+01, 6.23600e+01, 6.40450e+01, 5.68550e+01,\n",
              "       4.64400e+01, 3.58500e+01, 2.95650e+01, 2.56500e+01, 2.76650e+01,\n",
              "       4.03950e+01, 6.37750e+01, 1.02065e+02, 1.46535e+02, 1.61040e+02,\n",
              "       1.47000e+02, 1.05980e+02, 5.82500e+01, 2.96850e+01, 1.60900e+01,\n",
              "       5.09500e+00, 1.26500e+00, 0.00000e+00, 0.00000e+00, 0.00000e+00,\n",
              "       0.00000e+00, 0.00000e+00, 3.80000e+00, 1.61350e+01, 4.64650e+01,\n",
              "       7.97600e+01, 9.54150e+01, 9.40200e+01, 8.07750e+01, 6.67800e+01,\n",
              "       5.43950e+01, 5.38950e+01, 6.75600e+01, 9.07200e+01, 1.23640e+02,\n",
              "       1.56135e+02, 1.71830e+02, 1.55625e+02, 1.21645e+02, 8.32100e+01,\n",
              "       4.56750e+01, 2.22600e+01, 1.22950e+01, 3.55000e+00, 8.30000e-01,\n",
              "       0.00000e+00, 0.00000e+00, 0.00000e+00, 0.00000e+00, 0.00000e+00,\n",
              "       3.12500e+00, 1.40900e+01, 4.35000e+01, 7.30400e+01, 1.05810e+02,\n",
              "       1.26290e+02, 1.32620e+02, 1.38980e+02, 1.36580e+02, 1.34650e+02,\n",
              "       1.43200e+02, 1.57360e+02, 1.73195e+02, 1.79610e+02, 1.64880e+02,\n",
              "       1.25725e+02, 8.68000e+01, 5.48950e+01, 2.65800e+01, 1.29550e+01,\n",
              "       7.25500e+00, 1.72000e+00, 0.00000e+00, 0.00000e+00, 0.00000e+00,\n",
              "       0.00000e+00, 0.00000e+00, 0.00000e+00, 1.01500e+00, 8.55000e+00,\n",
              "       2.69300e+01, 5.12150e+01, 7.90900e+01, 1.12535e+02, 1.44435e+02,\n",
              "       1.71465e+02, 1.86880e+02, 1.91605e+02, 1.92785e+02, 1.90445e+02,\n",
              "       1.79005e+02, 1.56200e+02, 1.15565e+02, 8.25550e+01, 5.19550e+01,\n",
              "       2.62400e+01, 1.38150e+01, 6.63500e+00, 3.02500e+00, 1.02000e+00,\n",
              "       0.00000e+00, 0.00000e+00, 0.00000e+00, 0.00000e+00, 0.00000e+00,\n",
              "       0.00000e+00, 1.70000e-01, 4.03500e+00, 1.58450e+01, 2.84800e+01,\n",
              "       4.73300e+01, 6.96250e+01, 1.01660e+02, 1.35295e+02, 1.58870e+02,\n",
              "       1.63880e+02, 1.58810e+02, 1.43240e+02, 1.20095e+02, 8.91550e+01,\n",
              "       6.57550e+01, 3.88800e+01, 1.99850e+01, 1.09550e+01, 4.93500e+00,\n",
              "       4.07000e+00, 1.82500e+00, 6.15000e-01, 0.00000e+00, 0.00000e+00,\n",
              "       0.00000e+00, 0.00000e+00, 0.00000e+00, 0.00000e+00, 0.00000e+00,\n",
              "       2.64500e+00, 8.61000e+00, 1.47100e+01, 1.92500e+01, 2.74150e+01,\n",
              "       3.72600e+01, 4.82100e+01, 5.98950e+01, 6.73150e+01, 6.48900e+01,\n",
              "       5.83000e+01, 4.49300e+01, 3.17350e+01, 2.06550e+01, 9.90500e+00,\n",
              "       6.57500e+00, 5.19000e+00, 4.31000e+00, 2.92500e+00, 1.46500e+00,\n",
              "       2.70000e-01, 0.00000e+00, 0.00000e+00, 0.00000e+00, 0.00000e+00,\n",
              "       0.00000e+00, 0.00000e+00, 0.00000e+00, 1.90000e-01, 2.04000e+00,\n",
              "       2.93000e+00, 4.29500e+00, 5.76500e+00, 7.42500e+00, 9.78500e+00,\n",
              "       1.00300e+01, 9.94000e+00, 8.75500e+00, 5.83000e+00, 2.92500e+00,\n",
              "       1.48000e+00, 3.40000e-01, 2.55000e-01, 2.02000e+00, 1.98500e+00,\n",
              "       1.46500e+00, 1.24500e+00, 8.65000e-01, 0.00000e+00, 0.00000e+00,\n",
              "       0.00000e+00, 0.00000e+00, 0.00000e+00, 0.00000e+00, 0.00000e+00,\n",
              "       0.00000e+00, 0.00000e+00, 0.00000e+00, 0.00000e+00, 0.00000e+00,\n",
              "       0.00000e+00, 0.00000e+00, 0.00000e+00, 0.00000e+00, 0.00000e+00,\n",
              "       0.00000e+00, 0.00000e+00, 0.00000e+00, 0.00000e+00, 1.20000e-01,\n",
              "       6.50000e-01, 1.04500e+00, 1.26500e+00, 1.21500e+00, 2.70000e-01,\n",
              "       0.00000e+00, 0.00000e+00, 0.00000e+00, 0.00000e+00, 0.00000e+00,\n",
              "       0.00000e+00, 0.00000e+00, 0.00000e+00, 0.00000e+00, 0.00000e+00,\n",
              "       0.00000e+00, 0.00000e+00, 0.00000e+00, 0.00000e+00, 0.00000e+00,\n",
              "       0.00000e+00, 0.00000e+00, 0.00000e+00, 0.00000e+00, 0.00000e+00,\n",
              "       0.00000e+00, 0.00000e+00, 0.00000e+00, 0.00000e+00, 0.00000e+00,\n",
              "       0.00000e+00, 0.00000e+00, 0.00000e+00, 0.00000e+00, 0.00000e+00,\n",
              "       0.00000e+00, 0.00000e+00, 0.00000e+00, 0.00000e+00])"
            ]
          },
          "metadata": {},
          "execution_count": 41
        }
      ]
    },
    {
      "cell_type": "code",
      "source": [
        "B= l-means"
      ],
      "metadata": {
        "id": "VGaVg1J9V9S8"
      },
      "execution_count": 42,
      "outputs": []
    },
    {
      "cell_type": "code",
      "source": [
        "l = np.array(l)\n",
        "C= np.cov(l.T)"
      ],
      "metadata": {
        "id": "oxWOtzTlwfLb"
      },
      "execution_count": 43,
      "outputs": []
    },
    {
      "cell_type": "code",
      "source": [
        "E_values, E_vectors= np.linalg.eig(C)\n",
        "print(E_values)\n",
        "print(E_vectors)"
      ],
      "metadata": {
        "colab": {
          "base_uri": "https://localhost:8080/"
        },
        "id": "i4zJiF4hwhlh",
        "outputId": "6e2063d3-38e2-4c2c-9a68-f34645fc823b"
      },
      "execution_count": 44,
      "outputs": [
        {
          "output_type": "stream",
          "name": "stdout",
          "text": [
            "[ 4.26580655e+05+0.00000000e+00j  2.71913150e+05+0.00000000e+00j\n",
            "  2.25730587e+05+0.00000000e+00j  1.73801858e+05+0.00000000e+00j\n",
            "  1.49193737e+05+0.00000000e+00j  1.16119758e+05+0.00000000e+00j\n",
            "  9.63103166e+04+0.00000000e+00j  8.14503198e+04+0.00000000e+00j\n",
            "  7.31688693e+04+0.00000000e+00j  7.02439493e+04+0.00000000e+00j\n",
            "  6.64239005e+04+0.00000000e+00j  5.88463719e+04+0.00000000e+00j\n",
            "  5.38774446e+04+0.00000000e+00j  4.92220140e+04+0.00000000e+00j\n",
            "  4.52921023e+04+0.00000000e+00j  4.37768655e+04+0.00000000e+00j\n",
            "  3.60228912e+04+0.00000000e+00j  3.55180315e+04+0.00000000e+00j\n",
            "  3.26273716e+04+0.00000000e+00j  3.04982734e+04+0.00000000e+00j\n",
            "  2.93703401e+04+0.00000000e+00j  2.77839143e+04+0.00000000e+00j\n",
            "  2.57554512e+04+0.00000000e+00j  2.37089628e+04+0.00000000e+00j\n",
            "  2.30915741e+04+0.00000000e+00j  2.19177447e+04+0.00000000e+00j\n",
            "  2.09891652e+04+0.00000000e+00j  1.91928365e+04+0.00000000e+00j\n",
            "  1.82615954e+04+0.00000000e+00j  1.80511589e+04+0.00000000e+00j\n",
            "  1.76468253e+04+0.00000000e+00j  1.72944923e+04+0.00000000e+00j\n",
            "  1.63286207e+04+0.00000000e+00j  1.49815275e+04+0.00000000e+00j\n",
            "  1.46423330e+04+0.00000000e+00j  1.33124420e+04+0.00000000e+00j\n",
            "  1.29300930e+04+0.00000000e+00j  1.23157438e+04+0.00000000e+00j\n",
            "  1.20687885e+04+0.00000000e+00j  1.16507961e+04+0.00000000e+00j\n",
            "  1.10945782e+04+0.00000000e+00j  1.08994175e+04+0.00000000e+00j\n",
            "  1.06572219e+04+0.00000000e+00j  1.02733467e+04+0.00000000e+00j\n",
            "  9.98359148e+03+0.00000000e+00j  9.81302994e+03+0.00000000e+00j\n",
            "  9.57354892e+03+0.00000000e+00j  8.81322040e+03+0.00000000e+00j\n",
            "  8.70943388e+03+0.00000000e+00j  8.41484855e+03+0.00000000e+00j\n",
            "  8.20824342e+03+0.00000000e+00j  8.06283864e+03+0.00000000e+00j\n",
            "  7.80772803e+03+0.00000000e+00j  7.41256597e+03+0.00000000e+00j\n",
            "  7.12670211e+03+0.00000000e+00j  6.94981658e+03+0.00000000e+00j\n",
            "  6.76780067e+03+0.00000000e+00j  6.56397508e+03+0.00000000e+00j\n",
            "  6.34007010e+03+0.00000000e+00j  6.11281382e+03+0.00000000e+00j\n",
            "  5.85833942e+03+0.00000000e+00j  5.73337070e+03+0.00000000e+00j\n",
            "  5.67547286e+03+0.00000000e+00j  5.52701946e+03+0.00000000e+00j\n",
            "  5.32634733e+03+0.00000000e+00j  5.05198567e+03+0.00000000e+00j\n",
            "  4.98416754e+03+0.00000000e+00j  4.89928721e+03+0.00000000e+00j\n",
            "  4.83870763e+03+0.00000000e+00j  4.52951745e+03+0.00000000e+00j\n",
            "  4.33082657e+03+0.00000000e+00j  4.26700124e+03+0.00000000e+00j\n",
            "  4.17318831e+03+0.00000000e+00j  4.07146650e+03+0.00000000e+00j\n",
            "  4.04385241e+03+0.00000000e+00j  3.95156677e+03+0.00000000e+00j\n",
            "  3.80569023e+03+0.00000000e+00j  3.69832014e+03+0.00000000e+00j\n",
            "  3.58078374e+03+0.00000000e+00j  3.46463781e+03+0.00000000e+00j\n",
            "  3.34594008e+03+0.00000000e+00j  3.32459799e+03+0.00000000e+00j\n",
            "  3.27144988e+03+0.00000000e+00j  3.21673126e+03+0.00000000e+00j\n",
            "  3.04532798e+03+0.00000000e+00j  3.01543499e+03+0.00000000e+00j\n",
            "  2.93160819e+03+0.00000000e+00j  2.87332760e+03+0.00000000e+00j\n",
            "  2.83736700e+03+0.00000000e+00j  2.74176998e+03+0.00000000e+00j\n",
            "  2.71581184e+03+0.00000000e+00j  2.68152953e+03+0.00000000e+00j\n",
            "  2.63920026e+03+0.00000000e+00j  2.35122883e+03+0.00000000e+00j\n",
            "  2.39302773e+03+0.00000000e+00j  2.45428805e+03+0.00000000e+00j\n",
            "  2.50785784e+03+0.00000000e+00j  2.30581514e+03+0.00000000e+00j\n",
            "  2.23156925e+03+0.00000000e+00j  2.15522372e+03+0.00000000e+00j\n",
            "  2.14156873e+03+0.00000000e+00j  2.10367282e+03+0.00000000e+00j\n",
            "  2.02803054e+03+0.00000000e+00j  1.99048308e+03+0.00000000e+00j\n",
            "  1.96301110e+03+0.00000000e+00j  1.89771994e+03+0.00000000e+00j\n",
            "  1.85613049e+03+0.00000000e+00j  1.80024644e+03+0.00000000e+00j\n",
            "  1.76199488e+03+0.00000000e+00j  1.72277072e+03+0.00000000e+00j\n",
            "  1.69686586e+03+0.00000000e+00j  1.68992591e+03+0.00000000e+00j\n",
            "  1.61685154e+03+0.00000000e+00j  1.59642408e+03+0.00000000e+00j\n",
            "  1.56166035e+03+0.00000000e+00j  1.52577616e+03+0.00000000e+00j\n",
            "  1.50065670e+03+0.00000000e+00j  1.46235436e+03+0.00000000e+00j\n",
            "  1.43135968e+03+0.00000000e+00j  1.41683033e+03+0.00000000e+00j\n",
            "  1.35494639e+03+0.00000000e+00j  1.36147307e+03+0.00000000e+00j\n",
            "  1.29729078e+03+0.00000000e+00j  1.26334165e+03+0.00000000e+00j\n",
            "  1.23440401e+03+0.00000000e+00j  1.20728987e+03+0.00000000e+00j\n",
            "  1.20464219e+03+0.00000000e+00j  1.14464038e+03+0.00000000e+00j\n",
            "  1.16014452e+03+0.00000000e+00j  1.08844209e+03+0.00000000e+00j\n",
            "  1.10075478e+03+0.00000000e+00j  1.05738396e+03+0.00000000e+00j\n",
            "  1.04344800e+03+0.00000000e+00j  1.02912344e+03+0.00000000e+00j\n",
            "  9.85811282e+02+0.00000000e+00j  9.80697848e+02+0.00000000e+00j\n",
            "  9.54866885e+02+0.00000000e+00j  9.37269957e+02+0.00000000e+00j\n",
            "  9.19174168e+02+0.00000000e+00j  8.97111267e+02+0.00000000e+00j\n",
            "  8.62540512e+02+0.00000000e+00j  8.56456890e+02+0.00000000e+00j\n",
            "  8.19290641e+02+0.00000000e+00j  7.92242600e+02+0.00000000e+00j\n",
            "  7.77298636e+02+0.00000000e+00j  7.50745641e+02+0.00000000e+00j\n",
            "  7.43154554e+02+0.00000000e+00j  7.33495164e+02+0.00000000e+00j\n",
            "  7.17420987e+02+0.00000000e+00j  7.02863630e+02+0.00000000e+00j\n",
            "  6.61092030e+02+0.00000000e+00j  6.50488663e+02+0.00000000e+00j\n",
            "  6.40583356e+02+0.00000000e+00j  6.29119272e+02+0.00000000e+00j\n",
            "  6.14122427e+02+0.00000000e+00j  5.88485338e+02+0.00000000e+00j\n",
            "  5.95716619e+02+0.00000000e+00j  5.57495787e+02+0.00000000e+00j\n",
            "  5.29617259e+02+0.00000000e+00j  5.34474178e+02+0.00000000e+00j\n",
            "  5.19552573e+02+0.00000000e+00j  4.98602151e+02+0.00000000e+00j\n",
            "  4.84468447e+02+0.00000000e+00j  4.82268719e+02+0.00000000e+00j\n",
            "  4.69735947e+02+0.00000000e+00j  4.52159882e+02+0.00000000e+00j\n",
            "  4.39842289e+02+0.00000000e+00j  4.33026001e+02+0.00000000e+00j\n",
            "  4.12650338e+02+0.00000000e+00j  1.58951331e+02+0.00000000e+00j\n",
            "  1.63433007e+02+0.00000000e+00j  1.70216545e+02+0.00000000e+00j\n",
            "  1.75984536e+02+0.00000000e+00j  1.88232027e+02+0.00000000e+00j\n",
            "  1.99729656e+02+0.00000000e+00j  2.04136947e+02+0.00000000e+00j\n",
            "  2.11216764e+02+0.00000000e+00j  2.22118495e+02+0.00000000e+00j\n",
            "  2.17307533e+02+0.00000000e+00j  3.90932627e+02+0.00000000e+00j\n",
            "  4.03023891e+02+0.00000000e+00j  3.84404169e+02+0.00000000e+00j\n",
            "  3.78719319e+02+0.00000000e+00j  3.67874356e+02+0.00000000e+00j\n",
            "  3.59207719e+02+0.00000000e+00j  3.48493609e+02+0.00000000e+00j\n",
            "  3.37212621e+02+0.00000000e+00j  2.54169698e+02+0.00000000e+00j\n",
            "  3.20035811e+02+0.00000000e+00j  2.68839709e+02+0.00000000e+00j\n",
            "  2.77743388e+02+0.00000000e+00j  2.84807550e+02+0.00000000e+00j\n",
            "  2.86267576e+02+0.00000000e+00j  3.09701064e+02+0.00000000e+00j\n",
            "  3.07228330e+02+0.00000000e+00j  1.47084954e+02+0.00000000e+00j\n",
            "  1.29752623e+02+0.00000000e+00j  1.22485683e+02+0.00000000e+00j\n",
            "  1.05968984e+02+0.00000000e+00j -8.78794003e-11+0.00000000e+00j\n",
            "  9.08535019e-11+0.00000000e+00j -8.33390625e-11+0.00000000e+00j\n",
            "  7.61387724e-11+0.00000000e+00j -7.23468541e-11+0.00000000e+00j\n",
            " -6.93969044e-11+0.00000000e+00j  7.05954932e-11+0.00000000e+00j\n",
            "  6.50986255e-11+0.00000000e+00j  6.29056021e-11+0.00000000e+00j\n",
            " -6.27330198e-11+0.00000000e+00j -6.26531975e-11+0.00000000e+00j\n",
            " -6.12781712e-11+0.00000000e+00j  5.73303521e-11+6.74945116e-13j\n",
            "  5.73303521e-11-6.74945116e-13j -5.80248032e-11+0.00000000e+00j\n",
            " -5.46536272e-11+0.00000000e+00j -5.44497319e-11+1.25740120e-12j\n",
            " -5.44497319e-11-1.25740120e-12j -5.18704019e-11+0.00000000e+00j\n",
            " -5.14394795e-11+0.00000000e+00j  5.37676724e-11+0.00000000e+00j\n",
            "  5.31169521e-11+0.00000000e+00j -4.79738360e-11+7.66117785e-13j\n",
            " -4.79738360e-11-7.66117785e-13j -4.40323866e-11+2.93464993e-12j\n",
            " -4.40323866e-11-2.93464993e-12j -4.39641594e-11+0.00000000e+00j\n",
            " -4.13350055e-11+0.00000000e+00j -4.04082617e-11+0.00000000e+00j\n",
            " -3.98714489e-11+5.11140021e-13j -3.98714489e-11-5.11140021e-13j\n",
            " -3.88187607e-11+0.00000000e+00j -3.69420905e-11+0.00000000e+00j\n",
            " -3.49817625e-11+0.00000000e+00j  5.11534951e-11+0.00000000e+00j\n",
            "  4.84169267e-11+0.00000000e+00j  4.68754394e-11+0.00000000e+00j\n",
            "  4.56803549e-11+1.09671257e-12j  4.56803549e-11-1.09671257e-12j\n",
            "  4.58534785e-11+0.00000000e+00j  4.24221881e-11+0.00000000e+00j\n",
            "  4.10889302e-11+0.00000000e+00j  4.04222366e-11+0.00000000e+00j\n",
            "  3.98382288e-11+6.73181607e-13j  3.98382288e-11-6.73181607e-13j\n",
            "  3.81880151e-11+1.00530439e-13j  3.81880151e-11-1.00530439e-13j\n",
            "  3.55195631e-11+0.00000000e+00j  3.46929313e-11+1.71165531e-12j\n",
            "  3.46929313e-11-1.71165531e-12j -3.34448292e-11+8.33001815e-13j\n",
            " -3.34448292e-11-8.33001815e-13j -3.32038246e-11+0.00000000e+00j\n",
            " -3.15061011e-11+2.33526110e-13j -3.15061011e-11-2.33526110e-13j\n",
            " -3.04163159e-11+9.51716204e-13j -3.04163159e-11-9.51716204e-13j\n",
            " -2.74684697e-11+3.80579291e-12j -2.74684697e-11-3.80579291e-12j\n",
            " -2.94297681e-11+0.00000000e+00j -2.72802733e-11+1.23038770e-13j\n",
            " -2.72802733e-11-1.23038770e-13j -2.53493058e-11+1.50315878e-12j\n",
            " -2.53493058e-11-1.50315878e-12j -2.57042136e-11+5.49518601e-13j\n",
            " -2.57042136e-11-5.49518601e-13j -2.37737165e-11+0.00000000e+00j\n",
            "  3.38400484e-11+0.00000000e+00j  3.31307917e-11+1.30254861e-12j\n",
            "  3.31307917e-11-1.30254861e-12j  3.23547609e-11+0.00000000e+00j\n",
            "  3.14489623e-11+0.00000000e+00j  3.08818648e-11+9.48357799e-13j\n",
            "  3.08818648e-11-9.48357799e-13j  2.94784536e-11+0.00000000e+00j\n",
            "  2.90710116e-11+1.68057775e-12j  2.90710116e-11-1.68057775e-12j\n",
            "  2.65990489e-11+2.07498092e-12j  2.65990489e-11-2.07498092e-12j\n",
            "  2.32503884e-11+2.28244730e-12j  2.32503884e-11-2.28244730e-12j\n",
            "  2.50924381e-11+0.00000000e+00j  2.44001524e-11+0.00000000e+00j\n",
            "  2.47915411e-11+0.00000000e+00j  2.28931231e-11+0.00000000e+00j\n",
            "  2.23675144e-11+0.00000000e+00j  2.16896866e-11+8.91327272e-13j\n",
            "  2.16896866e-11-8.91327272e-13j  1.86891204e-11+2.67441283e-12j\n",
            "  1.86891204e-11-2.67441283e-12j  2.08895181e-11+1.16941952e-12j\n",
            "  2.08895181e-11-1.16941952e-12j  2.07448678e-11+0.00000000e+00j\n",
            "  2.04668618e-11+0.00000000e+00j  1.84417200e-11+1.44994370e-12j\n",
            "  1.84417200e-11-1.44994370e-12j  1.88455887e-11+0.00000000e+00j\n",
            "  1.67832343e-11+1.26399914e-12j  1.67832343e-11-1.26399914e-12j\n",
            " -2.29173771e-11+0.00000000e+00j -2.26696820e-11+1.00879977e-12j\n",
            " -2.26696820e-11-1.00879977e-12j -2.24345176e-11+7.17774502e-13j\n",
            " -2.24345176e-11-7.17774502e-13j -2.02739475e-11+1.45579951e-12j\n",
            " -2.02739475e-11-1.45579951e-12j -2.03933375e-11+0.00000000e+00j\n",
            " -1.79213234e-11+2.99986330e-12j -1.79213234e-11-2.99986330e-12j\n",
            " -1.82050697e-11+1.14317727e-12j -1.82050697e-11-1.14317727e-12j\n",
            " -1.73116950e-11+1.51463693e-12j -1.73116950e-11-1.51463693e-12j\n",
            " -1.79836351e-11+0.00000000e+00j -1.71120459e-11+5.69537399e-13j\n",
            " -1.71120459e-11-5.69537399e-13j -1.62037812e-11+6.12589694e-13j\n",
            " -1.62037812e-11-6.12589694e-13j -1.56537840e-11+0.00000000e+00j\n",
            " -1.47407692e-11+0.00000000e+00j -1.28879276e-11+2.12220434e-12j\n",
            " -1.28879276e-11-2.12220434e-12j -1.33401741e-11+1.73603242e-12j\n",
            " -1.33401741e-11-1.73603242e-12j -1.39310933e-11+4.61491819e-13j\n",
            " -1.39310933e-11-4.61491819e-13j -1.13890330e-11+1.28733311e-12j\n",
            " -1.13890330e-11-1.28733311e-12j -1.17861794e-11+5.68631507e-13j\n",
            " -1.17861794e-11-5.68631507e-13j -1.23975229e-11+0.00000000e+00j\n",
            "  1.59022308e-11+1.53066466e-12j  1.59022308e-11-1.53066466e-12j\n",
            "  1.68479483e-11+0.00000000e+00j  1.50358848e-11+9.22041413e-13j\n",
            "  1.50358848e-11-9.22041413e-13j  1.50970223e-11+1.56922774e-13j\n",
            "  1.50970223e-11-1.56922774e-13j  1.31726237e-11+1.43637696e-12j\n",
            "  1.31726237e-11-1.43637696e-12j  1.42585751e-11+0.00000000e+00j\n",
            "  1.15460882e-11+1.66104645e-12j  1.15460882e-11-1.66104645e-12j\n",
            "  1.10761398e-11+8.93082967e-13j  1.10761398e-11-8.93082967e-13j\n",
            "  1.32961185e-11+0.00000000e+00j  1.21229424e-11+1.08578650e-12j\n",
            "  1.21229424e-11-1.08578650e-12j  1.22091492e-11+0.00000000e+00j\n",
            " -1.05976374e-11+3.49887569e-13j -1.05976374e-11-3.49887569e-13j\n",
            "  1.03470122e-11+7.46564911e-13j  1.03470122e-11-7.46564911e-13j\n",
            " -8.75073359e-12+3.38087704e-12j -8.75073359e-12-3.38087704e-12j\n",
            " -9.56468414e-12+0.00000000e+00j -9.83887493e-12+0.00000000e+00j\n",
            "  8.83772048e-12+1.27984860e-12j  8.83772048e-12-1.27984860e-12j\n",
            "  9.41145276e-12+6.67673291e-13j  9.41145276e-12-6.67673291e-13j\n",
            "  9.91270553e-12+0.00000000e+00j  5.65950378e-12+4.72216571e-12j\n",
            "  5.65950378e-12-4.72216571e-12j -6.41501995e-12+4.56669244e-12j\n",
            " -6.41501995e-12-4.56669244e-12j -8.08887641e-12+3.03736418e-12j\n",
            " -8.08887641e-12-3.03736418e-12j -8.35159853e-12+1.61338226e-12j\n",
            " -8.35159853e-12-1.61338226e-12j -8.19614883e-12+4.46067829e-13j\n",
            " -8.19614883e-12-4.46067829e-13j -7.29905467e-12+1.44309138e-12j\n",
            " -7.29905467e-12-1.44309138e-12j -7.69267350e-12+0.00000000e+00j\n",
            "  7.47585691e-12+1.20200738e-12j  7.47585691e-12-1.20200738e-12j\n",
            "  8.01239512e-12+2.58202644e-13j  8.01239512e-12-2.58202644e-13j\n",
            "  7.81463395e-12+0.00000000e+00j  7.20969601e-12+3.21442019e-13j\n",
            "  7.20969601e-12-3.21442019e-13j -7.57649088e-12+0.00000000e+00j\n",
            " -6.36733209e-12+0.00000000e+00j -6.21806449e-12+1.25886685e-13j\n",
            " -6.21806449e-12-1.25886685e-13j  6.25101393e-12+1.36720252e-12j\n",
            "  6.25101393e-12-1.36720252e-12j  6.28606634e-12+0.00000000e+00j\n",
            "  5.95767652e-12+3.25239620e-13j  5.95767652e-12-3.25239620e-13j\n",
            " -5.32273090e-12+1.54265907e-12j -5.32273090e-12-1.54265907e-12j\n",
            " -5.56624072e-12+8.35098056e-13j -5.56624072e-12-8.35098056e-13j\n",
            " -5.31157230e-12+0.00000000e+00j -1.52867054e-12+2.85710519e-12j\n",
            " -1.52867054e-12-2.85710519e-12j -4.84325320e-12+0.00000000e+00j\n",
            " -4.52051229e-12+0.00000000e+00j -4.30246585e-12+4.87053668e-13j\n",
            " -4.30246585e-12-4.87053668e-13j -3.81725614e-12+6.54191539e-13j\n",
            " -3.81725614e-12-6.54191539e-13j  5.25312344e-12+0.00000000e+00j\n",
            "  5.08414324e-12+5.53104419e-13j  5.08414324e-12-5.53104419e-13j\n",
            "  4.24078545e-12+1.14485851e-12j  4.24078545e-12-1.14485851e-12j\n",
            "  4.87040146e-12+0.00000000e+00j  4.41237072e-12+0.00000000e+00j\n",
            "  4.20747776e-12+4.39835922e-13j  4.20747776e-12-4.39835922e-13j\n",
            "  3.10284060e-12+1.41527494e-12j  3.10284060e-12-1.41527494e-12j\n",
            " -2.90262810e-12+1.31276791e-12j -2.90262810e-12-1.31276791e-12j\n",
            " -3.47136838e-12+2.21829893e-13j -3.47136838e-12-2.21829893e-13j\n",
            " -3.37483378e-12+4.44230542e-13j -3.37483378e-12-4.44230542e-13j\n",
            "  3.37988119e-12+4.28187121e-13j  3.37988119e-12-4.28187121e-13j\n",
            "  2.78281883e-12+7.28319862e-13j  2.78281883e-12-7.28319862e-13j\n",
            "  3.17480261e-12+0.00000000e+00j -2.29974583e-12+8.85214592e-13j\n",
            " -2.29974583e-12-8.85214592e-13j -2.81874999e-12+0.00000000e+00j\n",
            " -2.55287454e-12+0.00000000e+00j -2.34801663e-12+0.00000000e+00j\n",
            " -2.17700312e-12+1.87512476e-13j -2.17700312e-12-1.87512476e-13j\n",
            " -1.19910431e-12+1.03890871e-12j -1.19910431e-12-1.03890871e-12j\n",
            "  8.25330824e-13+1.35914921e-12j  8.25330824e-13-1.35914921e-12j\n",
            "  1.83604387e-12+9.03237002e-13j  1.83604387e-12-9.03237002e-13j\n",
            "  2.83400539e-12+0.00000000e+00j  2.51447533e-12+0.00000000e+00j\n",
            "  2.28341404e-12+0.00000000e+00j  1.61323336e-12+1.41921113e-13j\n",
            "  1.61323336e-12-1.41921113e-13j  1.69953691e-12+2.96178273e-14j\n",
            "  1.69953691e-12-2.96178273e-14j -1.57397772e-12+1.65977443e-13j\n",
            " -1.57397772e-12-1.65977443e-13j -1.26113542e-12+1.76794700e-13j\n",
            " -1.26113542e-12-1.76794700e-13j  1.28420078e-12+0.00000000e+00j\n",
            "  1.10286997e-12+9.46997832e-14j  1.10286997e-12-9.46997832e-14j\n",
            " -1.16502530e-12+0.00000000e+00j -9.28997841e-13+2.34505761e-13j\n",
            " -9.28997841e-13-2.34505761e-13j -5.94958222e-13+4.26178009e-13j\n",
            " -5.94958222e-13-4.26178009e-13j  1.89403851e-13+5.71721151e-13j\n",
            "  1.89403851e-13-5.71721151e-13j  5.80817249e-13+3.86838593e-13j\n",
            "  5.80817249e-13-3.86838593e-13j -9.24736257e-13+0.00000000e+00j\n",
            "  7.18427949e-13+1.86383135e-13j  7.18427949e-13-1.86383135e-13j\n",
            " -6.88693083e-13+0.00000000e+00j  6.62434444e-13+0.00000000e+00j\n",
            " -4.72205211e-14+2.93070195e-13j -4.72205211e-14-2.93070195e-13j\n",
            "  3.35516476e-13+8.40797028e-14j  3.35516476e-13-8.40797028e-14j\n",
            " -3.55011989e-13+5.71520543e-14j -3.55011989e-13-5.71520543e-14j\n",
            " -2.31219630e-13+1.44282477e-13j -2.31219630e-13-1.44282477e-13j\n",
            "  2.02286840e-13+1.25292613e-13j  2.02286840e-13-1.25292613e-13j\n",
            " -2.55453711e-13+0.00000000e+00j  2.36357558e-13+0.00000000e+00j\n",
            " -1.44349881e-13+1.19322777e-13j -1.44349881e-13-1.19322777e-13j\n",
            "  1.82182396e-13+0.00000000e+00j -6.38490872e-14+4.34566551e-14j\n",
            " -6.38490872e-14-4.34566551e-14j  1.02281218e-13+0.00000000e+00j\n",
            "  4.08743792e-14+6.28301383e-14j  4.08743792e-14-6.28301383e-14j\n",
            "  4.73391903e-14+0.00000000e+00j  4.06641658e-14+2.37848507e-14j\n",
            "  4.06641658e-14-2.37848507e-14j -2.19489329e-14+1.48502508e-14j\n",
            " -2.19489329e-14-1.48502508e-14j -1.42755885e-14+0.00000000e+00j\n",
            "  0.00000000e+00+0.00000000e+00j  0.00000000e+00+0.00000000e+00j\n",
            "  0.00000000e+00+0.00000000e+00j  0.00000000e+00+0.00000000e+00j\n",
            "  0.00000000e+00+0.00000000e+00j  0.00000000e+00+0.00000000e+00j\n",
            "  0.00000000e+00+0.00000000e+00j  0.00000000e+00+0.00000000e+00j\n",
            "  0.00000000e+00+0.00000000e+00j  0.00000000e+00+0.00000000e+00j\n",
            "  0.00000000e+00+0.00000000e+00j  0.00000000e+00+0.00000000e+00j\n",
            "  0.00000000e+00+0.00000000e+00j  0.00000000e+00+0.00000000e+00j\n",
            "  0.00000000e+00+0.00000000e+00j  0.00000000e+00+0.00000000e+00j\n",
            "  0.00000000e+00+0.00000000e+00j  0.00000000e+00+0.00000000e+00j\n",
            "  0.00000000e+00+0.00000000e+00j  0.00000000e+00+0.00000000e+00j\n",
            "  0.00000000e+00+0.00000000e+00j  0.00000000e+00+0.00000000e+00j\n",
            "  0.00000000e+00+0.00000000e+00j  0.00000000e+00+0.00000000e+00j\n",
            "  0.00000000e+00+0.00000000e+00j  0.00000000e+00+0.00000000e+00j\n",
            "  0.00000000e+00+0.00000000e+00j  0.00000000e+00+0.00000000e+00j\n",
            "  0.00000000e+00+0.00000000e+00j  0.00000000e+00+0.00000000e+00j\n",
            "  0.00000000e+00+0.00000000e+00j  0.00000000e+00+0.00000000e+00j\n",
            "  0.00000000e+00+0.00000000e+00j  0.00000000e+00+0.00000000e+00j\n",
            "  0.00000000e+00+0.00000000e+00j  0.00000000e+00+0.00000000e+00j\n",
            "  0.00000000e+00+0.00000000e+00j  0.00000000e+00+0.00000000e+00j\n",
            "  0.00000000e+00+0.00000000e+00j  0.00000000e+00+0.00000000e+00j\n",
            "  0.00000000e+00+0.00000000e+00j  0.00000000e+00+0.00000000e+00j\n",
            "  0.00000000e+00+0.00000000e+00j  0.00000000e+00+0.00000000e+00j\n",
            "  0.00000000e+00+0.00000000e+00j  0.00000000e+00+0.00000000e+00j\n",
            "  0.00000000e+00+0.00000000e+00j  0.00000000e+00+0.00000000e+00j\n",
            "  0.00000000e+00+0.00000000e+00j  0.00000000e+00+0.00000000e+00j\n",
            "  0.00000000e+00+0.00000000e+00j  0.00000000e+00+0.00000000e+00j\n",
            "  0.00000000e+00+0.00000000e+00j  0.00000000e+00+0.00000000e+00j\n",
            "  0.00000000e+00+0.00000000e+00j  0.00000000e+00+0.00000000e+00j\n",
            "  0.00000000e+00+0.00000000e+00j  0.00000000e+00+0.00000000e+00j\n",
            "  0.00000000e+00+0.00000000e+00j  0.00000000e+00+0.00000000e+00j\n",
            "  0.00000000e+00+0.00000000e+00j  0.00000000e+00+0.00000000e+00j\n",
            "  0.00000000e+00+0.00000000e+00j  0.00000000e+00+0.00000000e+00j\n",
            "  0.00000000e+00+0.00000000e+00j  0.00000000e+00+0.00000000e+00j\n",
            "  0.00000000e+00+0.00000000e+00j  0.00000000e+00+0.00000000e+00j\n",
            "  0.00000000e+00+0.00000000e+00j  0.00000000e+00+0.00000000e+00j\n",
            "  0.00000000e+00+0.00000000e+00j  0.00000000e+00+0.00000000e+00j\n",
            "  0.00000000e+00+0.00000000e+00j  0.00000000e+00+0.00000000e+00j\n",
            "  0.00000000e+00+0.00000000e+00j  0.00000000e+00+0.00000000e+00j\n",
            "  0.00000000e+00+0.00000000e+00j  0.00000000e+00+0.00000000e+00j\n",
            "  0.00000000e+00+0.00000000e+00j  0.00000000e+00+0.00000000e+00j\n",
            "  0.00000000e+00+0.00000000e+00j  0.00000000e+00+0.00000000e+00j\n",
            "  0.00000000e+00+0.00000000e+00j  0.00000000e+00+0.00000000e+00j\n",
            "  0.00000000e+00+0.00000000e+00j  0.00000000e+00+0.00000000e+00j\n",
            "  0.00000000e+00+0.00000000e+00j  0.00000000e+00+0.00000000e+00j\n",
            "  0.00000000e+00+0.00000000e+00j  0.00000000e+00+0.00000000e+00j\n",
            "  0.00000000e+00+0.00000000e+00j  0.00000000e+00+0.00000000e+00j\n",
            "  0.00000000e+00+0.00000000e+00j  0.00000000e+00+0.00000000e+00j\n",
            "  0.00000000e+00+0.00000000e+00j  0.00000000e+00+0.00000000e+00j\n",
            "  0.00000000e+00+0.00000000e+00j  0.00000000e+00+0.00000000e+00j\n",
            "  0.00000000e+00+0.00000000e+00j  0.00000000e+00+0.00000000e+00j\n",
            "  0.00000000e+00+0.00000000e+00j  0.00000000e+00+0.00000000e+00j\n",
            "  0.00000000e+00+0.00000000e+00j  0.00000000e+00+0.00000000e+00j\n",
            "  0.00000000e+00+0.00000000e+00j  0.00000000e+00+0.00000000e+00j\n",
            "  0.00000000e+00+0.00000000e+00j  0.00000000e+00+0.00000000e+00j\n",
            "  0.00000000e+00+0.00000000e+00j  0.00000000e+00+0.00000000e+00j\n",
            "  0.00000000e+00+0.00000000e+00j  0.00000000e+00+0.00000000e+00j\n",
            "  0.00000000e+00+0.00000000e+00j  0.00000000e+00+0.00000000e+00j\n",
            "  0.00000000e+00+0.00000000e+00j  0.00000000e+00+0.00000000e+00j\n",
            "  0.00000000e+00+0.00000000e+00j  0.00000000e+00+0.00000000e+00j\n",
            "  0.00000000e+00+0.00000000e+00j  0.00000000e+00+0.00000000e+00j\n",
            "  0.00000000e+00+0.00000000e+00j  0.00000000e+00+0.00000000e+00j\n",
            "  0.00000000e+00+0.00000000e+00j  0.00000000e+00+0.00000000e+00j\n",
            "  0.00000000e+00+0.00000000e+00j  0.00000000e+00+0.00000000e+00j\n",
            "  0.00000000e+00+0.00000000e+00j  0.00000000e+00+0.00000000e+00j\n",
            "  0.00000000e+00+0.00000000e+00j  0.00000000e+00+0.00000000e+00j\n",
            "  0.00000000e+00+0.00000000e+00j  0.00000000e+00+0.00000000e+00j\n",
            "  0.00000000e+00+0.00000000e+00j  0.00000000e+00+0.00000000e+00j\n",
            "  0.00000000e+00+0.00000000e+00j  0.00000000e+00+0.00000000e+00j\n",
            "  0.00000000e+00+0.00000000e+00j  0.00000000e+00+0.00000000e+00j\n",
            "  0.00000000e+00+0.00000000e+00j  0.00000000e+00+0.00000000e+00j\n",
            "  0.00000000e+00+0.00000000e+00j  0.00000000e+00+0.00000000e+00j\n",
            "  0.00000000e+00+0.00000000e+00j  0.00000000e+00+0.00000000e+00j\n",
            "  0.00000000e+00+0.00000000e+00j  0.00000000e+00+0.00000000e+00j\n",
            "  0.00000000e+00+0.00000000e+00j  0.00000000e+00+0.00000000e+00j\n",
            "  0.00000000e+00+0.00000000e+00j  0.00000000e+00+0.00000000e+00j\n",
            "  0.00000000e+00+0.00000000e+00j  0.00000000e+00+0.00000000e+00j\n",
            "  0.00000000e+00+0.00000000e+00j  0.00000000e+00+0.00000000e+00j\n",
            "  0.00000000e+00+0.00000000e+00j  0.00000000e+00+0.00000000e+00j\n",
            "  0.00000000e+00+0.00000000e+00j  0.00000000e+00+0.00000000e+00j\n",
            "  0.00000000e+00+0.00000000e+00j  0.00000000e+00+0.00000000e+00j\n",
            "  0.00000000e+00+0.00000000e+00j  0.00000000e+00+0.00000000e+00j\n",
            "  0.00000000e+00+0.00000000e+00j  0.00000000e+00+0.00000000e+00j\n",
            "  0.00000000e+00+0.00000000e+00j  0.00000000e+00+0.00000000e+00j\n",
            "  0.00000000e+00+0.00000000e+00j  0.00000000e+00+0.00000000e+00j\n",
            "  0.00000000e+00+0.00000000e+00j  0.00000000e+00+0.00000000e+00j\n",
            "  0.00000000e+00+0.00000000e+00j  0.00000000e+00+0.00000000e+00j\n",
            "  0.00000000e+00+0.00000000e+00j  0.00000000e+00+0.00000000e+00j\n",
            "  0.00000000e+00+0.00000000e+00j  0.00000000e+00+0.00000000e+00j\n",
            "  0.00000000e+00+0.00000000e+00j  0.00000000e+00+0.00000000e+00j\n",
            "  0.00000000e+00+0.00000000e+00j  0.00000000e+00+0.00000000e+00j\n",
            "  0.00000000e+00+0.00000000e+00j  0.00000000e+00+0.00000000e+00j\n",
            "  0.00000000e+00+0.00000000e+00j  0.00000000e+00+0.00000000e+00j\n",
            "  0.00000000e+00+0.00000000e+00j  0.00000000e+00+0.00000000e+00j\n",
            "  0.00000000e+00+0.00000000e+00j  0.00000000e+00+0.00000000e+00j\n",
            "  0.00000000e+00+0.00000000e+00j  0.00000000e+00+0.00000000e+00j\n",
            "  0.00000000e+00+0.00000000e+00j  0.00000000e+00+0.00000000e+00j\n",
            "  0.00000000e+00+0.00000000e+00j  0.00000000e+00+0.00000000e+00j\n",
            "  0.00000000e+00+0.00000000e+00j  0.00000000e+00+0.00000000e+00j\n",
            "  0.00000000e+00+0.00000000e+00j  0.00000000e+00+0.00000000e+00j\n",
            "  0.00000000e+00+0.00000000e+00j  0.00000000e+00+0.00000000e+00j\n",
            "  0.00000000e+00+0.00000000e+00j  0.00000000e+00+0.00000000e+00j\n",
            "  0.00000000e+00+0.00000000e+00j  0.00000000e+00+0.00000000e+00j\n",
            "  0.00000000e+00+0.00000000e+00j  0.00000000e+00+0.00000000e+00j\n",
            "  0.00000000e+00+0.00000000e+00j  0.00000000e+00+0.00000000e+00j\n",
            "  0.00000000e+00+0.00000000e+00j  0.00000000e+00+0.00000000e+00j\n",
            "  0.00000000e+00+0.00000000e+00j  0.00000000e+00+0.00000000e+00j\n",
            "  0.00000000e+00+0.00000000e+00j  0.00000000e+00+0.00000000e+00j\n",
            "  0.00000000e+00+0.00000000e+00j  0.00000000e+00+0.00000000e+00j\n",
            "  0.00000000e+00+0.00000000e+00j  0.00000000e+00+0.00000000e+00j\n",
            "  0.00000000e+00+0.00000000e+00j  0.00000000e+00+0.00000000e+00j\n",
            "  0.00000000e+00+0.00000000e+00j  0.00000000e+00+0.00000000e+00j\n",
            "  0.00000000e+00+0.00000000e+00j  0.00000000e+00+0.00000000e+00j\n",
            "  0.00000000e+00+0.00000000e+00j  0.00000000e+00+0.00000000e+00j\n",
            "  0.00000000e+00+0.00000000e+00j  0.00000000e+00+0.00000000e+00j\n",
            "  0.00000000e+00+0.00000000e+00j  0.00000000e+00+0.00000000e+00j\n",
            "  0.00000000e+00+0.00000000e+00j  0.00000000e+00+0.00000000e+00j\n",
            "  0.00000000e+00+0.00000000e+00j  0.00000000e+00+0.00000000e+00j\n",
            "  0.00000000e+00+0.00000000e+00j  0.00000000e+00+0.00000000e+00j\n",
            "  0.00000000e+00+0.00000000e+00j  0.00000000e+00+0.00000000e+00j\n",
            "  0.00000000e+00+0.00000000e+00j  0.00000000e+00+0.00000000e+00j\n",
            "  0.00000000e+00+0.00000000e+00j  0.00000000e+00+0.00000000e+00j\n",
            "  0.00000000e+00+0.00000000e+00j  0.00000000e+00+0.00000000e+00j\n",
            "  0.00000000e+00+0.00000000e+00j  0.00000000e+00+0.00000000e+00j\n",
            "  0.00000000e+00+0.00000000e+00j  0.00000000e+00+0.00000000e+00j\n",
            "  0.00000000e+00+0.00000000e+00j  0.00000000e+00+0.00000000e+00j\n",
            "  0.00000000e+00+0.00000000e+00j  0.00000000e+00+0.00000000e+00j\n",
            "  0.00000000e+00+0.00000000e+00j  0.00000000e+00+0.00000000e+00j\n",
            "  0.00000000e+00+0.00000000e+00j  0.00000000e+00+0.00000000e+00j\n",
            "  0.00000000e+00+0.00000000e+00j  0.00000000e+00+0.00000000e+00j\n",
            "  0.00000000e+00+0.00000000e+00j  0.00000000e+00+0.00000000e+00j\n",
            "  0.00000000e+00+0.00000000e+00j  0.00000000e+00+0.00000000e+00j\n",
            "  0.00000000e+00+0.00000000e+00j  0.00000000e+00+0.00000000e+00j\n",
            "  0.00000000e+00+0.00000000e+00j  0.00000000e+00+0.00000000e+00j\n",
            "  0.00000000e+00+0.00000000e+00j  0.00000000e+00+0.00000000e+00j\n",
            "  0.00000000e+00+0.00000000e+00j  0.00000000e+00+0.00000000e+00j\n",
            "  0.00000000e+00+0.00000000e+00j  0.00000000e+00+0.00000000e+00j\n",
            "  0.00000000e+00+0.00000000e+00j  0.00000000e+00+0.00000000e+00j\n",
            "  0.00000000e+00+0.00000000e+00j  0.00000000e+00+0.00000000e+00j\n",
            "  0.00000000e+00+0.00000000e+00j  0.00000000e+00+0.00000000e+00j\n",
            "  0.00000000e+00+0.00000000e+00j  0.00000000e+00+0.00000000e+00j\n",
            "  0.00000000e+00+0.00000000e+00j  0.00000000e+00+0.00000000e+00j\n",
            "  0.00000000e+00+0.00000000e+00j  0.00000000e+00+0.00000000e+00j\n",
            "  0.00000000e+00+0.00000000e+00j  0.00000000e+00+0.00000000e+00j\n",
            "  0.00000000e+00+0.00000000e+00j  0.00000000e+00+0.00000000e+00j\n",
            "  0.00000000e+00+0.00000000e+00j  0.00000000e+00+0.00000000e+00j\n",
            "  0.00000000e+00+0.00000000e+00j  0.00000000e+00+0.00000000e+00j]\n",
            "[[0.+0.j 0.+0.j 0.+0.j ... 0.+0.j 0.+0.j 0.+0.j]\n",
            " [0.+0.j 0.+0.j 0.+0.j ... 0.+0.j 0.+0.j 0.+0.j]\n",
            " [0.+0.j 0.+0.j 0.+0.j ... 0.+0.j 0.+0.j 0.+0.j]\n",
            " ...\n",
            " [0.+0.j 0.+0.j 0.+0.j ... 1.+0.j 0.+0.j 0.+0.j]\n",
            " [0.+0.j 0.+0.j 0.+0.j ... 0.+0.j 1.+0.j 0.+0.j]\n",
            " [0.+0.j 0.+0.j 0.+0.j ... 0.+0.j 0.+0.j 1.+0.j]]\n"
          ]
        }
      ]
    },
    {
      "cell_type": "code",
      "source": [
        "order = np.argsort(E_values)[::-1]\n",
        "Arranged_Vectors=E_vectors[order]\n",
        "Arranged_Vectors"
      ],
      "metadata": {
        "colab": {
          "base_uri": "https://localhost:8080/"
        },
        "id": "EAvkBgKfxpa7",
        "outputId": "f087f041-04e5-47bf-84af-f9bc2516ee79"
      },
      "execution_count": 45,
      "outputs": [
        {
          "output_type": "execute_result",
          "data": {
            "text/plain": [
              "array([[ 0.        +0.j,  0.        +0.j,  0.        +0.j, ...,\n",
              "         0.        +0.j,  0.        +0.j,  0.        +0.j],\n",
              "       [ 0.        +0.j,  0.        +0.j,  0.        +0.j, ...,\n",
              "         0.        +0.j,  0.        +0.j,  0.        +0.j],\n",
              "       [ 0.        +0.j,  0.        +0.j,  0.        +0.j, ...,\n",
              "         0.        +0.j,  0.        +0.j,  0.        +0.j],\n",
              "       ...,\n",
              "       [ 0.07498124+0.j, -0.0178865 +0.j, -0.02833369+0.j, ...,\n",
              "         0.        +0.j,  0.        +0.j,  0.        +0.j],\n",
              "       [ 0.03981742+0.j, -0.0095516 +0.j, -0.01031212+0.j, ...,\n",
              "         0.        +0.j,  0.        +0.j,  0.        +0.j],\n",
              "       [ 0.0086512 +0.j,  0.00352298+0.j, -0.00010659+0.j, ...,\n",
              "         0.        +0.j,  0.        +0.j,  0.        +0.j]])"
            ]
          },
          "metadata": {},
          "execution_count": 45
        }
      ]
    },
    {
      "cell_type": "code",
      "source": [
        "Arranged_Vectors= Arranged_Vectors[:2]\n",
        "Arranged_Vectors"
      ],
      "metadata": {
        "colab": {
          "base_uri": "https://localhost:8080/"
        },
        "id": "mF6KDDhWxxY6",
        "outputId": "d774f750-835b-4423-8438-dfb1bb7da857"
      },
      "execution_count": 46,
      "outputs": [
        {
          "output_type": "execute_result",
          "data": {
            "text/plain": [
              "array([[0.+0.j, 0.+0.j, 0.+0.j, ..., 0.+0.j, 0.+0.j, 0.+0.j],\n",
              "       [0.+0.j, 0.+0.j, 0.+0.j, ..., 0.+0.j, 0.+0.j, 0.+0.j]])"
            ]
          },
          "metadata": {},
          "execution_count": 46
        }
      ]
    },
    {
      "cell_type": "code",
      "source": [
        "final=np.matmul(B,Arranged_Vectors.T)\n",
        "final"
      ],
      "metadata": {
        "colab": {
          "base_uri": "https://localhost:8080/"
        },
        "id": "upWTTuIMxzQC",
        "outputId": "de311e7e-2ee0-4f35-84b6-731e81f19d96"
      },
      "execution_count": 57,
      "outputs": [
        {
          "output_type": "execute_result",
          "data": {
            "text/plain": [
              "array([[ -82.96+0.j,  102.98+0.j],\n",
              "       [ 156.04+0.j,  104.98+0.j],\n",
              "       [ -97.96+0.j, -145.02+0.j],\n",
              "       [ -35.96+0.j,   88.98+0.j],\n",
              "       [ -97.96+0.j, -149.02+0.j],\n",
              "       [  13.04+0.j,   22.98+0.j],\n",
              "       [ -75.96+0.j,   77.98+0.j],\n",
              "       [ -97.96+0.j, -149.02+0.j],\n",
              "       [ 136.04+0.j,  102.98+0.j],\n",
              "       [ -97.96+0.j, -149.02+0.j],\n",
              "       [ -97.96+0.j,   57.98+0.j],\n",
              "       [ -76.96+0.j,   51.98+0.j],\n",
              "       [ -97.96+0.j, -107.02+0.j],\n",
              "       [ 105.04+0.j,  104.98+0.j],\n",
              "       [ 154.04+0.j,  102.98+0.j],\n",
              "       [ -97.96+0.j, -149.02+0.j],\n",
              "       [ -97.96+0.j, -149.02+0.j],\n",
              "       [  89.04+0.j,  103.98+0.j],\n",
              "       [ -97.96+0.j, -109.02+0.j],\n",
              "       [ 155.04+0.j,  102.98+0.j],\n",
              "       [ -87.96+0.j,   27.98+0.j],\n",
              "       [ 141.04+0.j,  104.98+0.j],\n",
              "       [ 155.04+0.j,   64.98+0.j],\n",
              "       [ -97.96+0.j,   29.98+0.j],\n",
              "       [  71.04+0.j,  103.98+0.j],\n",
              "       [  85.04+0.j,  103.98+0.j],\n",
              "       [ -97.96+0.j,  -32.02+0.j],\n",
              "       [ -97.96+0.j, -149.02+0.j],\n",
              "       [ -97.96+0.j, -149.02+0.j],\n",
              "       [ 155.04+0.j,  103.98+0.j],\n",
              "       [  30.04+0.j,  105.98+0.j],\n",
              "       [ -97.96+0.j,   31.98+0.j],\n",
              "       [ 149.04+0.j,  103.98+0.j],\n",
              "       [ -97.96+0.j, -137.02+0.j],\n",
              "       [  89.04+0.j,  103.98+0.j],\n",
              "       [ 155.04+0.j,  103.98+0.j],\n",
              "       [ -97.96+0.j,  -58.02+0.j],\n",
              "       [ -76.96+0.j,   51.98+0.j],\n",
              "       [  37.04+0.j,  103.98+0.j],\n",
              "       [ 157.04+0.j,  103.98+0.j],\n",
              "       [ -97.96+0.j, -149.02+0.j],\n",
              "       [ -97.96+0.j, -101.02+0.j],\n",
              "       [ -97.96+0.j,   19.98+0.j],\n",
              "       [  89.04+0.j,  103.98+0.j],\n",
              "       [ -97.96+0.j, -149.02+0.j],\n",
              "       [ 155.04+0.j,  103.98+0.j],\n",
              "       [ -97.96+0.j,  -16.02+0.j],\n",
              "       [ -97.96+0.j, -149.02+0.j],\n",
              "       [ -97.96+0.j, -149.02+0.j],\n",
              "       [ -97.96+0.j, -149.02+0.j],\n",
              "       [ -80.96+0.j, -149.02+0.j],\n",
              "       [ 155.04+0.j,   11.98+0.j],\n",
              "       [ -68.96+0.j, -149.02+0.j],\n",
              "       [ -97.96+0.j,  -64.02+0.j],\n",
              "       [  49.04+0.j,  103.98+0.j],\n",
              "       [ 108.04+0.j,   88.98+0.j],\n",
              "       [  82.04+0.j,   91.98+0.j],\n",
              "       [  87.04+0.j, -149.02+0.j],\n",
              "       [ 155.04+0.j,  103.98+0.j],\n",
              "       [ -17.96+0.j,  103.98+0.j],\n",
              "       [ -79.96+0.j,   94.98+0.j],\n",
              "       [ -31.96+0.j,  103.98+0.j],\n",
              "       [ -97.96+0.j, -140.02+0.j],\n",
              "       [ 154.04+0.j,   -2.02+0.j],\n",
              "       [ -97.96+0.j, -149.02+0.j],\n",
              "       [ -31.96+0.j,  103.98+0.j],\n",
              "       [ 154.04+0.j,  102.98+0.j],\n",
              "       [ 155.04+0.j,  103.98+0.j],\n",
              "       [ 149.04+0.j,  103.98+0.j],\n",
              "       [ -97.96+0.j, -149.02+0.j],\n",
              "       [ -97.96+0.j, -149.02+0.j],\n",
              "       [   6.04+0.j,  104.98+0.j],\n",
              "       [  96.04+0.j,  104.98+0.j],\n",
              "       [ 154.04+0.j,  102.98+0.j],\n",
              "       [ 155.04+0.j,  103.98+0.j],\n",
              "       [ 153.04+0.j,  101.98+0.j],\n",
              "       [ 148.04+0.j, -121.02+0.j],\n",
              "       [ 155.04+0.j,   81.98+0.j],\n",
              "       [ 154.04+0.j,  102.98+0.j],\n",
              "       [ 155.04+0.j,  103.98+0.j],\n",
              "       [ -44.96+0.j,   97.98+0.j],\n",
              "       [ -81.96+0.j,   27.98+0.j],\n",
              "       [ -97.96+0.j, -149.02+0.j],\n",
              "       [ 156.04+0.j, -106.02+0.j],\n",
              "       [ -97.96+0.j,  -98.02+0.j],\n",
              "       [ -97.96+0.j, -149.02+0.j],\n",
              "       [ -97.96+0.j, -149.02+0.j],\n",
              "       [ -23.96+0.j,  104.98+0.j],\n",
              "       [ -97.96+0.j, -149.02+0.j],\n",
              "       [ -97.96+0.j, -149.02+0.j],\n",
              "       [ -97.96+0.j,    6.98+0.j],\n",
              "       [ -97.96+0.j, -149.02+0.j],\n",
              "       [ -97.96+0.j, -149.02+0.j],\n",
              "       [ -42.96+0.j,  104.98+0.j],\n",
              "       [ -97.96+0.j,   78.98+0.j],\n",
              "       [ -97.96+0.j, -149.02+0.j],\n",
              "       [ -97.96+0.j, -149.02+0.j],\n",
              "       [ 113.04+0.j,  104.98+0.j],\n",
              "       [ -97.96+0.j, -149.02+0.j],\n",
              "       [ -97.96+0.j, -149.02+0.j],\n",
              "       [ -97.96+0.j, -149.02+0.j],\n",
              "       [ -97.96+0.j, -124.02+0.j],\n",
              "       [ -41.96+0.j,   36.98+0.j],\n",
              "       [ -97.96+0.j, -116.02+0.j],\n",
              "       [  40.04+0.j,  103.98+0.j],\n",
              "       [ -97.96+0.j,  -73.02+0.j],\n",
              "       [ -97.96+0.j, -130.02+0.j],\n",
              "       [ -97.96+0.j, -128.02+0.j],\n",
              "       [ -97.96+0.j, -149.02+0.j],\n",
              "       [ 156.04+0.j, -119.02+0.j],\n",
              "       [ 154.04+0.j,  102.98+0.j],\n",
              "       [ 155.04+0.j,  103.98+0.j],\n",
              "       [ -37.96+0.j,  104.98+0.j],\n",
              "       [ 150.04+0.j,  102.98+0.j],\n",
              "       [ 155.04+0.j,  103.98+0.j],\n",
              "       [ 154.04+0.j,  102.98+0.j],\n",
              "       [  23.04+0.j,  104.98+0.j],\n",
              "       [ -97.96+0.j,   91.98+0.j],\n",
              "       [ 155.04+0.j,  103.98+0.j],\n",
              "       [ -97.96+0.j, -149.02+0.j],\n",
              "       [  30.04+0.j,  105.98+0.j],\n",
              "       [ -97.96+0.j, -149.02+0.j],\n",
              "       [ 115.04+0.j,  103.98+0.j],\n",
              "       [ 154.04+0.j,  102.98+0.j],\n",
              "       [ -29.96+0.j,   96.98+0.j],\n",
              "       [ -97.96+0.j, -116.02+0.j],\n",
              "       [ 132.04+0.j, -149.02+0.j],\n",
              "       [ 143.04+0.j,  102.98+0.j],\n",
              "       [  89.04+0.j,  102.98+0.j],\n",
              "       [ 157.04+0.j,  105.98+0.j],\n",
              "       [ -68.96+0.j,  103.98+0.j],\n",
              "       [ -97.96+0.j,  -82.02+0.j],\n",
              "       [ -97.96+0.j, -149.02+0.j],\n",
              "       [ -57.96+0.j,  103.98+0.j],\n",
              "       [ 104.04+0.j,  102.98+0.j],\n",
              "       [ 155.04+0.j,  105.98+0.j],\n",
              "       [ -97.96+0.j, -117.02+0.j],\n",
              "       [ -97.96+0.j, -149.02+0.j],\n",
              "       [ 155.04+0.j,   68.98+0.j],\n",
              "       [ -97.96+0.j, -149.02+0.j],\n",
              "       [ 156.04+0.j,   37.98+0.j],\n",
              "       [ -97.96+0.j,   32.98+0.j],\n",
              "       [ 157.04+0.j,  105.98+0.j],\n",
              "       [ -87.96+0.j,   34.98+0.j],\n",
              "       [ -54.96+0.j,   70.98+0.j],\n",
              "       [ 149.04+0.j,  101.98+0.j],\n",
              "       [ -33.96+0.j,  105.98+0.j],\n",
              "       [ -97.96+0.j, -149.02+0.j],\n",
              "       [ -97.96+0.j, -149.02+0.j],\n",
              "       [ 114.04+0.j,  103.98+0.j],\n",
              "       [ 150.04+0.j,  104.98+0.j],\n",
              "       [  31.04+0.j,  104.98+0.j],\n",
              "       [ -97.96+0.j,  105.98+0.j],\n",
              "       [ -97.96+0.j, -149.02+0.j],\n",
              "       [ -97.96+0.j, -115.02+0.j],\n",
              "       [ 155.04+0.j,  103.98+0.j],\n",
              "       [ 150.04+0.j,  102.98+0.j],\n",
              "       [ -97.96+0.j, -137.02+0.j],\n",
              "       [ -97.96+0.j,  -69.02+0.j],\n",
              "       [  41.04+0.j,  104.98+0.j],\n",
              "       [ -97.96+0.j,   19.98+0.j],\n",
              "       [ -97.96+0.j,   -8.02+0.j],\n",
              "       [ -97.96+0.j,  -17.02+0.j],\n",
              "       [ -97.96+0.j, -149.02+0.j],\n",
              "       [ -97.96+0.j, -129.02+0.j],\n",
              "       [   9.04+0.j, -132.02+0.j],\n",
              "       [ -90.96+0.j,   52.98+0.j],\n",
              "       [  72.04+0.j,  105.98+0.j],\n",
              "       [ -97.96+0.j, -149.02+0.j],\n",
              "       [ -59.96+0.j,   84.98+0.j],\n",
              "       [ -68.96+0.j,  102.98+0.j],\n",
              "       [  -8.96+0.j,  104.98+0.j],\n",
              "       [ -97.96+0.j, -117.02+0.j],\n",
              "       [ 155.04+0.j,   16.98+0.j],\n",
              "       [ 154.04+0.j,  102.98+0.j],\n",
              "       [ -97.96+0.j, -149.02+0.j],\n",
              "       [ -97.96+0.j,   63.98+0.j],\n",
              "       [ -42.96+0.j,   49.98+0.j],\n",
              "       [  95.04+0.j,   97.98+0.j],\n",
              "       [ -97.96+0.j, -149.02+0.j],\n",
              "       [ -97.96+0.j, -149.02+0.j],\n",
              "       [ -97.96+0.j, -131.02+0.j],\n",
              "       [  99.04+0.j,  103.98+0.j],\n",
              "       [ -81.96+0.j,   49.98+0.j],\n",
              "       [ 148.04+0.j,  103.98+0.j],\n",
              "       [ 156.04+0.j, -110.02+0.j],\n",
              "       [ -17.96+0.j,   97.98+0.j],\n",
              "       [ -97.96+0.j, -109.02+0.j],\n",
              "       [  38.04+0.j,  102.98+0.j],\n",
              "       [ -40.96+0.j,   -8.02+0.j],\n",
              "       [ -33.96+0.j,   41.98+0.j],\n",
              "       [ -67.96+0.j,   56.98+0.j],\n",
              "       [ -50.96+0.j,  102.98+0.j],\n",
              "       [  83.04+0.j,  102.98+0.j],\n",
              "       [ 107.04+0.j,  103.98+0.j],\n",
              "       [ 120.04+0.j, -130.02+0.j],\n",
              "       [ -97.96+0.j, -149.02+0.j],\n",
              "       [ 155.04+0.j,  102.98+0.j],\n",
              "       [  48.04+0.j,  103.98+0.j],\n",
              "       [ -33.96+0.j,  -21.02+0.j]])"
            ]
          },
          "metadata": {},
          "execution_count": 57
        }
      ]
    },
    {
      "cell_type": "code",
      "source": [
        "plt.imshow(final[0,1])"
      ],
      "metadata": {
        "colab": {
          "base_uri": "https://localhost:8080/",
          "height": 564
        },
        "id": "oJMwk_roZYwT",
        "outputId": "718c891c-4aa1-4178-86da-0e3f9dd598aa"
      },
      "execution_count": 58,
      "outputs": [
        {
          "output_type": "error",
          "ename": "TypeError",
          "evalue": "ignored",
          "traceback": [
            "\u001b[0;31m---------------------------------------------------------------------------\u001b[0m",
            "\u001b[0;31mTypeError\u001b[0m                                 Traceback (most recent call last)",
            "\u001b[0;32m<ipython-input-58-afb0fbf4f537>\u001b[0m in \u001b[0;36m<module>\u001b[0;34m\u001b[0m\n\u001b[0;32m----> 1\u001b[0;31m \u001b[0mplt\u001b[0m\u001b[0;34m.\u001b[0m\u001b[0mimshow\u001b[0m\u001b[0;34m(\u001b[0m\u001b[0mfinal\u001b[0m\u001b[0;34m[\u001b[0m\u001b[0;36m0\u001b[0m\u001b[0;34m,\u001b[0m\u001b[0;36m1\u001b[0m\u001b[0;34m]\u001b[0m\u001b[0;34m)\u001b[0m\u001b[0;34m\u001b[0m\u001b[0;34m\u001b[0m\u001b[0m\n\u001b[0m",
            "\u001b[0;32m/usr/local/lib/python3.8/dist-packages/matplotlib/pyplot.py\u001b[0m in \u001b[0;36mimshow\u001b[0;34m(X, cmap, norm, aspect, interpolation, alpha, vmin, vmax, origin, extent, shape, filternorm, filterrad, imlim, resample, url, data, **kwargs)\u001b[0m\n\u001b[1;32m   2643\u001b[0m         \u001b[0mfilterrad\u001b[0m\u001b[0;34m=\u001b[0m\u001b[0;36m4.0\u001b[0m\u001b[0;34m,\u001b[0m \u001b[0mimlim\u001b[0m\u001b[0;34m=\u001b[0m\u001b[0mcbook\u001b[0m\u001b[0;34m.\u001b[0m\u001b[0mdeprecation\u001b[0m\u001b[0;34m.\u001b[0m\u001b[0m_deprecated_parameter\u001b[0m\u001b[0;34m,\u001b[0m\u001b[0;34m\u001b[0m\u001b[0;34m\u001b[0m\u001b[0m\n\u001b[1;32m   2644\u001b[0m         resample=None, url=None, *, data=None, **kwargs):\n\u001b[0;32m-> 2645\u001b[0;31m     __ret = gca().imshow(\n\u001b[0m\u001b[1;32m   2646\u001b[0m         \u001b[0mX\u001b[0m\u001b[0;34m,\u001b[0m \u001b[0mcmap\u001b[0m\u001b[0;34m=\u001b[0m\u001b[0mcmap\u001b[0m\u001b[0;34m,\u001b[0m \u001b[0mnorm\u001b[0m\u001b[0;34m=\u001b[0m\u001b[0mnorm\u001b[0m\u001b[0;34m,\u001b[0m \u001b[0maspect\u001b[0m\u001b[0;34m=\u001b[0m\u001b[0maspect\u001b[0m\u001b[0;34m,\u001b[0m\u001b[0;34m\u001b[0m\u001b[0;34m\u001b[0m\u001b[0m\n\u001b[1;32m   2647\u001b[0m         \u001b[0minterpolation\u001b[0m\u001b[0;34m=\u001b[0m\u001b[0minterpolation\u001b[0m\u001b[0;34m,\u001b[0m \u001b[0malpha\u001b[0m\u001b[0;34m=\u001b[0m\u001b[0malpha\u001b[0m\u001b[0;34m,\u001b[0m \u001b[0mvmin\u001b[0m\u001b[0;34m=\u001b[0m\u001b[0mvmin\u001b[0m\u001b[0;34m,\u001b[0m\u001b[0;34m\u001b[0m\u001b[0;34m\u001b[0m\u001b[0m\n",
            "\u001b[0;32m/usr/local/lib/python3.8/dist-packages/matplotlib/__init__.py\u001b[0m in \u001b[0;36minner\u001b[0;34m(ax, data, *args, **kwargs)\u001b[0m\n\u001b[1;32m   1563\u001b[0m     \u001b[0;32mdef\u001b[0m \u001b[0minner\u001b[0m\u001b[0;34m(\u001b[0m\u001b[0max\u001b[0m\u001b[0;34m,\u001b[0m \u001b[0;34m*\u001b[0m\u001b[0margs\u001b[0m\u001b[0;34m,\u001b[0m \u001b[0mdata\u001b[0m\u001b[0;34m=\u001b[0m\u001b[0;32mNone\u001b[0m\u001b[0;34m,\u001b[0m \u001b[0;34m**\u001b[0m\u001b[0mkwargs\u001b[0m\u001b[0;34m)\u001b[0m\u001b[0;34m:\u001b[0m\u001b[0;34m\u001b[0m\u001b[0;34m\u001b[0m\u001b[0m\n\u001b[1;32m   1564\u001b[0m         \u001b[0;32mif\u001b[0m \u001b[0mdata\u001b[0m \u001b[0;32mis\u001b[0m \u001b[0;32mNone\u001b[0m\u001b[0;34m:\u001b[0m\u001b[0;34m\u001b[0m\u001b[0;34m\u001b[0m\u001b[0m\n\u001b[0;32m-> 1565\u001b[0;31m             \u001b[0;32mreturn\u001b[0m \u001b[0mfunc\u001b[0m\u001b[0;34m(\u001b[0m\u001b[0max\u001b[0m\u001b[0;34m,\u001b[0m \u001b[0;34m*\u001b[0m\u001b[0mmap\u001b[0m\u001b[0;34m(\u001b[0m\u001b[0msanitize_sequence\u001b[0m\u001b[0;34m,\u001b[0m \u001b[0margs\u001b[0m\u001b[0;34m)\u001b[0m\u001b[0;34m,\u001b[0m \u001b[0;34m**\u001b[0m\u001b[0mkwargs\u001b[0m\u001b[0;34m)\u001b[0m\u001b[0;34m\u001b[0m\u001b[0;34m\u001b[0m\u001b[0m\n\u001b[0m\u001b[1;32m   1566\u001b[0m \u001b[0;34m\u001b[0m\u001b[0m\n\u001b[1;32m   1567\u001b[0m         \u001b[0mbound\u001b[0m \u001b[0;34m=\u001b[0m \u001b[0mnew_sig\u001b[0m\u001b[0;34m.\u001b[0m\u001b[0mbind\u001b[0m\u001b[0;34m(\u001b[0m\u001b[0max\u001b[0m\u001b[0;34m,\u001b[0m \u001b[0;34m*\u001b[0m\u001b[0margs\u001b[0m\u001b[0;34m,\u001b[0m \u001b[0;34m**\u001b[0m\u001b[0mkwargs\u001b[0m\u001b[0;34m)\u001b[0m\u001b[0;34m\u001b[0m\u001b[0;34m\u001b[0m\u001b[0m\n",
            "\u001b[0;32m/usr/local/lib/python3.8/dist-packages/matplotlib/cbook/deprecation.py\u001b[0m in \u001b[0;36mwrapper\u001b[0;34m(*args, **kwargs)\u001b[0m\n\u001b[1;32m    356\u001b[0m                 \u001b[0;34mf\"%(removal)s.  If any parameter follows {name!r}, they \"\u001b[0m\u001b[0;34m\u001b[0m\u001b[0;34m\u001b[0m\u001b[0m\n\u001b[1;32m    357\u001b[0m                 f\"should be pass as keyword, not positionally.\")\n\u001b[0;32m--> 358\u001b[0;31m         \u001b[0;32mreturn\u001b[0m \u001b[0mfunc\u001b[0m\u001b[0;34m(\u001b[0m\u001b[0;34m*\u001b[0m\u001b[0margs\u001b[0m\u001b[0;34m,\u001b[0m \u001b[0;34m**\u001b[0m\u001b[0mkwargs\u001b[0m\u001b[0;34m)\u001b[0m\u001b[0;34m\u001b[0m\u001b[0;34m\u001b[0m\u001b[0m\n\u001b[0m\u001b[1;32m    359\u001b[0m \u001b[0;34m\u001b[0m\u001b[0m\n\u001b[1;32m    360\u001b[0m     \u001b[0;32mreturn\u001b[0m \u001b[0mwrapper\u001b[0m\u001b[0;34m\u001b[0m\u001b[0;34m\u001b[0m\u001b[0m\n",
            "\u001b[0;32m/usr/local/lib/python3.8/dist-packages/matplotlib/cbook/deprecation.py\u001b[0m in \u001b[0;36mwrapper\u001b[0;34m(*args, **kwargs)\u001b[0m\n\u001b[1;32m    356\u001b[0m                 \u001b[0;34mf\"%(removal)s.  If any parameter follows {name!r}, they \"\u001b[0m\u001b[0;34m\u001b[0m\u001b[0;34m\u001b[0m\u001b[0m\n\u001b[1;32m    357\u001b[0m                 f\"should be pass as keyword, not positionally.\")\n\u001b[0;32m--> 358\u001b[0;31m         \u001b[0;32mreturn\u001b[0m \u001b[0mfunc\u001b[0m\u001b[0;34m(\u001b[0m\u001b[0;34m*\u001b[0m\u001b[0margs\u001b[0m\u001b[0;34m,\u001b[0m \u001b[0;34m**\u001b[0m\u001b[0mkwargs\u001b[0m\u001b[0;34m)\u001b[0m\u001b[0;34m\u001b[0m\u001b[0;34m\u001b[0m\u001b[0m\n\u001b[0m\u001b[1;32m    359\u001b[0m \u001b[0;34m\u001b[0m\u001b[0m\n\u001b[1;32m    360\u001b[0m     \u001b[0;32mreturn\u001b[0m \u001b[0mwrapper\u001b[0m\u001b[0;34m\u001b[0m\u001b[0;34m\u001b[0m\u001b[0m\n",
            "\u001b[0;32m/usr/local/lib/python3.8/dist-packages/matplotlib/axes/_axes.py\u001b[0m in \u001b[0;36mimshow\u001b[0;34m(self, X, cmap, norm, aspect, interpolation, alpha, vmin, vmax, origin, extent, shape, filternorm, filterrad, imlim, resample, url, **kwargs)\u001b[0m\n\u001b[1;32m   5624\u001b[0m                               resample=resample, **kwargs)\n\u001b[1;32m   5625\u001b[0m \u001b[0;34m\u001b[0m\u001b[0m\n\u001b[0;32m-> 5626\u001b[0;31m         \u001b[0mim\u001b[0m\u001b[0;34m.\u001b[0m\u001b[0mset_data\u001b[0m\u001b[0;34m(\u001b[0m\u001b[0mX\u001b[0m\u001b[0;34m)\u001b[0m\u001b[0;34m\u001b[0m\u001b[0;34m\u001b[0m\u001b[0m\n\u001b[0m\u001b[1;32m   5627\u001b[0m         \u001b[0mim\u001b[0m\u001b[0;34m.\u001b[0m\u001b[0mset_alpha\u001b[0m\u001b[0;34m(\u001b[0m\u001b[0malpha\u001b[0m\u001b[0;34m)\u001b[0m\u001b[0;34m\u001b[0m\u001b[0;34m\u001b[0m\u001b[0m\n\u001b[1;32m   5628\u001b[0m         \u001b[0;32mif\u001b[0m \u001b[0mim\u001b[0m\u001b[0;34m.\u001b[0m\u001b[0mget_clip_path\u001b[0m\u001b[0;34m(\u001b[0m\u001b[0;34m)\u001b[0m \u001b[0;32mis\u001b[0m \u001b[0;32mNone\u001b[0m\u001b[0;34m:\u001b[0m\u001b[0;34m\u001b[0m\u001b[0;34m\u001b[0m\u001b[0m\n",
            "\u001b[0;32m/usr/local/lib/python3.8/dist-packages/matplotlib/image.py\u001b[0m in \u001b[0;36mset_data\u001b[0;34m(self, A)\u001b[0m\n\u001b[1;32m    691\u001b[0m         if (self._A.dtype != np.uint8 and\n\u001b[1;32m    692\u001b[0m                 not np.can_cast(self._A.dtype, float, \"same_kind\")):\n\u001b[0;32m--> 693\u001b[0;31m             raise TypeError(\"Image data of dtype {} cannot be converted to \"\n\u001b[0m\u001b[1;32m    694\u001b[0m                             \"float\".format(self._A.dtype))\n\u001b[1;32m    695\u001b[0m \u001b[0;34m\u001b[0m\u001b[0m\n",
            "\u001b[0;31mTypeError\u001b[0m: Image data of dtype complex128 cannot be converted to float"
          ]
        },
        {
          "output_type": "display_data",
          "data": {
            "text/plain": [
              "<Figure size 432x288 with 1 Axes>"
            ],
            "image/png": "[encoded data removed]"
          },
          "metadata": {
            "needs_background": "light"
          }
        }
      ]
    },
    {
      "cell_type": "code",
      "source": [
        "import matplotlib.pyplot as plt\n",
        "import matplotlib.image as mpimg\n"
      ],
      "metadata": {
        "id": "uH8RWVFy8yCq"
      },
      "execution_count": 48,
      "outputs": []
    },
    {
      "cell_type": "code",
      "source": [
        "from sklearn.decomposition import PCA\n"
      ],
      "metadata": {
        "id": "tHV-6b_d-vww"
      },
      "execution_count": null,
      "outputs": []
    },
    {
      "cell_type": "code",
      "source": [
        "pca.mean_"
      ],
      "metadata": {
        "id": "LfSI4HIL_Dat"
      },
      "execution_count": null,
      "outputs": []
    },
    {
      "cell_type": "code",
      "source": [
        "pca = PCA(n_components=3)\n",
        "pca.fit(l)\n",
        "mean = pca.mean_\n",
        "v1 = pca.components_[0]\n",
        "v2 = pca.components_[1]\n",
        "v3 = pca.components_[2]\n",
        "fig = plt.figure()\n",
        "ax = fig.add_subplot(111, projection='3d')\n",
        "ax.plot([0, v1[0]], [0, v1[1]], [0, v1[2]], 'r')  # v1 in red\n",
        "ax.plot([0, v2[0]], [0, v2[1]], [0, v2[2]], 'g')  # v2 in green\n",
        "ax.plot([0, v3[0]], [0, v3[1]], [0, v3[2]], 'b')  # v3 in blue\n",
        "ax.set_xlabel('X')\n",
        "ax.set_ylabel('Y')\n",
        "ax.set_zlabel('Z')\n",
        "plt.show()"
      ],
      "metadata": {
        "colab": {
          "base_uri": "https://localhost:8080/",
          "height": 248
        },
        "id": "eBXqqVTo_FaS",
        "outputId": "3bca76da-5eab-4764-a597-d56472b2d92c"
      },
      "execution_count": 59,
      "outputs": [
        {
          "output_type": "display_data",
          "data": {
            "text/plain": [
              "<Figure size 432x288 with 1 Axes>"
            ],
            "image/png": "[encoded data removed]"
          },
          "metadata": {
            "needs_background": "light"
          }
        }
      ]
    }
  ]
}