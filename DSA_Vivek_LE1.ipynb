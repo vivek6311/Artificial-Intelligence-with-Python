{
  "nbformat": 4,
  "nbformat_minor": 0,
  "metadata": {
    "colab": {
      "provenance": [],
      "authorship_tag": "ABX9TyOd6eZ/2LZe7doxcxhgdUNQ",
      "include_colab_link": true
    },
    "kernelspec": {
      "name": "python3",
      "display_name": "Python 3"
    },
    "language_info": {
      "name": "python"
    }
  },
  "cells": [
    {
      "cell_type": "markdown",
      "metadata": {
        "id": "view-in-github",
        "colab_type": "text"
      },
      "source": [
        "<a href=\"https://colab.research.google.com/github/vivek6311/Artificial-Intelligence-with-Python/blob/master/DSA_Vivek_LE1.ipynb\" target=\"_parent\"><img src=\"https://colab.research.google.com/assets/colab-badge.svg\" alt=\"Open In Colab\"/></a>"
      ]
    },
    {
      "cell_type": "code",
      "execution_count": 1,
      "metadata": {
        "id": "vyH49KFOeejv"
      },
      "outputs": [],
      "source": [
        "# Implementing Stacks using Arrays \n",
        "\n",
        "class StackArrays:\n",
        "    \n",
        "    # Constructor for StackArrays class\n",
        "    def __init__(self):\n",
        "        # your code here\n",
        "        self.stack=[]\n",
        "\n",
        "    # Push: Add an element to the top of the stack\n",
        "    def push(self, element):\n",
        "        # your code here\n",
        "        self.stack.append(element)\n",
        "        return self.stack\n",
        "\n",
        "    # Pop: Remove the topmost element in the stack and remove it\n",
        "    def pop(self):\n",
        "        # your code here\n",
        "        return self.stack.pop()\n",
        "\n",
        "    # Returns the size of the stack\n",
        "    def size(self):\n",
        "        # your code here\n",
        "        return len(self.stack)\n",
        "\n",
        "    # Return the element at the top of the stack without removing it\n",
        "    def top(self):\n",
        "        # your code here\n",
        "        return self.stack[-1] \n",
        "\n",
        "    # Returns True is stack is empty, False if not\n",
        "    def isEmpty(self):\n",
        "        # your code here\n",
        "        if len(self.stack) == 0:\n",
        "            return True\n",
        "        else:\n",
        "            return False   "
      ]
    }
  ]
}