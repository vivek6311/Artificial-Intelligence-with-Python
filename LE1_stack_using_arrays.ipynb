{
  "nbformat": 4,
  "nbformat_minor": 0,
  "metadata": {
    "colab": {
      "provenance": [],
      "include_colab_link": true
    },
    "kernelspec": {
      "name": "python3",
      "display_name": "Python 3"
    },
    "language_info": {
      "name": "python"
    }
  },
  "cells": [
    {
      "cell_type": "markdown",
      "metadata": {
        "id": "view-in-github",
        "colab_type": "text"
      },
      "source": [
        "<a href=\"https://colab.research.google.com/github/vivek6311/Artificial-Intelligence-with-Python/blob/master/LE1_stack_using_arrays.ipynb\" target=\"_parent\"><img src=\"https://colab.research.google.com/assets/colab-badge.svg\" alt=\"Open In Colab\"/></a>"
      ]
    },
    {
      "cell_type": "code",
      "execution_count": null,
      "metadata": {
        "id": "JksrdYBhw6EE"
      },
      "outputs": [],
      "source": [
        "# Lab Exercise - 1\n",
        "\n",
        "# Implementing Stacks using Arrays \n",
        "\n",
        "class StackArrays:\n",
        "    \n",
        "    # Constructor for StackArrays class\n",
        "    def __init__(self):\n",
        "        # your code here\n",
        "        self.head = None\n",
        "\n",
        "    # Push: Add an element to the top of the stack\n",
        "    def push(self, element):\n",
        "     # your code here\n",
        "      self.container.append(element)  \n",
        "\n",
        "    # Pop: Remove the topmost element in the stack and remove it\n",
        "    def pop(self):\n",
        "      # your code here\n",
        "      return self.container.pop()\n",
        "\n",
        "    # Returns the size of the stack\n",
        "    def size(self):\n",
        "      # your code here\n",
        "      return len(self.container)\n",
        "\n",
        "    # Return the element at the top of the stack without removing it\n",
        "    def top(self):\n",
        "        # your code here\n",
        "\n",
        "\n",
        "    # Returns True if stack is empty, False if not\n",
        "    def isEmpty(self):\n",
        "        # your code here\n",
        "        \n",
        "        "
      ]
    }
  ]
}