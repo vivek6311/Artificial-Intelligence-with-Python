{
  "nbformat": 4,
  "nbformat_minor": 0,
  "metadata": {
    "colab": {
      "provenance": [],
      "authorship_tag": "ABX9TyOTCqSdauB44PZgJxHubiAL",
      "include_colab_link": true
    },
    "kernelspec": {
      "name": "python3",
      "display_name": "Python 3"
    },
    "language_info": {
      "name": "python"
    }
  },
  "cells": [
    {
      "cell_type": "markdown",
      "metadata": {
        "id": "view-in-github",
        "colab_type": "text"
      },
      "source": [
        "<a href=\"https://colab.research.google.com/github/vivek6311/Artificial-Intelligence-with-Python/blob/master/Fuzzy_Logic_Models.ipynb\" target=\"_parent\"><img src=\"https://colab.research.google.com/assets/colab-badge.svg\" alt=\"Open In Colab\"/></a>"
      ]
    },
    {
      "cell_type": "code",
      "source": [
        "pip install scikit-fuzzy"
      ],
      "metadata": {
        "colab": {
          "base_uri": "https://localhost:8080/"
        },
        "id": "133BhARrc4qG",
        "outputId": "ebc4bbb3-e523-4f5c-e6bd-2063b260e6d2"
      },
      "execution_count": 4,
      "outputs": [
        {
          "output_type": "stream",
          "name": "stdout",
          "text": [
            "Looking in indexes: https://pypi.org/simple, https://us-python.pkg.dev/colab-wheels/public/simple/\n",
            "Collecting scikit-fuzzy\n",
            "  Downloading scikit-fuzzy-0.4.2.tar.gz (993 kB)\n",
            "\u001b[2K     \u001b[90m━━━━━━━━━━━━━━━━━━━━━━━━━━━━━━━━━━━━━━\u001b[0m \u001b[32m994.0/994.0 KB\u001b[0m \u001b[31m46.0 MB/s\u001b[0m eta \u001b[36m0:00:00\u001b[0m\n",
            "\u001b[?25h  Preparing metadata (setup.py) ... \u001b[?25l\u001b[?25hdone\n",
            "Requirement already satisfied: numpy>=1.6.0 in /usr/local/lib/python3.9/dist-packages (from scikit-fuzzy) (1.22.4)\n",
            "Requirement already satisfied: scipy>=0.9.0 in /usr/local/lib/python3.9/dist-packages (from scikit-fuzzy) (1.10.1)\n",
            "Requirement already satisfied: networkx>=1.9.0 in /usr/local/lib/python3.9/dist-packages (from scikit-fuzzy) (3.0)\n",
            "Building wheels for collected packages: scikit-fuzzy\n",
            "  Building wheel for scikit-fuzzy (setup.py) ... \u001b[?25l\u001b[?25hdone\n",
            "  Created wheel for scikit-fuzzy: filename=scikit_fuzzy-0.4.2-py3-none-any.whl size=894086 sha256=218a750b977cd91f5cb629d1b31259bb55dc35174be4cd50ee4a0a644ad027dc\n",
            "  Stored in directory: /root/.cache/pip/wheels/32/2c/a1/a90a7d7dd8448ec029f298a61f3490275e99b17aa348be675c\n",
            "Successfully built scikit-fuzzy\n",
            "Installing collected packages: scikit-fuzzy\n",
            "Successfully installed scikit-fuzzy-0.4.2\n"
          ]
        }
      ]
    },
    {
      "cell_type": "code",
      "execution_count": 5,
      "metadata": {
        "id": "HManVkAbcGsC"
      },
      "outputs": [],
      "source": [
        "import numpy as np\n",
        "import skfuzzy as fuzz\n",
        "from skfuzzy import control as ctrl\n",
        "from sklearn.linear_model import LinearRegression\n",
        "from sklearn.metrics import mean_squared_error, r2_score\n",
        "\n",
        "# Step 1: Gather the necessary data\n",
        "# Assume that we have already obtained the data and stored it in the following arrays\n",
        "weather = np.array([25, 28, 30, 27, 26, 24, 23, 22, 21, 20]) # average temperature in Celsius\n",
        "soil = np.array([0.2, 0.3, 0.5, 0.6, 0.7, 0.8, 0.9, 0.8, 0.7, 0.6]) # soil moisture content\n",
        "seed = np.array([0.8, 0.9, 0.7, 0.6, 0.5, 0.6, 0.7, 0.8, 0.9, 1.0]) # seed quality\n",
        "management = np.array([0.3, 0.5, 0.7, 0.6, 0.8, 0.9, 0.7, 0.6, 0.4, 0.5]) # management practices\n",
        "yield_actual = np.array([5, 6, 7, 8, 9, 8, 7, 6, 5, 4]) # actual crop yield\n",
        "\n",
        "# Step 2: Preprocess the data\n",
        "X = np.column_stack((weather, soil, seed, management))\n",
        "y = yield_actual\n",
        "n = len(y)\n",
        "n_train = int(0.7 * n) # use 70% of the data for training\n",
        "\n",
        "X_train = X[:n_train]\n",
        "y_train = y[:n_train]\n",
        "X_test = X[n_train:]\n",
        "y_test = y[n_train:]\n",
        "\n",
        "# Step 3: Apply fuzzy logic\n",
        "weather_level = ctrl.Antecedent(np.arange(20, 31, 1), 'weather')\n",
        "soil_level = ctrl.Antecedent(np.arange(0, 1.1, 0.1), 'soil')\n",
        "seed_level = ctrl.Antecedent(np.arange(0.5, 1.1, 0.1), 'seed')\n",
        "management_level = ctrl.Antecedent(np.arange(0, 1.1, 0.1), 'management')\n",
        "yield_level = ctrl.Consequent(np.arange(0, 11, 1), 'yield')\n",
        "\n",
        "weather_level['low'] = fuzz.trimf(weather_level.universe, [20, 22, 25])\n",
        "weather_level['medium'] = fuzz.trimf(weather_level.universe, [23, 26, 29])\n",
        "weather_level['high'] = fuzz.trimf(weather_level.universe, [27, 30, 31])\n",
        "\n",
        "soil_level['dry'] = fuzz.trimf(soil_level.universe, [0, 0, 0.5])\n",
        "soil_level['moderate'] = fuzz.trimf(soil_level.universe, [0, 0.5, 1])\n",
        "soil_level['wet'] = fuzz.trimf(soil_level.universe, [0.5, 1, 1])\n",
        "\n",
        "seed_level['poor'] = fuzz.trimf(seed_level.universe, [0.5, 0.5, 0.8])\n",
        "seed_level['average'] = fuzz.trimf(seed_level.universe, [0.6, 0.6, 0.7])\n"
      ]
    },
    {
      "cell_type": "code",
      "source": [
        "seed_level['good'] = fuzz.trimf(seed_level.universe, [0.7, 0.9, 1])\n",
        "\n",
        "management_level['poor'] = fuzz.trimf(management_level.universe, [0, 0, 0.5])\n",
        "management_level['average'] = fuzz.trimf(management_level.universe, [0.4, 0.5, 0.6])\n",
        "management_level['good'] = fuzz.trimf(management_level.universe, [0.5, 1, 1])\n",
        "\n",
        "yield_level['low'] = fuzz.trimf(yield_level.universe, [0, 0, 5])\n",
        "yield_level['medium'] = fuzz.trimf(yield_level.universe, [3, 5, 7])\n",
        "yield_level['high'] = fuzz.trimf(yield_level.universe, [5, 10, 10])\n",
        "\n",
        "rule1 = ctrl.Rule(weather_level['low'] | soil_level['dry'], yield_level['low'])\n",
        "rule2 = ctrl.Rule(weather_level['high'] | soil_level['wet'] | seed_level['good'] | management_level['good'], yield_level['high'])\n",
        "rule3 = ctrl.Rule(weather_level['medium'] & (seed_level['average'] | management_level['average']), yield_level['medium'])\n",
        "\n",
        "yield_ctrl = ctrl.ControlSystem([rule1, rule2, rule3])\n",
        "yield_prediction = ctrl.ControlSystemSimulation(yield_ctrl)\n",
        "\n",
        "# Step 4: Train the regression model\n",
        "reg_model = LinearRegression()\n",
        "reg_model.fit(X_train, y_train)\n",
        "\n",
        "# Step 5: Evaluate the model performance\n",
        "y_pred = reg_model.predict(X_test)\n",
        "mse = mean_squared_error(y_test, y_pred)\n",
        "r2 = r2_score(y_test, y_pred)\n",
        "\n",
        "print(f\"Mean Squared Error: {mse}\")\n",
        "print(f\"R-squared: {r2}\")\n",
        "\n",
        "# Step 6: Make yield predictions for the test data using fuzzy logic and regression model\n",
        "yield_predicted = []\n",
        "for i in range(len(X_test)):\n",
        "    weather_value = X_test[i][0]\n",
        "    soil_value = X_test[i][1]\n",
        "    seed_value = X_test[i][2]\n",
        "    management_value = X_test[i][3]\n",
        "\n",
        "    yield_prediction.input['weather'] = weather_value\n",
        "    yield_prediction.input['soil'] = soil_value\n",
        "    yield_prediction.input['seed'] = seed_value\n",
        "    yield_prediction.input['management'] = management_value\n",
        "\n",
        "    yield_prediction.compute()\n",
        "\n",
        "    yield_predicted.append(yield_prediction.output['yield'])\n",
        "\n",
        "yield_predicted = np.array(yield_predicted)\n",
        "\n",
        "# Step 7: Compare the predicted yield with the actual yield\n",
        "mse_fuzzy = mean_squared_error(y_test, yield_predicted)\n",
        "r2_fuzzy = r2_score(y_test, yield_predicted)\n",
        "\n",
        "print(f\"Mean Squared Error (fuzzy logic): {mse_fuzzy}\")\n",
        "print(f\"R-squared (fuzzy logic): {r2_fuzzy}\")\n"
      ],
      "metadata": {
        "colab": {
          "base_uri": "https://localhost:8080/"
        },
        "id": "UH_EPEa5cnk5",
        "outputId": "596f1089-23ae-4c7b-cb2a-33452d76c5e0"
      },
      "execution_count": 6,
      "outputs": [
        {
          "output_type": "stream",
          "name": "stdout",
          "text": [
            "Mean Squared Error: 0.02173303198108245\n",
            "R-squared: 0.9674004520283763\n",
            "Mean Squared Error (fuzzy logic): 5.414353281797261\n",
            "R-squared (fuzzy logic): -7.121529922695892\n"
          ]
        }
      ]
    }
  ]
}