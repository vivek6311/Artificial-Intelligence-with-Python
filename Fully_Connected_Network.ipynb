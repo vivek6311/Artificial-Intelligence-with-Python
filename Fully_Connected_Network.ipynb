{
  "nbformat": 4,
  "nbformat_minor": 0,
  "metadata": {
    "colab": {
      "provenance": [],
      "include_colab_link": true
    },
    "kernelspec": {
      "name": "python3",
      "display_name": "Python 3"
    },
    "accelerator": "GPU",
    "gpuClass": "standard"
  },
  "cells": [
    {
      "cell_type": "markdown",
      "metadata": {
        "id": "view-in-github",
        "colab_type": "text"
      },
      "source": [
        "<a href=\"https://colab.research.google.com/github/vivek6311/Artificial-Intelligence-with-Python/blob/master/Fully_Connected_Network.ipynb\" target=\"_parent\"><img src=\"https://colab.research.google.com/assets/colab-badge.svg\" alt=\"Open In Colab\"/></a>"
      ]
    },
    {
      "cell_type": "markdown",
      "metadata": {
        "id": "SpSnhz6KwAR2"
      },
      "source": [
        "Keras is a powerful and easy-to-use Python library for developing and evaluating deep learning models. It wraps the efficient numerical computation libraries Theano, CNTK and TensorFlow and allows you to define and train neural network models in a few short lines of code. In this tutorial you will discover how to create your first neural network model in Python using Keras. After completing this lesson you will know:\n",
        "\n",
        "\n",
        "*   How to load a dataset for use with Keras.\n",
        "*   How to define and compile a Multilayer Perceptron model in Keras.\n",
        "*   How to evaluate a Keras model on a validation dataset.\n",
        "\n"
      ]
    },
    {
      "cell_type": "markdown",
      "metadata": {
        "id": "T6sPb6S9wTew"
      },
      "source": [
        "# Load Libraries"
      ]
    },
    {
      "cell_type": "markdown",
      "metadata": {
        "id": "xZw7VarZwd-G"
      },
      "source": [
        "First step is to load the required libraries."
      ]
    },
    {
      "cell_type": "code",
      "metadata": {
        "id": "xWwF5yAuw2Xx"
      },
      "source": [
        "import numpy \n",
        "\n",
        "import matplotlib.pyplot as plt\n",
        "\n",
        "from tensorflow.keras.models import Sequential\n",
        "\n",
        "from tensorflow.keras.layers import Dense\n",
        "\n",
        "from tensorflow.keras.utils import to_categorical\n",
        "\n",
        "from tensorflow.keras.datasets import mnist"
      ],
      "execution_count": null,
      "outputs": []
    },
    {
      "cell_type": "markdown",
      "metadata": {
        "id": "578Oi4Mgw9hr"
      },
      "source": [
        "# Load Dataset in Numpy Format"
      ]
    },
    {
      "cell_type": "markdown",
      "metadata": {
        "id": "dxW0gFlxxAK9"
      },
      "source": [
        "MNIST is a simple computer vision dataset. It consists of images of handwritten digits. It also includes labels for each image, telling us which digit it is.\n",
        "\n",
        "The MNIST data is split into two parts: $60,000$ data points of training data, and $10,000$ points of test data. Each image is 28 pixels by 28 pixels."
      ]
    },
    {
      "cell_type": "code",
      "metadata": {
        "id": "A9nKAP49x0GI",
        "colab": {
          "base_uri": "https://localhost:8080/"
        },
        "outputId": "cc36a5e1-cb68-459e-fb25-a9f745ab2829"
      },
      "source": [
        "(X_train, y_train), (X_test, y_test) = mnist.load_data()"
      ],
      "execution_count": null,
      "outputs": [
        {
          "output_type": "stream",
          "name": "stdout",
          "text": [
            "Downloading data from https://storage.googleapis.com/tensorflow/tf-keras-datasets/mnist.npz\n",
            "11490434/11490434 [==============================] - 2s 0us/step\n"
          ]
        }
      ]
    },
    {
      "cell_type": "code",
      "metadata": {
        "id": "d4JngwOmyDpP",
        "colab": {
          "base_uri": "https://localhost:8080/"
        },
        "outputId": "26e67d52-9398-4701-94d6-106f6be5aca6"
      },
      "source": [
        "X_train.shape"
      ],
      "execution_count": null,
      "outputs": [
        {
          "output_type": "execute_result",
          "data": {
            "text/plain": [
              "(60000, 28, 28)"
            ]
          },
          "metadata": {},
          "execution_count": 3
        }
      ]
    },
    {
      "cell_type": "code",
      "metadata": {
        "id": "NParITruySsa",
        "colab": {
          "base_uri": "https://localhost:8080/"
        },
        "outputId": "053c53c2-9e37-4f1d-b187-cdaae1835402"
      },
      "source": [
        "y_train.shape"
      ],
      "execution_count": null,
      "outputs": [
        {
          "output_type": "execute_result",
          "data": {
            "text/plain": [
              "(60000,)"
            ]
          },
          "metadata": {},
          "execution_count": 4
        }
      ]
    },
    {
      "cell_type": "code",
      "metadata": {
        "id": "G9qDBv-5yY3o",
        "colab": {
          "base_uri": "https://localhost:8080/"
        },
        "outputId": "f1361e16-3998-4fc9-ce75-3c66bfd71810"
      },
      "source": [
        "X_test.shape"
      ],
      "execution_count": null,
      "outputs": [
        {
          "output_type": "execute_result",
          "data": {
            "text/plain": [
              "(10000, 28, 28)"
            ]
          },
          "metadata": {},
          "execution_count": 5
        }
      ]
    },
    {
      "cell_type": "code",
      "metadata": {
        "id": "QT_EfqFVydlx",
        "colab": {
          "base_uri": "https://localhost:8080/"
        },
        "outputId": "55c99c4c-3672-4fba-b1f1-600e03e32ee9"
      },
      "source": [
        "y_test.shape"
      ],
      "execution_count": null,
      "outputs": [
        {
          "output_type": "execute_result",
          "data": {
            "text/plain": [
              "(10000,)"
            ]
          },
          "metadata": {},
          "execution_count": 6
        }
      ]
    },
    {
      "cell_type": "code",
      "metadata": {
        "id": "nZllUnvJyiQ7",
        "colab": {
          "base_uri": "https://localhost:8080/",
          "height": 268
        },
        "outputId": "3c7ca882-091d-4dee-aac4-acf4ffa966eb"
      },
      "source": [
        "# plot 4 images as gray scale\n",
        "plt.subplot(221)\n",
        "plt.imshow(X_train[0], cmap=plt.get_cmap('gray'))\n",
        "plt.subplot(222)\n",
        "plt.imshow(X_train[1], cmap=plt.get_cmap('gray'))\n",
        "plt.subplot(223)\n",
        "plt.imshow(X_train[2], cmap=plt.get_cmap('gray'))\n",
        "plt.subplot(224)\n",
        "plt.imshow(X_train[3], cmap=plt.get_cmap('gray'))\n",
        "# show the plot\n",
        "plt.show()"
      ],
      "execution_count": null,
      "outputs": [
        {
          "output_type": "display_data",
          "data": {
            "text/plain": [
              "<Figure size 432x288 with 4 Axes>"
            ],
            "image/png": "[encoded data removed]"
          },
          "metadata": {
            "needs_background": "light"
          }
        }
      ]
    },
    {
      "cell_type": "markdown",
      "metadata": {
        "id": "0C1TncQhzapf"
      },
      "source": [
        "# Formatting Data and Labels for Keras"
      ]
    },
    {
      "cell_type": "markdown",
      "metadata": {
        "id": "YuUHfffMzcnG"
      },
      "source": [
        "We can flatten this array into a vector of $28\\times28 = 784$ numbers. It doesn't matter how we flatten the array, as long as we're consistent between images. From this perspective, the MNIST images are just a bunch of points in a 784-dimensional vector space. The data should always be of the format (Number of data points, data point dimension). In this case the training data will be of format $60,000\\times784$.\n",
        "![mnist1.png](data:image/png;base64,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)\n",
        "\n",
        "\n",
        "\n",
        "![image.png](data:image/png;base64,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)"
      ]
    },
    {
      "cell_type": "code",
      "metadata": {
        "id": "WUAPRSm5zj0q"
      },
      "source": [
        "num_pixels = X_train.shape[1] * X_train.shape[2]\n",
        "\n",
        "X_train = X_train.reshape(X_train.shape[0], num_pixels).astype('float32')\n",
        "\n",
        "X_test = X_test.reshape(X_test.shape[0], num_pixels).astype('float32')\n",
        "\n",
        "X_train = X_train / 255 \n",
        "\n",
        "X_test = X_test / 255\n",
        "\n",
        "y_train = to_categorical(y_train) \n",
        "\n",
        "y_test = to_categorical(y_test)\n",
        "\n",
        "num_classes = y_test.shape[1]"
      ],
      "execution_count": null,
      "outputs": []
    },
    {
      "cell_type": "code",
      "metadata": {
        "id": "3Qa_Wz5Bzu_x",
        "colab": {
          "base_uri": "https://localhost:8080/"
        },
        "outputId": "d45c5764-a35e-4f00-bef1-263e4a6db0b4"
      },
      "source": [
        "X_train.shape"
      ],
      "execution_count": null,
      "outputs": [
        {
          "output_type": "execute_result",
          "data": {
            "text/plain": [
              "(60000, 784)"
            ]
          },
          "metadata": {
            "tags": []
          },
          "execution_count": 11
        }
      ]
    },
    {
      "cell_type": "code",
      "metadata": {
        "id": "tKMkULioz0BC",
        "colab": {
          "base_uri": "https://localhost:8080/"
        },
        "outputId": "e4a3d1f6-7b6e-4a16-8a7f-754942a33413"
      },
      "source": [
        "X_test.shape"
      ],
      "execution_count": null,
      "outputs": [
        {
          "output_type": "execute_result",
          "data": {
            "text/plain": [
              "(10000, 784)"
            ]
          },
          "metadata": {
            "tags": []
          },
          "execution_count": 12
        }
      ]
    },
    {
      "cell_type": "code",
      "metadata": {
        "id": "gjXdMAgQz3Yk",
        "colab": {
          "base_uri": "https://localhost:8080/"
        },
        "outputId": "a0a7d5ad-e8cb-46a3-8ff2-654b00e0cea1"
      },
      "source": [
        "y_train.shape"
      ],
      "execution_count": null,
      "outputs": [
        {
          "output_type": "execute_result",
          "data": {
            "text/plain": [
              "(60000, 10)"
            ]
          },
          "metadata": {
            "tags": []
          },
          "execution_count": 13
        }
      ]
    },
    {
      "cell_type": "code",
      "metadata": {
        "id": "YwG7OnE5z5av",
        "colab": {
          "base_uri": "https://localhost:8080/"
        },
        "outputId": "327f4202-6a7a-4058-b3d1-1a3f646d23e3"
      },
      "source": [
        "y_test.shape"
      ],
      "execution_count": null,
      "outputs": [
        {
          "output_type": "execute_result",
          "data": {
            "text/plain": [
              "(10000, 10)"
            ]
          },
          "metadata": {
            "tags": []
          },
          "execution_count": 14
        }
      ]
    },
    {
      "cell_type": "markdown",
      "metadata": {
        "id": "VUZqC-Mf0F4a"
      },
      "source": [
        "# Defining a single layer neural network model"
      ]
    },
    {
      "cell_type": "markdown",
      "metadata": {
        "id": "S5-Tn0K30Hyq"
      },
      "source": [
        "Here we will define a single layer neural network. It will have a input layer of $784$ neurons, i.e. the input dimension and output layer of $10$ neurons, i.e. number of classes. The activation function used will be softmax activation.\n",
        "\n",
        "![image.png](data:image/png;base64,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)"
      ]
    },
    {
      "cell_type": "code",
      "metadata": {
        "id": "IlB928RI0LWk"
      },
      "source": [
        "# create model\n",
        "\n",
        "model = Sequential()   # 784 10\n",
        "\n",
        "model.add(Dense(num_classes, input_dim=num_pixels, activation='softmax'))\n"
      ],
      "execution_count": null,
      "outputs": []
    },
    {
      "cell_type": "markdown",
      "metadata": {
        "id": "0woBCP1C0TV-"
      },
      "source": [
        "# Compiling the model"
      ]
    },
    {
      "cell_type": "markdown",
      "metadata": {
        "id": "4aSmUA3-0WIJ"
      },
      "source": [
        "Once the model is defined, we have to compile it. While compiling we provide the loss function to be used, the optimizer and any metric. Here we will use crossentropy loss ($\\sum_{i=1}^C y_i. log (\\hat y_i)$) with Adam optimizer and accuracy as a metric."
      ]
    },
    {
      "cell_type": "code",
      "metadata": {
        "id": "c8n--FDX0YjB"
      },
      "source": [
        "# Compile model\n",
        "\n",
        "model.compile(loss='categorical_crossentropy', optimizer='sgd', metrics=['accuracy'])\n"
      ],
      "execution_count": null,
      "outputs": []
    },
    {
      "cell_type": "markdown",
      "metadata": {
        "id": "xq5f_ROP0ieD"
      },
      "source": [
        "# Training/Fitting the model"
      ]
    },
    {
      "cell_type": "markdown",
      "metadata": {
        "id": "V3gWi2g40kSf"
      },
      "source": [
        "Now the model is ready to be trained. We will provide training data to the network. Also we will specify the validation data, over which the model will only be validated."
      ]
    },
    {
      "cell_type": "code",
      "metadata": {
        "id": "xsJq43ok0mlT",
        "colab": {
          "base_uri": "https://localhost:8080/"
        },
        "outputId": "74b81e11-17ad-42d2-f928-6f0be0148c1a"
      },
      "source": [
        "# Training model\n",
        "\n",
        "model.fit(X_train, y_train, validation_data=(X_test, y_test), epochs=10, batch_size=200)"
      ],
      "execution_count": null,
      "outputs": [
        {
          "output_type": "stream",
          "name": "stdout",
          "text": [
            "Epoch 1/10\n",
            "300/300 [==============================] - 3s 3ms/step - loss: 1.4641 - accuracy: 0.6593 - val_loss: 0.9840 - val_accuracy: 0.8087\n",
            "Epoch 2/10\n",
            "300/300 [==============================] - 1s 3ms/step - loss: 0.8588 - accuracy: 0.8203 - val_loss: 0.7245 - val_accuracy: 0.8425\n",
            "Epoch 3/10\n",
            "300/300 [==============================] - 1s 3ms/step - loss: 0.6915 - accuracy: 0.8431 - val_loss: 0.6163 - val_accuracy: 0.8592\n",
            "Epoch 4/10\n",
            "300/300 [==============================] - 1s 3ms/step - loss: 0.6097 - accuracy: 0.8543 - val_loss: 0.5554 - val_accuracy: 0.8687\n",
            "Epoch 5/10\n",
            "300/300 [==============================] - 1s 3ms/step - loss: 0.5597 - accuracy: 0.8624 - val_loss: 0.5155 - val_accuracy: 0.8741\n",
            "Epoch 6/10\n",
            "300/300 [==============================] - 1s 3ms/step - loss: 0.5254 - accuracy: 0.8676 - val_loss: 0.4874 - val_accuracy: 0.8785\n",
            "Epoch 7/10\n",
            "300/300 [==============================] - 1s 3ms/step - loss: 0.5000 - accuracy: 0.8720 - val_loss: 0.4657 - val_accuracy: 0.8815\n",
            "Epoch 8/10\n",
            "300/300 [==============================] - 1s 3ms/step - loss: 0.4804 - accuracy: 0.8757 - val_loss: 0.4488 - val_accuracy: 0.8850\n",
            "Epoch 9/10\n",
            "300/300 [==============================] - 1s 3ms/step - loss: 0.4645 - accuracy: 0.8787 - val_loss: 0.4349 - val_accuracy: 0.8868\n",
            "Epoch 10/10\n",
            "300/300 [==============================] - 1s 3ms/step - loss: 0.4514 - accuracy: 0.8809 - val_loss: 0.4234 - val_accuracy: 0.8884\n"
          ]
        },
        {
          "output_type": "execute_result",
          "data": {
            "text/plain": [
              "<keras.callbacks.History at 0x7f899ad36190>"
            ]
          },
          "metadata": {},
          "execution_count": 11
        }
      ]
    },
    {
      "cell_type": "markdown",
      "metadata": {
        "id": "b4BjzfDW0w6v"
      },
      "source": [
        "# Evaluating the model"
      ]
    },
    {
      "cell_type": "markdown",
      "metadata": {
        "id": "_0FdSOdT01df"
      },
      "source": [
        "Finally we will evaluate the model on the testing dataset."
      ]
    },
    {
      "cell_type": "code",
      "metadata": {
        "id": "atp-I5qg04Ao",
        "colab": {
          "base_uri": "https://localhost:8080/"
        },
        "outputId": "fcf95325-c398-48eb-f2c3-3729926db0f4"
      },
      "source": [
        "# Final evaluation of the model\n",
        "\n",
        "scores = model.evaluate(X_test, y_test)\n",
        "\n",
        "print(\"Baseline Error: %.2f%%\" % (100-scores[1]*100))"
      ],
      "execution_count": null,
      "outputs": [
        {
          "output_type": "stream",
          "name": "stdout",
          "text": [
            "313/313 [==============================] - 1s 2ms/step - loss: 0.4234 - accuracy: 0.8884\n",
            "Baseline Error: 11.16%\n"
          ]
        }
      ]
    },
    {
      "cell_type": "markdown",
      "metadata": {
        "id": "7Ux0ZGYe1Abb"
      },
      "source": [
        "# Defining a multi-layer model"
      ]
    },
    {
      "cell_type": "markdown",
      "metadata": {
        "id": "N9zn7vqG1DUh"
      },
      "source": [
        "Now we will define a multi layer neural network in which we will add $2$ hidden layers having $500$ and $100$ neurons."
      ]
    },
    {
      "cell_type": "code",
      "metadata": {
        "id": "NyWnrEko1D-4"
      },
      "source": [
        "model = Sequential()\n",
        "\n",
        "model.add(Dense(500, input_dim=num_pixels, activation='relu'))\n",
        "\n",
        "model.add(Dense(100, activation='relu'))\n",
        "\n",
        "model.add(Dense(num_classes, activation='softmax')) \n"
      ],
      "execution_count": null,
      "outputs": []
    },
    {
      "cell_type": "code",
      "metadata": {
        "id": "2OT0zQrT1FtF",
        "colab": {
          "base_uri": "https://localhost:8080/"
        },
        "outputId": "ad002d8c-4257-4e46-9fb5-0eb92cd34036"
      },
      "source": [
        "# Compile model\n",
        "\n",
        "model.compile(loss='categorical_crossentropy', optimizer='adam', metrics=['accuracy'])\n",
        "\n",
        "# Training model\n",
        "\n",
        "model.fit(X_train, y_train, validation_data=(X_test, y_test), epochs=10, batch_size=200)\n",
        "\n",
        "# Final evaluation of the model\n",
        "\n",
        "print('\\n Testing the model \\n')\n",
        "\n",
        "scores = model.evaluate(X_test, y_test)\n",
        "\n",
        "print(\"Baseline Error: %.2f%%\" % (100-scores[1]*100))"
      ],
      "execution_count": null,
      "outputs": [
        {
          "output_type": "stream",
          "name": "stdout",
          "text": [
            "Epoch 1/10\n",
            "300/300 [==============================] - 1s 4ms/step - loss: 0.2854 - accuracy: 0.9179 - val_loss: 0.1363 - val_accuracy: 0.9611\n",
            "Epoch 2/10\n",
            "300/300 [==============================] - 1s 3ms/step - loss: 0.1039 - accuracy: 0.9687 - val_loss: 0.0945 - val_accuracy: 0.9712\n",
            "Epoch 3/10\n",
            "300/300 [==============================] - 1s 4ms/step - loss: 0.0655 - accuracy: 0.9801 - val_loss: 0.0767 - val_accuracy: 0.9759\n",
            "Epoch 4/10\n",
            "300/300 [==============================] - 1s 3ms/step - loss: 0.0457 - accuracy: 0.9863 - val_loss: 0.0776 - val_accuracy: 0.9775\n",
            "Epoch 5/10\n",
            "300/300 [==============================] - 1s 3ms/step - loss: 0.0336 - accuracy: 0.9898 - val_loss: 0.0645 - val_accuracy: 0.9792\n",
            "Epoch 6/10\n",
            "300/300 [==============================] - 1s 3ms/step - loss: 0.0256 - accuracy: 0.9923 - val_loss: 0.0663 - val_accuracy: 0.9803\n",
            "Epoch 7/10\n",
            "300/300 [==============================] - 1s 4ms/step - loss: 0.0186 - accuracy: 0.9943 - val_loss: 0.0658 - val_accuracy: 0.9789\n",
            "Epoch 8/10\n",
            "300/300 [==============================] - 1s 4ms/step - loss: 0.0138 - accuracy: 0.9959 - val_loss: 0.0700 - val_accuracy: 0.9804\n",
            "Epoch 9/10\n",
            "300/300 [==============================] - 1s 3ms/step - loss: 0.0136 - accuracy: 0.9959 - val_loss: 0.0700 - val_accuracy: 0.9805\n",
            "Epoch 10/10\n",
            "300/300 [==============================] - 1s 3ms/step - loss: 0.0103 - accuracy: 0.9967 - val_loss: 0.0797 - val_accuracy: 0.9790\n",
            "\n",
            " Testing the model \n",
            "\n",
            "313/313 [==============================] - 1s 3ms/step - loss: 0.0797 - accuracy: 0.9790\n",
            "Baseline Error: 2.10%\n"
          ]
        }
      ]
    },
    {
      "cell_type": "markdown",
      "metadata": {
        "id": "GqtOXOF5uBd2"
      },
      "source": [
        "# Defining a deep model"
      ]
    },
    {
      "cell_type": "markdown",
      "metadata": {
        "id": "uH95c17iuSGT"
      },
      "source": [
        "Now we will define a deeper neural network in which we will add $3$ hidden layers having $500$, $100$, and $50$ neurons."
      ]
    },
    {
      "cell_type": "code",
      "metadata": {
        "id": "aOEFDbIJuSGT"
      },
      "source": [
        "model = Sequential()  \n",
        "\n",
        "model.add(Dense(500, input_dim=num_pixels, activation='relu'))\n",
        "\n",
        "model.add(Dense(100, activation='relu'))\n",
        "\n",
        "model.add(Dense(50, activation = 'relu'))  # relu tanh   prelu  lrelu\n",
        "\n",
        "model.add(Dense(num_classes, activation='softmax'))\n"
      ],
      "execution_count": null,
      "outputs": []
    },
    {
      "cell_type": "code",
      "metadata": {
        "colab": {
          "base_uri": "https://localhost:8080/"
        },
        "id": "o6S1J51QuSGY",
        "outputId": "9746e980-0ec3-4883-fe0d-71a2eb9922e5"
      },
      "source": [
        "# Compile model\n",
        "model.compile(loss='categorical_crossentropy', optimizer='adam', metrics=['accuracy'])\n",
        "\n",
        "# Training model\n",
        "\n",
        "model.fit(X_train, y_train, validation_data=(X_test, y_test), epochs=10, batch_size=200)\n",
        "\n",
        "# Final evaluation of the model\n",
        "\n",
        "print('\\n Testing the model \\n')\n",
        "\n",
        "scores = model.evaluate(X_test, y_test)\n",
        "\n",
        "print(\"Baseline Error: %.2f%%\" % (100-scores[1]*100))"
      ],
      "execution_count": null,
      "outputs": [
        {
          "output_type": "stream",
          "name": "stdout",
          "text": [
            "Epoch 1/10\n",
            "300/300 [==============================] - 2s 4ms/step - loss: 0.2847 - accuracy: 0.9191 - val_loss: 0.1343 - val_accuracy: 0.9582\n",
            "Epoch 2/10\n",
            "300/300 [==============================] - 1s 4ms/step - loss: 0.0999 - accuracy: 0.9696 - val_loss: 0.0830 - val_accuracy: 0.9736\n",
            "Epoch 3/10\n",
            "300/300 [==============================] - 1s 4ms/step - loss: 0.0662 - accuracy: 0.9798 - val_loss: 0.0737 - val_accuracy: 0.9762\n",
            "Epoch 4/10\n",
            "300/300 [==============================] - 1s 4ms/step - loss: 0.0459 - accuracy: 0.9855 - val_loss: 0.0741 - val_accuracy: 0.9767\n",
            "Epoch 5/10\n",
            "300/300 [==============================] - 1s 4ms/step - loss: 0.0342 - accuracy: 0.9895 - val_loss: 0.0795 - val_accuracy: 0.9746\n",
            "Epoch 6/10\n",
            "300/300 [==============================] - 1s 4ms/step - loss: 0.0282 - accuracy: 0.9909 - val_loss: 0.0692 - val_accuracy: 0.9791\n",
            "Epoch 7/10\n",
            "300/300 [==============================] - 1s 4ms/step - loss: 0.0211 - accuracy: 0.9934 - val_loss: 0.0772 - val_accuracy: 0.9786\n",
            "Epoch 8/10\n",
            "300/300 [==============================] - 1s 4ms/step - loss: 0.0151 - accuracy: 0.9951 - val_loss: 0.0647 - val_accuracy: 0.9820\n",
            "Epoch 9/10\n",
            "300/300 [==============================] - 1s 4ms/step - loss: 0.0139 - accuracy: 0.9956 - val_loss: 0.0797 - val_accuracy: 0.9782\n",
            "Epoch 10/10\n",
            "300/300 [==============================] - 1s 4ms/step - loss: 0.0138 - accuracy: 0.9952 - val_loss: 0.0791 - val_accuracy: 0.9792\n",
            "\n",
            " Testing the model \n",
            "\n",
            "313/313 [==============================] - 1s 3ms/step - loss: 0.0791 - accuracy: 0.9792\n",
            "Baseline Error: 2.08%\n"
          ]
        }
      ]
    },
    {
      "cell_type": "markdown",
      "metadata": {
        "id": "PuDzWGiuS9gE"
      },
      "source": [
        "# Analyzing Model Summary"
      ]
    },
    {
      "cell_type": "markdown",
      "metadata": {
        "id": "5u8hQOzITCQ2"
      },
      "source": [
        "The following function provides us with detailed summary of the model. We can use it after we have defined\n",
        "our model."
      ]
    },
    {
      "cell_type": "code",
      "metadata": {
        "id": "4gQkPJ5BTLxc",
        "colab": {
          "base_uri": "https://localhost:8080/"
        },
        "outputId": "7d01073d-7d7d-4a56-d25f-06ab2d2e54aa"
      },
      "source": [
        "model.summary()  # 784*500+500"
      ],
      "execution_count": null,
      "outputs": [
        {
          "output_type": "stream",
          "name": "stdout",
          "text": [
            "Model: \"sequential_12\"\n",
            "_________________________________________________________________\n",
            " Layer (type)                Output Shape              Param #   \n",
            "=================================================================\n",
            " dense_38 (Dense)            (None, 500)               392500    \n",
            "                                                                 \n",
            " dense_39 (Dense)            (None, 100)               50100     \n",
            "                                                                 \n",
            " dense_40 (Dense)            (None, 50)                5050      \n",
            "                                                                 \n",
            " dense_41 (Dense)            (None, 10)                510       \n",
            "                                                                 \n",
            "=================================================================\n",
            "Total params: 448,160\n",
            "Trainable params: 448,160\n",
            "Non-trainable params: 0\n",
            "_________________________________________________________________\n"
          ]
        }
      ]
    },
    {
      "cell_type": "code",
      "metadata": {
        "id": "xq_YzwmxoOcN",
        "colab": {
          "base_uri": "https://localhost:8080/"
        },
        "outputId": "ae17046d-f193-480c-de70-cd2a4b11d305"
      },
      "source": [
        "import h5py\n",
        "\n",
        "# Compile model\n",
        "\n",
        "model.compile(loss='categorical_crossentropy', optimizer='adam', metrics=['accuracy'])\n",
        "\n",
        "# Training model\n",
        "\n",
        "model.fit(X_train, y_train, validation_data=(X_test, y_test), epochs=10, batch_size=200)\n",
        "\n",
        "model.save_weights('FC.h5')\n",
        "\n",
        "# Final evaluation of the model\n",
        "\n",
        "scores = model.evaluate(X_test, y_test)\n",
        "\n",
        "print(\"Baseline Error: %.2f%%\" % (100-scores[1]*100))"
      ],
      "execution_count": null,
      "outputs": [
        {
          "output_type": "stream",
          "name": "stdout",
          "text": [
            "Epoch 1/10\n",
            "300/300 [==============================] - 2s 4ms/step - loss: 0.0158 - accuracy: 0.9950 - val_loss: 0.0755 - val_accuracy: 0.9799\n",
            "Epoch 2/10\n",
            "300/300 [==============================] - 1s 4ms/step - loss: 0.0133 - accuracy: 0.9953 - val_loss: 0.0846 - val_accuracy: 0.9793\n",
            "Epoch 3/10\n",
            "300/300 [==============================] - 1s 4ms/step - loss: 0.0067 - accuracy: 0.9980 - val_loss: 0.0877 - val_accuracy: 0.9794\n",
            "Epoch 4/10\n",
            "300/300 [==============================] - 1s 3ms/step - loss: 0.0128 - accuracy: 0.9956 - val_loss: 0.0779 - val_accuracy: 0.9810\n",
            "Epoch 5/10\n",
            "300/300 [==============================] - 1s 4ms/step - loss: 0.0085 - accuracy: 0.9970 - val_loss: 0.0880 - val_accuracy: 0.9794\n",
            "Epoch 6/10\n",
            "300/300 [==============================] - 1s 4ms/step - loss: 0.0047 - accuracy: 0.9985 - val_loss: 0.0879 - val_accuracy: 0.9804\n",
            "Epoch 7/10\n",
            "300/300 [==============================] - 1s 4ms/step - loss: 0.0099 - accuracy: 0.9966 - val_loss: 0.0945 - val_accuracy: 0.9801\n",
            "Epoch 8/10\n",
            "300/300 [==============================] - 1s 4ms/step - loss: 0.0068 - accuracy: 0.9979 - val_loss: 0.0853 - val_accuracy: 0.9819\n",
            "Epoch 9/10\n",
            "300/300 [==============================] - 1s 4ms/step - loss: 0.0064 - accuracy: 0.9979 - val_loss: 0.0963 - val_accuracy: 0.9806\n",
            "Epoch 10/10\n",
            "300/300 [==============================] - 1s 3ms/step - loss: 0.0093 - accuracy: 0.9970 - val_loss: 0.0826 - val_accuracy: 0.9822\n",
            "313/313 [==============================] - 1s 3ms/step - loss: 0.0826 - accuracy: 0.9822\n",
            "Baseline Error: 1.78%\n"
          ]
        }
      ]
    },
    {
      "cell_type": "markdown",
      "metadata": {
        "id": "1dbczU1E8GBT"
      },
      "source": [
        "# Loading the saved model"
      ]
    },
    {
      "cell_type": "code",
      "metadata": {
        "id": "GXWqw37F1QC1",
        "colab": {
          "base_uri": "https://localhost:8080/"
        },
        "outputId": "f8cae78e-2696-4d03-8539-e6e13f465042"
      },
      "source": [
        "model.load_weights('FC.h5')\n",
        "\n",
        "# Final evaluation of the model\n",
        "\n",
        "scores = model.evaluate(X_test, y_test)\n",
        "\n",
        "print(\"Baseline Error: %.2f%%\" % (100-scores[1]*100))"
      ],
      "execution_count": null,
      "outputs": [
        {
          "output_type": "stream",
          "name": "stdout",
          "text": [
            "313/313 [==============================] - 1s 3ms/step - loss: 0.0826 - accuracy: 0.9822\n",
            "Baseline Error: 1.78%\n"
          ]
        }
      ]
    },
    {
      "cell_type": "markdown",
      "metadata": {
        "id": "ZAcPJQh9-VBS"
      },
      "source": [
        "# Creating checkpoints of model"
      ]
    },
    {
      "cell_type": "code",
      "metadata": {
        "id": "1Vw5q_-M_xuZ",
        "colab": {
          "base_uri": "https://localhost:8080/"
        },
        "outputId": "f8617178-e7df-48a1-8fc1-74a69bec4f80"
      },
      "source": [
        "from tensorflow.keras.callbacks import ModelCheckpoint\n",
        "\n",
        "filepath='FC1.h5'\n",
        "checkpoint1 = ModelCheckpoint(filepath, monitor='val_accuracy', save_best_only=True, mode='max')\n",
        "filepath='FC2.h5'\n",
        "checkpoint2 = ModelCheckpoint(filepath, monitor='val_loss', save_best_only=True, mode='min')\n",
        "callbacks_list = [checkpoint1,checkpoint2]\n",
        "model.fit(X_train, y_train, validation_data=(X_test, y_test), epochs=10, batch_size=200, callbacks=callbacks_list)"
      ],
      "execution_count": null,
      "outputs": [
        {
          "output_type": "stream",
          "name": "stdout",
          "text": [
            "Epoch 1/10\n",
            "300/300 [==============================] - 1s 4ms/step - loss: 0.0078 - accuracy: 0.9974 - val_loss: 0.0859 - val_accuracy: 0.9807\n",
            "Epoch 2/10\n",
            "300/300 [==============================] - 1s 4ms/step - loss: 0.0077 - accuracy: 0.9974 - val_loss: 0.0863 - val_accuracy: 0.9833\n",
            "Epoch 3/10\n",
            "300/300 [==============================] - 1s 4ms/step - loss: 0.0028 - accuracy: 0.9989 - val_loss: 0.0877 - val_accuracy: 0.9825\n",
            "Epoch 4/10\n",
            "300/300 [==============================] - 1s 4ms/step - loss: 0.0032 - accuracy: 0.9991 - val_loss: 0.1107 - val_accuracy: 0.9778\n",
            "Epoch 5/10\n",
            "300/300 [==============================] - 1s 4ms/step - loss: 0.0091 - accuracy: 0.9968 - val_loss: 0.0912 - val_accuracy: 0.9804\n",
            "Epoch 6/10\n",
            "300/300 [==============================] - 1s 4ms/step - loss: 0.0065 - accuracy: 0.9980 - val_loss: 0.0949 - val_accuracy: 0.9828\n",
            "Epoch 7/10\n",
            "300/300 [==============================] - 1s 4ms/step - loss: 0.0042 - accuracy: 0.9985 - val_loss: 0.0948 - val_accuracy: 0.9825\n",
            "Epoch 8/10\n",
            "300/300 [==============================] - 1s 4ms/step - loss: 0.0060 - accuracy: 0.9982 - val_loss: 0.1058 - val_accuracy: 0.9808\n",
            "Epoch 9/10\n",
            "300/300 [==============================] - 1s 4ms/step - loss: 0.0014 - accuracy: 0.9997 - val_loss: 0.1131 - val_accuracy: 0.9810\n",
            "Epoch 10/10\n",
            "300/300 [==============================] - 1s 4ms/step - loss: 0.0041 - accuracy: 0.9988 - val_loss: 0.0926 - val_accuracy: 0.9817\n"
          ]
        },
        {
          "output_type": "execute_result",
          "data": {
            "text/plain": [
              "<keras.callbacks.History at 0x7f88ec68bee0>"
            ]
          },
          "metadata": {},
          "execution_count": 48
        }
      ]
    },
    {
      "cell_type": "markdown",
      "metadata": {
        "id": "11MYT4fQCJM2"
      },
      "source": [
        "# Defining Learning Rate Decay and Other Parameters of Optimizer"
      ]
    },
    {
      "cell_type": "code",
      "metadata": {
        "id": "C5ZWRHHHCPsN",
        "colab": {
          "base_uri": "https://localhost:8080/"
        },
        "outputId": "14772b70-2969-4e15-f513-095647187525"
      },
      "source": [
        "from tensorflow.keras.optimizers import SGD, Adam\n",
        "\n",
        "sgd = SGD(lr = 0.0001)   # 0.001  to 0.000001\n",
        "\n",
        "adam = Adam(lr=0.001)\n",
        "\n",
        "model.compile(loss='categorical_crossentropy', optimizer=adam, metrics=['accuracy'])\n",
        "\n",
        "\n",
        "\n",
        "# model.compile(loss='categorical_crossentropy', optimizer=sgd, metrics=['accuracy'])\n",
        "\n",
        "model.fit(X_train, y_train, validation_data=(X_test, y_test), epochs=10, batch_size=200)\n",
        "\n",
        "# Final evaluation of the model\n",
        "\n",
        "scores = model.evaluate(X_test, y_test)\n",
        "\n",
        "print(\"Baseline Error: %.2f%%\" % (100-scores[1]*100))"
      ],
      "execution_count": null,
      "outputs": [
        {
          "output_type": "stream",
          "name": "stdout",
          "text": [
            "Epoch 1/10\n",
            "300/300 [==============================] - 2s 4ms/step - loss: 0.0024 - accuracy: 0.9994 - val_loss: 0.0995 - val_accuracy: 0.9835\n",
            "Epoch 2/10\n",
            "300/300 [==============================] - 1s 4ms/step - loss: 0.0024 - accuracy: 0.9994 - val_loss: 0.0994 - val_accuracy: 0.9835\n",
            "Epoch 3/10\n",
            "300/300 [==============================] - 1s 4ms/step - loss: 0.0024 - accuracy: 0.9994 - val_loss: 0.0994 - val_accuracy: 0.9836\n",
            "Epoch 4/10\n",
            "300/300 [==============================] - 1s 4ms/step - loss: 0.0024 - accuracy: 0.9994 - val_loss: 0.0994 - val_accuracy: 0.9836\n",
            "Epoch 5/10\n",
            "300/300 [==============================] - 1s 4ms/step - loss: 0.0024 - accuracy: 0.9994 - val_loss: 0.0993 - val_accuracy: 0.9836\n",
            "Epoch 6/10\n",
            "300/300 [==============================] - 1s 4ms/step - loss: 0.0024 - accuracy: 0.9994 - val_loss: 0.0993 - val_accuracy: 0.9836\n",
            "Epoch 7/10\n",
            "300/300 [==============================] - 1s 4ms/step - loss: 0.0024 - accuracy: 0.9994 - val_loss: 0.0993 - val_accuracy: 0.9836\n",
            "Epoch 8/10\n",
            "300/300 [==============================] - 1s 4ms/step - loss: 0.0024 - accuracy: 0.9994 - val_loss: 0.0992 - val_accuracy: 0.9838\n",
            "Epoch 9/10\n",
            "300/300 [==============================] - 1s 4ms/step - loss: 0.0023 - accuracy: 0.9994 - val_loss: 0.0992 - val_accuracy: 0.9838\n",
            "Epoch 10/10\n",
            "300/300 [==============================] - 1s 4ms/step - loss: 0.0023 - accuracy: 0.9994 - val_loss: 0.0992 - val_accuracy: 0.9837\n",
            "313/313 [==============================] - 1s 3ms/step - loss: 0.0992 - accuracy: 0.9837\n",
            "Baseline Error: 1.63%\n"
          ]
        }
      ]
    },
    {
      "cell_type": "markdown",
      "metadata": {
        "id": "HY80VbD_uvmF"
      },
      "source": [
        "# Defining Regularizers for the model"
      ]
    },
    {
      "cell_type": "markdown",
      "metadata": {
        "id": "KHzC_Hjju0D1"
      },
      "source": [
        "Here we will add dropout and weight regularizations in the model.\n",
        "\n",
        "The loss function with $\\mathcal{l}_1$ weigth regularizer is:\n",
        "\n",
        "\n",
        "$\\mathcal{L} = CE + \\lambda\\sum_{i=1}^n |W_i|$\n",
        "\n",
        "The loss function with $\\mathcal{l}_2$ weigth regularizer is:\n",
        "\n",
        "\n",
        "$\\mathcal{L} = CE + \\lambda\\sum_{i=1}^n {W_i}^2$"
      ]
    },
    {
      "cell_type": "code",
      "metadata": {
        "id": "qILM6ENZvFlc"
      },
      "source": [
        "from tensorflow.keras import regularizers\n",
        "from tensorflow.keras.layers import Dropout\n",
        "\n",
        "model = Sequential() \n",
        "\n",
        "model.add(Dense(500, input_dim=num_pixels, activation='relu', kernel_regularizer=regularizers.l1(1e-3)))\n",
        "\n",
        "model.add(Dropout(0.3))\n",
        "\n",
        "model.add(Dense(100, activation='relu', kernel_regularizer=regularizers.l2(1e-5)))\n",
        "\n",
        "model.add(Dropout(0.25))\n",
        "\n",
        "model.add(Dense(50, activation = 'sigmoid', kernel_regularizer=regularizers.l1(1e-4)))\n",
        "\n",
        "model.add(Dropout(0.3))\n",
        "\n",
        "model.add(Dense(num_classes, activation='softmax', kernel_regularizer=regularizers.l2(1e-4)))"
      ],
      "execution_count": null,
      "outputs": []
    },
    {
      "cell_type": "code",
      "metadata": {
        "colab": {
          "base_uri": "https://localhost:8080/"
        },
        "id": "wT5y2vqxv3Pz",
        "outputId": "ea9f2da4-8bed-4e52-e000-5a34effd69c8"
      },
      "source": [
        "# Compile model\n",
        "from tensorflow.keras.callbacks import ModelCheckpoint\n",
        "model.compile(loss='categorical_crossentropy', optimizer='adam', metrics=['accuracy'])\n",
        "\n",
        "# Training model\n",
        "\n",
        "model.fit(X_train, y_train, validation_data=(X_test, y_test), epochs=10, batch_size=200)\n",
        "\n",
        "# Final evaluation of the model\n",
        "\n",
        "print('\\n')\n",
        "\n",
        "scores = model.evaluate(X_test, y_test)\n",
        "\n",
        "print(\"Baseline Error: %.2f%%\" % (100-scores[1]*100))"
      ],
      "execution_count": null,
      "outputs": [
        {
          "output_type": "stream",
          "name": "stdout",
          "text": [
            "Epoch 1/10\n",
            "300/300 [==============================] - 2s 6ms/step - loss: 2.5872 - accuracy: 0.7193 - val_loss: 0.8646 - val_accuracy: 0.9021\n",
            "Epoch 2/10\n",
            "300/300 [==============================] - 1s 4ms/step - loss: 0.9558 - accuracy: 0.8694 - val_loss: 0.7516 - val_accuracy: 0.9257\n",
            "Epoch 3/10\n",
            "300/300 [==============================] - 1s 4ms/step - loss: 0.8381 - accuracy: 0.8984 - val_loss: 0.6832 - val_accuracy: 0.9391\n",
            "Epoch 4/10\n",
            "300/300 [==============================] - 1s 4ms/step - loss: 0.7715 - accuracy: 0.9123 - val_loss: 0.6259 - val_accuracy: 0.9497\n",
            "Epoch 5/10\n",
            "300/300 [==============================] - 1s 4ms/step - loss: 0.7395 - accuracy: 0.9168 - val_loss: 0.5871 - val_accuracy: 0.9554\n",
            "Epoch 6/10\n",
            "300/300 [==============================] - 1s 4ms/step - loss: 0.7074 - accuracy: 0.9215 - val_loss: 0.5557 - val_accuracy: 0.9578\n",
            "Epoch 7/10\n",
            "300/300 [==============================] - 1s 4ms/step - loss: 0.6878 - accuracy: 0.9258 - val_loss: 0.5593 - val_accuracy: 0.9623\n",
            "Epoch 8/10\n",
            "300/300 [==============================] - 1s 4ms/step - loss: 0.6729 - accuracy: 0.9267 - val_loss: 0.5580 - val_accuracy: 0.9590\n",
            "Epoch 9/10\n",
            "300/300 [==============================] - 1s 4ms/step - loss: 0.6587 - accuracy: 0.9288 - val_loss: 0.5288 - val_accuracy: 0.9621\n",
            "Epoch 10/10\n",
            "300/300 [==============================] - 1s 4ms/step - loss: 0.6406 - accuracy: 0.9318 - val_loss: 0.5396 - val_accuracy: 0.9589\n",
            "\n",
            "\n",
            "313/313 [==============================] - 1s 3ms/step - loss: 0.5396 - accuracy: 0.9589\n",
            "Baseline Error: 4.11%\n"
          ]
        }
      ]
    },
    {
      "cell_type": "markdown",
      "metadata": {
        "id": "QaoDQO04wEPb"
      },
      "source": [
        "# Defining Initialization for the model"
      ]
    },
    {
      "cell_type": "markdown",
      "metadata": {
        "id": "ttyUheRzwEPb"
      },
      "source": [
        "Here we will add glorot normal initialization in the model"
      ]
    },
    {
      "cell_type": "code",
      "metadata": {
        "id": "jmDmi5SVwEPb"
      },
      "source": [
        "from tensorflow.keras import initializers\n",
        "from tensorflow.keras.layers import Dropout\n",
        "\n",
        "model = Sequential()\n",
        "\n",
        "\n",
        "model.add(Dense(500, input_dim=num_pixels, activation='sigmoid', kernel_initializer=initializers.GlorotNormal()))\n",
        "\n",
        "model.add(Dense(100, activation='sigmoid', kernel_initializer=initializers.GlorotNormal()))\n",
        "\n",
        "model.add(Dense(50, activation = 'sigmoid', kernel_initializer=initializers.GlorotNormal()))\n",
        "\n",
        "model.add(Dense(num_classes, activation='softmax', kernel_initializer=initializers.GlorotNormal()))"
      ],
      "execution_count": null,
      "outputs": []
    },
    {
      "cell_type": "code",
      "metadata": {
        "colab": {
          "base_uri": "https://localhost:8080/"
        },
        "id": "U4PcPvhIwEPb",
        "outputId": "806973d3-3b0b-470c-bd26-139b57a79009"
      },
      "source": [
        "# Compile model\n",
        "from tensorflow.keras.callbacks import ModelCheckpoint\n",
        "model.compile(loss='categorical_crossentropy', optimizer='adam', metrics=['accuracy'])\n",
        "\n",
        "# Training model\n",
        "\n",
        "model.fit(X_train, y_train, validation_data=(X_test, y_test), epochs=10, batch_size=200)\n",
        "\n",
        "# Final evaluation of the model\n",
        "print('\\n')\n",
        "\n",
        "scores = model.evaluate(X_test, y_test)\n",
        "\n",
        "print(\"Baseline Error: %.2f%%\" % (100-scores[1]*100))"
      ],
      "execution_count": null,
      "outputs": [
        {
          "output_type": "stream",
          "name": "stdout",
          "text": [
            "Epoch 1/10\n",
            "300/300 [==============================] - 2s 4ms/step - loss: 0.9914 - accuracy: 0.7525 - val_loss: 0.3573 - val_accuracy: 0.9163\n",
            "Epoch 2/10\n",
            "300/300 [==============================] - 1s 4ms/step - loss: 0.2798 - accuracy: 0.9269 - val_loss: 0.2174 - val_accuracy: 0.9411\n",
            "Epoch 3/10\n",
            "300/300 [==============================] - 1s 4ms/step - loss: 0.1883 - accuracy: 0.9482 - val_loss: 0.1651 - val_accuracy: 0.9511\n",
            "Epoch 4/10\n",
            "300/300 [==============================] - 1s 4ms/step - loss: 0.1421 - accuracy: 0.9602 - val_loss: 0.1369 - val_accuracy: 0.9598\n",
            "Epoch 5/10\n",
            "300/300 [==============================] - 1s 4ms/step - loss: 0.1115 - accuracy: 0.9691 - val_loss: 0.1161 - val_accuracy: 0.9666\n",
            "Epoch 6/10\n",
            "300/300 [==============================] - 1s 4ms/step - loss: 0.0900 - accuracy: 0.9749 - val_loss: 0.0975 - val_accuracy: 0.9706\n",
            "Epoch 7/10\n",
            "300/300 [==============================] - 1s 4ms/step - loss: 0.0733 - accuracy: 0.9795 - val_loss: 0.0876 - val_accuracy: 0.9729\n",
            "Epoch 8/10\n",
            "300/300 [==============================] - 1s 4ms/step - loss: 0.0607 - accuracy: 0.9829 - val_loss: 0.0832 - val_accuracy: 0.9746\n",
            "Epoch 9/10\n",
            "300/300 [==============================] - 1s 4ms/step - loss: 0.0501 - accuracy: 0.9860 - val_loss: 0.0783 - val_accuracy: 0.9751\n",
            "Epoch 10/10\n",
            "300/300 [==============================] - 1s 4ms/step - loss: 0.0421 - accuracy: 0.9887 - val_loss: 0.0759 - val_accuracy: 0.9764\n",
            "313/313 [==============================] - 1s 3ms/step - loss: 0.0759 - accuracy: 0.9764\n",
            "Baseline Error: 2.36%\n"
          ]
        }
      ]
    }
  ]
}