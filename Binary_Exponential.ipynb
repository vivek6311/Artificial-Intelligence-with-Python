{
  "nbformat": 4,
  "nbformat_minor": 0,
  "metadata": {
    "colab": {
      "provenance": [],
      "authorship_tag": "ABX9TyMF/XDbKDxrLITjxitNT1SZ",
      "include_colab_link": true
    },
    "kernelspec": {
      "name": "python3",
      "display_name": "Python 3"
    },
    "language_info": {
      "name": "python"
    }
  },
  "cells": [
    {
      "cell_type": "markdown",
      "metadata": {
        "id": "view-in-github",
        "colab_type": "text"
      },
      "source": [
        "<a href=\"https://colab.research.google.com/github/vivek6311/Artificial-Intelligence-with-Python/blob/master/Binary_Exponential.ipynb\" target=\"_parent\"><img src=\"https://colab.research.google.com/assets/colab-badge.svg\" alt=\"Open In Colab\"/></a>"
      ]
    },
    {
      "cell_type": "code",
      "execution_count": null,
      "metadata": {
        "colab": {
          "base_uri": "https://localhost:8080/"
        },
        "id": "VTXv-8IDt_TX",
        "outputId": "19098085-e957-4cdc-fd8d-b8d59ca90e12"
      },
      "outputs": [
        {
          "output_type": "stream",
          "name": "stdout",
          "text": [
            "Enter the base number= 3\n",
            "Enter the pow number= 4\n",
            "[0, 0, 1]\n"
          ]
        },
        {
          "output_type": "execute_result",
          "data": {
            "text/plain": [
              "81"
            ]
          },
          "metadata": {},
          "execution_count": 2
        }
      ],
      "source": [
        "from re import X\n",
        "def bin_exp(x,y):\n",
        "  L=[]\n",
        "  while y>=1:\n",
        "   a= y%2\n",
        "   y=y//2\n",
        "   L.append(a)\n",
        "  print(L)\n",
        "  return L\n",
        "def exponential(x,y,L):\n",
        "  res=1\n",
        "  for i in range (len(L)):\n",
        "    if L[i]==0:\n",
        "      x= x*x\n",
        "    else:\n",
        "      res= res*x \n",
        "      x= x*x\n",
        "  return res\n",
        "x= int(input(\"Enter the base number= \"))\n",
        "y= int(input(\"Enter the pow number= \"))\n",
        "b=bin_exp(x,y)\n",
        "exponential(x,y,b)\n",
        "# print(res)\n"
      ]
    },
    {
      "cell_type": "markdown",
      "source": [
        "1. Bubble Sort algorithim has Time complexity of n square. "
      ],
      "metadata": {
        "id": "WyjqLa4Dvlp6"
      }
    },
    {
      "cell_type": "markdown",
      "source": [
        "2. Binary search divides n into 2 equal part in each iteration. Hence it follows n, n/2, n/4, n/8..... Thus it makes it complexity of log(n)"
      ],
      "metadata": {
        "id": "T_hHciwuxTIu"
      }
    },
    {
      "cell_type": "markdown",
      "source": [],
      "metadata": {
        "id": "mIpcA-BqxwaX"
      }
    }
  ]
}