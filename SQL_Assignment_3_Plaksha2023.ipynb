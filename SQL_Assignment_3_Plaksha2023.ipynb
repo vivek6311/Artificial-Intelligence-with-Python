{
  "cells": [
    {
      "cell_type": "markdown",
      "metadata": {
        "id": "view-in-github",
        "colab_type": "text"
      },
      "source": [
        "<a href=\"https://colab.research.google.com/github/vivek6311/Artificial-Intelligence-with-Python/blob/master/SQL_Assignment_3_Plaksha2023.ipynb\" target=\"_parent\"><img src=\"https://colab.research.google.com/assets/colab-badge.svg\" alt=\"Open In Colab\"/></a>"
      ]
    },
    {
      "cell_type": "markdown",
      "id": "b3d08535",
      "metadata": {
        "id": "b3d08535"
      },
      "source": [
        "<img src=\"https://raw.githubusercontent.com/afo/data-x-plaksha/master/imgsource/dx_logo.png\" align=\"left\"></img><br><br><br><br>"
      ]
    },
    {
      "cell_type": "markdown",
      "id": "4c408082",
      "metadata": {
        "id": "4c408082"
      },
      "source": [
        "## Plaksha SQL assignment"
      ]
    },
    {
      "cell_type": "markdown",
      "id": "7f7d4113-c3a9-47b2-b7df-b844d49abd22",
      "metadata": {
        "id": "7f7d4113-c3a9-47b2-b7df-b844d49abd22"
      },
      "source": [
        "---\n",
        "\n",
        "## Submission details:\n",
        "\n",
        "Please submit this as a Jupyter Notebook and a PDF of your results (both should show output). Also push your solutions to Github.\n",
        "\n",
        "For the submision create a local database with `sqlite3` or `sqlalchemy` in a Jupyter notebook and make the queries either with a cursor object (and then print the results) or by using pandas `pd.read_sql_query()`."
      ]
    },
    {
      "cell_type": "markdown",
      "id": "0c551f03-7eff-43e2-89a7-a53b54098223",
      "metadata": {
        "id": "0c551f03-7eff-43e2-89a7-a53b54098223"
      },
      "source": [
        "___\n",
        "\n",
        "When completing this homework you can experiment with SQL commands by utilizing this great online editor:\n",
        "\n",
        "https://www.w3schools.com/sql/trysql.asp?filename=trysql_select_all\n",
        "\n",
        "There are already some tables in the online Database, namely:\n",
        "\n",
        "`Categories, Employees, OrderDetails, Orders, Products, Shippers, and Suppliers.`\n",
        "\n",
        "If you want you can drop them by running  `DROP TABLE [table-name];` (or just keep them)."
      ]
    },
    {
      "cell_type": "markdown",
      "id": "dccc820f-21b0-4b2c-9ca8-9cb9eab76023",
      "metadata": {
        "id": "dccc820f-21b0-4b2c-9ca8-9cb9eab76023"
      },
      "source": [
        "___\n",
        "\n",
        "## Exercises:\n",
        "\n",
        "First create a table called students. It has the columns: 'student_id', 'name', 'major', 'gpa' and 'enrollment_date' We will use a new form of `CREATE TABLE` expression to produce this table.\n",
        "\n",
        "Note that you can improve this and are welcome to do so -- e.g. by specifying for example a PRIMARY KEY and a FOREIGN KEY in Q2 :)\n",
        "\n",
        "    CREATE TABLE students AS\n",
        "        SELECT 1 AS student_id, \"John\" AS name, \"Computer Science\" AS major, 3.5 AS gpa, \"01-01-2022\" AS enrollment_date UNION\n",
        "        SELECT 2, \"Jane\", \"Physics\", 3.8, \"01-02-2022\" UNION\n",
        "        SELECT 3, \"Bob\", \"Engineering\", 3.0, \"01-03-2022\" UNION\n",
        "        SELECT 4, \"Samantha\", \"Physics\", 3.9, \"01-04-2022\" UNION\n",
        "        SELECT 5, \"James\", \"Engineering\", 3.7, \"01-05-2022\" UNION\n",
        "        SELECT 6, \"Emily\", \"Computer Science\", 3.6, \"01-06-2022\" UNION\n",
        "        SELECT 7, \"Michael\", \"Computer Science\", 3.2, \"01-07-2022\" UNION\n",
        "        SELECT 8, \"Jessica\", \"Engineering\", 3.8, \"01-08-2022\" UNION\n",
        "        SELECT 9, \"Jacob\", \"Physics\", 3.4, \"01-09-2022\" UNION\n",
        "        SELECT 10, \"Ashley\", \"Physics\", 3.9, \"01-10-2022\";\n",
        "\n",
        "\n",
        "## Q1 Simple SELECTS (on the students table)\n",
        "1. SELECT all records in the table.\n",
        "2. SELECT students whose major is \"Computer Science\".\n",
        "3. SELECT all unique majors (use SELECT DISTINCT) and order them by name, descending order (i.e. Physics first).\n",
        "4. SELECT all students that have an 'e' in their name and order them by gpa in ascending order.\n",
        "\n",
        "\n",
        "## Q2 Joins\n",
        "\n",
        "Create a new table called courses, which indicates the courses taken by the students. \n",
        "\n",
        "Create the table by running:\n",
        "\t\n",
        "    CREATE TABLE courses AS\n",
        "        SELECT 1 AS course_id, \"Python programming\" AS course_name, 1 AS student_id, \"A\" AS grade UNION\n",
        "        SELECT 2, \"Data Structures\", 2, \"B\" UNION\n",
        "        SELECT 3, \"Database Systems\", 3, \"B\" UNION\n",
        "        SELECT 1, \"Python programming\", 4, \"A\" UNION\n",
        "        SELECT 4, \"Quantum Mechanics\", 5, \"C\" UNION\n",
        "        SELECT 1, \"Python programming\", 6, \"F\" UNION\n",
        "        SELECT 2, \"Data Structures\", 7, \"C\" UNION\n",
        "        SELECT 3, \"Database Systems\", 8, \"A\" UNION\n",
        "        SELECT 4, \"Quantum Mechanics\", 9, \"A\" UNION\n",
        "        SELECT 2, \"Data Structures\", 10, \"F\";\n",
        "\n",
        "1. COUNT the number of unique courses.\n",
        "2. JOIN the tables students and courses and COUNT the number of students with the major Computer Science taking the course Python programming.\n",
        "3. JOIN the tables students and courses and select the students who have grades higher than \"C\", only show their name, major, gpa, course_name and grade.\n",
        "\n",
        "\n",
        "## Q3 Aggregate functions, numerical logic and grouping\n",
        "\n",
        "1. Find the average gpa of all students.\n",
        "2. SELECT the student with the maximum gpa, display only their student_id, major and gpa\n",
        "3. SELECT the student with the minimum gpa, display only their student_id, major and gpa\n",
        "4. SELECT the students with a gpa greater than 3.6 in the majors of \"Physics\" and \"Engineering\", display only their student_id, major and gpa\n",
        "5. Group the students by their major and retrieve the average grade of each major.\n",
        "6. SELECT the top 2 students with the highest GPA in each major and order the results by major in ascending order, then by GPA in descending order"
      ]
    },
    {
      "cell_type": "markdown",
      "id": "3ab84519",
      "metadata": {
        "id": "3ab84519"
      },
      "source": [
        "# Your solution"
      ]
    },
    {
      "cell_type": "code",
      "execution_count": 1,
      "id": "c7cff114",
      "metadata": {
        "colab": {
          "base_uri": "https://localhost:8080/"
        },
        "id": "c7cff114",
        "outputId": "9573b28b-a829-4ec9-b0d3-deb50b18c1f2"
      },
      "outputs": [
        {
          "output_type": "stream",
          "name": "stdout",
          "text": [
            "sample_data\n"
          ]
        }
      ],
      "source": [
        "import pandas as pd\n",
        "import sqlite3\n",
        "!ls"
      ]
    },
    {
      "cell_type": "code",
      "source": [
        "#pd.read_sql_query()\n",
        "connection = sqlite3.connect('assignment.db')\n",
        "cursor = connection.cursor()\n"
      ],
      "metadata": {
        "id": "FAR6A-Q_TPTA"
      },
      "id": "FAR6A-Q_TPTA",
      "execution_count": 2,
      "outputs": []
    },
    {
      "cell_type": "code",
      "source": [
        "cursor.execute(\"DROP TABLE IF EXISTS students;\")"
      ],
      "metadata": {
        "colab": {
          "base_uri": "https://localhost:8080/"
        },
        "id": "uixeVnYJzZfQ",
        "outputId": "08c96e0d-3b4e-4fce-a011-3e4b8431d7b7"
      },
      "id": "uixeVnYJzZfQ",
      "execution_count": 3,
      "outputs": [
        {
          "output_type": "execute_result",
          "data": {
            "text/plain": [
              "<sqlite3.Cursor at 0x7f4f6d553b20>"
            ]
          },
          "metadata": {},
          "execution_count": 3
        }
      ]
    },
    {
      "cell_type": "code",
      "source": [
        "sql_command = \"\"\"\n",
        "CREATE TABLE students (\n",
        "student_id INTEGER PRIMARY KEY,\n",
        "name VARCHAR(20),\n",
        "major VARCHAR(30),\n",
        "gpa FLOAT(3),\n",
        "enrollment_date DATE);\n",
        "\"\"\""
      ],
      "metadata": {
        "id": "ZcG-mdemTc91"
      },
      "id": "ZcG-mdemTc91",
      "execution_count": 4,
      "outputs": []
    },
    {
      "cell_type": "code",
      "source": [
        "cursor.execute(sql_command)"
      ],
      "metadata": {
        "colab": {
          "base_uri": "https://localhost:8080/"
        },
        "id": "1ocUn7x-Xy5-",
        "outputId": "8bd179f4-4cfa-40c9-ff96-fa9cd29c3f2a"
      },
      "id": "1ocUn7x-Xy5-",
      "execution_count": 5,
      "outputs": [
        {
          "output_type": "execute_result",
          "data": {
            "text/plain": [
              "<sqlite3.Cursor at 0x7f4f6d553b20>"
            ]
          },
          "metadata": {},
          "execution_count": 5
        }
      ]
    },
    {
      "cell_type": "code",
      "source": [
        "cursor.execute(\"DROP TABLE IF EXISTS students;\")"
      ],
      "metadata": {
        "colab": {
          "base_uri": "https://localhost:8080/"
        },
        "id": "cEg6UTJxCboG",
        "outputId": "6f653ca9-74f1-4803-f7b0-07ea1fa7e004"
      },
      "id": "cEg6UTJxCboG",
      "execution_count": 6,
      "outputs": [
        {
          "output_type": "execute_result",
          "data": {
            "text/plain": [
              "<sqlite3.Cursor at 0x7f4f6d553b20>"
            ]
          },
          "metadata": {},
          "execution_count": 6
        }
      ]
    },
    {
      "cell_type": "code",
      "source": [
        "sql_command = '''\n",
        "CREATE TABLE students AS\n",
        "SELECT 1 AS student_id, \"John\" AS name, \"Computer Science\" AS major, 3.5 AS gpa, \"01-01-2022\" AS\n",
        "enrollment_date UNION\n",
        "    SELECT 2, \"Jane\", \"Physics\", 3.8, \"01-02-2022\" UNION\n",
        "    SELECT 3, \"Bob\", \"Engineering\", 3.0, \"01-03-2022\" UNION\n",
        "    SELECT 4, \"Samantha\", \"Physics\", 3.9, \"01-04-2022\" UNION\n",
        "    SELECT 5, \"James\", \"Engineering\", 3.7, \"01-05-2022\" UNION\n",
        "    SELECT 6, \"Emily\", \"Computer Science\", 3.6, \"01-06-2022\" UNION\n",
        "    SELECT 7, \"Michael\", \"Computer Science\", 3.2, \"01-07-2022\" UNION\n",
        "    SELECT 8, \"Jessica\", \"Engineering\", 3.8, \"01-08-2022\" UNION\n",
        "    SELECT 9, \"Jacob\", \"Physics\", 3.4, \"01-09-2022\" UNION\n",
        "    SELECT 10, \"Ashley\", \"Physics\", 3.9, \"01-10-2022\";'''\n",
        "cursor.execute(sql_command)"
      ],
      "metadata": {
        "colab": {
          "base_uri": "https://localhost:8080/"
        },
        "id": "seRsHUnwYHLf",
        "outputId": "8cf75bff-dae5-4ebd-c169-c193a54bd905"
      },
      "id": "seRsHUnwYHLf",
      "execution_count": 7,
      "outputs": [
        {
          "output_type": "execute_result",
          "data": {
            "text/plain": [
              "<sqlite3.Cursor at 0x7f4f6d553b20>"
            ]
          },
          "metadata": {},
          "execution_count": 7
        }
      ]
    },
    {
      "cell_type": "markdown",
      "source": [
        "#SELECT all records in the table."
      ],
      "metadata": {
        "id": "V5-qRyoUgbB0"
      },
      "id": "V5-qRyoUgbB0"
    },
    {
      "cell_type": "code",
      "source": [
        "cursor.execute('SELECT * FROM students;').fetchall()"
      ],
      "metadata": {
        "colab": {
          "base_uri": "https://localhost:8080/"
        },
        "id": "gMRxcc6ogGWp",
        "outputId": "3c6b6261-a229-4e73-ce04-36961d68165e"
      },
      "id": "gMRxcc6ogGWp",
      "execution_count": 8,
      "outputs": [
        {
          "output_type": "execute_result",
          "data": {
            "text/plain": [
              "[(1, 'John', 'Computer Science', 3.5, '01-01-2022'),\n",
              " (2, 'Jane', 'Physics', 3.8, '01-02-2022'),\n",
              " (3, 'Bob', 'Engineering', 3.0, '01-03-2022'),\n",
              " (4, 'Samantha', 'Physics', 3.9, '01-04-2022'),\n",
              " (5, 'James', 'Engineering', 3.7, '01-05-2022'),\n",
              " (6, 'Emily', 'Computer Science', 3.6, '01-06-2022'),\n",
              " (7, 'Michael', 'Computer Science', 3.2, '01-07-2022'),\n",
              " (8, 'Jessica', 'Engineering', 3.8, '01-08-2022'),\n",
              " (9, 'Jacob', 'Physics', 3.4, '01-09-2022'),\n",
              " (10, 'Ashley', 'Physics', 3.9, '01-10-2022')]"
            ]
          },
          "metadata": {},
          "execution_count": 8
        }
      ]
    },
    {
      "cell_type": "markdown",
      "source": [
        "# SELECT students whose major is \"Computer Science\"."
      ],
      "metadata": {
        "id": "UN7Wet32g89_"
      },
      "id": "UN7Wet32g89_"
    },
    {
      "cell_type": "code",
      "source": [
        "cursor.execute('SELECT * FROM students WHERE major=\"Computer Science\" ;').fetchall()"
      ],
      "metadata": {
        "colab": {
          "base_uri": "https://localhost:8080/"
        },
        "id": "4Mbjt-BngZK3",
        "outputId": "8b245d52-2cb6-4ae8-b6e3-44a9f6784bca"
      },
      "id": "4Mbjt-BngZK3",
      "execution_count": 9,
      "outputs": [
        {
          "output_type": "execute_result",
          "data": {
            "text/plain": [
              "[(1, 'John', 'Computer Science', 3.5, '01-01-2022'),\n",
              " (6, 'Emily', 'Computer Science', 3.6, '01-06-2022'),\n",
              " (7, 'Michael', 'Computer Science', 3.2, '01-07-2022')]"
            ]
          },
          "metadata": {},
          "execution_count": 9
        }
      ]
    },
    {
      "cell_type": "markdown",
      "source": [
        "# SELECT all unique majors (use SELECT DISTINCT) and order them by name, descending order (i.e. Physics first)."
      ],
      "metadata": {
        "id": "9IUvWdUshFyC"
      },
      "id": "9IUvWdUshFyC"
    },
    {
      "cell_type": "code",
      "source": [
        "cursor.execute('SELECT DISTINCT (major)  FROM students ORDER BY major DESC ;').fetchall()"
      ],
      "metadata": {
        "colab": {
          "base_uri": "https://localhost:8080/"
        },
        "id": "oMaM0CinhGjR",
        "outputId": "35643f99-68d7-4efe-cbe0-8b8bd5f71815"
      },
      "id": "oMaM0CinhGjR",
      "execution_count": 10,
      "outputs": [
        {
          "output_type": "execute_result",
          "data": {
            "text/plain": [
              "[('Physics',), ('Engineering',), ('Computer Science',)]"
            ]
          },
          "metadata": {},
          "execution_count": 10
        }
      ]
    },
    {
      "cell_type": "markdown",
      "source": [
        "# SELECT all students that have an 'e' in their name and order them by gpa in ascending order.\n"
      ],
      "metadata": {
        "id": "JxqeOqx5mi_d"
      },
      "id": "JxqeOqx5mi_d"
    },
    {
      "cell_type": "code",
      "source": [
        "cursor.execute('SELECT * FROM students WHERE name LIKE \"%e%\" ORDER BY gpa ASC;').fetchall()"
      ],
      "metadata": {
        "colab": {
          "base_uri": "https://localhost:8080/"
        },
        "id": "vtx2EgZRl0Xx",
        "outputId": "b8bed1fe-75d9-43e0-ccd4-0b80bdd13c67"
      },
      "id": "vtx2EgZRl0Xx",
      "execution_count": 11,
      "outputs": [
        {
          "output_type": "execute_result",
          "data": {
            "text/plain": [
              "[(7, 'Michael', 'Computer Science', 3.2, '01-07-2022'),\n",
              " (6, 'Emily', 'Computer Science', 3.6, '01-06-2022'),\n",
              " (5, 'James', 'Engineering', 3.7, '01-05-2022'),\n",
              " (2, 'Jane', 'Physics', 3.8, '01-02-2022'),\n",
              " (8, 'Jessica', 'Engineering', 3.8, '01-08-2022'),\n",
              " (10, 'Ashley', 'Physics', 3.9, '01-10-2022')]"
            ]
          },
          "metadata": {},
          "execution_count": 11
        }
      ]
    },
    {
      "cell_type": "markdown",
      "source": [
        "# Question 2"
      ],
      "metadata": {
        "id": "q7T7Wr6b0kKY"
      },
      "id": "q7T7Wr6b0kKY"
    },
    {
      "cell_type": "code",
      "source": [
        "sql_command = '''\n",
        "CREATE TABLE courses AS\n",
        "    SELECT 1 AS course_id, \"Python programming\" AS course_name, 1 AS student_id, \"A\" AS grade UNION\n",
        "    SELECT 2, \"Data Structures\", 2, \"B\" UNION\n",
        "    SELECT 3, \"Database Systems\", 3, \"B\" UNION\n",
        "    SELECT 1, \"Python programming\", 4, \"A\" UNION\n",
        "    SELECT 4, \"Quantum Mechanics\", 5, \"C\" UNION\n",
        "    SELECT 1, \"Python programming\", 6, \"F\" UNION\n",
        "    SELECT 2, \"Data Structures\", 7, \"C\" UNION\n",
        "    SELECT 3, \"Database Systems\", 8, \"A\" UNION\n",
        "    SELECT 4, \"Quantum Mechanics\", 9, \"A\" UNION\n",
        "    SELECT 2, \"Data Structures\", 10, \"F\";'''\n",
        "cursor.execute(sql_command)"
      ],
      "metadata": {
        "colab": {
          "base_uri": "https://localhost:8080/"
        },
        "id": "To4osid4yyGP",
        "outputId": "c7367889-2dfe-4306-f75c-7f3354fcde8a"
      },
      "id": "To4osid4yyGP",
      "execution_count": 12,
      "outputs": [
        {
          "output_type": "execute_result",
          "data": {
            "text/plain": [
              "<sqlite3.Cursor at 0x7f4f6d553b20>"
            ]
          },
          "metadata": {},
          "execution_count": 12
        }
      ]
    },
    {
      "cell_type": "code",
      "source": [
        "cursor.execute('SELECT * FROM courses;').fetchall()"
      ],
      "metadata": {
        "colab": {
          "base_uri": "https://localhost:8080/"
        },
        "id": "xl2RCQml017_",
        "outputId": "e91f798d-273a-441e-bbb0-6b40d95e1152"
      },
      "id": "xl2RCQml017_",
      "execution_count": 13,
      "outputs": [
        {
          "output_type": "execute_result",
          "data": {
            "text/plain": [
              "[(1, 'Python programming', 1, 'A'),\n",
              " (1, 'Python programming', 4, 'A'),\n",
              " (1, 'Python programming', 6, 'F'),\n",
              " (2, 'Data Structures', 2, 'B'),\n",
              " (2, 'Data Structures', 7, 'C'),\n",
              " (2, 'Data Structures', 10, 'F'),\n",
              " (3, 'Database Systems', 3, 'B'),\n",
              " (3, 'Database Systems', 8, 'A'),\n",
              " (4, 'Quantum Mechanics', 5, 'C'),\n",
              " (4, 'Quantum Mechanics', 9, 'A')]"
            ]
          },
          "metadata": {},
          "execution_count": 13
        }
      ]
    },
    {
      "cell_type": "markdown",
      "source": [
        "# COUNT the number of unique courses."
      ],
      "metadata": {
        "id": "hLDcJSKB1Pbj"
      },
      "id": "hLDcJSKB1Pbj"
    },
    {
      "cell_type": "code",
      "source": [
        "cursor.execute('SELECT COUNT (DISTINCT course_name) FROM courses;').fetchall()"
      ],
      "metadata": {
        "colab": {
          "base_uri": "https://localhost:8080/"
        },
        "id": "kqbf81lW1RHG",
        "outputId": "d3e13967-17c6-4629-b97b-c0cd044dbe74"
      },
      "id": "kqbf81lW1RHG",
      "execution_count": 14,
      "outputs": [
        {
          "output_type": "execute_result",
          "data": {
            "text/plain": [
              "[(4,)]"
            ]
          },
          "metadata": {},
          "execution_count": 14
        }
      ]
    },
    {
      "cell_type": "markdown",
      "source": [
        "# JOIN the tables students and courses and COUNT the number of students with the major Computer Science taking the course Python programming."
      ],
      "metadata": {
        "id": "334rvhmf1x0i"
      },
      "id": "334rvhmf1x0i"
    },
    {
      "cell_type": "code",
      "source": [
        "combine=cursor.execute('SELECT * FROM students LEFT JOIN courses ON students.student_id = courses.student_id;').fetchall()"
      ],
      "metadata": {
        "id": "CWlcQyVO1lle"
      },
      "id": "CWlcQyVO1lle",
      "execution_count": 15,
      "outputs": []
    },
    {
      "cell_type": "code",
      "source": [],
      "metadata": {
        "id": "OKj8xRQX5QuD"
      },
      "id": "OKj8xRQX5QuD",
      "execution_count": 25,
      "outputs": []
    },
    {
      "cell_type": "code",
      "source": [
        "cursor.execute('SELECT COUNT (DISTINCT students.name),courses.* FROM students INNER JOIN courses ON students.student_id = courses.student_id WHERE major=\"Computer Science\" AND course_name=\"Python programming\";').fetchall()"
      ],
      "metadata": {
        "colab": {
          "base_uri": "https://localhost:8080/"
        },
        "id": "RpcZ3yY75Z8z",
        "outputId": "2b12967f-546c-4910-98a9-bd99092028d9"
      },
      "id": "RpcZ3yY75Z8z",
      "execution_count": 18,
      "outputs": [
        {
          "output_type": "execute_result",
          "data": {
            "text/plain": [
              "[(2, 1, 'Python programming', 1, 'A')]"
            ]
          },
          "metadata": {},
          "execution_count": 18
        }
      ]
    },
    {
      "cell_type": "markdown",
      "source": [
        "# JOIN the tables students and courses and select the students who have grades higher than \"C\", only show their name, major, gpa, course_name and grade."
      ],
      "metadata": {
        "id": "6MAKeY1dDaLt"
      },
      "id": "6MAKeY1dDaLt"
    },
    {
      "cell_type": "code",
      "source": [
        "cursor.execute('SELECT name, major, gpa,course_name,grade FROM students, courses WHERE students.student_id = courses.student_id AND grade<\"C\";').fetchall()"
      ],
      "metadata": {
        "colab": {
          "base_uri": "https://localhost:8080/"
        },
        "id": "PJd3Cl6Z8ArX",
        "outputId": "3236a336-17ec-4039-891b-893a11ce6d57"
      },
      "id": "PJd3Cl6Z8ArX",
      "execution_count": 25,
      "outputs": [
        {
          "output_type": "execute_result",
          "data": {
            "text/plain": [
              "[('John', 'Computer Science', 3.5, 'Python programming', 'A'),\n",
              " ('Samantha', 'Physics', 3.9, 'Python programming', 'A'),\n",
              " ('Jane', 'Physics', 3.8, 'Data Structures', 'B'),\n",
              " ('Bob', 'Engineering', 3.0, 'Database Systems', 'B'),\n",
              " ('Jessica', 'Engineering', 3.8, 'Database Systems', 'A'),\n",
              " ('Jacob', 'Physics', 3.4, 'Quantum Mechanics', 'A')]"
            ]
          },
          "metadata": {},
          "execution_count": 25
        }
      ]
    },
    {
      "cell_type": "markdown",
      "source": [
        "# 3. Aggregate functions, numerical logic and grouping"
      ],
      "metadata": {
        "id": "7Dd4T3F3U7NJ"
      },
      "id": "7Dd4T3F3U7NJ"
    },
    {
      "cell_type": "markdown",
      "source": [
        "1.Find the average gpa of all students."
      ],
      "metadata": {
        "id": "-YEW6rq-VQy8"
      },
      "id": "-YEW6rq-VQy8"
    },
    {
      "cell_type": "code",
      "source": [
        "cursor.execute('SELECT AVG(gpa) FROM students').fetchall()"
      ],
      "metadata": {
        "colab": {
          "base_uri": "https://localhost:8080/"
        },
        "id": "lELqfDlUEZIt",
        "outputId": "1802e971-10c2-4270-8dac-e4f5dadaadb1"
      },
      "id": "lELqfDlUEZIt",
      "execution_count": 26,
      "outputs": [
        {
          "output_type": "execute_result",
          "data": {
            "text/plain": [
              "[(3.5800000000000005,)]"
            ]
          },
          "metadata": {},
          "execution_count": 26
        }
      ]
    },
    {
      "cell_type": "markdown",
      "source": [
        "2.SELECT the student with the maximum gpa, display only their student_id, major and gpa\n"
      ],
      "metadata": {
        "id": "1-voQpu8WLEa"
      },
      "id": "1-voQpu8WLEa"
    },
    {
      "cell_type": "code",
      "source": [
        "cursor.execute('SELECT student_id, major, MAX(gpa) FROM students').fetchall()"
      ],
      "metadata": {
        "colab": {
          "base_uri": "https://localhost:8080/"
        },
        "id": "jVoNYzhwVr06",
        "outputId": "a7346204-e893-4811-c43a-d6f2bd3c0ed7"
      },
      "id": "jVoNYzhwVr06",
      "execution_count": 29,
      "outputs": [
        {
          "output_type": "execute_result",
          "data": {
            "text/plain": [
              "[(4, 'Physics', 3.9)]"
            ]
          },
          "metadata": {},
          "execution_count": 29
        }
      ]
    },
    {
      "cell_type": "markdown",
      "source": [
        "\n",
        "3. SELECT the student with the minimum gpa, display only their student_id, major and gpa\n",
        "\n"
      ],
      "metadata": {
        "id": "hnF5ogvyWPyg"
      },
      "id": "hnF5ogvyWPyg"
    },
    {
      "cell_type": "code",
      "source": [
        "cursor.execute('SELECT student_id, major, MIN(gpa) FROM students').fetchall()"
      ],
      "metadata": {
        "colab": {
          "base_uri": "https://localhost:8080/"
        },
        "id": "rcFIaAGhWWBp",
        "outputId": "65aae52e-8383-4190-d673-91cac3771734"
      },
      "id": "rcFIaAGhWWBp",
      "execution_count": 30,
      "outputs": [
        {
          "output_type": "execute_result",
          "data": {
            "text/plain": [
              "[(3, 'Engineering', 3.0)]"
            ]
          },
          "metadata": {},
          "execution_count": 30
        }
      ]
    },
    {
      "cell_type": "markdown",
      "source": [
        "4. SELECT the students with a gpa greater than 3.6 in the majors of \"Physics\" and \"Engineering\", display only their student_id, major and gpa\n",
        "Group the students by their major and retrieve the average grade of each major.\n",
        "\n"
      ],
      "metadata": {
        "id": "c0muGPiKWXCo"
      },
      "id": "c0muGPiKWXCo"
    },
    {
      "cell_type": "code",
      "source": [
        "cursor.execute('SELECT student_id, major,gpa FROM students WHERE gpa>3.6 AND (major=\"Physics\" OR major=\"Engineering\")').fetchall()"
      ],
      "metadata": {
        "colab": {
          "base_uri": "https://localhost:8080/"
        },
        "id": "EfpWaaqdWbzJ",
        "outputId": "bac2f8aa-dacd-4f19-a948-73bab67b7a35"
      },
      "id": "EfpWaaqdWbzJ",
      "execution_count": 44,
      "outputs": [
        {
          "output_type": "execute_result",
          "data": {
            "text/plain": [
              "[(2, 'Physics', 3.8),\n",
              " (4, 'Physics', 3.9),\n",
              " (5, 'Engineering', 3.7),\n",
              " (8, 'Engineering', 3.8),\n",
              " (10, 'Physics', 3.9)]"
            ]
          },
          "metadata": {},
          "execution_count": 44
        }
      ]
    },
    {
      "cell_type": "markdown",
      "source": [
        "5. SELECT the top 2 students with the highest GPA in each major and order the results by major in ascending order, then by GPA in descending order\n"
      ],
      "metadata": {
        "id": "88gM3cUUWcXk"
      },
      "id": "88gM3cUUWcXk"
    },
    {
      "cell_type": "code",
      "source": [
        "cursor.execute('SELECT * FROM (SELECT major, gpa, row_number() OVER (PARTITION BY major ORDER BY gpa DESC) AS c_rank FROM students) ranks WHERE c_rank <= 2;').fetchall()"
      ],
      "metadata": {
        "colab": {
          "base_uri": "https://localhost:8080/"
        },
        "id": "XqqAKu6xd1Wa",
        "outputId": "5d13bb28-41d7-455c-c3be-82511728f392"
      },
      "id": "XqqAKu6xd1Wa",
      "execution_count": 47,
      "outputs": [
        {
          "output_type": "execute_result",
          "data": {
            "text/plain": [
              "[('Computer Science', 3.6, 1),\n",
              " ('Computer Science', 3.5, 2),\n",
              " ('Engineering', 3.8, 1),\n",
              " ('Engineering', 3.7, 2),\n",
              " ('Physics', 3.9, 1),\n",
              " ('Physics', 3.9, 2)]"
            ]
          },
          "metadata": {},
          "execution_count": 47
        }
      ]
    },
    {
      "cell_type": "code",
      "source": [],
      "metadata": {
        "id": "WxpPMzJ2fvg0"
      },
      "id": "WxpPMzJ2fvg0",
      "execution_count": null,
      "outputs": []
    }
  ],
  "metadata": {
    "kernelspec": {
      "display_name": "Python 3 (ipykernel)",
      "language": "python",
      "name": "python3"
    },
    "language_info": {
      "codemirror_mode": {
        "name": "ipython",
        "version": 3
      },
      "file_extension": ".py",
      "mimetype": "text/x-python",
      "name": "python",
      "nbconvert_exporter": "python",
      "pygments_lexer": "ipython3",
      "version": "3.9.15"
    },
    "colab": {
      "provenance": [],
      "include_colab_link": true
    }
  },
  "nbformat": 4,
  "nbformat_minor": 5
}