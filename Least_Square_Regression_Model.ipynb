{
  "nbformat": 4,
  "nbformat_minor": 0,
  "metadata": {
    "colab": {
      "provenance": [],
      "mount_file_id": "1d2Qhg129BTIxkLTch_ycC078DagP5xad",
      "authorship_tag": "ABX9TyO+VorZWBJSjFm87jbmdgkD",
      "include_colab_link": true
    },
    "kernelspec": {
      "name": "python3",
      "display_name": "Python 3"
    },
    "language_info": {
      "name": "python"
    }
  },
  "cells": [
    {
      "cell_type": "markdown",
      "metadata": {
        "id": "view-in-github",
        "colab_type": "text"
      },
      "source": [
        "<a href=\"https://colab.research.google.com/github/vivek6311/Artificial-Intelligence-with-Python/blob/master/Least_Square_Regression_Model.ipynb\" target=\"_parent\"><img src=\"https://colab.research.google.com/assets/colab-badge.svg\" alt=\"Open In Colab\"/></a>"
      ]
    },
    {
      "cell_type": "code",
      "source": [
        "import numpy as np\n",
        "import pandas as pd\n",
        "df= pd.read_excel(\"/content/All_blocks_data.xlsx\")\n",
        "#CVI= pd.read_excel(\"/content/CVI_data.xlsx\")\n",
        "df.head()"
      ],
      "metadata": {
        "colab": {
          "base_uri": "https://localhost:8080/",
          "height": 206
        },
        "id": "S-kmDLa81FZc",
        "outputId": "ce2bca93-a258-41a5-e28d-396a93baf8d6"
      },
      "execution_count": 1,
      "outputs": [
        {
          "output_type": "execute_result",
          "data": {
            "text/plain": [
              "       Date       CVI       EVI      EVI2       GLI     GNDVI      NDVI  \\\n",
              "0  Block_3A  3.314836  0.377187  0.629505  0.125957  0.558451  0.577358   \n",
              "1  Block_3B  3.254148  0.396382  0.656389  0.126742  0.553079  0.573202   \n",
              "2   Block_6  3.153244  0.361809  0.603965  0.144976  0.561054  0.597163   \n",
              "3  Block_7a  3.045632  0.257264  0.419152  0.125760  0.532351  0.557745   \n",
              "4  Block_7b  2.923830  0.221227  0.374607  0.121004  0.509866  0.527424   \n",
              "\n",
              "       NDWI      SAVI  yield/acer  \n",
              "0 -0.577358  0.391762  173.165594  \n",
              "1 -0.573202  0.408655  190.160750  \n",
              "2 -0.597163  0.370265  166.650522  \n",
              "3 -0.557745  0.270678  172.325928  \n",
              "4 -0.527424  0.248608  227.102086  "
            ],
            "text/html": [
              "\n",
              "  <div id=\"df-07a8bfeb-2601-4128-8145-6c75c8291ef8\">\n",
              "    <div class=\"colab-df-container\">\n",
              "      <div>\n",
              "<style scoped>\n",
              "    .dataframe tbody tr th:only-of-type {\n",
              "        vertical-align: middle;\n",
              "    }\n",
              "\n",
              "    .dataframe tbody tr th {\n",
              "        vertical-align: top;\n",
              "    }\n",
              "\n",
              "    .dataframe thead th {\n",
              "        text-align: right;\n",
              "    }\n",
              "</style>\n",
              "<table border=\"1\" class=\"dataframe\">\n",
              "  <thead>\n",
              "    <tr style=\"text-align: right;\">\n",
              "      <th></th>\n",
              "      <th>Date</th>\n",
              "      <th>CVI</th>\n",
              "      <th>EVI</th>\n",
              "      <th>EVI2</th>\n",
              "      <th>GLI</th>\n",
              "      <th>GNDVI</th>\n",
              "      <th>NDVI</th>\n",
              "      <th>NDWI</th>\n",
              "      <th>SAVI</th>\n",
              "      <th>yield/acer</th>\n",
              "    </tr>\n",
              "  </thead>\n",
              "  <tbody>\n",
              "    <tr>\n",
              "      <th>0</th>\n",
              "      <td>Block_3A</td>\n",
              "      <td>3.314836</td>\n",
              "      <td>0.377187</td>\n",
              "      <td>0.629505</td>\n",
              "      <td>0.125957</td>\n",
              "      <td>0.558451</td>\n",
              "      <td>0.577358</td>\n",
              "      <td>-0.577358</td>\n",
              "      <td>0.391762</td>\n",
              "      <td>173.165594</td>\n",
              "    </tr>\n",
              "    <tr>\n",
              "      <th>1</th>\n",
              "      <td>Block_3B</td>\n",
              "      <td>3.254148</td>\n",
              "      <td>0.396382</td>\n",
              "      <td>0.656389</td>\n",
              "      <td>0.126742</td>\n",
              "      <td>0.553079</td>\n",
              "      <td>0.573202</td>\n",
              "      <td>-0.573202</td>\n",
              "      <td>0.408655</td>\n",
              "      <td>190.160750</td>\n",
              "    </tr>\n",
              "    <tr>\n",
              "      <th>2</th>\n",
              "      <td>Block_6</td>\n",
              "      <td>3.153244</td>\n",
              "      <td>0.361809</td>\n",
              "      <td>0.603965</td>\n",
              "      <td>0.144976</td>\n",
              "      <td>0.561054</td>\n",
              "      <td>0.597163</td>\n",
              "      <td>-0.597163</td>\n",
              "      <td>0.370265</td>\n",
              "      <td>166.650522</td>\n",
              "    </tr>\n",
              "    <tr>\n",
              "      <th>3</th>\n",
              "      <td>Block_7a</td>\n",
              "      <td>3.045632</td>\n",
              "      <td>0.257264</td>\n",
              "      <td>0.419152</td>\n",
              "      <td>0.125760</td>\n",
              "      <td>0.532351</td>\n",
              "      <td>0.557745</td>\n",
              "      <td>-0.557745</td>\n",
              "      <td>0.270678</td>\n",
              "      <td>172.325928</td>\n",
              "    </tr>\n",
              "    <tr>\n",
              "      <th>4</th>\n",
              "      <td>Block_7b</td>\n",
              "      <td>2.923830</td>\n",
              "      <td>0.221227</td>\n",
              "      <td>0.374607</td>\n",
              "      <td>0.121004</td>\n",
              "      <td>0.509866</td>\n",
              "      <td>0.527424</td>\n",
              "      <td>-0.527424</td>\n",
              "      <td>0.248608</td>\n",
              "      <td>227.102086</td>\n",
              "    </tr>\n",
              "  </tbody>\n",
              "</table>\n",
              "</div>\n",
              "      <button class=\"colab-df-convert\" onclick=\"convertToInteractive('df-07a8bfeb-2601-4128-8145-6c75c8291ef8')\"\n",
              "              title=\"Convert this dataframe to an interactive table.\"\n",
              "              style=\"display:none;\">\n",
              "        \n",
              "  <svg xmlns=\"http://www.w3.org/2000/svg\" height=\"24px\"viewBox=\"0 0 24 24\"\n",
              "       width=\"24px\">\n",
              "    <path d=\"M0 0h24v24H0V0z\" fill=\"none\"/>\n",
              "    <path d=\"M18.56 5.44l.94 2.06.94-2.06 2.06-.94-2.06-.94-.94-2.06-.94 2.06-2.06.94zm-11 1L8.5 8.5l.94-2.06 2.06-.94-2.06-.94L8.5 2.5l-.94 2.06-2.06.94zm10 10l.94 2.06.94-2.06 2.06-.94-2.06-.94-.94-2.06-.94 2.06-2.06.94z\"/><path d=\"M17.41 7.96l-1.37-1.37c-.4-.4-.92-.59-1.43-.59-.52 0-1.04.2-1.43.59L10.3 9.45l-7.72 7.72c-.78.78-.78 2.05 0 2.83L4 21.41c.39.39.9.59 1.41.59.51 0 1.02-.2 1.41-.59l7.78-7.78 2.81-2.81c.8-.78.8-2.07 0-2.86zM5.41 20L4 18.59l7.72-7.72 1.47 1.35L5.41 20z\"/>\n",
              "  </svg>\n",
              "      </button>\n",
              "      \n",
              "  <style>\n",
              "    .colab-df-container {\n",
              "      display:flex;\n",
              "      flex-wrap:wrap;\n",
              "      gap: 12px;\n",
              "    }\n",
              "\n",
              "    .colab-df-convert {\n",
              "      background-color: #E8F0FE;\n",
              "      border: none;\n",
              "      border-radius: 50%;\n",
              "      cursor: pointer;\n",
              "      display: none;\n",
              "      fill: #1967D2;\n",
              "      height: 32px;\n",
              "      padding: 0 0 0 0;\n",
              "      width: 32px;\n",
              "    }\n",
              "\n",
              "    .colab-df-convert:hover {\n",
              "      background-color: #E2EBFA;\n",
              "      box-shadow: 0px 1px 2px rgba(60, 64, 67, 0.3), 0px 1px 3px 1px rgba(60, 64, 67, 0.15);\n",
              "      fill: #174EA6;\n",
              "    }\n",
              "\n",
              "    [theme=dark] .colab-df-convert {\n",
              "      background-color: #3B4455;\n",
              "      fill: #D2E3FC;\n",
              "    }\n",
              "\n",
              "    [theme=dark] .colab-df-convert:hover {\n",
              "      background-color: #434B5C;\n",
              "      box-shadow: 0px 1px 3px 1px rgba(0, 0, 0, 0.15);\n",
              "      filter: drop-shadow(0px 1px 2px rgba(0, 0, 0, 0.3));\n",
              "      fill: #FFFFFF;\n",
              "    }\n",
              "  </style>\n",
              "\n",
              "      <script>\n",
              "        const buttonEl =\n",
              "          document.querySelector('#df-07a8bfeb-2601-4128-8145-6c75c8291ef8 button.colab-df-convert');\n",
              "        buttonEl.style.display =\n",
              "          google.colab.kernel.accessAllowed ? 'block' : 'none';\n",
              "\n",
              "        async function convertToInteractive(key) {\n",
              "          const element = document.querySelector('#df-07a8bfeb-2601-4128-8145-6c75c8291ef8');\n",
              "          const dataTable =\n",
              "            await google.colab.kernel.invokeFunction('convertToInteractive',\n",
              "                                                     [key], {});\n",
              "          if (!dataTable) return;\n",
              "\n",
              "          const docLinkHtml = 'Like what you see? Visit the ' +\n",
              "            '<a target=\"_blank\" href=https://colab.research.google.com/notebooks/data_table.ipynb>data table notebook</a>'\n",
              "            + ' to learn more about interactive tables.';\n",
              "          element.innerHTML = '';\n",
              "          dataTable['output_type'] = 'display_data';\n",
              "          await google.colab.output.renderOutput(dataTable, element);\n",
              "          const docLink = document.createElement('div');\n",
              "          docLink.innerHTML = docLinkHtml;\n",
              "          element.appendChild(docLink);\n",
              "        }\n",
              "      </script>\n",
              "    </div>\n",
              "  </div>\n",
              "  "
            ]
          },
          "metadata": {},
          "execution_count": 1
        }
      ]
    },
    {
      "cell_type": "code",
      "source": [
        "X= df.iloc[:, 1:-1]\n",
        "#X.columns = X.columns.astype(str)\n",
        "X"
      ],
      "metadata": {
        "colab": {
          "base_uri": "https://localhost:8080/",
          "height": 394
        },
        "id": "mfhYOFWm1wjr",
        "outputId": "075a1206-7bcb-418c-fd7f-15649f8e3fd8"
      },
      "execution_count": 4,
      "outputs": [
        {
          "output_type": "execute_result",
          "data": {
            "text/plain": [
              "         CVI       EVI      EVI2       GLI     GNDVI      NDVI      NDWI  \\\n",
              "0   3.314836  0.377187  0.629505  0.125957  0.558451  0.577358 -0.577358   \n",
              "1   3.254148  0.396382  0.656389  0.126742  0.553079  0.573202 -0.573202   \n",
              "2   3.153244  0.361809  0.603965  0.144976  0.561054  0.597163 -0.597163   \n",
              "3   3.045632  0.257264  0.419152  0.125760  0.532351  0.557745 -0.557745   \n",
              "4   2.923830  0.221227  0.374607  0.121004  0.509866  0.527424 -0.527424   \n",
              "5   3.204426  0.362277  0.457999  0.123158  0.558373  0.581141 -0.581141   \n",
              "6   3.190185  0.391573  0.651457  0.133222  0.558061  0.591349 -0.591349   \n",
              "7   3.273085  0.360076  0.617187  0.122624  0.552211  0.572445 -0.572445   \n",
              "8   3.272647  0.408976  0.675797  0.110742  0.542629  0.555171 -0.555171   \n",
              "9   3.240294  0.409792  0.684137  0.117746  0.549331  0.569460 -0.569460   \n",
              "10  2.277847  0.290994  0.580120  0.102473  0.484656  0.492902 -0.492902   \n",
              "\n",
              "        SAVI  \n",
              "0   0.391762  \n",
              "1   0.408655  \n",
              "2   0.370265  \n",
              "3   0.270678  \n",
              "4   0.248608  \n",
              "5   0.287873  \n",
              "6   0.409882  \n",
              "7   0.390613  \n",
              "8   0.436582  \n",
              "9   0.440015  \n",
              "10  0.404495  "
            ],
            "text/html": [
              "\n",
              "  <div id=\"df-d2a0a453-9f32-4669-9803-04e6440fcf53\">\n",
              "    <div class=\"colab-df-container\">\n",
              "      <div>\n",
              "<style scoped>\n",
              "    .dataframe tbody tr th:only-of-type {\n",
              "        vertical-align: middle;\n",
              "    }\n",
              "\n",
              "    .dataframe tbody tr th {\n",
              "        vertical-align: top;\n",
              "    }\n",
              "\n",
              "    .dataframe thead th {\n",
              "        text-align: right;\n",
              "    }\n",
              "</style>\n",
              "<table border=\"1\" class=\"dataframe\">\n",
              "  <thead>\n",
              "    <tr style=\"text-align: right;\">\n",
              "      <th></th>\n",
              "      <th>CVI</th>\n",
              "      <th>EVI</th>\n",
              "      <th>EVI2</th>\n",
              "      <th>GLI</th>\n",
              "      <th>GNDVI</th>\n",
              "      <th>NDVI</th>\n",
              "      <th>NDWI</th>\n",
              "      <th>SAVI</th>\n",
              "    </tr>\n",
              "  </thead>\n",
              "  <tbody>\n",
              "    <tr>\n",
              "      <th>0</th>\n",
              "      <td>3.314836</td>\n",
              "      <td>0.377187</td>\n",
              "      <td>0.629505</td>\n",
              "      <td>0.125957</td>\n",
              "      <td>0.558451</td>\n",
              "      <td>0.577358</td>\n",
              "      <td>-0.577358</td>\n",
              "      <td>0.391762</td>\n",
              "    </tr>\n",
              "    <tr>\n",
              "      <th>1</th>\n",
              "      <td>3.254148</td>\n",
              "      <td>0.396382</td>\n",
              "      <td>0.656389</td>\n",
              "      <td>0.126742</td>\n",
              "      <td>0.553079</td>\n",
              "      <td>0.573202</td>\n",
              "      <td>-0.573202</td>\n",
              "      <td>0.408655</td>\n",
              "    </tr>\n",
              "    <tr>\n",
              "      <th>2</th>\n",
              "      <td>3.153244</td>\n",
              "      <td>0.361809</td>\n",
              "      <td>0.603965</td>\n",
              "      <td>0.144976</td>\n",
              "      <td>0.561054</td>\n",
              "      <td>0.597163</td>\n",
              "      <td>-0.597163</td>\n",
              "      <td>0.370265</td>\n",
              "    </tr>\n",
              "    <tr>\n",
              "      <th>3</th>\n",
              "      <td>3.045632</td>\n",
              "      <td>0.257264</td>\n",
              "      <td>0.419152</td>\n",
              "      <td>0.125760</td>\n",
              "      <td>0.532351</td>\n",
              "      <td>0.557745</td>\n",
              "      <td>-0.557745</td>\n",
              "      <td>0.270678</td>\n",
              "    </tr>\n",
              "    <tr>\n",
              "      <th>4</th>\n",
              "      <td>2.923830</td>\n",
              "      <td>0.221227</td>\n",
              "      <td>0.374607</td>\n",
              "      <td>0.121004</td>\n",
              "      <td>0.509866</td>\n",
              "      <td>0.527424</td>\n",
              "      <td>-0.527424</td>\n",
              "      <td>0.248608</td>\n",
              "    </tr>\n",
              "    <tr>\n",
              "      <th>5</th>\n",
              "      <td>3.204426</td>\n",
              "      <td>0.362277</td>\n",
              "      <td>0.457999</td>\n",
              "      <td>0.123158</td>\n",
              "      <td>0.558373</td>\n",
              "      <td>0.581141</td>\n",
              "      <td>-0.581141</td>\n",
              "      <td>0.287873</td>\n",
              "    </tr>\n",
              "    <tr>\n",
              "      <th>6</th>\n",
              "      <td>3.190185</td>\n",
              "      <td>0.391573</td>\n",
              "      <td>0.651457</td>\n",
              "      <td>0.133222</td>\n",
              "      <td>0.558061</td>\n",
              "      <td>0.591349</td>\n",
              "      <td>-0.591349</td>\n",
              "      <td>0.409882</td>\n",
              "    </tr>\n",
              "    <tr>\n",
              "      <th>7</th>\n",
              "      <td>3.273085</td>\n",
              "      <td>0.360076</td>\n",
              "      <td>0.617187</td>\n",
              "      <td>0.122624</td>\n",
              "      <td>0.552211</td>\n",
              "      <td>0.572445</td>\n",
              "      <td>-0.572445</td>\n",
              "      <td>0.390613</td>\n",
              "    </tr>\n",
              "    <tr>\n",
              "      <th>8</th>\n",
              "      <td>3.272647</td>\n",
              "      <td>0.408976</td>\n",
              "      <td>0.675797</td>\n",
              "      <td>0.110742</td>\n",
              "      <td>0.542629</td>\n",
              "      <td>0.555171</td>\n",
              "      <td>-0.555171</td>\n",
              "      <td>0.436582</td>\n",
              "    </tr>\n",
              "    <tr>\n",
              "      <th>9</th>\n",
              "      <td>3.240294</td>\n",
              "      <td>0.409792</td>\n",
              "      <td>0.684137</td>\n",
              "      <td>0.117746</td>\n",
              "      <td>0.549331</td>\n",
              "      <td>0.569460</td>\n",
              "      <td>-0.569460</td>\n",
              "      <td>0.440015</td>\n",
              "    </tr>\n",
              "    <tr>\n",
              "      <th>10</th>\n",
              "      <td>2.277847</td>\n",
              "      <td>0.290994</td>\n",
              "      <td>0.580120</td>\n",
              "      <td>0.102473</td>\n",
              "      <td>0.484656</td>\n",
              "      <td>0.492902</td>\n",
              "      <td>-0.492902</td>\n",
              "      <td>0.404495</td>\n",
              "    </tr>\n",
              "  </tbody>\n",
              "</table>\n",
              "</div>\n",
              "      <button class=\"colab-df-convert\" onclick=\"convertToInteractive('df-d2a0a453-9f32-4669-9803-04e6440fcf53')\"\n",
              "              title=\"Convert this dataframe to an interactive table.\"\n",
              "              style=\"display:none;\">\n",
              "        \n",
              "  <svg xmlns=\"http://www.w3.org/2000/svg\" height=\"24px\"viewBox=\"0 0 24 24\"\n",
              "       width=\"24px\">\n",
              "    <path d=\"M0 0h24v24H0V0z\" fill=\"none\"/>\n",
              "    <path d=\"M18.56 5.44l.94 2.06.94-2.06 2.06-.94-2.06-.94-.94-2.06-.94 2.06-2.06.94zm-11 1L8.5 8.5l.94-2.06 2.06-.94-2.06-.94L8.5 2.5l-.94 2.06-2.06.94zm10 10l.94 2.06.94-2.06 2.06-.94-2.06-.94-.94-2.06-.94 2.06-2.06.94z\"/><path d=\"M17.41 7.96l-1.37-1.37c-.4-.4-.92-.59-1.43-.59-.52 0-1.04.2-1.43.59L10.3 9.45l-7.72 7.72c-.78.78-.78 2.05 0 2.83L4 21.41c.39.39.9.59 1.41.59.51 0 1.02-.2 1.41-.59l7.78-7.78 2.81-2.81c.8-.78.8-2.07 0-2.86zM5.41 20L4 18.59l7.72-7.72 1.47 1.35L5.41 20z\"/>\n",
              "  </svg>\n",
              "      </button>\n",
              "      \n",
              "  <style>\n",
              "    .colab-df-container {\n",
              "      display:flex;\n",
              "      flex-wrap:wrap;\n",
              "      gap: 12px;\n",
              "    }\n",
              "\n",
              "    .colab-df-convert {\n",
              "      background-color: #E8F0FE;\n",
              "      border: none;\n",
              "      border-radius: 50%;\n",
              "      cursor: pointer;\n",
              "      display: none;\n",
              "      fill: #1967D2;\n",
              "      height: 32px;\n",
              "      padding: 0 0 0 0;\n",
              "      width: 32px;\n",
              "    }\n",
              "\n",
              "    .colab-df-convert:hover {\n",
              "      background-color: #E2EBFA;\n",
              "      box-shadow: 0px 1px 2px rgba(60, 64, 67, 0.3), 0px 1px 3px 1px rgba(60, 64, 67, 0.15);\n",
              "      fill: #174EA6;\n",
              "    }\n",
              "\n",
              "    [theme=dark] .colab-df-convert {\n",
              "      background-color: #3B4455;\n",
              "      fill: #D2E3FC;\n",
              "    }\n",
              "\n",
              "    [theme=dark] .colab-df-convert:hover {\n",
              "      background-color: #434B5C;\n",
              "      box-shadow: 0px 1px 3px 1px rgba(0, 0, 0, 0.15);\n",
              "      filter: drop-shadow(0px 1px 2px rgba(0, 0, 0, 0.3));\n",
              "      fill: #FFFFFF;\n",
              "    }\n",
              "  </style>\n",
              "\n",
              "      <script>\n",
              "        const buttonEl =\n",
              "          document.querySelector('#df-d2a0a453-9f32-4669-9803-04e6440fcf53 button.colab-df-convert');\n",
              "        buttonEl.style.display =\n",
              "          google.colab.kernel.accessAllowed ? 'block' : 'none';\n",
              "\n",
              "        async function convertToInteractive(key) {\n",
              "          const element = document.querySelector('#df-d2a0a453-9f32-4669-9803-04e6440fcf53');\n",
              "          const dataTable =\n",
              "            await google.colab.kernel.invokeFunction('convertToInteractive',\n",
              "                                                     [key], {});\n",
              "          if (!dataTable) return;\n",
              "\n",
              "          const docLinkHtml = 'Like what you see? Visit the ' +\n",
              "            '<a target=\"_blank\" href=https://colab.research.google.com/notebooks/data_table.ipynb>data table notebook</a>'\n",
              "            + ' to learn more about interactive tables.';\n",
              "          element.innerHTML = '';\n",
              "          dataTable['output_type'] = 'display_data';\n",
              "          await google.colab.output.renderOutput(dataTable, element);\n",
              "          const docLink = document.createElement('div');\n",
              "          docLink.innerHTML = docLinkHtml;\n",
              "          element.appendChild(docLink);\n",
              "        }\n",
              "      </script>\n",
              "    </div>\n",
              "  </div>\n",
              "  "
            ]
          },
          "metadata": {},
          "execution_count": 4
        }
      ]
    },
    {
      "cell_type": "code",
      "source": [
        "# X= df.drop(['Date', 'yield/acer','block_Block_7b'], axis='columns')\n",
        "# X.head()"
      ],
      "metadata": {
        "id": "oOPJ1GcJ14nO"
      },
      "execution_count": null,
      "outputs": []
    },
    {
      "cell_type": "code",
      "source": [
        "y= df['yield/acer']\n",
        "y.head()"
      ],
      "metadata": {
        "colab": {
          "base_uri": "https://localhost:8080/"
        },
        "id": "K-VvmDBW14VX",
        "outputId": "319a4ddd-e424-4490-8486-e58b878f05c6"
      },
      "execution_count": 2,
      "outputs": [
        {
          "output_type": "execute_result",
          "data": {
            "text/plain": [
              "0    173.165594\n",
              "1    190.160750\n",
              "2    166.650522\n",
              "3    172.325928\n",
              "4    227.102086\n",
              "Name: yield/acer, dtype: float64"
            ]
          },
          "metadata": {},
          "execution_count": 2
        }
      ]
    },
    {
      "cell_type": "code",
      "source": [
        "from sklearn.cross_decomposition import PLSRegression\n",
        "from sklearn.model_selection import train_test_split\n",
        "from sklearn.metrics import mean_squared_error, r2_score\n",
        "\n",
        "# Split the data into training and testing sets\n",
        "X_train, X_test, y_train, y_test = train_test_split(X, y, test_size=0.3, random_state=42)\n",
        "\n",
        "# Initialize and fit the PLS regression model\n",
        "n_components = 1  # Number of components for PLS\n",
        "pls = PLSRegression(n_components=n_components)\n",
        "pls.fit(X_train, y_train)\n",
        "\n",
        "# Predict crop yield on the testing set\n",
        "y_pred = pls.predict(X_test)\n",
        "\n",
        "# Evaluate the model performance\n",
        "mse = mean_squared_error(y_test, y_pred)\n",
        "r2 = r2_score(y_test, y_pred)\n",
        "\n",
        "# Print the results\n",
        "print(\"Mean Squared Error (MSE):\", mse)\n",
        "print(\"R-squared (R2) Score:\", r2)\n"
      ],
      "metadata": {
        "colab": {
          "base_uri": "https://localhost:8080/"
        },
        "id": "RoDT770KIQ7_",
        "outputId": "94d30c21-24c0-4862-fe7d-1164e47c9ac4"
      },
      "execution_count": 5,
      "outputs": [
        {
          "output_type": "stream",
          "name": "stdout",
          "text": [
            "Mean Squared Error (MSE): 2865.064678186535\n",
            "R-squared (R2) Score: -2.7650320846036833\n"
          ]
        }
      ]
    },
    {
      "cell_type": "code",
      "source": [
        "import pandas as pd\n",
        "import statsmodels.api as sm\n",
        "model = sm.OLS(y, X)\n",
        "results = model.fit()\n",
        "\n",
        "# Print the regression results\n",
        "print(results.summary())\n"
      ],
      "metadata": {
        "id": "5mET_vCYJCc2",
        "colab": {
          "base_uri": "https://localhost:8080/"
        },
        "outputId": "57562dae-17f6-4a91-d6de-ab4ac94c41b3"
      },
      "execution_count": 6,
      "outputs": [
        {
          "output_type": "stream",
          "name": "stdout",
          "text": [
            "                                 OLS Regression Results                                \n",
            "=======================================================================================\n",
            "Dep. Variable:             yield/acer   R-squared (uncentered):                   0.991\n",
            "Model:                            OLS   Adj. R-squared (uncentered):              0.975\n",
            "Method:                 Least Squares   F-statistic:                              62.29\n",
            "Date:                Tue, 27 Jun 2023   Prob (F-statistic):                    0.000641\n",
            "Time:                        17:09:34   Log-Likelihood:                         -46.117\n",
            "No. Observations:                  11   AIC:                                      106.2\n",
            "Df Residuals:                       4   BIC:                                      109.0\n",
            "Df Model:                           7                                                  \n",
            "Covariance Type:            nonrobust                                                  \n",
            "==============================================================================\n",
            "                 coef    std err          t      P>|t|      [0.025      0.975]\n",
            "------------------------------------------------------------------------------\n",
            "CVI          102.7683    120.446      0.853      0.442    -231.645     437.181\n",
            "EVI          788.6500    806.154      0.978      0.383   -1449.591    3026.891\n",
            "EVI2       -1888.2339   2023.593     -0.933      0.404   -7506.629    3730.162\n",
            "GLI         8110.0467   5147.852      1.575      0.190   -6182.682    2.24e+04\n",
            "GNDVI       3267.4975   2587.412      1.263      0.275   -3916.310    1.05e+04\n",
            "NDVI       -2626.0752   1678.755     -1.564      0.193   -7287.048    2034.897\n",
            "NDWI        2626.0752   1678.755      1.564      0.193   -2034.897    7287.048\n",
            "SAVI        2303.6041   2847.864      0.809      0.464   -5603.334    1.02e+04\n",
            "==============================================================================\n",
            "Omnibus:                        1.288   Durbin-Watson:                   2.307\n",
            "Prob(Omnibus):                  0.525   Jarque-Bera (JB):                0.338\n",
            "Skew:                           0.429   Prob(JB):                        0.845\n",
            "Kurtosis:                       3.002   Cond. No.                     1.55e+19\n",
            "==============================================================================\n",
            "\n",
            "Notes:\n",
            "[1] R² is computed without centering (uncentered) since the model does not contain a constant.\n",
            "[2] Standard Errors assume that the covariance matrix of the errors is correctly specified.\n",
            "[3] The smallest eigenvalue is 5.13e-37. This might indicate that there are\n",
            "strong multicollinearity problems or that the design matrix is singular.\n"
          ]
        },
        {
          "output_type": "stream",
          "name": "stderr",
          "text": [
            "/usr/local/lib/python3.10/dist-packages/scipy/stats/_stats_py.py:1736: UserWarning: kurtosistest only valid for n>=20 ... continuing anyway, n=11\n",
            "  warnings.warn(\"kurtosistest only valid for n>=20 ... continuing \"\n"
          ]
        }
      ]
    },
    {
      "cell_type": "code",
      "source": [
        "print(y_pred)"
      ],
      "metadata": {
        "colab": {
          "base_uri": "https://localhost:8080/"
        },
        "id": "_aMKvzYuLIk9",
        "outputId": "e18c61e6-636d-49b4-9c29-df46d0d58030"
      },
      "execution_count": 7,
      "outputs": [
        {
          "output_type": "stream",
          "name": "stdout",
          "text": [
            "[[172.30625004]\n",
            " [159.0692315 ]\n",
            " [158.42874233]\n",
            " [224.71231582]]\n"
          ]
        }
      ]
    },
    {
      "cell_type": "code",
      "source": [
        "from sklearn.cross_decomposition import PLSRegression\n",
        "from sklearn.model_selection import train_test_split\n",
        "from sklearn.metrics import mean_squared_error, r2_score\n",
        "\n",
        "# Split the data into training and testing sets\n",
        "X_train, X_test, y_train, y_test = train_test_split(X, y, test_size=0.2, random_state=42)\n",
        "\n",
        "# Initialize and fit the PLS regression model\n",
        "n_components = 1  # Number of components for PLS\n",
        "pls = PLSRegression(n_components=n_components)\n",
        "pls.fit(X_train, y_train)\n",
        "\n",
        "# Predict crop yield on the testing set\n",
        "y_pred = pls.predict(X_test)\n",
        "\n",
        "# Evaluate the model performance\n",
        "mse = mean_squared_error(y_test, y_pred)\n",
        "r2 = r2_score(y_test, y_pred)\n",
        "\n",
        "# Print the results\n",
        "print(\"Mean Squared Error (MSE):\", mse)\n",
        "print(\"R-squared (R2) Score:\", r2)\n",
        "model = sm.OLS(y, X)\n",
        "results = model.fit()\n",
        "\n",
        "# Print the regression results\n",
        "print(results.summary())"
      ],
      "metadata": {
        "colab": {
          "base_uri": "https://localhost:8080/"
        },
        "id": "ws7Jmed0uXq8",
        "outputId": "8e5ae908-3633-4db2-b612-1c34e8fb6d42"
      },
      "execution_count": 8,
      "outputs": [
        {
          "output_type": "stream",
          "name": "stdout",
          "text": [
            "Mean Squared Error (MSE): 229.12231199183097\n",
            "R-squared (R2) Score: 0.6889812905636714\n",
            "                                 OLS Regression Results                                \n",
            "=======================================================================================\n",
            "Dep. Variable:             yield/acer   R-squared (uncentered):                   0.991\n",
            "Model:                            OLS   Adj. R-squared (uncentered):              0.975\n",
            "Method:                 Least Squares   F-statistic:                              62.29\n",
            "Date:                Tue, 27 Jun 2023   Prob (F-statistic):                    0.000641\n",
            "Time:                        17:10:37   Log-Likelihood:                         -46.117\n",
            "No. Observations:                  11   AIC:                                      106.2\n",
            "Df Residuals:                       4   BIC:                                      109.0\n",
            "Df Model:                           7                                                  \n",
            "Covariance Type:            nonrobust                                                  \n",
            "==============================================================================\n",
            "                 coef    std err          t      P>|t|      [0.025      0.975]\n",
            "------------------------------------------------------------------------------\n",
            "CVI          102.7683    120.446      0.853      0.442    -231.645     437.181\n",
            "EVI          788.6500    806.154      0.978      0.383   -1449.591    3026.891\n",
            "EVI2       -1888.2339   2023.593     -0.933      0.404   -7506.629    3730.162\n",
            "GLI         8110.0467   5147.852      1.575      0.190   -6182.682    2.24e+04\n",
            "GNDVI       3267.4975   2587.412      1.263      0.275   -3916.310    1.05e+04\n",
            "NDVI       -2626.0752   1678.755     -1.564      0.193   -7287.048    2034.897\n",
            "NDWI        2626.0752   1678.755      1.564      0.193   -2034.897    7287.048\n",
            "SAVI        2303.6041   2847.864      0.809      0.464   -5603.334    1.02e+04\n",
            "==============================================================================\n",
            "Omnibus:                        1.288   Durbin-Watson:                   2.307\n",
            "Prob(Omnibus):                  0.525   Jarque-Bera (JB):                0.338\n",
            "Skew:                           0.429   Prob(JB):                        0.845\n",
            "Kurtosis:                       3.002   Cond. No.                     1.55e+19\n",
            "==============================================================================\n",
            "\n",
            "Notes:\n",
            "[1] R² is computed without centering (uncentered) since the model does not contain a constant.\n",
            "[2] Standard Errors assume that the covariance matrix of the errors is correctly specified.\n",
            "[3] The smallest eigenvalue is 5.13e-37. This might indicate that there are\n",
            "strong multicollinearity problems or that the design matrix is singular.\n"
          ]
        },
        {
          "output_type": "stream",
          "name": "stderr",
          "text": [
            "/usr/local/lib/python3.10/dist-packages/scipy/stats/_stats_py.py:1736: UserWarning: kurtosistest only valid for n>=20 ... continuing anyway, n=11\n",
            "  warnings.warn(\"kurtosistest only valid for n>=20 ... continuing \"\n"
          ]
        }
      ]
    },
    {
      "cell_type": "code",
      "source": [
        "import pandas as pd\n",
        "import statsmodels.api as sm\n",
        "model = sm.OLS(y, X)\n",
        "results = model.fit()\n",
        "\n",
        "# Print the regression results\n",
        "print(results.summary())"
      ],
      "metadata": {
        "colab": {
          "base_uri": "https://localhost:8080/"
        },
        "id": "-myIf5f_uerS",
        "outputId": "8a001a88-f440-4345-d2b9-f983334db268"
      },
      "execution_count": 9,
      "outputs": [
        {
          "output_type": "stream",
          "name": "stdout",
          "text": [
            "                                 OLS Regression Results                                \n",
            "=======================================================================================\n",
            "Dep. Variable:             yield/acer   R-squared (uncentered):                   0.991\n",
            "Model:                            OLS   Adj. R-squared (uncentered):              0.975\n",
            "Method:                 Least Squares   F-statistic:                              62.29\n",
            "Date:                Tue, 27 Jun 2023   Prob (F-statistic):                    0.000641\n",
            "Time:                        17:10:54   Log-Likelihood:                         -46.117\n",
            "No. Observations:                  11   AIC:                                      106.2\n",
            "Df Residuals:                       4   BIC:                                      109.0\n",
            "Df Model:                           7                                                  \n",
            "Covariance Type:            nonrobust                                                  \n",
            "==============================================================================\n",
            "                 coef    std err          t      P>|t|      [0.025      0.975]\n",
            "------------------------------------------------------------------------------\n",
            "CVI          102.7683    120.446      0.853      0.442    -231.645     437.181\n",
            "EVI          788.6500    806.154      0.978      0.383   -1449.591    3026.891\n",
            "EVI2       -1888.2339   2023.593     -0.933      0.404   -7506.629    3730.162\n",
            "GLI         8110.0467   5147.852      1.575      0.190   -6182.682    2.24e+04\n",
            "GNDVI       3267.4975   2587.412      1.263      0.275   -3916.310    1.05e+04\n",
            "NDVI       -2626.0752   1678.755     -1.564      0.193   -7287.048    2034.897\n",
            "NDWI        2626.0752   1678.755      1.564      0.193   -2034.897    7287.048\n",
            "SAVI        2303.6041   2847.864      0.809      0.464   -5603.334    1.02e+04\n",
            "==============================================================================\n",
            "Omnibus:                        1.288   Durbin-Watson:                   2.307\n",
            "Prob(Omnibus):                  0.525   Jarque-Bera (JB):                0.338\n",
            "Skew:                           0.429   Prob(JB):                        0.845\n",
            "Kurtosis:                       3.002   Cond. No.                     1.55e+19\n",
            "==============================================================================\n",
            "\n",
            "Notes:\n",
            "[1] R² is computed without centering (uncentered) since the model does not contain a constant.\n",
            "[2] Standard Errors assume that the covariance matrix of the errors is correctly specified.\n",
            "[3] The smallest eigenvalue is 5.13e-37. This might indicate that there are\n",
            "strong multicollinearity problems or that the design matrix is singular.\n"
          ]
        },
        {
          "output_type": "stream",
          "name": "stderr",
          "text": [
            "/usr/local/lib/python3.10/dist-packages/scipy/stats/_stats_py.py:1736: UserWarning: kurtosistest only valid for n>=20 ... continuing anyway, n=11\n",
            "  warnings.warn(\"kurtosistest only valid for n>=20 ... continuing \"\n"
          ]
        }
      ]
    },
    {
      "cell_type": "code",
      "source": [
        "print(y_pred)"
      ],
      "metadata": {
        "id": "lMMHOmOMuwiP",
        "colab": {
          "base_uri": "https://localhost:8080/"
        },
        "outputId": "cc30977a-e1b2-4b3f-a8e2-504573ceeab5"
      },
      "execution_count": null,
      "outputs": [
        {
          "output_type": "stream",
          "name": "stdout",
          "text": [
            "[[170.85457241]\n",
            " [173.33607864]\n",
            " [171.66071471]]\n"
          ]
        }
      ]
    },
    {
      "cell_type": "markdown",
      "source": [
        "# Partial Least Square Regression on Individual Parameters"
      ],
      "metadata": {
        "id": "oXEX43APLyNZ"
      }
    },
    {
      "cell_type": "code",
      "source": [
        "from sklearn.cross_decomposition import PLSRegression\n",
        "from sklearn.model_selection import train_test_split\n",
        "from sklearn.metrics import mean_squared_error, r2_score\n",
        "\n",
        "# Split the data into training and testing sets\n",
        "X_train, X_test, y_train, y_test = train_test_split(X, y, test_size=0.3, random_state=42)\n",
        "\n",
        "# Initialize and fit the PLS regression model\n",
        "n_components = 1  # Number of components for PLS\n",
        "pls = PLSRegression(n_components=n_components)\n",
        "pls.fit(X_train, y_train)\n",
        "\n",
        "# Predict crop yield on the testing set\n",
        "y_pred = pls.predict(X_test)\n",
        "\n",
        "# Evaluate the model performance\n",
        "mse = mean_squared_error(y_test, y_pred)\n",
        "r2 = r2_score(y_test, y_pred)\n",
        "\n",
        "# Print the results\n",
        "print(\"Mean Squared Error (MSE):\", mse)\n",
        "print(\"R-squared (R2) Score:\", r2)\n",
        "model = sm.OLS(y, X)\n",
        "results = model.fit()\n",
        "\n",
        "# Print the regression results\n",
        "print(results.summary())"
      ],
      "metadata": {
        "colab": {
          "base_uri": "https://localhost:8080/"
        },
        "id": "H4Q2Kg9vRCXM",
        "outputId": "eced5b0b-9c1c-4d4f-fde0-22758deb4796"
      },
      "execution_count": 11,
      "outputs": [
        {
          "output_type": "stream",
          "name": "stdout",
          "text": [
            "Mean Squared Error (MSE): 2865.064678186535\n",
            "R-squared (R2) Score: -2.7650320846036833\n",
            "                                 OLS Regression Results                                \n",
            "=======================================================================================\n",
            "Dep. Variable:             yield/acer   R-squared (uncentered):                   0.991\n",
            "Model:                            OLS   Adj. R-squared (uncentered):              0.975\n",
            "Method:                 Least Squares   F-statistic:                              62.29\n",
            "Date:                Tue, 27 Jun 2023   Prob (F-statistic):                    0.000641\n",
            "Time:                        17:12:09   Log-Likelihood:                         -46.117\n",
            "No. Observations:                  11   AIC:                                      106.2\n",
            "Df Residuals:                       4   BIC:                                      109.0\n",
            "Df Model:                           7                                                  \n",
            "Covariance Type:            nonrobust                                                  \n",
            "==============================================================================\n",
            "                 coef    std err          t      P>|t|      [0.025      0.975]\n",
            "------------------------------------------------------------------------------\n",
            "CVI          102.7683    120.446      0.853      0.442    -231.645     437.181\n",
            "EVI          788.6500    806.154      0.978      0.383   -1449.591    3026.891\n",
            "EVI2       -1888.2339   2023.593     -0.933      0.404   -7506.629    3730.162\n",
            "GLI         8110.0467   5147.852      1.575      0.190   -6182.682    2.24e+04\n",
            "GNDVI       3267.4975   2587.412      1.263      0.275   -3916.310    1.05e+04\n",
            "NDVI       -2626.0752   1678.755     -1.564      0.193   -7287.048    2034.897\n",
            "NDWI        2626.0752   1678.755      1.564      0.193   -2034.897    7287.048\n",
            "SAVI        2303.6041   2847.864      0.809      0.464   -5603.334    1.02e+04\n",
            "==============================================================================\n",
            "Omnibus:                        1.288   Durbin-Watson:                   2.307\n",
            "Prob(Omnibus):                  0.525   Jarque-Bera (JB):                0.338\n",
            "Skew:                           0.429   Prob(JB):                        0.845\n",
            "Kurtosis:                       3.002   Cond. No.                     1.55e+19\n",
            "==============================================================================\n",
            "\n",
            "Notes:\n",
            "[1] R² is computed without centering (uncentered) since the model does not contain a constant.\n",
            "[2] Standard Errors assume that the covariance matrix of the errors is correctly specified.\n",
            "[3] The smallest eigenvalue is 5.13e-37. This might indicate that there are\n",
            "strong multicollinearity problems or that the design matrix is singular.\n"
          ]
        },
        {
          "output_type": "stream",
          "name": "stderr",
          "text": [
            "/usr/local/lib/python3.10/dist-packages/scipy/stats/_stats_py.py:1736: UserWarning: kurtosistest only valid for n>=20 ... continuing anyway, n=11\n",
            "  warnings.warn(\"kurtosistest only valid for n>=20 ... continuing \"\n"
          ]
        }
      ]
    },
    {
      "cell_type": "markdown",
      "source": [
        "#EVI2"
      ],
      "metadata": {
        "id": "la3oB1QhRWGb"
      }
    },
    {
      "cell_type": "code",
      "source": [
        "#X = df[ 'CVI'] #, 'EVI', 'EVI2', 'GLI', 'GNDVI', 'NDWI', 'SAVI'\n",
        "# Separate X and Y variables\n",
        "X = df['EVI2'].values.reshape(-1, 1)  # Reshape X to a 2D array\n",
        "Y = df['yield/acer'].values.reshape(-1, 1)  # Reshape Y to a 2D array\n",
        "\n",
        "# Scale the X and Y variables\n",
        "scaler = StandardScaler()\n",
        "X_scaled = scaler.fit_transform(X)\n",
        "Y_scaled = scaler.fit_transform(Y)\n",
        "\n",
        "# Split the data into train and test sets\n",
        "X_train, X_test, Y_train, Y_test = train_test_split(X_scaled, Y_scaled, test_size=0.2, random_state=42)\n",
        "\n",
        "# Perform PLS regression\n",
        "n_components = 1  # Number of PLS components\n",
        "pls = PLSRegression(n_components=n_components)\n",
        "pls.fit(X_train, Y_train)\n",
        "\n",
        "# Predict on the test set\n",
        "Y_pred = pls.predict(X_test)\n",
        "\n",
        "# Inverse scale the predicted values\n",
        "Y_pred_inverse = scaler.inverse_transform(Y_pred)\n",
        "\n",
        "# Print the predicted values\n",
        "print(\"Predicted values:\")\n",
        "print(Y_pred_inverse)\n",
        "# Evaluate the model performance\n",
        "mse = mean_squared_error(y_test, y_pred)\n",
        "r2 = r2_score(y_test, y_pred)\n",
        "\n",
        "# Print the results\n",
        "print(\"Mean Squared Error (MSE):\", mse)\n",
        "print(\"R-squared (R2) Score:\", r2)"
      ],
      "metadata": {
        "colab": {
          "base_uri": "https://localhost:8080/"
        },
        "id": "I2Gbcy33RQTS",
        "outputId": "edc8502a-83b9-48fc-8985-875fd9b6b5bf"
      },
      "execution_count": 12,
      "outputs": [
        {
          "output_type": "stream",
          "name": "stdout",
          "text": [
            "Predicted values:\n",
            "[[185.57554937]\n",
            " [158.24784725]\n",
            " [149.54276781]]\n",
            "Mean Squared Error (MSE): 2865.064678186535\n",
            "R-squared (R2) Score: -2.7650320846036833\n"
          ]
        }
      ]
    },
    {
      "cell_type": "markdown",
      "source": [
        "# GLI"
      ],
      "metadata": {
        "id": "X0zLGSj4R7a8"
      }
    },
    {
      "cell_type": "code",
      "source": [
        "#X = df[ 'CVI'] #, 'EVI', 'EVI2', 'GLI', 'GNDVI', 'NDWI', 'SAVI'\n",
        "# Separate X and Y variables\n",
        "X = df['GLI'].values.reshape(-1, 1)  # Reshape X to a 2D array\n",
        "Y = df['yield/acer'].values.reshape(-1, 1)  # Reshape Y to a 2D array\n",
        "\n",
        "# Scale the X and Y variables\n",
        "scaler = StandardScaler()\n",
        "X_scaled = scaler.fit_transform(X)\n",
        "Y_scaled = scaler.fit_transform(Y)\n",
        "\n",
        "# Split the data into train and test sets\n",
        "X_train, X_test, Y_train, Y_test = train_test_split(X_scaled, Y_scaled, test_size=0.2, random_state=42)\n",
        "\n",
        "# Perform PLS regression\n",
        "n_components = 1  # Number of PLS components\n",
        "pls = PLSRegression(n_components=n_components)\n",
        "pls.fit(X_train, Y_train)\n",
        "\n",
        "# Predict on the test set\n",
        "Y_pred = pls.predict(X_test)\n",
        "\n",
        "# Inverse scale the predicted values\n",
        "Y_pred_inverse = scaler.inverse_transform(Y_pred)\n",
        "\n",
        "# Print the predicted values\n",
        "print(\"Predicted values:\")\n",
        "print(Y_pred_inverse)\n",
        "# Evaluate the model performance\n",
        "mse = mean_squared_error(y_test, y_pred)\n",
        "r2 = r2_score(y_test, y_pred)\n",
        "\n",
        "# Print the results\n",
        "print(\"Mean Squared Error (MSE):\", mse)\n",
        "print(\"R-squared (R2) Score:\", r2)"
      ],
      "metadata": {
        "colab": {
          "base_uri": "https://localhost:8080/"
        },
        "id": "mhxoV-PzRcXh",
        "outputId": "1a21edbc-e5d5-4c4f-9dff-3efd6e32b4df"
      },
      "execution_count": 13,
      "outputs": [
        {
          "output_type": "stream",
          "name": "stdout",
          "text": [
            "Predicted values:\n",
            "[[167.02832539]\n",
            " [170.2575178 ]\n",
            " [160.78571369]]\n",
            "Mean Squared Error (MSE): 2865.064678186535\n",
            "R-squared (R2) Score: -2.7650320846036833\n"
          ]
        }
      ]
    },
    {
      "cell_type": "markdown",
      "source": [
        "# GNDVI"
      ],
      "metadata": {
        "id": "h04munvTR-dO"
      }
    },
    {
      "cell_type": "code",
      "source": [
        "#X = df[ 'CVI'] #, 'EVI', 'EVI2', 'GLI', 'GNDVI', 'NDWI', 'SAVI'\n",
        "# Separate X and Y variables\n",
        "X = df['GNDVI'].values.reshape(-1, 1)  # Reshape X to a 2D array\n",
        "Y = df['yield/acer'].values.reshape(-1, 1)  # Reshape Y to a 2D array\n",
        "\n",
        "# Scale the X and Y variables\n",
        "scaler = StandardScaler()\n",
        "X_scaled = scaler.fit_transform(X)\n",
        "Y_scaled = scaler.fit_transform(Y)\n",
        "\n",
        "# Split the data into train and test sets\n",
        "X_train, X_test, Y_train, Y_test = train_test_split(X_scaled, Y_scaled, test_size=0.2, random_state=42)\n",
        "\n",
        "# Perform PLS regression\n",
        "n_components = 1  # Number of PLS components\n",
        "pls = PLSRegression(n_components=n_components)\n",
        "pls.fit(X_train, Y_train)\n",
        "\n",
        "# Predict on the test set\n",
        "Y_pred = pls.predict(X_test)\n",
        "\n",
        "# Inverse scale the predicted values\n",
        "Y_pred_inverse = scaler.inverse_transform(Y_pred)\n",
        "\n",
        "# Print the predicted values\n",
        "print(\"Predicted values:\")\n",
        "print(Y_pred_inverse)\n",
        "# Evaluate the model performance\n",
        "mse = mean_squared_error(y_test, y_pred)\n",
        "r2 = r2_score(y_test, y_pred)\n",
        "\n",
        "# Print the results\n",
        "print(\"Mean Squared Error (MSE):\", mse)\n",
        "print(\"R-squared (R2) Score:\", r2)"
      ],
      "metadata": {
        "colab": {
          "base_uri": "https://localhost:8080/"
        },
        "id": "sbgNPI9xRjPa",
        "outputId": "90bb5e2d-1327-4afc-c2bb-8b7074385c39"
      },
      "execution_count": 14,
      "outputs": [
        {
          "output_type": "stream",
          "name": "stdout",
          "text": [
            "Predicted values:\n",
            "[[169.81247875]\n",
            " [169.82134941]\n",
            " [168.78645703]]\n",
            "Mean Squared Error (MSE): 2865.064678186535\n",
            "R-squared (R2) Score: -2.7650320846036833\n"
          ]
        }
      ]
    },
    {
      "cell_type": "markdown",
      "source": [
        "# NDWI"
      ],
      "metadata": {
        "id": "zIm8MssHSCF0"
      }
    },
    {
      "cell_type": "code",
      "source": [
        "#X = df[ 'CVI'] #, 'EVI', 'EVI2', 'GLI', 'GNDVI', 'NDWI', 'SAVI'\n",
        "# Separate X and Y variables\n",
        "X = df['NDWI'].values.reshape(-1, 1)  # Reshape X to a 2D array\n",
        "Y = df['yield/acer'].values.reshape(-1, 1)  # Reshape Y to a 2D array\n",
        "\n",
        "# Scale the X and Y variables\n",
        "scaler = StandardScaler()\n",
        "X_scaled = scaler.fit_transform(X)\n",
        "Y_scaled = scaler.fit_transform(Y)\n",
        "\n",
        "# Split the data into train and test sets\n",
        "X_train, X_test, Y_train, Y_test = train_test_split(X_scaled, Y_scaled, test_size=0.2, random_state=42)\n",
        "\n",
        "# Perform PLS regression\n",
        "n_components = 1  # Number of PLS components\n",
        "pls = PLSRegression(n_components=n_components)\n",
        "pls.fit(X_train, Y_train)\n",
        "\n",
        "# Predict on the test set\n",
        "Y_pred = pls.predict(X_test)\n",
        "\n",
        "# Inverse scale the predicted values\n",
        "Y_pred_inverse = scaler.inverse_transform(Y_pred)\n",
        "\n",
        "# Print the predicted values\n",
        "print(\"Predicted values:\")\n",
        "print(Y_pred_inverse)\n",
        "# Evaluate the model performance\n",
        "mse = mean_squared_error(y_test, y_pred)\n",
        "r2 = r2_score(y_test, y_pred)\n",
        "\n",
        "# Print the results\n",
        "print(\"Mean Squared Error (MSE):\", mse)\n",
        "print(\"R-squared (R2) Score:\", r2)"
      ],
      "metadata": {
        "colab": {
          "base_uri": "https://localhost:8080/"
        },
        "id": "nCg_cAYERpUg",
        "outputId": "3cc1a4e6-5637-45c6-8dc4-2d33ac448620"
      },
      "execution_count": 15,
      "outputs": [
        {
          "output_type": "stream",
          "name": "stdout",
          "text": [
            "Predicted values:\n",
            "[[171.10697889]\n",
            " [170.48247809]\n",
            " [169.17888044]]\n",
            "Mean Squared Error (MSE): 2865.064678186535\n",
            "R-squared (R2) Score: -2.7650320846036833\n"
          ]
        }
      ]
    },
    {
      "cell_type": "markdown",
      "source": [
        "# SAVI"
      ],
      "metadata": {
        "id": "LzcfOTSZSE9r"
      }
    },
    {
      "cell_type": "code",
      "source": [
        "#X = df[ 'CVI'] #, 'EVI', 'EVI2', 'GLI', 'GNDVI', 'NDWI', 'SAVI'\n",
        "# Separate X and Y variables\n",
        "X = df['SAVI'].values.reshape(-1, 1)  # Reshape X to a 2D array\n",
        "Y = df['yield/acer'].values.reshape(-1, 1)  # Reshape Y to a 2D array\n",
        "\n",
        "# Scale the X and Y variables\n",
        "scaler = StandardScaler()\n",
        "X_scaled = scaler.fit_transform(X)\n",
        "Y_scaled = scaler.fit_transform(Y)\n",
        "\n",
        "# Split the data into train and test sets\n",
        "X_train, X_test, Y_train, Y_test = train_test_split(X_scaled, Y_scaled, test_size=0.2, random_state=42)\n",
        "\n",
        "# Perform PLS regression\n",
        "n_components = 1  # Number of PLS components\n",
        "pls = PLSRegression(n_components=n_components)\n",
        "pls.fit(X_train, Y_train)\n",
        "\n",
        "# Predict on the test set\n",
        "Y_pred = pls.predict(X_test)\n",
        "\n",
        "# Inverse scale the predicted values\n",
        "Y_pred_inverse = scaler.inverse_transform(Y_pred)\n",
        "\n",
        "# Print the predicted values\n",
        "print(\"Predicted values:\")\n",
        "print(Y_pred_inverse)\n",
        "# Evaluate the model performance\n",
        "mse = mean_squared_error(y_test, y_pred)\n",
        "r2 = r2_score(y_test, y_pred)\n",
        "\n",
        "# Print the results\n",
        "print(\"Mean Squared Error (MSE):\", mse)\n",
        "print(\"R-squared (R2) Score:\", r2)"
      ],
      "metadata": {
        "colab": {
          "base_uri": "https://localhost:8080/"
        },
        "id": "_sN9g_gdRx0C",
        "outputId": "231752cf-2b1d-4d88-8ac6-792ae16467c8"
      },
      "execution_count": 16,
      "outputs": [
        {
          "output_type": "stream",
          "name": "stdout",
          "text": [
            "Predicted values:\n",
            "[[191.7721469 ]\n",
            " [159.90719911]\n",
            " [145.10703986]]\n",
            "Mean Squared Error (MSE): 2865.064678186535\n",
            "R-squared (R2) Score: -2.7650320846036833\n"
          ]
        }
      ]
    },
    {
      "cell_type": "code",
      "source": [
        "from sklearn.svm import SVR\n",
        "import pandas as pd\n",
        "from sklearn.model_selection import train_test_split\n",
        "from sklearn.preprocessing import StandardScaler\n",
        "\n",
        "# Load the dataset\n",
        "# df = pd.read_csv('your_dataset.csv')  # Replace 'your_dataset.csv' with the actual file path\n",
        "\n",
        "# # Separate the features (X) and the target variable (y)\n",
        "# X = df[['NDVI']].values\n",
        "# y = df[['yield/acer']].values\n",
        "\n",
        "# Split the dataset into training and test sets\n",
        "X_train, X_test, y_train, y_test = train_test_split(X, y, test_size=0.2, random_state=42)\n",
        "\n",
        "# Feature scaling\n",
        "scaler = StandardScaler()\n",
        "X_train_scaled = scaler.fit_transform(X_train)\n",
        "X_test_scaled = scaler.transform(X_test)\n",
        "\n",
        "# Create the SVR model\n",
        "svr = SVR(kernel='rbf')\n",
        "\n",
        "# Fit the SVR model to the training data\n",
        "svr.fit(X_train_scaled, y_train.ravel())\n",
        "\n",
        "# Predict the crop yield for the test set\n",
        "y_pred = svr.predict(X_test_scaled)\n",
        "\n",
        "# Evaluate the model\n",
        "from sklearn.metrics import mean_squared_error, r2_score\n",
        "\n",
        "mse = mean_squared_error(y_test, y_pred)\n",
        "r2 = r2_score(y_test, y_pred)\n",
        "\n",
        "print('Mean Squared Error:', mse)\n",
        "print('R-squared:', r2)\n"
      ],
      "metadata": {
        "colab": {
          "base_uri": "https://localhost:8080/"
        },
        "id": "iv7b0KSUwebb",
        "outputId": "601b5dbe-f155-4d53-89a3-6f72ee81e5ab"
      },
      "execution_count": 17,
      "outputs": [
        {
          "output_type": "stream",
          "name": "stdout",
          "text": [
            "Mean Squared Error: 799.5458777260606\n",
            "R-squared: -0.08533178136907948\n"
          ]
        }
      ]
    }
  ]
}