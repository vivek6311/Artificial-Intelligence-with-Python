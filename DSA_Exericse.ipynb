{
  "nbformat": 4,
  "nbformat_minor": 0,
  "metadata": {
    "colab": {
      "provenance": [],
      "authorship_tag": "ABX9TyMr/0RiTqA2ZoJrmL06FIYv",
      "include_colab_link": true
    },
    "kernelspec": {
      "name": "python3",
      "display_name": "Python 3"
    },
    "language_info": {
      "name": "python"
    }
  },
  "cells": [
    {
      "cell_type": "markdown",
      "metadata": {
        "id": "view-in-github",
        "colab_type": "text"
      },
      "source": [
        "<a href=\"https://colab.research.google.com/github/vivek6311/Artificial-Intelligence-with-Python/blob/master/DSA_Exericse.ipynb\" target=\"_parent\"><img src=\"https://colab.research.google.com/assets/colab-badge.svg\" alt=\"Open In Colab\"/></a>"
      ]
    },
    {
      "cell_type": "code",
      "execution_count": 1,
      "metadata": {
        "id": "hQwrpMP__cED"
      },
      "outputs": [],
      "source": [
        "import time\n",
        "from collections import deque\n",
        "import matplotlib.pyplot as plt"
      ]
    },
    {
      "cell_type": "code",
      "source": [
        "# Implementing Stacks using Arrays \n",
        "\n",
        "class ArrayStack:\n",
        "    \n",
        "    # Constructor for ArrayStack class\n",
        "    def __init__(self):\n",
        "        # your code here\n",
        "        self.sizeInitial = 5\n",
        "        self.currPos = -1\n",
        "        self.stack=[None] * self.sizeInitial\n",
        "        \n"
      ],
      "metadata": {
        "id": "di7Ygn9zyyzO"
      },
      "execution_count": 2,
      "outputs": []
    },
    {
      "cell_type": "code",
      "source": [
        "# Push: Adds a new element at the back of the list\n",
        "def push(self, element):\n",
        "  # your code here\n",
        "  self.currPos += 1\n",
        "  if (self.currPos >= self.sizeInitial):\n",
        "    self.sizeInitial += 5\n",
        "    self.newstack = [None] * self.sizeInitial\n",
        "    for i in range(self.currPos):\n",
        "      self.newstack[i] = self.stack[i]\n",
        "      self.stack = self.newstack\n",
        "  self.stack[self.currPos] = element\n",
        "                "
      ],
      "metadata": {
        "id": "1nT3hS7QzGQX"
      },
      "execution_count": 5,
      "outputs": []
    },
    {
      "cell_type": "code",
      "source": [
        " # Pop: Deletes the element at the last and returns the value of it\n",
        "def pop(self):\n",
        "# your code here\n",
        "  if self.currPos < 0:\n",
        "    return None\n",
        "  if self.stack[self.currPos] != None:\n",
        "    deletedVal = self.stack[self.currPos]\n",
        "    self.stack[self.currPos] = None\n",
        "    self.currPos -= 1\n",
        "    return deletedVal\n",
        "    return None\n"
      ],
      "metadata": {
        "id": "DOasvIXX0iWU"
      },
      "execution_count": 6,
      "outputs": []
    },
    {
      "cell_type": "code",
      "source": [
        "# Returns the size of the stack\n",
        "def size(self):\n",
        "   # your code here\n",
        "  return self.currPos + 1"
      ],
      "metadata": {
        "id": "TpUC-e7u2Ly7"
      },
      "execution_count": 7,
      "outputs": []
    },
    {
      "cell_type": "code",
      "source": [
        " # Return the element at the top of the stack without removing it\n",
        "def top(self):\n",
        "  if self.stack[self.currPos] != None:\n",
        "    return self.stack[self.currPos]\n",
        "  return None\n"
      ],
      "metadata": {
        "id": "wHu6UCJq20-_"
      },
      "execution_count": 11,
      "outputs": []
    },
    {
      "cell_type": "code",
      "source": [
        "# Returns true is stack is empty, False if not\n",
        "def isEmpty(self):\n",
        "# your code here\n",
        "  if self.currPos >= 0:\n",
        "    return False\n",
        "  return True"
      ],
      "metadata": {
        "id": "pDdB7BEh3BxA"
      },
      "execution_count": 10,
      "outputs": []
    },
    {
      "cell_type": "code",
      "source": [
        "def printIsEmpty(self):\n",
        "  print(\"\\nStack is Empty\\n\") if self.isEmpty() else print(\"\\nStack is not Empty\\n\")\n",
        "\n",
        "\n",
        "    "
      ],
      "metadata": {
        "id": "654txe064zk6"
      },
      "execution_count": 12,
      "outputs": []
    },
    {
      "cell_type": "code",
      "source": [
        "def printStack(self):\n",
        "  print(self.stack[self.currPos::-1])\n",
        "    "
      ],
      "metadata": {
        "id": "g5HetHko43xp"
      },
      "execution_count": 14,
      "outputs": []
    },
    {
      "cell_type": "code",
      "source": [
        "# Implementing Stacks using Arrays \n",
        "\n",
        "class DoublingArrayStack:\n",
        " # Constructor for ArrayStack class\n",
        "  def __init__(self):\n",
        "   # your code here\n",
        "    self.sizeInitial = 5\n",
        "    self.currPos = -1\n",
        "    self.stack=[None] * self.sizeInitial\n",
        "    self.multiple = 2"
      ],
      "metadata": {
        "id": "XPUuCykQ4_02"
      },
      "execution_count": 15,
      "outputs": []
    },
    {
      "cell_type": "code",
      "source": [
        "# Push: Adds a new element at the back of the list\n",
        "def push(self, element):\n",
        "# your code here\n",
        "  self.currPos += 1\n",
        "  if (self.currPos >= self.sizeInitial):\n",
        "    self.sizeInitial = self.sizeInitial * self.multiple\n",
        "    self.newstack = [None] * self.sizeInitial\n",
        "    for i in range(self.currPos):\n",
        "      self.newstack[i] = self.stack[i]\n",
        "      self.stack = self.newstack\n",
        "      self.stack[self.currPos] = element"
      ],
      "metadata": {
        "id": "mc19fDX45X69"
      },
      "execution_count": 16,
      "outputs": []
    },
    {
      "cell_type": "code",
      "source": [
        "# Returns the size of the stack\n",
        "def size(self):\n",
        " # your code here\n",
        "  return self.currPos + 1\n"
      ],
      "metadata": {
        "id": "IXzX8mOs5uws"
      },
      "execution_count": 17,
      "outputs": []
    },
    {
      "cell_type": "code",
      "source": [
        "# Return the element at the top of the stack without removing it\n",
        "def top(self):\n",
        "  if self.stack[self.currPos] != None:\n",
        "    return self.stack[self.currPos]\n",
        "  return None"
      ],
      "metadata": {
        "id": "9ToDhufq74og"
      },
      "execution_count": 18,
      "outputs": []
    },
    {
      "cell_type": "code",
      "source": [
        "# Returns true is stack is empty, False if not\n",
        "def isEmpty(self):\n",
        " # your code here\n",
        "  if self.currPos >= 0:\n",
        "    return False\n",
        "  return True"
      ],
      "metadata": {
        "id": "hFtY3T6_8Eyj"
      },
      "execution_count": 19,
      "outputs": []
    },
    {
      "cell_type": "code",
      "source": [
        "def printIsEmpty(self):\n",
        "  print(\"\\nStack is Empty\\n\") if self.isEmpty() else print(\"\\nStack is not Empty\\n\")\n"
      ],
      "metadata": {
        "id": "eYtbznII8Q-G"
      },
      "execution_count": 20,
      "outputs": []
    },
    {
      "cell_type": "code",
      "source": [
        "def printStack(self):\n",
        "  print(self.stack[self.currPos::-1])"
      ],
      "metadata": {
        "id": "suojCxej8tZ0"
      },
      "execution_count": 21,
      "outputs": []
    },
    {
      "cell_type": "code",
      "source": [
        "# Implementing Stacks Linked Lists\n",
        "# Node class for the individual nodes\n",
        "class Node:\n",
        "# constructor for Node class\n",
        "  def __init__(self, data):\n",
        "   # your code here\n",
        "    self.data = data\n",
        "    self.next = None"
      ],
      "metadata": {
        "id": "POS0sSoe8y_q"
      },
      "execution_count": 22,
      "outputs": []
    },
    {
      "cell_type": "code",
      "source": [
        "# Manager class to link the nodes and manage the overall list\n",
        "class LinkedListStack:\n",
        " # constructor for LinkedListStack class\n",
        "  def __init__(self):\n",
        "   # your code here\n",
        "    self.stackSize = 0\n",
        "    self.head = None"
      ],
      "metadata": {
        "id": "XKJ2i7uF8__v"
      },
      "execution_count": 23,
      "outputs": []
    },
    {
      "cell_type": "code",
      "source": [
        "# Push: Adds a new element at the back of the list\n",
        "def push(self, data):\n",
        " # your code here\n",
        "  if self.stackSize == 0:\n",
        "    self.head = Node(data)\n",
        "  else:\n",
        "    newNode = Node(data)\n",
        "    newNode.next = self.head\n",
        "    self.head = newNode\n",
        "    self.stackSize += 1"
      ],
      "metadata": {
        "id": "vdopoI6M9NMh"
      },
      "execution_count": 24,
      "outputs": []
    },
    {
      "cell_type": "code",
      "source": [
        "# Pop: Deletes the element at the last and returns the value of it\n",
        "def pop(self):\n",
        "# your code here\n",
        "  if (self.head != None and self.stackSize > 0):\n",
        "    curr = self.head\n",
        "    self.head = self.head.next\n",
        "    headData = curr.data\n",
        "    self.stackSize -= 1\n",
        "    del curr\n",
        "    return headData\n",
        "  return None"
      ],
      "metadata": {
        "id": "3_zC4mGz9b-2"
      },
      "execution_count": 25,
      "outputs": []
    },
    {
      "cell_type": "code",
      "source": [
        " # Returns the size of the stack\n",
        "def size(self):\n",
        "  return self.stackSize"
      ],
      "metadata": {
        "id": "9k4Xx5Rg9zLL"
      },
      "execution_count": 26,
      "outputs": []
    },
    {
      "cell_type": "code",
      "source": [
        "# Return the element at the top of the stack without removing it\n",
        "def top(self): \n",
        "# your code here\n",
        "  if self.head != None:\n",
        "    return self.head.data\n",
        "  return None"
      ],
      "metadata": {
        "id": "2cIXS_WF974l"
      },
      "execution_count": 27,
      "outputs": []
    },
    {
      "cell_type": "code",
      "source": [
        "# Return true is stack is empty, False if not\n",
        "def isEmpty(self):\n",
        "# your code here\n",
        "  if self.stackSize == 0:\n",
        "    return True\n",
        "  return False"
      ],
      "metadata": {
        "id": "ofBQKV44-Z1H"
      },
      "execution_count": 28,
      "outputs": []
    },
    {
      "cell_type": "code",
      "source": [
        "def printIsEmpty(self):\n",
        "  print(\"\\nStack is Empty\\n\") if self.isEmpty() else print(\"\\nStack is not Empty\\n\")"
      ],
      "metadata": {
        "id": "6MBH_27Z_I0a"
      },
      "execution_count": 29,
      "outputs": []
    },
    {
      "cell_type": "code",
      "source": [
        "# Reverses the stack\n",
        "def reverseList(self):\n",
        " # your code here\n",
        "  if self.stackSize > 1:\n",
        "    prev = self.head\n",
        "    curr = prev.next\n",
        "    prev.next = None\n",
        "    nextNode = curr.next\n",
        "    while (curr != None):\n",
        "      nextNode = curr.next\n",
        "      curr.next = prev\n",
        "      prev = curr\n",
        "      curr = nextNode\n",
        "      self.head = prev"
      ],
      "metadata": {
        "id": "naRkQi4I_T_h"
      },
      "execution_count": 30,
      "outputs": []
    },
    {
      "cell_type": "code",
      "source": [
        "def printLinkedList(self, curr, stackE):\n",
        "  if (curr != None):\n",
        "    stackE.append(curr.data)\n",
        "    self.printLinkedList(curr.next, stackE)"
      ],
      "metadata": {
        "id": "3jnD_KR8_qMg"
      },
      "execution_count": 31,
      "outputs": []
    },
    {
      "cell_type": "code",
      "source": [
        "# Print data stored in the stack\n",
        "def printStack(self):\n",
        "# your code here\n",
        "  curr = self.head\n",
        "  stackE = []\n",
        "  self.printLinkedList(curr, stackE)\n",
        "  print(stackE)"
      ],
      "metadata": {
        "id": "j8IDLMcL_zLP"
      },
      "execution_count": 33,
      "outputs": []
    },
    {
      "cell_type": "code",
      "source": [
        "start = time.time()"
      ],
      "metadata": {
        "id": "YuKdF9A3ABMO"
      },
      "execution_count": 34,
      "outputs": []
    },
    {
      "cell_type": "code",
      "source": [
        "import random as random\n",
        "from time import perf_counter\n",
        "\n",
        "# the program to be timed here\n",
        "def calculateTime(stackObject, iterations):\n",
        "    start = perf_counter()\n",
        "    timeList  = []\n",
        "    for i in range(iterations):\n",
        "        number = random.randint(1,101)\n",
        "        if (type(stackObject) == deque):\n",
        "            stackObject.append(number)\n",
        "        else:\n",
        "            stackObject.push(number)\n",
        "        if (i//100 == 0):\n",
        "            end = perf_counter()\n",
        "            timeList.append(end-start)\n",
        "    return timeList"
      ],
      "metadata": {
        "id": "XuMNioBtAEYp"
      },
      "execution_count": 35,
      "outputs": []
    },
    {
      "cell_type": "code",
      "source": [
        "iterations = 100000\n",
        "arrayStack = ArrayStack()\n",
        "arrayTimeList = calculateTime(arrayStack, iterations)\n",
        "doublingArrayStack = DoublingArrayStack()\n",
        "doublingArrayStackTimeList = calculateTime(doublingArrayStack, iterations)\n",
        "linkedListStack = LinkedListStack()\n",
        "linkedListTimeList = calculateTime(linkedListStack, iterations) \n",
        "internalStack = deque()\n",
        "internalStackTimeList = calculateTime(internalStack, iterations)"
      ],
      "metadata": {
        "colab": {
          "base_uri": "https://localhost:8080/",
          "height": 357
        },
        "id": "b7fT9kgoALxW",
        "outputId": "8f7697ae-9bce-450a-8547-2bc9c65876b5"
      },
      "execution_count": 36,
      "outputs": [
        {
          "output_type": "error",
          "ename": "AttributeError",
          "evalue": "ignored",
          "traceback": [
            "\u001b[0;31m---------------------------------------------------------------------------\u001b[0m",
            "\u001b[0;31mAttributeError\u001b[0m                            Traceback (most recent call last)",
            "\u001b[0;32m<ipython-input-36-11ff62b23222>\u001b[0m in \u001b[0;36m<module>\u001b[0;34m\u001b[0m\n\u001b[1;32m      1\u001b[0m \u001b[0miterations\u001b[0m \u001b[0;34m=\u001b[0m \u001b[0;36m100000\u001b[0m\u001b[0;34m\u001b[0m\u001b[0;34m\u001b[0m\u001b[0m\n\u001b[1;32m      2\u001b[0m \u001b[0marrayStack\u001b[0m \u001b[0;34m=\u001b[0m \u001b[0mArrayStack\u001b[0m\u001b[0;34m(\u001b[0m\u001b[0;34m)\u001b[0m\u001b[0;34m\u001b[0m\u001b[0;34m\u001b[0m\u001b[0m\n\u001b[0;32m----> 3\u001b[0;31m \u001b[0marrayTimeList\u001b[0m \u001b[0;34m=\u001b[0m \u001b[0mcalculateTime\u001b[0m\u001b[0;34m(\u001b[0m\u001b[0marrayStack\u001b[0m\u001b[0;34m,\u001b[0m \u001b[0miterations\u001b[0m\u001b[0;34m)\u001b[0m\u001b[0;34m\u001b[0m\u001b[0;34m\u001b[0m\u001b[0m\n\u001b[0m\u001b[1;32m      4\u001b[0m \u001b[0mdoublingArrayStack\u001b[0m \u001b[0;34m=\u001b[0m \u001b[0mDoublingArrayStack\u001b[0m\u001b[0;34m(\u001b[0m\u001b[0;34m)\u001b[0m\u001b[0;34m\u001b[0m\u001b[0;34m\u001b[0m\u001b[0m\n\u001b[1;32m      5\u001b[0m \u001b[0mdoublingArrayStackTimeList\u001b[0m \u001b[0;34m=\u001b[0m \u001b[0mcalculateTime\u001b[0m\u001b[0;34m(\u001b[0m\u001b[0mdoublingArrayStack\u001b[0m\u001b[0;34m,\u001b[0m \u001b[0miterations\u001b[0m\u001b[0;34m)\u001b[0m\u001b[0;34m\u001b[0m\u001b[0;34m\u001b[0m\u001b[0m\n",
            "\u001b[0;32m<ipython-input-35-35c9f918babf>\u001b[0m in \u001b[0;36mcalculateTime\u001b[0;34m(stackObject, iterations)\u001b[0m\n\u001b[1;32m     11\u001b[0m             \u001b[0mstackObject\u001b[0m\u001b[0;34m.\u001b[0m\u001b[0mappend\u001b[0m\u001b[0;34m(\u001b[0m\u001b[0mnumber\u001b[0m\u001b[0;34m)\u001b[0m\u001b[0;34m\u001b[0m\u001b[0;34m\u001b[0m\u001b[0m\n\u001b[1;32m     12\u001b[0m         \u001b[0;32melse\u001b[0m\u001b[0;34m:\u001b[0m\u001b[0;34m\u001b[0m\u001b[0;34m\u001b[0m\u001b[0m\n\u001b[0;32m---> 13\u001b[0;31m             \u001b[0mstackObject\u001b[0m\u001b[0;34m.\u001b[0m\u001b[0mpush\u001b[0m\u001b[0;34m(\u001b[0m\u001b[0mnumber\u001b[0m\u001b[0;34m)\u001b[0m\u001b[0;34m\u001b[0m\u001b[0;34m\u001b[0m\u001b[0m\n\u001b[0m\u001b[1;32m     14\u001b[0m         \u001b[0;32mif\u001b[0m \u001b[0;34m(\u001b[0m\u001b[0mi\u001b[0m\u001b[0;34m//\u001b[0m\u001b[0;36m100\u001b[0m \u001b[0;34m==\u001b[0m \u001b[0;36m0\u001b[0m\u001b[0;34m)\u001b[0m\u001b[0;34m:\u001b[0m\u001b[0;34m\u001b[0m\u001b[0;34m\u001b[0m\u001b[0m\n\u001b[1;32m     15\u001b[0m             \u001b[0mend\u001b[0m \u001b[0;34m=\u001b[0m \u001b[0mperf_counter\u001b[0m\u001b[0;34m(\u001b[0m\u001b[0;34m)\u001b[0m\u001b[0;34m\u001b[0m\u001b[0;34m\u001b[0m\u001b[0m\n",
            "\u001b[0;31mAttributeError\u001b[0m: 'ArrayStack' object has no attribute 'push'"
          ]
        }
      ]
    },
    {
      "cell_type": "code",
      "source": [
        "plt.plot(arrayTimeList)\n",
        "plt.plot(doublingArrayStackTimeList)\n",
        "plt.plot(linkedListTimeList)\n",
        "plt.plot(internalStackTimeList)\n",
        "plt.legend([\"Constant Increase\", \"Doubling Size\", \"Linked List\", \"Internal Stack\"])\n",
        "plt.title(\"Comparison of Different Stack Implementation\")"
      ],
      "metadata": {
        "colab": {
          "base_uri": "https://localhost:8080/",
          "height": 236
        },
        "id": "cVWu5BTyAbFN",
        "outputId": "0e008059-ad73-4fc3-a99b-9154482e63a6"
      },
      "execution_count": 37,
      "outputs": [
        {
          "output_type": "error",
          "ename": "NameError",
          "evalue": "ignored",
          "traceback": [
            "\u001b[0;31m---------------------------------------------------------------------------\u001b[0m",
            "\u001b[0;31mNameError\u001b[0m                                 Traceback (most recent call last)",
            "\u001b[0;32m<ipython-input-37-90834a848941>\u001b[0m in \u001b[0;36m<module>\u001b[0;34m\u001b[0m\n\u001b[0;32m----> 1\u001b[0;31m \u001b[0mplt\u001b[0m\u001b[0;34m.\u001b[0m\u001b[0mplot\u001b[0m\u001b[0;34m(\u001b[0m\u001b[0marrayTimeList\u001b[0m\u001b[0;34m)\u001b[0m\u001b[0;34m\u001b[0m\u001b[0;34m\u001b[0m\u001b[0m\n\u001b[0m\u001b[1;32m      2\u001b[0m \u001b[0mplt\u001b[0m\u001b[0;34m.\u001b[0m\u001b[0mplot\u001b[0m\u001b[0;34m(\u001b[0m\u001b[0mdoublingArrayStackTimeList\u001b[0m\u001b[0;34m)\u001b[0m\u001b[0;34m\u001b[0m\u001b[0;34m\u001b[0m\u001b[0m\n\u001b[1;32m      3\u001b[0m \u001b[0mplt\u001b[0m\u001b[0;34m.\u001b[0m\u001b[0mplot\u001b[0m\u001b[0;34m(\u001b[0m\u001b[0mlinkedListTimeList\u001b[0m\u001b[0;34m)\u001b[0m\u001b[0;34m\u001b[0m\u001b[0;34m\u001b[0m\u001b[0m\n\u001b[1;32m      4\u001b[0m \u001b[0mplt\u001b[0m\u001b[0;34m.\u001b[0m\u001b[0mplot\u001b[0m\u001b[0;34m(\u001b[0m\u001b[0minternalStackTimeList\u001b[0m\u001b[0;34m)\u001b[0m\u001b[0;34m\u001b[0m\u001b[0;34m\u001b[0m\u001b[0m\n\u001b[1;32m      5\u001b[0m \u001b[0mplt\u001b[0m\u001b[0;34m.\u001b[0m\u001b[0mlegend\u001b[0m\u001b[0;34m(\u001b[0m\u001b[0;34m[\u001b[0m\u001b[0;34m\"Constant Increase\"\u001b[0m\u001b[0;34m,\u001b[0m \u001b[0;34m\"Doubling Size\"\u001b[0m\u001b[0;34m,\u001b[0m \u001b[0;34m\"Linked List\"\u001b[0m\u001b[0;34m,\u001b[0m \u001b[0;34m\"Internal Stack\"\u001b[0m\u001b[0;34m]\u001b[0m\u001b[0;34m)\u001b[0m\u001b[0;34m\u001b[0m\u001b[0;34m\u001b[0m\u001b[0m\n",
            "\u001b[0;31mNameError\u001b[0m: name 'arrayTimeList' is not defined"
          ]
        }
      ]
    }
  ]
}