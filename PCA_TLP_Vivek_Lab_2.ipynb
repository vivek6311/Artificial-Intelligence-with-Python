{
  "cells": [
    {
      "cell_type": "markdown",
      "metadata": {
        "id": "view-in-github",
        "colab_type": "text"
      },
      "source": [
        "<a href=\"https://colab.research.google.com/github/vivek6311/Artificial-Intelligence-with-Python/blob/master/PCA_TLP_Vivek_Lab_2.ipynb\" target=\"_parent\"><img src=\"https://colab.research.google.com/assets/colab-badge.svg\" alt=\"Open In Colab\"/></a>"
      ]
    },
    {
      "cell_type": "code",
      "execution_count": 2,
      "metadata": {
        "id": "ZvA7nyaEBQjH"
      },
      "outputs": [],
      "source": [
        "import numpy as np\n",
        "import pandas as pd\n",
        "import seaborn as sb\n",
        "import matplotlib.pyplot as plt"
      ]
    },
    {
      "cell_type": "markdown",
      "metadata": {
        "id": "LJ6GM6C1BQjU"
      },
      "source": [
        "# Exercise 1"
      ]
    },
    {
      "cell_type": "markdown",
      "metadata": {
        "id": "4gavUW1vBQjW"
      },
      "source": [
        "### Determine PCA of a 3x2 matrix "
      ]
    },
    {
      "cell_type": "markdown",
      "metadata": {
        "id": "zazn_mP3BQjW"
      },
      "source": [
        "#### define a matrix"
      ]
    },
    {
      "cell_type": "code",
      "execution_count": 3,
      "metadata": {
        "colab": {
          "base_uri": "https://localhost:8080/",
          "height": 0
        },
        "id": "qKyXtj3fBQjX",
        "outputId": "0c13ae08-007c-42f6-90f1-1779e544fcba"
      },
      "outputs": [
        {
          "output_type": "stream",
          "name": "stdout",
          "text": [
            "[[1 2]\n",
            " [3 4]\n",
            " [5 6]]\n"
          ]
        }
      ],
      "source": [
        "A = np.array([[1, 2], [3, 4], [5, 6]])\n",
        "print(A)"
      ]
    },
    {
      "cell_type": "markdown",
      "metadata": {
        "id": "4G-3Is5IBQjY"
      },
      "source": [
        "#### First do it manually!"
      ]
    },
    {
      "cell_type": "markdown",
      "metadata": {
        "id": "maZwAZYuBQjZ"
      },
      "source": [
        "#### 1. Subtract the mean of each variable"
      ]
    },
    {
      "cell_type": "code",
      "source": [],
      "metadata": {
        "id": "eIM8_ZuwOO3c"
      },
      "execution_count": null,
      "outputs": []
    },
    {
      "cell_type": "code",
      "execution_count": 4,
      "metadata": {
        "colab": {
          "base_uri": "https://localhost:8080/",
          "height": 0
        },
        "id": "nwz5PdAkBQjZ",
        "outputId": "dd5aa170-333c-446e-e5b8-a859b052f1fe"
      },
      "outputs": [
        {
          "output_type": "execute_result",
          "data": {
            "text/plain": [
              "array([3., 4.])"
            ]
          },
          "metadata": {},
          "execution_count": 4
        }
      ],
      "source": [
        "means= np.mean(A, axis=0)\n",
        "means"
      ]
    },
    {
      "cell_type": "markdown",
      "metadata": {
        "id": "Hc65IDJGBQja"
      },
      "source": [
        "#### 2. Calculate the Covariance Matrix"
      ]
    },
    {
      "cell_type": "code",
      "source": [
        "T= A-means\n",
        "print(T)"
      ],
      "metadata": {
        "colab": {
          "base_uri": "https://localhost:8080/",
          "height": 0
        },
        "id": "OU0A0AltOQf0",
        "outputId": "201eec02-bef5-414b-c98f-608952b4e9a1"
      },
      "execution_count": 5,
      "outputs": [
        {
          "output_type": "stream",
          "name": "stdout",
          "text": [
            "[[-2. -2.]\n",
            " [ 0.  0.]\n",
            " [ 2.  2.]]\n"
          ]
        }
      ]
    },
    {
      "cell_type": "code",
      "execution_count": 6,
      "metadata": {
        "colab": {
          "base_uri": "https://localhost:8080/",
          "height": 0
        },
        "id": "uBMRDgjIBQjb",
        "outputId": "694a11a5-3ec2-49ff-876c-3203bc96d8b2"
      },
      "outputs": [
        {
          "output_type": "execute_result",
          "data": {
            "text/plain": [
              "array([[4., 4.],\n",
              "       [4., 4.]])"
            ]
          },
          "metadata": {},
          "execution_count": 6
        }
      ],
      "source": [
        "V= np.cov(A.T)\n",
        "V"
      ]
    },
    {
      "cell_type": "markdown",
      "metadata": {
        "id": "fcNiTyKfBQjc"
      },
      "source": [
        "#### 3. Compute the Eigenvalues and Eigenvectors"
      ]
    },
    {
      "cell_type": "code",
      "execution_count": 7,
      "metadata": {
        "colab": {
          "base_uri": "https://localhost:8080/",
          "height": 0
        },
        "id": "dAwvp8oeBQjc",
        "outputId": "e3f38307-dbb8-4ee4-e711-fe44c33338a7"
      },
      "outputs": [
        {
          "output_type": "stream",
          "name": "stdout",
          "text": [
            "[8. 0.]\n",
            "[[ 0.70710678 -0.70710678]\n",
            " [ 0.70710678  0.70710678]]\n"
          ]
        }
      ],
      "source": [
        "values, vectors= np.linalg.eig(V)\n",
        "print(values)\n",
        "print(vectors)"
      ]
    },
    {
      "cell_type": "markdown",
      "metadata": {
        "id": "EPT4zWsyBQjd"
      },
      "source": [
        "#### 4. project data of the original matrix to the new basis"
      ]
    },
    {
      "cell_type": "code",
      "execution_count": 8,
      "metadata": {
        "colab": {
          "base_uri": "https://localhost:8080/",
          "height": 0
        },
        "id": "OYX68j5zBQjd",
        "outputId": "37eb79b4-9410-4c48-fbcd-189937e6289a"
      },
      "outputs": [
        {
          "output_type": "stream",
          "name": "stdout",
          "text": [
            "[[-2.82842712  0.        ]\n",
            " [ 0.          0.        ]\n",
            " [ 2.82842712  0.        ]]\n"
          ]
        }
      ],
      "source": [
        "p= vectors.T.dot(T.T)\n",
        "print(p.T)"
      ]
    },
    {
      "cell_type": "markdown",
      "metadata": {
        "id": "JujQHojiBQje"
      },
      "source": [
        "#### conclusion?"
      ]
    },
    {
      "cell_type": "code",
      "execution_count": 8,
      "metadata": {
        "id": "SUGMx4ENBQje"
      },
      "outputs": [],
      "source": []
    },
    {
      "cell_type": "markdown",
      "metadata": {
        "id": "Gdx0l4Y5BQje"
      },
      "source": [
        "# Exercise 2"
      ]
    },
    {
      "cell_type": "markdown",
      "metadata": {
        "id": "4E5RVDTpBQje"
      },
      "source": [
        "### Ok Let's do it again but for a larger matrix 20x5"
      ]
    },
    {
      "cell_type": "markdown",
      "metadata": {
        "id": "etcxuhPdBQjf"
      },
      "source": [
        "#### Generate a dummy dataset."
      ]
    },
    {
      "cell_type": "code",
      "execution_count": 12,
      "metadata": {
        "colab": {
          "base_uri": "https://localhost:8080/",
          "height": 0
        },
        "id": "naL8f3Y6BQjf",
        "outputId": "0fc04694-05db-4728-cbc8-620acdd58b6f"
      },
      "outputs": [
        {
          "output_type": "stream",
          "name": "stdout",
          "text": [
            "[[16 13 39 32 24]\n",
            " [40 33 15 37 14]\n",
            " [49 24 37 49 33]\n",
            " [43 47 36 17 18]\n",
            " [38 38 23 40 32]\n",
            " [25 29 16 33 31]\n",
            " [29 21 30 29 25]\n",
            " [18 13 47 48 16]\n",
            " [48 40 24 42 34]\n",
            " [11 17 41 43 19]\n",
            " [10 33 35 26 31]\n",
            " [33 45 49 48 45]\n",
            " [11 25 10 14 16]\n",
            " [28 43 23 24 19]\n",
            " [48 49 34 13 22]\n",
            " [26 47 24 19 33]\n",
            " [25 37 38 13 19]\n",
            " [39 15 39 33 47]\n",
            " [37 48 29 31 15]\n",
            " [48 46 48 42 35]]\n"
          ]
        }
      ],
      "source": [
        "X = np.random.randint(10,50,100).reshape(20,5)\n",
        "print(X)"
      ]
    },
    {
      "cell_type": "markdown",
      "metadata": {
        "id": "Fvbn7RIYBQjf"
      },
      "source": [
        "#### 1. Subtract the mean of each variable"
      ]
    },
    {
      "cell_type": "markdown",
      "metadata": {
        "id": "rKRAdoDbBQjg"
      },
      "source": [
        "Subtract the mean of each variable from the dataset so that the dataset should be centered on the origin. Doing this proves to be very helpful when calculating the covariance matrix."
      ]
    },
    {
      "cell_type": "code",
      "execution_count": 13,
      "metadata": {
        "colab": {
          "base_uri": "https://localhost:8080/",
          "height": 0
        },
        "id": "UcBgEl_XBQjg",
        "outputId": "1707531b-0854-4783-e72c-69c8924e9088"
      },
      "outputs": [
        {
          "output_type": "execute_result",
          "data": {
            "text/plain": [
              "array([31.1 , 33.15, 31.85, 31.65, 26.4 ])"
            ]
          },
          "metadata": {},
          "execution_count": 13
        }
      ],
      "source": [
        "means= np.mean(X, axis=0)\n",
        "means"
      ]
    },
    {
      "cell_type": "code",
      "source": [
        "B= X-means\n",
        "print(B)"
      ],
      "metadata": {
        "colab": {
          "base_uri": "https://localhost:8080/",
          "height": 0
        },
        "id": "THbn5F2wRb_Y",
        "outputId": "bc6044c8-5837-4d05-a9b9-6706d0012398"
      },
      "execution_count": 14,
      "outputs": [
        {
          "output_type": "stream",
          "name": "stdout",
          "text": [
            "[[-15.1  -20.15   7.15   0.35  -2.4 ]\n",
            " [  8.9   -0.15 -16.85   5.35 -12.4 ]\n",
            " [ 17.9   -9.15   5.15  17.35   6.6 ]\n",
            " [ 11.9   13.85   4.15 -14.65  -8.4 ]\n",
            " [  6.9    4.85  -8.85   8.35   5.6 ]\n",
            " [ -6.1   -4.15 -15.85   1.35   4.6 ]\n",
            " [ -2.1  -12.15  -1.85  -2.65  -1.4 ]\n",
            " [-13.1  -20.15  15.15  16.35 -10.4 ]\n",
            " [ 16.9    6.85  -7.85  10.35   7.6 ]\n",
            " [-20.1  -16.15   9.15  11.35  -7.4 ]\n",
            " [-21.1   -0.15   3.15  -5.65   4.6 ]\n",
            " [  1.9   11.85  17.15  16.35  18.6 ]\n",
            " [-20.1   -8.15 -21.85 -17.65 -10.4 ]\n",
            " [ -3.1    9.85  -8.85  -7.65  -7.4 ]\n",
            " [ 16.9   15.85   2.15 -18.65  -4.4 ]\n",
            " [ -5.1   13.85  -7.85 -12.65   6.6 ]\n",
            " [ -6.1    3.85   6.15 -18.65  -7.4 ]\n",
            " [  7.9  -18.15   7.15   1.35  20.6 ]\n",
            " [  5.9   14.85  -2.85  -0.65 -11.4 ]\n",
            " [ 16.9   12.85  16.15  10.35   8.6 ]]\n"
          ]
        }
      ]
    },
    {
      "cell_type": "markdown",
      "metadata": {
        "id": "5fmGweP-BQjg"
      },
      "source": [
        "#### 2. Calculate the Covariance Matrix"
      ]
    },
    {
      "cell_type": "markdown",
      "metadata": {
        "id": "6NJOg3wuBQjg"
      },
      "source": [
        "Calculate the Covariance Matrix of the mean-centered data. "
      ]
    },
    {
      "cell_type": "code",
      "execution_count": 15,
      "metadata": {
        "colab": {
          "base_uri": "https://localhost:8080/",
          "height": 0
        },
        "id": "l6rG7QWhBQjh",
        "outputId": "8700eb20-de12-4284-ecb1-2e105893a139"
      },
      "outputs": [
        {
          "output_type": "execute_result",
          "data": {
            "text/plain": [
              "array([[174.41052632,  83.51052632,  10.12105263,  28.40526316,\n",
              "         37.85263158],\n",
              "       [ 83.51052632, 161.08157895, -16.55526316, -48.68157895,\n",
              "          3.77894737],\n",
              "       [ 10.12105263, -16.55526316, 124.76578947,  50.52368421,\n",
              "         32.85263158],\n",
              "       [ 28.40526316, -48.68157895,  50.52368421, 145.29210526,\n",
              "         43.72631579],\n",
              "       [ 37.85263158,   3.77894737,  32.85263158,  43.72631579,\n",
              "         96.04210526]])"
            ]
          },
          "metadata": {},
          "execution_count": 15
        }
      ],
      "source": [
        "C= np.cov(X.T)\n",
        "C"
      ]
    },
    {
      "cell_type": "markdown",
      "metadata": {
        "id": "z6RENAlABQjh"
      },
      "source": [
        "Note: the matrix is symmetrical"
      ]
    },
    {
      "cell_type": "markdown",
      "metadata": {
        "id": "6fM0hLTHBQjh"
      },
      "source": [
        "#### 3. Compute the Eigenvalues and Eigenvectors"
      ]
    },
    {
      "cell_type": "markdown",
      "metadata": {
        "id": "_hVxOGiXBQjh"
      },
      "source": [
        "Now, compute the Eigenvalues and Eigenvectors for the calculated Covariance matrix. "
      ]
    },
    {
      "cell_type": "code",
      "execution_count": 16,
      "metadata": {
        "colab": {
          "base_uri": "https://localhost:8080/",
          "height": 0
        },
        "id": "2Q8yGhLQBQjh",
        "outputId": "8c250c85-e7d1-47d2-e7ae-3f362c7e80cc"
      },
      "outputs": [
        {
          "output_type": "stream",
          "name": "stdout",
          "text": [
            "[257.43313027 235.75125046  93.31883497  49.74367843  65.34521115]\n",
            "[[ 0.73549596  0.19582446  0.30887716  0.50943015 -0.25646502]\n",
            " [ 0.65112977 -0.32078835 -0.3077597  -0.6143464   0.03142178]\n",
            " [ 0.0142557   0.49112934 -0.8165154   0.15435344 -0.2608953 ]\n",
            " [-0.01744218  0.69012052  0.37555825 -0.57819361 -0.21926604]\n",
            " [ 0.18592544  0.37586335 -0.04623277  0.07018966  0.90393275]]\n"
          ]
        }
      ],
      "source": [
        "E_values, E_vectors= np.linalg.eig(C)\n",
        "print(E_values)\n",
        "print(E_vectors)"
      ]
    },
    {
      "cell_type": "markdown",
      "metadata": {
        "id": "zQo1TJtnBQji"
      },
      "source": [
        "Note: The Eigenvectors of the Covariance matrix we get are Orthogonal to each other and each vector represents a principal axis.\n",
        "A Higher Eigenvalue corresponds to a higher variability. Hence the principal axis with the higher Eigenvalue will be an axis capturing higher variability in the data."
      ]
    },
    {
      "cell_type": "markdown",
      "metadata": {
        "id": "o_-FTunqBQji"
      },
      "source": [
        "#### 4. Sort Eigenvalues in descending order"
      ]
    },
    {
      "cell_type": "markdown",
      "metadata": {
        "id": "nsC9YRWgBQjj"
      },
      "source": [
        "Sort the Eigenvalues in the descending order along with their corresponding Eigenvector."
      ]
    },
    {
      "cell_type": "code",
      "execution_count": 17,
      "metadata": {
        "colab": {
          "base_uri": "https://localhost:8080/",
          "height": 0
        },
        "id": "4c5J-ZlUBQjj",
        "outputId": "ea202c32-a64b-46cc-95ed-c9c0462c5444"
      },
      "outputs": [
        {
          "output_type": "execute_result",
          "data": {
            "text/plain": [
              "array([[ 0.73549596,  0.19582446,  0.30887716,  0.50943015, -0.25646502],\n",
              "       [ 0.65112977, -0.32078835, -0.3077597 , -0.6143464 ,  0.03142178],\n",
              "       [ 0.0142557 ,  0.49112934, -0.8165154 ,  0.15435344, -0.2608953 ],\n",
              "       [ 0.18592544,  0.37586335, -0.04623277,  0.07018966,  0.90393275],\n",
              "       [-0.01744218,  0.69012052,  0.37555825, -0.57819361, -0.21926604]])"
            ]
          },
          "metadata": {},
          "execution_count": 17
        }
      ],
      "source": [
        "order = np.argsort(E_values)[::-1]\n",
        "Arranged_Vectors=E_vectors[order]\n",
        "Arranged_Vectors"
      ]
    },
    {
      "cell_type": "markdown",
      "metadata": {
        "id": "dhH4BF92BQjj"
      },
      "source": [
        "Note: Each column in the Eigen vector-matrix corresponds to a principal component, so arranging them in descending order of their Eigenvalue will automatically arrange the principal component in descending order of their variability.\n",
        "Hence the first column in our rearranged Eigen vector-matrix will be a principal component that captures the highest variability."
      ]
    },
    {
      "cell_type": "markdown",
      "metadata": {
        "id": "1Kt9_AU_BQjk"
      },
      "source": [
        "#### 5. Select a subset from the rearranged Eigenvalue matrix"
      ]
    },
    {
      "cell_type": "markdown",
      "metadata": {
        "id": "EgXfCCk1BQjk"
      },
      "source": [
        "Select a subset of n first eigenvectors from the rearranged Eigenvector matrix as per our need, n is desired dimension of your final reduced data. i.e. \"n_components=2\" means you selected the first two principal components."
      ]
    },
    {
      "cell_type": "code",
      "execution_count": 18,
      "metadata": {
        "colab": {
          "base_uri": "https://localhost:8080/",
          "height": 0
        },
        "id": "SIiTamoJBQjl",
        "outputId": "76bcce1d-9d01-4d8f-9752-c5a976c1a3df"
      },
      "outputs": [
        {
          "output_type": "execute_result",
          "data": {
            "text/plain": [
              "array([[ 0.73549596,  0.19582446,  0.30887716,  0.50943015, -0.25646502],\n",
              "       [ 0.65112977, -0.32078835, -0.3077597 , -0.6143464 ,  0.03142178]])"
            ]
          },
          "metadata": {},
          "execution_count": 18
        }
      ],
      "source": [
        "Arranged_Vectors= Arranged_Vectors[:2]\n",
        "Arranged_Vectors"
      ]
    },
    {
      "cell_type": "markdown",
      "metadata": {
        "id": "BQsxU2LUBQjl"
      },
      "source": [
        "Note: The final dimensions of X_reduced will be ( 20, 2 ) and originally the data was of higher dimensions ( 20, 5 )."
      ]
    },
    {
      "cell_type": "markdown",
      "metadata": {
        "id": "LDKcKs4PBQjl"
      },
      "source": [
        "#### 6. Transform the data"
      ]
    },
    {
      "cell_type": "markdown",
      "metadata": {
        "id": "ucelq9glBQjl"
      },
      "source": [
        "Finally, transform the data by having a dot product between the Transpose of the Eigenvector subset and the Transpose of the mean-centered data. By transposing the outcome of the dot product, the result we get is the data reduced to lower dimensions from higher dimensions."
      ]
    },
    {
      "cell_type": "code",
      "execution_count": 19,
      "metadata": {
        "colab": {
          "base_uri": "https://localhost:8080/",
          "height": 0
        },
        "id": "v1MdqjPUBQjl",
        "outputId": "ca0526e8-17a1-4857-98ca-1b1c23d3855e"
      },
      "outputs": [
        {
          "output_type": "execute_result",
          "data": {
            "text/plain": [
              "array([[-1.20495635e+01, -5.85908960e+00],\n",
              "       [ 7.21757778e+00,  7.35254074e+00],\n",
              "       [ 2.01102451e+01,  2.55394739e+00],\n",
              "       [ 7.43756536e+00,  1.07645547e+01],\n",
              "       [ 6.10864549e+00,  7.06814725e-01],\n",
              "       [-1.06869082e+01,  1.55254384e+00],\n",
              "       [-5.48617027e+00,  4.68358884e+00],\n",
              "       [ 2.09504816e+00, -1.70998244e+01],\n",
              "       [ 1.46700614e+01,  5.10292674e+00],\n",
              "       [-7.43993445e+00, -1.79283306e+01],\n",
              "       [-1.86333947e+01, -1.10445655e+01],\n",
              "       [ 1.25741389e+01, -1.73023928e+01],\n",
              "       [-2.94526098e+01,  6.76769366e+00],\n",
              "       [-5.08402888e+00,  2.01263464e+00],\n",
              "       [ 7.82535909e+00,  1.65772190e+01],\n",
              "       [-1.16005068e+01,  2.63109897e+00],\n",
              "       [-9.43603774e+00,  4.12539040e+00],\n",
              "       [-1.30772857e-01,  8.58367287e+00],\n",
              "       [ 8.95969107e+00, -3.80935700e-03],\n",
              "       [ 2.30015949e+01, -4.17661433e+00]])"
            ]
          },
          "metadata": {},
          "execution_count": 19
        }
      ],
      "source": [
        "np.matmul(B,Arranged_Vectors.T)"
      ]
    },
    {
      "cell_type": "markdown",
      "metadata": {
        "id": "YOzd6x3ZBQjm"
      },
      "source": [
        "# Exercise 3"
      ]
    },
    {
      "cell_type": "markdown",
      "metadata": {
        "id": "ww8acRMvBQjm"
      },
      "source": [
        "### Now, let’s just combine everything above by making a function and try our Principal Component analysis from scratch on an example."
      ]
    },
    {
      "cell_type": "markdown",
      "metadata": {
        "id": "EGSS6zBMBQjn"
      },
      "source": [
        "#### Create a PCA function accepting data matrix and the number of components as input arguments."
      ]
    },
    {
      "cell_type": "code",
      "execution_count": 20,
      "metadata": {
        "id": "Z1GFWixzBQjn"
      },
      "outputs": [],
      "source": [
        "def PCA(data, component):\n",
        "  means= np.mean(data, axis=0)\n",
        "  B= data-means\n",
        "  C= np.cov(data.T)\n",
        "  E_values, E_vectors= np.linalg.eig(C)\n",
        "  order = np.argsort(E_values)[::-1]\n",
        "  Arranged_Vectors=E_vectors[order]\n",
        "  P=E_vectors[:,0:component].T.dot(B.T)\n",
        "  return P.T"
      ]
    },
    {
      "cell_type": "markdown",
      "metadata": {
        "id": "xS5SjL4eBQjn"
      },
      "source": [
        "#### Let's use the IRIS dataset to test our PCA function, and by the same way see if we can classify the dataset in the projected space"
      ]
    },
    {
      "cell_type": "code",
      "execution_count": 21,
      "metadata": {
        "id": "ok6MJ6OfBQjn",
        "outputId": "17fa312b-d0da-4e23-b86b-cd17a9c0dcfd",
        "colab": {
          "base_uri": "https://localhost:8080/",
          "height": 206
        }
      },
      "outputs": [
        {
          "output_type": "execute_result",
          "data": {
            "text/plain": [
              "   sepal length  sepal width  petal length  petal width       target\n",
              "0           5.1          3.5           1.4          0.2  Iris-setosa\n",
              "1           4.9          3.0           1.4          0.2  Iris-setosa\n",
              "2           4.7          3.2           1.3          0.2  Iris-setosa\n",
              "3           4.6          3.1           1.5          0.2  Iris-setosa\n",
              "4           5.0          3.6           1.4          0.2  Iris-setosa"
            ],
            "text/html": [
              "\n",
              "  <div id=\"df-049673b9-2308-4b91-a6a4-236871032cea\">\n",
              "    <div class=\"colab-df-container\">\n",
              "      <div>\n",
              "<style scoped>\n",
              "    .dataframe tbody tr th:only-of-type {\n",
              "        vertical-align: middle;\n",
              "    }\n",
              "\n",
              "    .dataframe tbody tr th {\n",
              "        vertical-align: top;\n",
              "    }\n",
              "\n",
              "    .dataframe thead th {\n",
              "        text-align: right;\n",
              "    }\n",
              "</style>\n",
              "<table border=\"1\" class=\"dataframe\">\n",
              "  <thead>\n",
              "    <tr style=\"text-align: right;\">\n",
              "      <th></th>\n",
              "      <th>sepal length</th>\n",
              "      <th>sepal width</th>\n",
              "      <th>petal length</th>\n",
              "      <th>petal width</th>\n",
              "      <th>target</th>\n",
              "    </tr>\n",
              "  </thead>\n",
              "  <tbody>\n",
              "    <tr>\n",
              "      <th>0</th>\n",
              "      <td>5.1</td>\n",
              "      <td>3.5</td>\n",
              "      <td>1.4</td>\n",
              "      <td>0.2</td>\n",
              "      <td>Iris-setosa</td>\n",
              "    </tr>\n",
              "    <tr>\n",
              "      <th>1</th>\n",
              "      <td>4.9</td>\n",
              "      <td>3.0</td>\n",
              "      <td>1.4</td>\n",
              "      <td>0.2</td>\n",
              "      <td>Iris-setosa</td>\n",
              "    </tr>\n",
              "    <tr>\n",
              "      <th>2</th>\n",
              "      <td>4.7</td>\n",
              "      <td>3.2</td>\n",
              "      <td>1.3</td>\n",
              "      <td>0.2</td>\n",
              "      <td>Iris-setosa</td>\n",
              "    </tr>\n",
              "    <tr>\n",
              "      <th>3</th>\n",
              "      <td>4.6</td>\n",
              "      <td>3.1</td>\n",
              "      <td>1.5</td>\n",
              "      <td>0.2</td>\n",
              "      <td>Iris-setosa</td>\n",
              "    </tr>\n",
              "    <tr>\n",
              "      <th>4</th>\n",
              "      <td>5.0</td>\n",
              "      <td>3.6</td>\n",
              "      <td>1.4</td>\n",
              "      <td>0.2</td>\n",
              "      <td>Iris-setosa</td>\n",
              "    </tr>\n",
              "  </tbody>\n",
              "</table>\n",
              "</div>\n",
              "      <button class=\"colab-df-convert\" onclick=\"convertToInteractive('df-049673b9-2308-4b91-a6a4-236871032cea')\"\n",
              "              title=\"Convert this dataframe to an interactive table.\"\n",
              "              style=\"display:none;\">\n",
              "        \n",
              "  <svg xmlns=\"http://www.w3.org/2000/svg\" height=\"24px\"viewBox=\"0 0 24 24\"\n",
              "       width=\"24px\">\n",
              "    <path d=\"M0 0h24v24H0V0z\" fill=\"none\"/>\n",
              "    <path d=\"M18.56 5.44l.94 2.06.94-2.06 2.06-.94-2.06-.94-.94-2.06-.94 2.06-2.06.94zm-11 1L8.5 8.5l.94-2.06 2.06-.94-2.06-.94L8.5 2.5l-.94 2.06-2.06.94zm10 10l.94 2.06.94-2.06 2.06-.94-2.06-.94-.94-2.06-.94 2.06-2.06.94z\"/><path d=\"M17.41 7.96l-1.37-1.37c-.4-.4-.92-.59-1.43-.59-.52 0-1.04.2-1.43.59L10.3 9.45l-7.72 7.72c-.78.78-.78 2.05 0 2.83L4 21.41c.39.39.9.59 1.41.59.51 0 1.02-.2 1.41-.59l7.78-7.78 2.81-2.81c.8-.78.8-2.07 0-2.86zM5.41 20L4 18.59l7.72-7.72 1.47 1.35L5.41 20z\"/>\n",
              "  </svg>\n",
              "      </button>\n",
              "      \n",
              "  <style>\n",
              "    .colab-df-container {\n",
              "      display:flex;\n",
              "      flex-wrap:wrap;\n",
              "      gap: 12px;\n",
              "    }\n",
              "\n",
              "    .colab-df-convert {\n",
              "      background-color: #E8F0FE;\n",
              "      border: none;\n",
              "      border-radius: 50%;\n",
              "      cursor: pointer;\n",
              "      display: none;\n",
              "      fill: #1967D2;\n",
              "      height: 32px;\n",
              "      padding: 0 0 0 0;\n",
              "      width: 32px;\n",
              "    }\n",
              "\n",
              "    .colab-df-convert:hover {\n",
              "      background-color: #E2EBFA;\n",
              "      box-shadow: 0px 1px 2px rgba(60, 64, 67, 0.3), 0px 1px 3px 1px rgba(60, 64, 67, 0.15);\n",
              "      fill: #174EA6;\n",
              "    }\n",
              "\n",
              "    [theme=dark] .colab-df-convert {\n",
              "      background-color: #3B4455;\n",
              "      fill: #D2E3FC;\n",
              "    }\n",
              "\n",
              "    [theme=dark] .colab-df-convert:hover {\n",
              "      background-color: #434B5C;\n",
              "      box-shadow: 0px 1px 3px 1px rgba(0, 0, 0, 0.15);\n",
              "      filter: drop-shadow(0px 1px 2px rgba(0, 0, 0, 0.3));\n",
              "      fill: #FFFFFF;\n",
              "    }\n",
              "  </style>\n",
              "\n",
              "      <script>\n",
              "        const buttonEl =\n",
              "          document.querySelector('#df-049673b9-2308-4b91-a6a4-236871032cea button.colab-df-convert');\n",
              "        buttonEl.style.display =\n",
              "          google.colab.kernel.accessAllowed ? 'block' : 'none';\n",
              "\n",
              "        async function convertToInteractive(key) {\n",
              "          const element = document.querySelector('#df-049673b9-2308-4b91-a6a4-236871032cea');\n",
              "          const dataTable =\n",
              "            await google.colab.kernel.invokeFunction('convertToInteractive',\n",
              "                                                     [key], {});\n",
              "          if (!dataTable) return;\n",
              "\n",
              "          const docLinkHtml = 'Like what you see? Visit the ' +\n",
              "            '<a target=\"_blank\" href=https://colab.research.google.com/notebooks/data_table.ipynb>data table notebook</a>'\n",
              "            + ' to learn more about interactive tables.';\n",
              "          element.innerHTML = '';\n",
              "          dataTable['output_type'] = 'display_data';\n",
              "          await google.colab.output.renderOutput(dataTable, element);\n",
              "          const docLink = document.createElement('div');\n",
              "          docLink.innerHTML = docLinkHtml;\n",
              "          element.appendChild(docLink);\n",
              "        }\n",
              "      </script>\n",
              "    </div>\n",
              "  </div>\n",
              "  "
            ]
          },
          "metadata": {},
          "execution_count": 21
        }
      ],
      "source": [
        "#Get the IRIS dataset\n",
        "url = \"https://archive.ics.uci.edu/ml/machine-learning-databases/iris/iris.data\"\n",
        "data = pd.read_csv(url, names=['sepal length','sepal width','petal length','petal width','target'])\n",
        "data.head()"
      ]
    },
    {
      "cell_type": "markdown",
      "metadata": {
        "id": "kAZV0qh4BQjo"
      },
      "source": [
        "#### 1. prepare the dataset & target set for classification"
      ]
    },
    {
      "cell_type": "code",
      "execution_count": 23,
      "metadata": {
        "id": "2npfTTF6BQjo",
        "colab": {
          "base_uri": "https://localhost:8080/",
          "height": 424
        },
        "outputId": "32c2e36f-ce28-49d9-9c4a-1a1ed9508b02"
      },
      "outputs": [
        {
          "output_type": "execute_result",
          "data": {
            "text/plain": [
              "     sepal length  sepal width  petal length  petal width\n",
              "0             5.1          3.5           1.4          0.2\n",
              "1             4.9          3.0           1.4          0.2\n",
              "2             4.7          3.2           1.3          0.2\n",
              "3             4.6          3.1           1.5          0.2\n",
              "4             5.0          3.6           1.4          0.2\n",
              "..            ...          ...           ...          ...\n",
              "145           6.7          3.0           5.2          2.3\n",
              "146           6.3          2.5           5.0          1.9\n",
              "147           6.5          3.0           5.2          2.0\n",
              "148           6.2          3.4           5.4          2.3\n",
              "149           5.9          3.0           5.1          1.8\n",
              "\n",
              "[150 rows x 4 columns]"
            ],
            "text/html": [
              "\n",
              "  <div id=\"df-4279e3ca-d0ea-4284-bd9b-58c880dbcd2b\">\n",
              "    <div class=\"colab-df-container\">\n",
              "      <div>\n",
              "<style scoped>\n",
              "    .dataframe tbody tr th:only-of-type {\n",
              "        vertical-align: middle;\n",
              "    }\n",
              "\n",
              "    .dataframe tbody tr th {\n",
              "        vertical-align: top;\n",
              "    }\n",
              "\n",
              "    .dataframe thead th {\n",
              "        text-align: right;\n",
              "    }\n",
              "</style>\n",
              "<table border=\"1\" class=\"dataframe\">\n",
              "  <thead>\n",
              "    <tr style=\"text-align: right;\">\n",
              "      <th></th>\n",
              "      <th>sepal length</th>\n",
              "      <th>sepal width</th>\n",
              "      <th>petal length</th>\n",
              "      <th>petal width</th>\n",
              "    </tr>\n",
              "  </thead>\n",
              "  <tbody>\n",
              "    <tr>\n",
              "      <th>0</th>\n",
              "      <td>5.1</td>\n",
              "      <td>3.5</td>\n",
              "      <td>1.4</td>\n",
              "      <td>0.2</td>\n",
              "    </tr>\n",
              "    <tr>\n",
              "      <th>1</th>\n",
              "      <td>4.9</td>\n",
              "      <td>3.0</td>\n",
              "      <td>1.4</td>\n",
              "      <td>0.2</td>\n",
              "    </tr>\n",
              "    <tr>\n",
              "      <th>2</th>\n",
              "      <td>4.7</td>\n",
              "      <td>3.2</td>\n",
              "      <td>1.3</td>\n",
              "      <td>0.2</td>\n",
              "    </tr>\n",
              "    <tr>\n",
              "      <th>3</th>\n",
              "      <td>4.6</td>\n",
              "      <td>3.1</td>\n",
              "      <td>1.5</td>\n",
              "      <td>0.2</td>\n",
              "    </tr>\n",
              "    <tr>\n",
              "      <th>4</th>\n",
              "      <td>5.0</td>\n",
              "      <td>3.6</td>\n",
              "      <td>1.4</td>\n",
              "      <td>0.2</td>\n",
              "    </tr>\n",
              "    <tr>\n",
              "      <th>...</th>\n",
              "      <td>...</td>\n",
              "      <td>...</td>\n",
              "      <td>...</td>\n",
              "      <td>...</td>\n",
              "    </tr>\n",
              "    <tr>\n",
              "      <th>145</th>\n",
              "      <td>6.7</td>\n",
              "      <td>3.0</td>\n",
              "      <td>5.2</td>\n",
              "      <td>2.3</td>\n",
              "    </tr>\n",
              "    <tr>\n",
              "      <th>146</th>\n",
              "      <td>6.3</td>\n",
              "      <td>2.5</td>\n",
              "      <td>5.0</td>\n",
              "      <td>1.9</td>\n",
              "    </tr>\n",
              "    <tr>\n",
              "      <th>147</th>\n",
              "      <td>6.5</td>\n",
              "      <td>3.0</td>\n",
              "      <td>5.2</td>\n",
              "      <td>2.0</td>\n",
              "    </tr>\n",
              "    <tr>\n",
              "      <th>148</th>\n",
              "      <td>6.2</td>\n",
              "      <td>3.4</td>\n",
              "      <td>5.4</td>\n",
              "      <td>2.3</td>\n",
              "    </tr>\n",
              "    <tr>\n",
              "      <th>149</th>\n",
              "      <td>5.9</td>\n",
              "      <td>3.0</td>\n",
              "      <td>5.1</td>\n",
              "      <td>1.8</td>\n",
              "    </tr>\n",
              "  </tbody>\n",
              "</table>\n",
              "<p>150 rows × 4 columns</p>\n",
              "</div>\n",
              "      <button class=\"colab-df-convert\" onclick=\"convertToInteractive('df-4279e3ca-d0ea-4284-bd9b-58c880dbcd2b')\"\n",
              "              title=\"Convert this dataframe to an interactive table.\"\n",
              "              style=\"display:none;\">\n",
              "        \n",
              "  <svg xmlns=\"http://www.w3.org/2000/svg\" height=\"24px\"viewBox=\"0 0 24 24\"\n",
              "       width=\"24px\">\n",
              "    <path d=\"M0 0h24v24H0V0z\" fill=\"none\"/>\n",
              "    <path d=\"M18.56 5.44l.94 2.06.94-2.06 2.06-.94-2.06-.94-.94-2.06-.94 2.06-2.06.94zm-11 1L8.5 8.5l.94-2.06 2.06-.94-2.06-.94L8.5 2.5l-.94 2.06-2.06.94zm10 10l.94 2.06.94-2.06 2.06-.94-2.06-.94-.94-2.06-.94 2.06-2.06.94z\"/><path d=\"M17.41 7.96l-1.37-1.37c-.4-.4-.92-.59-1.43-.59-.52 0-1.04.2-1.43.59L10.3 9.45l-7.72 7.72c-.78.78-.78 2.05 0 2.83L4 21.41c.39.39.9.59 1.41.59.51 0 1.02-.2 1.41-.59l7.78-7.78 2.81-2.81c.8-.78.8-2.07 0-2.86zM5.41 20L4 18.59l7.72-7.72 1.47 1.35L5.41 20z\"/>\n",
              "  </svg>\n",
              "      </button>\n",
              "      \n",
              "  <style>\n",
              "    .colab-df-container {\n",
              "      display:flex;\n",
              "      flex-wrap:wrap;\n",
              "      gap: 12px;\n",
              "    }\n",
              "\n",
              "    .colab-df-convert {\n",
              "      background-color: #E8F0FE;\n",
              "      border: none;\n",
              "      border-radius: 50%;\n",
              "      cursor: pointer;\n",
              "      display: none;\n",
              "      fill: #1967D2;\n",
              "      height: 32px;\n",
              "      padding: 0 0 0 0;\n",
              "      width: 32px;\n",
              "    }\n",
              "\n",
              "    .colab-df-convert:hover {\n",
              "      background-color: #E2EBFA;\n",
              "      box-shadow: 0px 1px 2px rgba(60, 64, 67, 0.3), 0px 1px 3px 1px rgba(60, 64, 67, 0.15);\n",
              "      fill: #174EA6;\n",
              "    }\n",
              "\n",
              "    [theme=dark] .colab-df-convert {\n",
              "      background-color: #3B4455;\n",
              "      fill: #D2E3FC;\n",
              "    }\n",
              "\n",
              "    [theme=dark] .colab-df-convert:hover {\n",
              "      background-color: #434B5C;\n",
              "      box-shadow: 0px 1px 3px 1px rgba(0, 0, 0, 0.15);\n",
              "      filter: drop-shadow(0px 1px 2px rgba(0, 0, 0, 0.3));\n",
              "      fill: #FFFFFF;\n",
              "    }\n",
              "  </style>\n",
              "\n",
              "      <script>\n",
              "        const buttonEl =\n",
              "          document.querySelector('#df-4279e3ca-d0ea-4284-bd9b-58c880dbcd2b button.colab-df-convert');\n",
              "        buttonEl.style.display =\n",
              "          google.colab.kernel.accessAllowed ? 'block' : 'none';\n",
              "\n",
              "        async function convertToInteractive(key) {\n",
              "          const element = document.querySelector('#df-4279e3ca-d0ea-4284-bd9b-58c880dbcd2b');\n",
              "          const dataTable =\n",
              "            await google.colab.kernel.invokeFunction('convertToInteractive',\n",
              "                                                     [key], {});\n",
              "          if (!dataTable) return;\n",
              "\n",
              "          const docLinkHtml = 'Like what you see? Visit the ' +\n",
              "            '<a target=\"_blank\" href=https://colab.research.google.com/notebooks/data_table.ipynb>data table notebook</a>'\n",
              "            + ' to learn more about interactive tables.';\n",
              "          element.innerHTML = '';\n",
              "          dataTable['output_type'] = 'display_data';\n",
              "          await google.colab.output.renderOutput(dataTable, element);\n",
              "          const docLink = document.createElement('div');\n",
              "          docLink.innerHTML = docLinkHtml;\n",
              "          element.appendChild(docLink);\n",
              "        }\n",
              "      </script>\n",
              "    </div>\n",
              "  </div>\n",
              "  "
            ]
          },
          "metadata": {},
          "execution_count": 23
        }
      ],
      "source": [
        "df= data.iloc[:,:-1]\n",
        "df"
      ]
    },
    {
      "cell_type": "markdown",
      "metadata": {
        "id": "kPdVt9DNBQjo"
      },
      "source": [
        "#### 2. Apply the PCA function"
      ]
    },
    {
      "cell_type": "code",
      "execution_count": 41,
      "metadata": {
        "id": "eU02WknIBQjo"
      },
      "outputs": [],
      "source": [
        "reduced_dimension= PCA(df, 2)"
      ]
    },
    {
      "cell_type": "markdown",
      "metadata": {
        "id": "8F8iJ3seBQjo"
      },
      "source": [
        "#### 3. Create a Pandas Dataframe of reduced Dataset with target data"
      ]
    },
    {
      "cell_type": "code",
      "source": [
        "data1= data.target\n",
        "data1"
      ],
      "metadata": {
        "colab": {
          "base_uri": "https://localhost:8080/",
          "height": 0
        },
        "id": "AhFnuWt46uqs",
        "outputId": "0122c32c-8101-4531-a5ea-a9bece2de045"
      },
      "execution_count": 37,
      "outputs": [
        {
          "output_type": "execute_result",
          "data": {
            "text/plain": [
              "0         Iris-setosa\n",
              "1         Iris-setosa\n",
              "2         Iris-setosa\n",
              "3         Iris-setosa\n",
              "4         Iris-setosa\n",
              "            ...      \n",
              "145    Iris-virginica\n",
              "146    Iris-virginica\n",
              "147    Iris-virginica\n",
              "148    Iris-virginica\n",
              "149    Iris-virginica\n",
              "Name: target, Length: 150, dtype: object"
            ]
          },
          "metadata": {},
          "execution_count": 37
        }
      ]
    },
    {
      "cell_type": "code",
      "execution_count": 43,
      "metadata": {
        "id": "uYDlAm64BQjp",
        "colab": {
          "base_uri": "https://localhost:8080/",
          "height": 424
        },
        "outputId": "b8245f1a-6ff6-45ca-f7fe-f06ef5d63671"
      },
      "outputs": [
        {
          "output_type": "execute_result",
          "data": {
            "text/plain": [
              "         Pca1      Pca2          target\n",
              "0   -2.684207 -0.326607     Iris-setosa\n",
              "1   -2.715391  0.169557     Iris-setosa\n",
              "2   -2.889820  0.137346     Iris-setosa\n",
              "3   -2.746437  0.311124     Iris-setosa\n",
              "4   -2.728593 -0.333925     Iris-setosa\n",
              "..        ...       ...             ...\n",
              "145  1.944017 -0.187415  Iris-virginica\n",
              "146  1.525664  0.375021  Iris-virginica\n",
              "147  1.764046 -0.078519  Iris-virginica\n",
              "148  1.901629 -0.115877  Iris-virginica\n",
              "149  1.389666  0.282887  Iris-virginica\n",
              "\n",
              "[150 rows x 3 columns]"
            ],
            "text/html": [
              "\n",
              "  <div id=\"df-61532a83-2346-4fe6-a67c-b81ca9682b0a\">\n",
              "    <div class=\"colab-df-container\">\n",
              "      <div>\n",
              "<style scoped>\n",
              "    .dataframe tbody tr th:only-of-type {\n",
              "        vertical-align: middle;\n",
              "    }\n",
              "\n",
              "    .dataframe tbody tr th {\n",
              "        vertical-align: top;\n",
              "    }\n",
              "\n",
              "    .dataframe thead th {\n",
              "        text-align: right;\n",
              "    }\n",
              "</style>\n",
              "<table border=\"1\" class=\"dataframe\">\n",
              "  <thead>\n",
              "    <tr style=\"text-align: right;\">\n",
              "      <th></th>\n",
              "      <th>Pca1</th>\n",
              "      <th>Pca2</th>\n",
              "      <th>target</th>\n",
              "    </tr>\n",
              "  </thead>\n",
              "  <tbody>\n",
              "    <tr>\n",
              "      <th>0</th>\n",
              "      <td>-2.684207</td>\n",
              "      <td>-0.326607</td>\n",
              "      <td>Iris-setosa</td>\n",
              "    </tr>\n",
              "    <tr>\n",
              "      <th>1</th>\n",
              "      <td>-2.715391</td>\n",
              "      <td>0.169557</td>\n",
              "      <td>Iris-setosa</td>\n",
              "    </tr>\n",
              "    <tr>\n",
              "      <th>2</th>\n",
              "      <td>-2.889820</td>\n",
              "      <td>0.137346</td>\n",
              "      <td>Iris-setosa</td>\n",
              "    </tr>\n",
              "    <tr>\n",
              "      <th>3</th>\n",
              "      <td>-2.746437</td>\n",
              "      <td>0.311124</td>\n",
              "      <td>Iris-setosa</td>\n",
              "    </tr>\n",
              "    <tr>\n",
              "      <th>4</th>\n",
              "      <td>-2.728593</td>\n",
              "      <td>-0.333925</td>\n",
              "      <td>Iris-setosa</td>\n",
              "    </tr>\n",
              "    <tr>\n",
              "      <th>...</th>\n",
              "      <td>...</td>\n",
              "      <td>...</td>\n",
              "      <td>...</td>\n",
              "    </tr>\n",
              "    <tr>\n",
              "      <th>145</th>\n",
              "      <td>1.944017</td>\n",
              "      <td>-0.187415</td>\n",
              "      <td>Iris-virginica</td>\n",
              "    </tr>\n",
              "    <tr>\n",
              "      <th>146</th>\n",
              "      <td>1.525664</td>\n",
              "      <td>0.375021</td>\n",
              "      <td>Iris-virginica</td>\n",
              "    </tr>\n",
              "    <tr>\n",
              "      <th>147</th>\n",
              "      <td>1.764046</td>\n",
              "      <td>-0.078519</td>\n",
              "      <td>Iris-virginica</td>\n",
              "    </tr>\n",
              "    <tr>\n",
              "      <th>148</th>\n",
              "      <td>1.901629</td>\n",
              "      <td>-0.115877</td>\n",
              "      <td>Iris-virginica</td>\n",
              "    </tr>\n",
              "    <tr>\n",
              "      <th>149</th>\n",
              "      <td>1.389666</td>\n",
              "      <td>0.282887</td>\n",
              "      <td>Iris-virginica</td>\n",
              "    </tr>\n",
              "  </tbody>\n",
              "</table>\n",
              "<p>150 rows × 3 columns</p>\n",
              "</div>\n",
              "      <button class=\"colab-df-convert\" onclick=\"convertToInteractive('df-61532a83-2346-4fe6-a67c-b81ca9682b0a')\"\n",
              "              title=\"Convert this dataframe to an interactive table.\"\n",
              "              style=\"display:none;\">\n",
              "        \n",
              "  <svg xmlns=\"http://www.w3.org/2000/svg\" height=\"24px\"viewBox=\"0 0 24 24\"\n",
              "       width=\"24px\">\n",
              "    <path d=\"M0 0h24v24H0V0z\" fill=\"none\"/>\n",
              "    <path d=\"M18.56 5.44l.94 2.06.94-2.06 2.06-.94-2.06-.94-.94-2.06-.94 2.06-2.06.94zm-11 1L8.5 8.5l.94-2.06 2.06-.94-2.06-.94L8.5 2.5l-.94 2.06-2.06.94zm10 10l.94 2.06.94-2.06 2.06-.94-2.06-.94-.94-2.06-.94 2.06-2.06.94z\"/><path d=\"M17.41 7.96l-1.37-1.37c-.4-.4-.92-.59-1.43-.59-.52 0-1.04.2-1.43.59L10.3 9.45l-7.72 7.72c-.78.78-.78 2.05 0 2.83L4 21.41c.39.39.9.59 1.41.59.51 0 1.02-.2 1.41-.59l7.78-7.78 2.81-2.81c.8-.78.8-2.07 0-2.86zM5.41 20L4 18.59l7.72-7.72 1.47 1.35L5.41 20z\"/>\n",
              "  </svg>\n",
              "      </button>\n",
              "      \n",
              "  <style>\n",
              "    .colab-df-container {\n",
              "      display:flex;\n",
              "      flex-wrap:wrap;\n",
              "      gap: 12px;\n",
              "    }\n",
              "\n",
              "    .colab-df-convert {\n",
              "      background-color: #E8F0FE;\n",
              "      border: none;\n",
              "      border-radius: 50%;\n",
              "      cursor: pointer;\n",
              "      display: none;\n",
              "      fill: #1967D2;\n",
              "      height: 32px;\n",
              "      padding: 0 0 0 0;\n",
              "      width: 32px;\n",
              "    }\n",
              "\n",
              "    .colab-df-convert:hover {\n",
              "      background-color: #E2EBFA;\n",
              "      box-shadow: 0px 1px 2px rgba(60, 64, 67, 0.3), 0px 1px 3px 1px rgba(60, 64, 67, 0.15);\n",
              "      fill: #174EA6;\n",
              "    }\n",
              "\n",
              "    [theme=dark] .colab-df-convert {\n",
              "      background-color: #3B4455;\n",
              "      fill: #D2E3FC;\n",
              "    }\n",
              "\n",
              "    [theme=dark] .colab-df-convert:hover {\n",
              "      background-color: #434B5C;\n",
              "      box-shadow: 0px 1px 3px 1px rgba(0, 0, 0, 0.15);\n",
              "      filter: drop-shadow(0px 1px 2px rgba(0, 0, 0, 0.3));\n",
              "      fill: #FFFFFF;\n",
              "    }\n",
              "  </style>\n",
              "\n",
              "      <script>\n",
              "        const buttonEl =\n",
              "          document.querySelector('#df-61532a83-2346-4fe6-a67c-b81ca9682b0a button.colab-df-convert');\n",
              "        buttonEl.style.display =\n",
              "          google.colab.kernel.accessAllowed ? 'block' : 'none';\n",
              "\n",
              "        async function convertToInteractive(key) {\n",
              "          const element = document.querySelector('#df-61532a83-2346-4fe6-a67c-b81ca9682b0a');\n",
              "          const dataTable =\n",
              "            await google.colab.kernel.invokeFunction('convertToInteractive',\n",
              "                                                     [key], {});\n",
              "          if (!dataTable) return;\n",
              "\n",
              "          const docLinkHtml = 'Like what you see? Visit the ' +\n",
              "            '<a target=\"_blank\" href=https://colab.research.google.com/notebooks/data_table.ipynb>data table notebook</a>'\n",
              "            + ' to learn more about interactive tables.';\n",
              "          element.innerHTML = '';\n",
              "          dataTable['output_type'] = 'display_data';\n",
              "          await google.colab.output.renderOutput(dataTable, element);\n",
              "          const docLink = document.createElement('div');\n",
              "          docLink.innerHTML = docLinkHtml;\n",
              "          element.appendChild(docLink);\n",
              "        }\n",
              "      </script>\n",
              "    </div>\n",
              "  </div>\n",
              "  "
            ]
          },
          "metadata": {},
          "execution_count": 43
        }
      ],
      "source": [
        "df_res=pd.DataFrame(reduced_dimension, columns=['Pca1','Pca2'])\n",
        "result = pd.concat([df_res, data1], axis=1, join='inner')\n",
        "result"
      ]
    },
    {
      "cell_type": "markdown",
      "metadata": {
        "id": "2nJY33WFBQjp"
      },
      "source": [
        "#### 4. Vizualize the data with one and two principal components"
      ]
    },
    {
      "cell_type": "code",
      "execution_count": 51,
      "metadata": {
        "id": "cyXrJ314BQjp",
        "colab": {
          "base_uri": "https://localhost:8080/",
          "height": 351
        },
        "outputId": "b75ff3d3-2935-4586-803d-78b3609cb025"
      },
      "outputs": [
        {
          "output_type": "stream",
          "name": "stderr",
          "text": [
            "/usr/local/lib/python3.7/dist-packages/seaborn/_decorators.py:43: FutureWarning: Pass the following variables as keyword args: x, y. From version 0.12, the only valid positional argument will be `data`, and passing other arguments without an explicit keyword will result in an error or misinterpretation.\n",
            "  FutureWarning\n"
          ]
        },
        {
          "output_type": "execute_result",
          "data": {
            "text/plain": [
              "<matplotlib.axes._subplots.AxesSubplot at 0x7f11223d0090>"
            ]
          },
          "metadata": {},
          "execution_count": 51
        },
        {
          "output_type": "display_data",
          "data": {
            "text/plain": [
              "<Figure size 432x288 with 1 Axes>"
            ],
            "image/png": "[encoded data removed]"
          },
          "metadata": {
            "needs_background": "light"
          }
        }
      ],
      "source": [
        "sb.scatterplot(result.Pca1, result.Pca2, hue=result.target)"
      ]
    },
    {
      "cell_type": "code",
      "execution_count": 54,
      "metadata": {
        "id": "m81eazWdBQjq",
        "colab": {
          "base_uri": "https://localhost:8080/",
          "height": 337
        },
        "outputId": "e08406d0-f169-44cb-f44e-a6010ba66291"
      },
      "outputs": [
        {
          "output_type": "stream",
          "name": "stderr",
          "text": [
            "/usr/local/lib/python3.7/dist-packages/seaborn/_decorators.py:43: FutureWarning: Pass the following variables as keyword args: x, y. From version 0.12, the only valid positional argument will be `data`, and passing other arguments without an explicit keyword will result in an error or misinterpretation.\n",
            "  FutureWarning\n"
          ]
        },
        {
          "output_type": "execute_result",
          "data": {
            "text/plain": [
              "<matplotlib.axes._subplots.AxesSubplot at 0x7f11222efdd0>"
            ]
          },
          "metadata": {},
          "execution_count": 54
        },
        {
          "output_type": "display_data",
          "data": {
            "text/plain": [
              "<Figure size 432x288 with 1 Axes>"
            ],
            "image/png": "[encoded data removed]"
          },
          "metadata": {
            "needs_background": "light"
          }
        }
      ],
      "source": [
        "sb.scatterplot(result.index, result.Pca1, hue=result.target)"
      ]
    },
    {
      "cell_type": "code",
      "source": [
        "sb.scatterplot(result.index, result.Pca2, hue=result.target)"
      ],
      "metadata": {
        "colab": {
          "base_uri": "https://localhost:8080/",
          "height": 337
        },
        "id": "DYEDbmGcE2xp",
        "outputId": "f0960016-8696-4077-f195-3df88a33b4bd"
      },
      "execution_count": 55,
      "outputs": [
        {
          "output_type": "stream",
          "name": "stderr",
          "text": [
            "/usr/local/lib/python3.7/dist-packages/seaborn/_decorators.py:43: FutureWarning: Pass the following variables as keyword args: x, y. From version 0.12, the only valid positional argument will be `data`, and passing other arguments without an explicit keyword will result in an error or misinterpretation.\n",
            "  FutureWarning\n"
          ]
        },
        {
          "output_type": "execute_result",
          "data": {
            "text/plain": [
              "<matplotlib.axes._subplots.AxesSubplot at 0x7f1122253f50>"
            ]
          },
          "metadata": {},
          "execution_count": 55
        },
        {
          "output_type": "display_data",
          "data": {
            "text/plain": [
              "<Figure size 432x288 with 1 Axes>"
            ],
            "image/png": "[encoded data removed]"
          },
          "metadata": {
            "needs_background": "light"
          }
        }
      ]
    },
    {
      "cell_type": "markdown",
      "metadata": {
        "id": "xhg6mZ2kBQjq"
      },
      "source": [
        "# More?"
      ]
    },
    {
      "cell_type": "markdown",
      "metadata": {
        "id": "7qVAyRUvBQjr"
      },
      "source": [
        "### Go to: https://jakevdp.github.io/PythonDataScienceHandbook/05.09-principal-component-analysis.html"
      ]
    },
    {
      "cell_type": "code",
      "execution_count": null,
      "metadata": {
        "id": "3hPX7kp8BQjr"
      },
      "outputs": [],
      "source": []
    }
  ],
  "metadata": {
    "kernelspec": {
      "display_name": "Python 3",
      "language": "python",
      "name": "python3"
    },
    "language_info": {
      "codemirror_mode": {
        "name": "ipython",
        "version": 3
      },
      "file_extension": ".py",
      "mimetype": "text/x-python",
      "name": "python",
      "nbconvert_exporter": "python",
      "pygments_lexer": "ipython3",
      "version": "3.6.12"
    },
    "colab": {
      "provenance": [],
      "include_colab_link": true
    }
  },
  "nbformat": 4,
  "nbformat_minor": 0
}