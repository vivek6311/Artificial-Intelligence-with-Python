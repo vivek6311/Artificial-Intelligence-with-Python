{
  "nbformat": 4,
  "nbformat_minor": 0,
  "metadata": {
    "colab": {
      "provenance": [],
      "authorship_tag": "ABX9TyO6fS8ef8y5P2dRM89Bu6ua",
      "include_colab_link": true
    },
    "kernelspec": {
      "name": "python3",
      "display_name": "Python 3"
    },
    "language_info": {
      "name": "python"
    }
  },
  "cells": [
    {
      "cell_type": "markdown",
      "metadata": {
        "id": "view-in-github",
        "colab_type": "text"
      },
      "source": [
        "<a href=\"https://colab.research.google.com/github/vivek6311/Artificial-Intelligence-with-Python/blob/master/NeenOpal_Vivek.ipynb\" target=\"_parent\"><img src=\"https://colab.research.google.com/assets/colab-badge.svg\" alt=\"Open In Colab\"/></a>"
      ]
    },
    {
      "cell_type": "code",
      "execution_count": 1,
      "metadata": {
        "id": "8MJ2g4OHme1h"
      },
      "outputs": [],
      "source": [
        "import numpy as np\n",
        "import pandas as pd"
      ]
    },
    {
      "cell_type": "code",
      "source": [
        "excel_file = 'Records Matching Task.xlsx'\n",
        "# Read each sheet into a dictionary of dataframes\n",
        "excel_data = pd.read_excel(excel_file, sheet_name=None)\n",
        "for sheet_name, sheet_data in excel_data.items():\n",
        "    print(\"Sheet Name:\", sheet_name)\n",
        "    print(sheet_data.head()) \n",
        "    print(\"------------------------------------\")\n"
      ],
      "metadata": {
        "colab": {
          "base_uri": "https://localhost:8080/"
        },
        "id": "A0l_01IBnAGi",
        "outputId": "91cb093d-c624-449c-a452-0a963f96bb4b"
      },
      "execution_count": 2,
      "outputs": [
        {
          "output_type": "stream",
          "name": "stdout",
          "text": [
            "Sheet Name: data1\n",
            "         Order ID       Product ID  Qty\n",
            "0  CA-2014-100006  TEC-PH-10002075    3\n",
            "1  CA-2014-100090  FUR-TA-10003715    3\n",
            "2  CA-2014-100090  OFF-BI-10001597    6\n",
            "3  CA-2014-100293  OFF-PA-10000176    6\n",
            "4  CA-2014-100328  OFF-BI-10000343    1\n",
            "------------------------------------\n",
            "Sheet Name: data2\n",
            "         Order ID       Product ID  Qty\n",
            "0  CA-2014-100090  FUR-TA-10003715    3\n",
            "1  CA-2014-100090  OFF-BI-10001597    6\n",
            "2  CA-2014-100293  OFF-PA-10000176    6\n",
            "3  CA-2014-100328  OFF-BI-10000343    1\n",
            "4  CA-2014-100363  OFF-FA-10000611    2\n",
            "------------------------------------\n"
          ]
        }
      ]
    },
    {
      "cell_type": "markdown",
      "source": [
        "# How to identify the Records (Order ID + Product ID combination) present in data1 but missing in data2 (Specify the number of records missing in your answer)\n"
      ],
      "metadata": {
        "id": "0sqi5su0ts5N"
      }
    },
    {
      "cell_type": "code",
      "source": [
        "data1 = pd.read_excel(excel_file, sheet_name='data1')\n",
        "data2 = pd.read_excel(excel_file, sheet_name='data2')"
      ],
      "metadata": {
        "id": "V2iH2IePoSEN"
      },
      "execution_count": 5,
      "outputs": []
    },
    {
      "cell_type": "code",
      "source": [
        "merged_data = pd.merge(data1, data2, on=['Order ID', 'Product ID'], how='left', indicator=True)"
      ],
      "metadata": {
        "id": "o-ZlSAbon-r6"
      },
      "execution_count": 8,
      "outputs": []
    },
    {
      "cell_type": "code",
      "source": [
        "missing_records = merged_data[merged_data['_merge'] == 'left_only']\n",
        "num_missing_records = len(missing_records)\n",
        "print(missing_records)"
      ],
      "metadata": {
        "colab": {
          "base_uri": "https://localhost:8080/"
        },
        "id": "wo9rHE--obLg",
        "outputId": "b23c3ecd-87d8-417c-9674-7f4e8f731a22"
      },
      "execution_count": 12,
      "outputs": [
        {
          "output_type": "stream",
          "name": "stdout",
          "text": [
            "            Order ID       Product ID  Qty_x  Qty_y     _merge\n",
            "0     CA-2014-100006  TEC-PH-10002075      3    NaN  left_only\n",
            "10    CA-2014-100678  OFF-EN-10000056      3    NaN  left_only\n",
            "19    CA-2014-100895  OFF-AR-10004511      2    NaN  left_only\n",
            "35    CA-2014-101560  OFF-BI-10000309      3    NaN  left_only\n",
            "61    CA-2014-102673  OFF-LA-10001771     12    NaN  left_only\n",
            "...              ...              ...    ...    ...        ...\n",
            "9390  US-2017-160836  OFF-AP-10001626      2    NaN  left_only\n",
            "9403  US-2017-162558  FUR-FU-10002364      2    NaN  left_only\n",
            "9420  US-2017-163657  OFF-BI-10000138      5    NaN  left_only\n",
            "9427  US-2017-164056  FUR-TA-10001307      5    NaN  left_only\n",
            "9435  US-2017-165456  FUR-CH-10003981      6    NaN  left_only\n",
            "\n",
            "[507 rows x 5 columns]\n"
          ]
        }
      ]
    },
    {
      "cell_type": "code",
      "source": [
        "print(num_missing_records)"
      ],
      "metadata": {
        "colab": {
          "base_uri": "https://localhost:8080/"
        },
        "id": "dteDszwGpKvB",
        "outputId": "6fe164de-a50a-4ef8-a903-823bba769e1e"
      },
      "execution_count": 11,
      "outputs": [
        {
          "output_type": "stream",
          "name": "stdout",
          "text": [
            "507\n"
          ]
        }
      ]
    },
    {
      "cell_type": "markdown",
      "source": [
        "# How to identify the Records (Order ID + Product ID combination) missing in data1 but present in data2 (Specify the number of records missing in your answer)\n"
      ],
      "metadata": {
        "id": "yXNuc3XOtzrn"
      }
    },
    {
      "cell_type": "code",
      "source": [
        "merged_data2 = pd.merge(data1, data2, on=['Order ID', 'Product ID'], how='right', indicator=True)\n"
      ],
      "metadata": {
        "id": "WpqBWCcEqUEX"
      },
      "execution_count": 15,
      "outputs": []
    },
    {
      "cell_type": "code",
      "source": [
        "missing_records2 = merged_data2[merged_data2['_merge'] == 'right_only']\n",
        "num_missing_records2 = len(missing_records)\n",
        "print(num_missing_records2)"
      ],
      "metadata": {
        "colab": {
          "base_uri": "https://localhost:8080/"
        },
        "id": "klIy367ApLar",
        "outputId": "885cddc4-eca9-4baa-efd5-005acf9dab20"
      },
      "execution_count": 16,
      "outputs": [
        {
          "output_type": "stream",
          "name": "stdout",
          "text": [
            "507\n"
          ]
        }
      ]
    },
    {
      "cell_type": "code",
      "source": [
        "print(missing_records2)"
      ],
      "metadata": {
        "colab": {
          "base_uri": "https://localhost:8080/"
        },
        "id": "P6Qq3rS6p_c_",
        "outputId": "98064ecc-2fa4-4408-bbee-a0ceb8377785"
      },
      "execution_count": 17,
      "outputs": [
        {
          "output_type": "stream",
          "name": "stdout",
          "text": [
            "            Order ID       Product ID  Qty_x  Qty_y      _merge\n",
            "11    CA-2014-100706  TEC-AC-10001314    NaN      2  right_only\n",
            "14    CA-2014-100762  OFF-PA-10001815    NaN      3  right_only\n",
            "30    CA-2014-101427  OFF-AR-10002257    NaN      3  right_only\n",
            "56    CA-2014-102652  FUR-FU-10001918    NaN      7  right_only\n",
            "63    CA-2014-102869  OFF-PA-10000788    NaN      3  right_only\n",
            "...              ...              ...    ...    ...         ...\n",
            "9428  US-2017-165344  OFF-BI-10003196    NaN     10  right_only\n",
            "9433  US-2017-165358  TEC-CO-10001943    NaN      5  right_only\n",
            "9455  US-2017-167920  OFF-AP-10000159    NaN      5  right_only\n",
            "9471  US-2017-169502  OFF-AP-10001947    NaN      5  right_only\n",
            "9473  US-2017-169551  FUR-BO-10001519    NaN      3  right_only\n",
            "\n",
            "[508 rows x 5 columns]\n"
          ]
        }
      ]
    },
    {
      "cell_type": "markdown",
      "source": [
        "# Find the Sum of the total Qty of Records missing in data1 but present in data2\n"
      ],
      "metadata": {
        "id": "ae88dWC3t2ys"
      }
    },
    {
      "cell_type": "code",
      "source": [
        "missing_records3 = merged_data2[merged_data2.isnull().any(axis=1)]\n"
      ],
      "metadata": {
        "id": "a1ciUaHOrIFJ"
      },
      "execution_count": 18,
      "outputs": []
    },
    {
      "cell_type": "code",
      "source": [
        "sum_missing_qty = missing_records3['Qty_y'].sum()\n",
        "print(sum_missing_qty)"
      ],
      "metadata": {
        "colab": {
          "base_uri": "https://localhost:8080/"
        },
        "id": "hNC3LZTwrkND",
        "outputId": "550d18e3-5f87-4377-86b3-669fddd12272"
      },
      "execution_count": 23,
      "outputs": [
        {
          "output_type": "stream",
          "name": "stdout",
          "text": [
            "1956\n"
          ]
        }
      ]
    },
    {
      "cell_type": "markdown",
      "source": [
        "# Find the total number of unique records (Order ID + Product ID combination) present in the combined dataset of data1 and data2"
      ],
      "metadata": {
        "id": "Pe66P8bOt9dW"
      }
    },
    {
      "cell_type": "code",
      "source": [
        "combined_data = pd.concat([data1, data2])\n",
        "num_unique_records = combined_data.groupby(['Order ID', 'Product ID']).size().shape[0]\n",
        "print(num_unique_records)"
      ],
      "metadata": {
        "colab": {
          "base_uri": "https://localhost:8080/"
        },
        "id": "yAZE45FksJeH",
        "outputId": "d2a9c839-4f2b-430d-af43-af5565ea0f92"
      },
      "execution_count": 24,
      "outputs": [
        {
          "output_type": "stream",
          "name": "stdout",
          "text": [
            "9986\n"
          ]
        }
      ]
    },
    {
      "cell_type": "markdown",
      "source": [
        "# **TASK-2**"
      ],
      "metadata": {
        "id": "9yPNkfRiuWgN"
      }
    },
    {
      "cell_type": "code",
      "source": [
        "bike_data= pd.read_csv(\"used_bikes.csv\")\n",
        "bike_data.head()"
      ],
      "metadata": {
        "colab": {
          "base_uri": "https://localhost:8080/",
          "height": 206
        },
        "id": "m7Kft8Ozub9p",
        "outputId": "97691213-60ed-4fb5-b77a-cf0bf35b5582"
      },
      "execution_count": 26,
      "outputs": [
        {
          "output_type": "execute_result",
          "data": {
            "text/plain": [
              "                              bike_name     price       city  kms_driven  \\\n",
              "0    TVS Star City Plus Dual Tone 110cc   35000.0  Ahmedabad     17654.0   \n",
              "1           Royal Enfield Classic 350cc  119900.0      Delhi     11000.0   \n",
              "2                  Triumph Daytona 675R  600000.0      Delhi       110.0   \n",
              "3                  TVS Apache RTR 180cc   65000.0  Bangalore     16329.0   \n",
              "4  Yamaha FZ S V 2.0 150cc-Ltd. Edition   80000.0  Bangalore     10000.0   \n",
              "\n",
              "         owner  age  power          brand  \n",
              "0  First Owner  3.0  110.0            TVS  \n",
              "1  First Owner  4.0  350.0  Royal Enfield  \n",
              "2  First Owner  8.0  675.0        Triumph  \n",
              "3  First Owner  4.0  180.0            TVS  \n",
              "4  First Owner  3.0  150.0         Yamaha  "
            ],
            "text/html": [
              "\n",
              "  <div id=\"df-c4d0e6eb-1f04-469e-951d-6799ce019247\">\n",
              "    <div class=\"colab-df-container\">\n",
              "      <div>\n",
              "<style scoped>\n",
              "    .dataframe tbody tr th:only-of-type {\n",
              "        vertical-align: middle;\n",
              "    }\n",
              "\n",
              "    .dataframe tbody tr th {\n",
              "        vertical-align: top;\n",
              "    }\n",
              "\n",
              "    .dataframe thead th {\n",
              "        text-align: right;\n",
              "    }\n",
              "</style>\n",
              "<table border=\"1\" class=\"dataframe\">\n",
              "  <thead>\n",
              "    <tr style=\"text-align: right;\">\n",
              "      <th></th>\n",
              "      <th>bike_name</th>\n",
              "      <th>price</th>\n",
              "      <th>city</th>\n",
              "      <th>kms_driven</th>\n",
              "      <th>owner</th>\n",
              "      <th>age</th>\n",
              "      <th>power</th>\n",
              "      <th>brand</th>\n",
              "    </tr>\n",
              "  </thead>\n",
              "  <tbody>\n",
              "    <tr>\n",
              "      <th>0</th>\n",
              "      <td>TVS Star City Plus Dual Tone 110cc</td>\n",
              "      <td>35000.0</td>\n",
              "      <td>Ahmedabad</td>\n",
              "      <td>17654.0</td>\n",
              "      <td>First Owner</td>\n",
              "      <td>3.0</td>\n",
              "      <td>110.0</td>\n",
              "      <td>TVS</td>\n",
              "    </tr>\n",
              "    <tr>\n",
              "      <th>1</th>\n",
              "      <td>Royal Enfield Classic 350cc</td>\n",
              "      <td>119900.0</td>\n",
              "      <td>Delhi</td>\n",
              "      <td>11000.0</td>\n",
              "      <td>First Owner</td>\n",
              "      <td>4.0</td>\n",
              "      <td>350.0</td>\n",
              "      <td>Royal Enfield</td>\n",
              "    </tr>\n",
              "    <tr>\n",
              "      <th>2</th>\n",
              "      <td>Triumph Daytona 675R</td>\n",
              "      <td>600000.0</td>\n",
              "      <td>Delhi</td>\n",
              "      <td>110.0</td>\n",
              "      <td>First Owner</td>\n",
              "      <td>8.0</td>\n",
              "      <td>675.0</td>\n",
              "      <td>Triumph</td>\n",
              "    </tr>\n",
              "    <tr>\n",
              "      <th>3</th>\n",
              "      <td>TVS Apache RTR 180cc</td>\n",
              "      <td>65000.0</td>\n",
              "      <td>Bangalore</td>\n",
              "      <td>16329.0</td>\n",
              "      <td>First Owner</td>\n",
              "      <td>4.0</td>\n",
              "      <td>180.0</td>\n",
              "      <td>TVS</td>\n",
              "    </tr>\n",
              "    <tr>\n",
              "      <th>4</th>\n",
              "      <td>Yamaha FZ S V 2.0 150cc-Ltd. Edition</td>\n",
              "      <td>80000.0</td>\n",
              "      <td>Bangalore</td>\n",
              "      <td>10000.0</td>\n",
              "      <td>First Owner</td>\n",
              "      <td>3.0</td>\n",
              "      <td>150.0</td>\n",
              "      <td>Yamaha</td>\n",
              "    </tr>\n",
              "  </tbody>\n",
              "</table>\n",
              "</div>\n",
              "      <button class=\"colab-df-convert\" onclick=\"convertToInteractive('df-c4d0e6eb-1f04-469e-951d-6799ce019247')\"\n",
              "              title=\"Convert this dataframe to an interactive table.\"\n",
              "              style=\"display:none;\">\n",
              "        \n",
              "  <svg xmlns=\"http://www.w3.org/2000/svg\" height=\"24px\"viewBox=\"0 0 24 24\"\n",
              "       width=\"24px\">\n",
              "    <path d=\"M0 0h24v24H0V0z\" fill=\"none\"/>\n",
              "    <path d=\"M18.56 5.44l.94 2.06.94-2.06 2.06-.94-2.06-.94-.94-2.06-.94 2.06-2.06.94zm-11 1L8.5 8.5l.94-2.06 2.06-.94-2.06-.94L8.5 2.5l-.94 2.06-2.06.94zm10 10l.94 2.06.94-2.06 2.06-.94-2.06-.94-.94-2.06-.94 2.06-2.06.94z\"/><path d=\"M17.41 7.96l-1.37-1.37c-.4-.4-.92-.59-1.43-.59-.52 0-1.04.2-1.43.59L10.3 9.45l-7.72 7.72c-.78.78-.78 2.05 0 2.83L4 21.41c.39.39.9.59 1.41.59.51 0 1.02-.2 1.41-.59l7.78-7.78 2.81-2.81c.8-.78.8-2.07 0-2.86zM5.41 20L4 18.59l7.72-7.72 1.47 1.35L5.41 20z\"/>\n",
              "  </svg>\n",
              "      </button>\n",
              "      \n",
              "  <style>\n",
              "    .colab-df-container {\n",
              "      display:flex;\n",
              "      flex-wrap:wrap;\n",
              "      gap: 12px;\n",
              "    }\n",
              "\n",
              "    .colab-df-convert {\n",
              "      background-color: #E8F0FE;\n",
              "      border: none;\n",
              "      border-radius: 50%;\n",
              "      cursor: pointer;\n",
              "      display: none;\n",
              "      fill: #1967D2;\n",
              "      height: 32px;\n",
              "      padding: 0 0 0 0;\n",
              "      width: 32px;\n",
              "    }\n",
              "\n",
              "    .colab-df-convert:hover {\n",
              "      background-color: #E2EBFA;\n",
              "      box-shadow: 0px 1px 2px rgba(60, 64, 67, 0.3), 0px 1px 3px 1px rgba(60, 64, 67, 0.15);\n",
              "      fill: #174EA6;\n",
              "    }\n",
              "\n",
              "    [theme=dark] .colab-df-convert {\n",
              "      background-color: #3B4455;\n",
              "      fill: #D2E3FC;\n",
              "    }\n",
              "\n",
              "    [theme=dark] .colab-df-convert:hover {\n",
              "      background-color: #434B5C;\n",
              "      box-shadow: 0px 1px 3px 1px rgba(0, 0, 0, 0.15);\n",
              "      filter: drop-shadow(0px 1px 2px rgba(0, 0, 0, 0.3));\n",
              "      fill: #FFFFFF;\n",
              "    }\n",
              "  </style>\n",
              "\n",
              "      <script>\n",
              "        const buttonEl =\n",
              "          document.querySelector('#df-c4d0e6eb-1f04-469e-951d-6799ce019247 button.colab-df-convert');\n",
              "        buttonEl.style.display =\n",
              "          google.colab.kernel.accessAllowed ? 'block' : 'none';\n",
              "\n",
              "        async function convertToInteractive(key) {\n",
              "          const element = document.querySelector('#df-c4d0e6eb-1f04-469e-951d-6799ce019247');\n",
              "          const dataTable =\n",
              "            await google.colab.kernel.invokeFunction('convertToInteractive',\n",
              "                                                     [key], {});\n",
              "          if (!dataTable) return;\n",
              "\n",
              "          const docLinkHtml = 'Like what you see? Visit the ' +\n",
              "            '<a target=\"_blank\" href=https://colab.research.google.com/notebooks/data_table.ipynb>data table notebook</a>'\n",
              "            + ' to learn more about interactive tables.';\n",
              "          element.innerHTML = '';\n",
              "          dataTable['output_type'] = 'display_data';\n",
              "          await google.colab.output.renderOutput(dataTable, element);\n",
              "          const docLink = document.createElement('div');\n",
              "          docLink.innerHTML = docLinkHtml;\n",
              "          element.appendChild(docLink);\n",
              "        }\n",
              "      </script>\n",
              "    </div>\n",
              "  </div>\n",
              "  "
            ]
          },
          "metadata": {},
          "execution_count": 26
        }
      ]
    },
    {
      "cell_type": "code",
      "source": [
        "bike_data.info()"
      ],
      "metadata": {
        "colab": {
          "base_uri": "https://localhost:8080/"
        },
        "id": "zr0ftjd8whku",
        "outputId": "4f87cf42-9f0d-4d19-f6d3-2414d6dfc075"
      },
      "execution_count": 29,
      "outputs": [
        {
          "output_type": "stream",
          "name": "stdout",
          "text": [
            "<class 'pandas.core.frame.DataFrame'>\n",
            "RangeIndex: 149 entries, 0 to 148\n",
            "Data columns (total 8 columns):\n",
            " #   Column      Non-Null Count  Dtype  \n",
            "---  ------      --------------  -----  \n",
            " 0   bike_name   149 non-null    object \n",
            " 1   price       149 non-null    float64\n",
            " 2   city        149 non-null    object \n",
            " 3   kms_driven  149 non-null    float64\n",
            " 4   owner       149 non-null    object \n",
            " 5   age         149 non-null    float64\n",
            " 6   power       149 non-null    float64\n",
            " 7   brand       149 non-null    object \n",
            "dtypes: float64(4), object(4)\n",
            "memory usage: 9.4+ KB\n"
          ]
        }
      ]
    },
    {
      "cell_type": "code",
      "source": [
        "memory_before = bike_data.memory_usage().sum() / (1024 ** 2)  \n",
        "# new data types for each column\n",
        "new_data_types = {\n",
        "    'bike_name': 'str',\n",
        "    'city': 'str',\n",
        "    'owner': 'str',\n",
        "    'brand': 'str',\n",
        "}\n",
        "\n",
        "for column, new_data_type in new_data_types.items():\n",
        "    bike_data[column] = bike_data[column].astype(new_data_type)\n",
        "\n",
        "memory_after = bike_data.memory_usage().sum() / (1024 ** 2)  \n",
        "\n",
        "print(\"Memory usage before: {:.2f} MB\".format(memory_before))\n",
        "print(\"Memory usage after: {:.2f} MB\".format(memory_after))"
      ],
      "metadata": {
        "colab": {
          "base_uri": "https://localhost:8080/"
        },
        "id": "X6u_9QKbyP6d",
        "outputId": "47aea20d-4217-435f-8429-611369ead19b"
      },
      "execution_count": 38,
      "outputs": [
        {
          "output_type": "stream",
          "name": "stdout",
          "text": [
            "Memory usage before: 0.01 MB\n",
            "Memory usage after: 0.01 MB\n"
          ]
        }
      ]
    },
    {
      "cell_type": "code",
      "source": [
        "import pandas as pd\n",
        "import sqlite3\n",
        "!ls"
      ],
      "metadata": {
        "colab": {
          "base_uri": "https://localhost:8080/"
        },
        "id": "nnhhOTXVPjs5",
        "outputId": "4ec659ba-7467-4a70-a6b0-42321f8900ce"
      },
      "execution_count": 43,
      "outputs": [
        {
          "output_type": "stream",
          "name": "stdout",
          "text": [
            "'Records Matching Task.xlsx'   sample_data   used_bikes.csv\n"
          ]
        }
      ]
    },
    {
      "cell_type": "code",
      "source": [
        "connection = sqlite3.connect('assignment.db')\n",
        "cursor = connection.cursor()"
      ],
      "metadata": {
        "id": "3vlMwO7uPlyP"
      },
      "execution_count": 44,
      "outputs": []
    },
    {
      "cell_type": "code",
      "source": [
        "pip install mysqlclient"
      ],
      "metadata": {
        "colab": {
          "base_uri": "https://localhost:8080/"
        },
        "id": "Dk8yHMrvS6XU",
        "outputId": "acfaea4a-37ee-4266-ed72-fbf808a85f38"
      },
      "execution_count": 59,
      "outputs": [
        {
          "output_type": "stream",
          "name": "stdout",
          "text": [
            "Looking in indexes: https://pypi.org/simple, https://us-python.pkg.dev/colab-wheels/public/simple/\n",
            "Collecting mysqlclient\n",
            "  Downloading mysqlclient-2.1.1.tar.gz (88 kB)\n",
            "\u001b[2K     \u001b[90m━━━━━━━━━━━━━━━━━━━━━━━━━━━━━━━━━━━━━━━━\u001b[0m \u001b[32m88.1/88.1 kB\u001b[0m \u001b[31m3.3 MB/s\u001b[0m eta \u001b[36m0:00:00\u001b[0m\n",
            "\u001b[?25h  Preparing metadata (setup.py) ... \u001b[?25l\u001b[?25hdone\n",
            "Building wheels for collected packages: mysqlclient\n",
            "  Building wheel for mysqlclient (setup.py) ... \u001b[?25l\u001b[?25hdone\n",
            "  Created wheel for mysqlclient: filename=mysqlclient-2.1.1-cp310-cp310-linux_x86_64.whl size=108352 sha256=6bc3ae389882d35ef2e5b62fa95b33f0cf4813ac7769eb8a8a0a2f1bc6a6401d\n",
            "  Stored in directory: /root/.cache/pip/wheels/7d/34/ba/a769c165b01646816afdf9bf792e847ef149693fee432b6b65\n",
            "Successfully built mysqlclient\n",
            "Installing collected packages: mysqlclient\n",
            "Successfully installed mysqlclient-2.1.1\n"
          ]
        }
      ]
    },
    {
      "cell_type": "markdown",
      "source": [
        "I am getting some problem here as i am not able to connect to SQL server."
      ],
      "metadata": {
        "id": "TBk7nsmlkU0c"
      }
    },
    {
      "cell_type": "code",
      "source": [
        "from sqlalchemy import create_engine\n",
        "# Configure the MySQL connection\n",
        "database_host = 'localhost'\n",
        "database_name = 'root'\n",
        "database_user = 'mydb'\n",
        "database_password = 'vivek@6311'\n",
        "\n",
        "# Create the SQLAlchemy engine\n",
        "engine = create_engine(f'mysql+pymysql://{database_user}:{database_password}@{database_host}/{database_name}')\n",
        "\n",
        "# Dump the data into the MySQL database\n",
        "bike_data.to_sql('table_name', con=engine, if_exists='replace', index=False)\n",
        "\n",
        "# Close the database connection\n",
        "engine.dispose()\n"
      ],
      "metadata": {
        "id": "CaQsCEFN0bms"
      },
      "execution_count": 1,
      "outputs": []
    }
  ]
}