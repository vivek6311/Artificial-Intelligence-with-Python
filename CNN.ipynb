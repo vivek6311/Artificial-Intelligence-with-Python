{
  "nbformat": 4,
  "nbformat_minor": 0,
  "metadata": {
    "colab": {
      "provenance": [],
      "include_colab_link": true
    },
    "kernelspec": {
      "name": "python3",
      "display_name": "Python 3"
    }
  },
  "cells": [
    {
      "cell_type": "markdown",
      "metadata": {
        "id": "view-in-github",
        "colab_type": "text"
      },
      "source": [
        "<a href=\"https://colab.research.google.com/github/vivek6311/Artificial-Intelligence-with-Python/blob/master/CNN.ipynb\" target=\"_parent\"><img src=\"https://colab.research.google.com/assets/colab-badge.svg\" alt=\"Open In Colab\"/></a>"
      ]
    },
    {
      "cell_type": "markdown",
      "metadata": {
        "id": "SpSnhz6KwAR2"
      },
      "source": [
        "## **Convolutional Neural Network (CNN)**\n"
      ]
    },
    {
      "cell_type": "markdown",
      "metadata": {
        "id": "3_aaAC2BTt51"
      },
      "source": [
        "# Extract the .zip file "
      ]
    },
    {
      "cell_type": "code",
      "source": [
        "from google.colab import drive\n",
        "drive.mount('/content/gdrive/', force_remount=True)"
      ],
      "metadata": {
        "colab": {
          "base_uri": "https://localhost:8080/"
        },
        "id": "SMoe5G9f75dB",
        "outputId": "92b2a468-5e80-47f4-a138-4e615bc0a255"
      },
      "execution_count": 1,
      "outputs": [
        {
          "output_type": "stream",
          "name": "stdout",
          "text": [
            "Mounted at /content/gdrive/\n"
          ]
        }
      ]
    },
    {
      "cell_type": "code",
      "metadata": {
        "id": "Nd8knNt33N2j"
      },
      "source": [
        " from zipfile import ZipFile\n",
        "file_name = '/content/gdrive/MyDrive/PhD/Work/TAShip/Lab_Tutorials/Data.zip'\n",
        "with ZipFile(file_name, 'r') as zip:\n",
        "   zip.extractall()\n",
        "   print(\"Done\")"
      ],
      "execution_count": 3,
      "outputs": []
    },
    {
      "cell_type": "markdown",
      "metadata": {
        "id": "T6sPb6S9wTew"
      },
      "source": [
        "# Load Libraries"
      ]
    },
    {
      "cell_type": "markdown",
      "metadata": {
        "id": "xZw7VarZwd-G"
      },
      "source": [
        "First step is to load the required libraries."
      ]
    },
    {
      "cell_type": "code",
      "metadata": {
        "id": "xWwF5yAuw2Xx"
      },
      "source": [
        "import numpy as np\n",
        "\n",
        "import matplotlib.pyplot as plt\n",
        "\n",
        "from keras.models import Sequential\n",
        "\n",
        "from keras.layers import Dense , Conv2D, Flatten, MaxPooling2D\n",
        "\n",
        "from keras.utils import np_utils"
      ],
      "execution_count": null,
      "outputs": []
    },
    {
      "cell_type": "markdown",
      "metadata": {
        "id": "578Oi4Mgw9hr"
      },
      "source": [
        "# Load Dataset from Images"
      ]
    },
    {
      "cell_type": "markdown",
      "metadata": {
        "id": "dxW0gFlxxAK9"
      },
      "source": [
        "In the root directory, there is a `Data' folder containing separate folders train and test. train and test contains training data and testing data respectively. Inside these, we have multiple folders each corresponding to a particular class. And each of them contains images of that class. In the given dataset, we have $10$ folders each in train and test corresponding to the $10$ classes $(0,1,...,9)$. So our task is to extract the data from images into numpy arrays."
      ]
    },
    {
      "cell_type": "code",
      "metadata": {
        "id": "mM75Wk8LBhql",
        "colab": {
          "base_uri": "https://localhost:8080/"
        },
        "outputId": "3833acea-d8cf-47a8-ffbf-462acd9acfbb"
      },
      "source": [
        "import os\n",
        "\n",
        "import cv2\n",
        "\n",
        "# load data from the path specified by the user\n",
        "\n",
        "def data_loader(path_train, path_test):\n",
        "  train_list=os.listdir(path_train)\n",
        "  \n",
        "  # Number of classes in the dataset\n",
        "  num_classes=len(train_list)\n",
        "  \n",
        "  # Empty lists for loading training and testing data images as well as corresponding labels\n",
        "  x_train=[]\n",
        "  y_train=[]\n",
        "  x_test=[]\n",
        "  y_test=[]\n",
        "  \n",
        "  # Loading training data\n",
        "  for label, folder in enumerate(train_list):\n",
        "    path1 = path_train+'/'+str(folder)\n",
        "    images = os.listdir(path1)\n",
        "    for file in images:\n",
        "      path2 = path1+'/'+str(file)\n",
        "      \n",
        "      # Read the image form the directory\n",
        "      img = cv2.imread(path2)\n",
        "      \n",
        "      # Append image to the train data list\n",
        "      x_train.append(img)\n",
        "      \n",
        "      # Append class-label corresponding to the image\n",
        "      y_train.append(label)\n",
        "    \n",
        "    # Loading testing data\n",
        "    path1 = path_test+'/'+str(folder)\n",
        "    images = os.listdir(path1)\n",
        "    for file in images:\n",
        "      path2=path1+'/'+str(file)\n",
        "      \n",
        "      # Read the image form the directory\n",
        "      img = cv2.imread(path2)\n",
        "      \n",
        "      # Append image to the test data list\n",
        "      x_test.append(img)\n",
        "      \n",
        "      # Append class-label corresponding to the image\n",
        "      y_test.append(label)\n",
        "  \n",
        "  # Convert lists into numpy arrays\n",
        "  x_train=np.asarray(x_train)\n",
        "  y_train=np.asarray(y_train)\n",
        "  x_test=np.asarray(x_test)\n",
        "  y_test=np.asarray(y_test)\n",
        "  return x_train,y_train,x_test,y_test\n",
        "\n",
        "# path specified by the user\n",
        "path_train = 'Data/train'\n",
        "path_test = 'Data/test'\n",
        "X_train,y_train,X_test,y_test = data_loader(path_train, path_test)\n",
        "\n",
        "print(\"Loading Done\")"
      ],
      "execution_count": null,
      "outputs": [
        {
          "output_type": "stream",
          "name": "stdout",
          "text": [
            "Loading Done\n"
          ]
        }
      ]
    },
    {
      "cell_type": "code",
      "metadata": {
        "id": "waqLowS4KAPT",
        "colab": {
          "base_uri": "https://localhost:8080/"
        },
        "outputId": "c38d6669-f84b-48fb-c5c5-d55736fe759e"
      },
      "source": [
        "X_train.shape\n"
      ],
      "execution_count": null,
      "outputs": [
        {
          "output_type": "execute_result",
          "data": {
            "text/plain": [
              "(30360, 28, 28, 3)"
            ]
          },
          "metadata": {},
          "execution_count": 15
        }
      ]
    },
    {
      "cell_type": "code",
      "metadata": {
        "id": "hPWoHUh7KAxE",
        "colab": {
          "base_uri": "https://localhost:8080/"
        },
        "outputId": "3271f4b4-0480-4548-9237-00029934d6f7"
      },
      "source": [
        "y_train.shape"
      ],
      "execution_count": null,
      "outputs": [
        {
          "output_type": "execute_result",
          "data": {
            "text/plain": [
              "(30360,)"
            ]
          },
          "metadata": {},
          "execution_count": 16
        }
      ]
    },
    {
      "cell_type": "code",
      "metadata": {
        "id": "8KUnVIfdKBD0",
        "colab": {
          "base_uri": "https://localhost:8080/"
        },
        "outputId": "b4ec64e7-f276-4a3e-e3a1-de6c7e3dcc7b"
      },
      "source": [
        "X_test.shape"
      ],
      "execution_count": null,
      "outputs": [
        {
          "output_type": "execute_result",
          "data": {
            "text/plain": [
              "(7590, 28, 28, 3)"
            ]
          },
          "metadata": {},
          "execution_count": 17
        }
      ]
    },
    {
      "cell_type": "code",
      "metadata": {
        "id": "9TObTxESKBVI",
        "colab": {
          "base_uri": "https://localhost:8080/"
        },
        "outputId": "4f853212-b8a0-4165-af72-ee22ce8979c0"
      },
      "source": [
        "y_test.shape"
      ],
      "execution_count": null,
      "outputs": [
        {
          "output_type": "execute_result",
          "data": {
            "text/plain": [
              "(7590,)"
            ]
          },
          "metadata": {},
          "execution_count": 18
        }
      ]
    },
    {
      "cell_type": "markdown",
      "metadata": {
        "id": "0C1TncQhzapf"
      },
      "source": [
        "# Formatting Data and Labels for Deep Learning"
      ]
    },
    {
      "cell_type": "code",
      "metadata": {
        "id": "WUAPRSm5zj0q"
      },
      "source": [
        "input_shape = (X_train.shape[1], X_train.shape[2], X_train.shape[3])\n",
        "\n",
        "# forcing the precision of the pixel values to be 32 bit\n",
        "X_train = X_train.astype('float32')\n",
        "X_test = X_test.astype('float32')\n",
        "\n",
        "# normalize inputs from 0-255 to 0-1\n",
        "X_train = X_train / 255.\n",
        "X_test = X_test / 255.\n",
        "\n",
        "# one hot encode outputs using np_utils.to_categorical inbuilt function\n",
        "y_train = np_utils.to_categorical(y_train)\n",
        "y_test = np_utils.to_categorical(y_test)\n",
        "\n",
        "num_classes = y_test.shape[1]"
      ],
      "execution_count": null,
      "outputs": []
    },
    {
      "cell_type": "markdown",
      "metadata": {
        "id": "-QgLGCF-K67J"
      },
      "source": [
        "# Splitting Data into Training, and Validation"
      ]
    },
    {
      "cell_type": "code",
      "metadata": {
        "id": "IlB928RI0LWk"
      },
      "source": [
        "from sklearn.model_selection import train_test_split\n",
        "\n",
        "#Splitting the trining data into training and validation\n",
        "\n",
        "X_train, X_val, y_train, y_val = train_test_split(X_train, y_train, test_size=0.2)"
      ],
      "execution_count": null,
      "outputs": []
    },
    {
      "cell_type": "code",
      "source": [
        "print(X_train.shape, y_train.shape)\n",
        "print(X_val.shape, y_val.shape)"
      ],
      "metadata": {
        "colab": {
          "base_uri": "https://localhost:8080/"
        },
        "id": "CFvBBsqjNdJe",
        "outputId": "7b0b88ab-3a82-40bb-baab-27277742ab63"
      },
      "execution_count": null,
      "outputs": [
        {
          "output_type": "stream",
          "name": "stdout",
          "text": [
            "(24288, 28, 28, 3) (24288, 10)\n",
            "(6072, 28, 28, 3) (6072, 10)\n"
          ]
        }
      ]
    },
    {
      "cell_type": "markdown",
      "metadata": {
        "id": "jW-ENuBdLFiS"
      },
      "source": [
        "\n",
        "# Defining a Shallow CNN Model"
      ]
    },
    {
      "cell_type": "markdown",
      "metadata": {
        "id": "-rxUskoBMZPF"
      },
      "source": [
        "Here we define a small CNN network. It contains a convolutional layer having 32 filters each of size (3 × 3).\n",
        "Then we flatten the feature map and add 2 dense layers. First one having 100 neurons and last one having\n",
        "10 neurons i.e. equal to number of classes."
      ]
    },
    {
      "cell_type": "code",
      "metadata": {
        "id": "ovc-O8gEMfbl"
      },
      "source": [
        "model = Sequential()\n",
        "model.add(Conv2D(32, (3,3), strides = (1,1), padding = 'same' , input_shape=input_shape, activation='relu'))\n",
        "model.add(Flatten())\n",
        "model.add(Dense(100, activation='relu'))\n",
        "model.add(Dense(num_classes, activation='softmax'))"
      ],
      "execution_count": null,
      "outputs": []
    },
    {
      "cell_type": "markdown",
      "metadata": {
        "id": "0woBCP1C0TV-"
      },
      "source": [
        "\n",
        "# Compiling the model"
      ]
    },
    {
      "cell_type": "markdown",
      "metadata": {
        "id": "4aSmUA3-0WIJ"
      },
      "source": [
        "Once the model is defined, we have to compile it. While compiling we provide the loss function to be used, the optimizer and any metric. Here we will use crossentropy loss with Adam optimizer and accuracy as a metric."
      ]
    },
    {
      "cell_type": "code",
      "metadata": {
        "id": "c8n--FDX0YjB"
      },
      "source": [
        "# Compile model\n",
        "\n",
        "model.compile(loss='categorical_crossentropy', optimizer='adam', metrics=['accuracy'])"
      ],
      "execution_count": null,
      "outputs": []
    },
    {
      "cell_type": "markdown",
      "metadata": {
        "id": "xq5f_ROP0ieD"
      },
      "source": [
        "# Training/Fitting the model"
      ]
    },
    {
      "cell_type": "markdown",
      "metadata": {
        "id": "V3gWi2g40kSf"
      },
      "source": [
        "Now the model is ready to be trained. We will provide training data to the network. Also we will specify the validation data, over which the model will only be validated."
      ]
    },
    {
      "cell_type": "code",
      "metadata": {
        "id": "xsJq43ok0mlT",
        "colab": {
          "base_uri": "https://localhost:8080/",
          "height": 627
        },
        "outputId": "c6aaef95-29f9-4930-95bf-a1487e62bdc6"
      },
      "source": [
        "# Training model\n",
        "\n",
        "history = model.fit(X_train, y_train, validation_data=(X_val, y_val), epochs=10, batch_size=200)\n",
        "\n",
        "plt.plot(history.history['accuracy'])\n",
        "plt.plot(history.history['val_accuracy'])\n",
        "plt.legend(['training', 'validation'], loc = 'upper left')\n",
        "plt.show()\n"
      ],
      "execution_count": null,
      "outputs": [
        {
          "output_type": "stream",
          "name": "stdout",
          "text": [
            "Epoch 1/10\n",
            "122/122 [==============================] - 19s 157ms/step - loss: 1.0439e-04 - accuracy: 1.0000 - val_loss: 0.0938 - val_accuracy: 0.9796\n",
            "Epoch 2/10\n",
            "122/122 [==============================] - 18s 151ms/step - loss: 9.2766e-05 - accuracy: 1.0000 - val_loss: 0.0961 - val_accuracy: 0.9799\n",
            "Epoch 3/10\n",
            "122/122 [==============================] - 18s 150ms/step - loss: 8.4061e-05 - accuracy: 1.0000 - val_loss: 0.0960 - val_accuracy: 0.9802\n",
            "Epoch 4/10\n",
            "122/122 [==============================] - 18s 151ms/step - loss: 7.6660e-05 - accuracy: 1.0000 - val_loss: 0.0977 - val_accuracy: 0.9799\n",
            "Epoch 5/10\n",
            "122/122 [==============================] - 18s 151ms/step - loss: 6.8337e-05 - accuracy: 1.0000 - val_loss: 0.0982 - val_accuracy: 0.9802\n",
            "Epoch 6/10\n",
            "122/122 [==============================] - 18s 151ms/step - loss: 6.2023e-05 - accuracy: 1.0000 - val_loss: 0.0985 - val_accuracy: 0.9802\n",
            "Epoch 7/10\n",
            "122/122 [==============================] - 19s 153ms/step - loss: 5.6520e-05 - accuracy: 1.0000 - val_loss: 0.1000 - val_accuracy: 0.9806\n",
            "Epoch 8/10\n",
            "122/122 [==============================] - 19s 152ms/step - loss: 5.1018e-05 - accuracy: 1.0000 - val_loss: 0.1004 - val_accuracy: 0.9801\n",
            "Epoch 9/10\n",
            "122/122 [==============================] - 19s 153ms/step - loss: 4.6951e-05 - accuracy: 1.0000 - val_loss: 0.1011 - val_accuracy: 0.9806\n",
            "Epoch 10/10\n",
            "122/122 [==============================] - 18s 151ms/step - loss: 4.2457e-05 - accuracy: 1.0000 - val_loss: 0.1017 - val_accuracy: 0.9806\n"
          ]
        },
        {
          "output_type": "display_data",
          "data": {
            "text/plain": [
              "<Figure size 432x288 with 1 Axes>"
            ],
            "image/png": "[encoded data removed]"
          },
          "metadata": {
            "needs_background": "light"
          }
        }
      ]
    },
    {
      "cell_type": "markdown",
      "metadata": {
        "id": "b4BjzfDW0w6v"
      },
      "source": [
        "# Evaluating the model"
      ]
    },
    {
      "cell_type": "markdown",
      "metadata": {
        "id": "_0FdSOdT01df"
      },
      "source": [
        "Finally we will evaluate the model on the testing dataset."
      ]
    },
    {
      "cell_type": "code",
      "metadata": {
        "id": "atp-I5qg04Ao",
        "colab": {
          "base_uri": "https://localhost:8080/"
        },
        "outputId": "649c8e5b-a80d-4904-86a1-c60194e87ed9"
      },
      "source": [
        "# Final evaluation of the model\n",
        "\n",
        "scores = model.evaluate(X_test, y_test)\n",
        "\n",
        "print(\"Baseline Error: %.2f%%\" % (100-scores[1]*100))"
      ],
      "execution_count": null,
      "outputs": [
        {
          "output_type": "stream",
          "name": "stdout",
          "text": [
            "238/238 [==============================] - 3s 12ms/step - loss: 0.1128 - accuracy: 0.9810\n",
            "Baseline Error: 1.90%\n"
          ]
        }
      ]
    },
    {
      "cell_type": "markdown",
      "metadata": {
        "id": "7Ux0ZGYe1Abb"
      },
      "source": [
        "\n",
        "# Defining a Deep Model"
      ]
    },
    {
      "cell_type": "markdown",
      "metadata": {
        "id": "N9zn7vqG1DUh"
      },
      "source": [
        "Now we will define a multi layer neural network in which we will add $2$ hidden layers having $500$ and $100$ neurons."
      ]
    },
    {
      "cell_type": "code",
      "metadata": {
        "id": "NyWnrEko1D-4"
      },
      "source": [
        "model = Sequential()\n",
        "model.add(Conv2D(32, (3, 3), strides=(1, 1), padding = 'same' , input_shape = input_shape, activation = 'relu'))# Param# = (3*3*32*3)+32=896\n",
        "model.add(Conv2D(32, (3, 3), strides=(1, 1), padding = 'same', activation = 'relu'))                            # Param# = (3*3*32*32)+32=9248\n",
        "model.add(MaxPooling2D((2, 2), strides=(2, 2), padding = 'valid'))\n",
        "model.add(Conv2D(64, (3, 3), strides=(1, 1), padding = 'same', activation = 'relu'))                            # Param# = (3*3*64*32)+64=18496\n",
        "model.add(Conv2D(64, (3, 3), strides=(1, 1), padding = 'same', activation = 'relu'))                            # Param# = (3*3*64*64)+64=36928\n",
        "model.add(Flatten())\n",
        "model.add(Dense(500, activation='relu'))                                                                        # Param# = (14*14*64*500)+500=6272500\n",
        "model.add(Dense(100, activation='relu'))                                                                        # Param# = (500*100)+100=50100\n",
        "model.add(Dense(num_classes, activation='softmax'))                                                             # Param# = (100*10)+10=1010"
      ],
      "execution_count": null,
      "outputs": []
    },
    {
      "cell_type": "markdown",
      "metadata": {
        "id": "PuDzWGiuS9gE"
      },
      "source": [
        "# Analyzing Model Summary"
      ]
    },
    {
      "cell_type": "markdown",
      "metadata": {
        "id": "5u8hQOzITCQ2"
      },
      "source": [
        "The following function provides us with detailed summary of the model. We can use it after we have defined\n",
        "our model."
      ]
    },
    {
      "cell_type": "code",
      "metadata": {
        "id": "4gQkPJ5BTLxc",
        "colab": {
          "base_uri": "https://localhost:8080/"
        },
        "outputId": "758851f0-b62d-49ff-ad77-e53d3c1ec5cf"
      },
      "source": [
        "model.summary()"
      ],
      "execution_count": null,
      "outputs": [
        {
          "output_type": "stream",
          "name": "stdout",
          "text": [
            "Model: \"sequential_2\"\n",
            "_________________________________________________________________\n",
            " Layer (type)                Output Shape              Param #   \n",
            "=================================================================\n",
            " conv2d_2 (Conv2D)           (None, 28, 28, 32)        896       \n",
            "                                                                 \n",
            " conv2d_3 (Conv2D)           (None, 28, 28, 32)        9248      \n",
            "                                                                 \n",
            " max_pooling2d (MaxPooling2D  (None, 14, 14, 32)       0         \n",
            " )                                                               \n",
            "                                                                 \n",
            " conv2d_4 (Conv2D)           (None, 14, 14, 64)        18496     \n",
            "                                                                 \n",
            " conv2d_5 (Conv2D)           (None, 14, 14, 64)        36928     \n",
            "                                                                 \n",
            " flatten_2 (Flatten)         (None, 12544)             0         \n",
            "                                                                 \n",
            " dense_4 (Dense)             (None, 500)               6272500   \n",
            "                                                                 \n",
            " dense_5 (Dense)             (None, 100)               50100     \n",
            "                                                                 \n",
            " dense_6 (Dense)             (None, 10)                1010      \n",
            "                                                                 \n",
            "=================================================================\n",
            "Total params: 6,389,178\n",
            "Trainable params: 6,389,178\n",
            "Non-trainable params: 0\n",
            "_________________________________________________________________\n"
          ]
        }
      ]
    },
    {
      "cell_type": "code",
      "metadata": {
        "id": "2OT0zQrT1FtF",
        "colab": {
          "base_uri": "https://localhost:8080/",
          "height": 374
        },
        "outputId": "51888c41-a166-4644-f75c-478f054b6c55"
      },
      "source": [
        "import h5py\n",
        "\n",
        "# Compile model\n",
        "\n",
        "model.compile(loss='categorical_crossentropy', optimizer='adam', metrics=['acc'])\n",
        "\n",
        "# Training model\n",
        "\n",
        "history = model.fit(X_train, y_train, validation_data=(X_val, y_val), epochs=2, batch_size=200)\n",
        "\n",
        "model.save_weights('CNN.h5')\n",
        "\n",
        "plt.plot(history.history['acc'])\n",
        "plt.plot(history.history['val_acc'])\n",
        "plt.legend(['training', 'validation'], loc = 'upper left')\n",
        "plt.show()\n",
        "\n",
        "# Final evaluation of the model\n",
        "\n",
        "scores = model.evaluate(X_test, y_test)\n",
        "\n",
        "print(\"Baseline Error: %.2f%%\" % (100-scores[1]*100))"
      ],
      "execution_count": null,
      "outputs": [
        {
          "output_type": "stream",
          "name": "stdout",
          "text": [
            "Epoch 1/2\n",
            "122/122 [==============================] - 122s 996ms/step - loss: 0.0543 - acc: 0.9830 - val_loss: 0.0569 - val_acc: 0.9824\n",
            "Epoch 2/2\n",
            "122/122 [==============================] - 126s 1s/step - loss: 0.0278 - acc: 0.9912 - val_loss: 0.0572 - val_acc: 0.9855\n"
          ]
        },
        {
          "output_type": "display_data",
          "data": {
            "text/plain": [
              "<Figure size 432x288 with 1 Axes>"
            ],
            "image/png": "[encoded data removed]"
          },
          "metadata": {
            "needs_background": "light"
          }
        },
        {
          "output_type": "stream",
          "name": "stdout",
          "text": [
            "238/238 [==============================] - 10s 44ms/step - loss: 0.0567 - acc: 0.9825\n",
            "Baseline Error: 1.75%\n"
          ]
        }
      ]
    },
    {
      "cell_type": "markdown",
      "metadata": {
        "id": "1dbczU1E8GBT"
      },
      "source": [
        "# Loading the saved model for testing"
      ]
    },
    {
      "cell_type": "code",
      "metadata": {
        "id": "GXWqw37F1QC1",
        "colab": {
          "base_uri": "https://localhost:8080/"
        },
        "outputId": "6ee4512f-5be6-46b5-f020-8a772b144427"
      },
      "source": [
        "model.load_weights('CNN.h5')\n",
        "\n",
        "# Final evaluation of the model\n",
        "\n",
        "scores = model.evaluate(X_test, y_test)\n",
        "\n",
        "print(\"Baseline Error: %.2f%%\" % (100-scores[1]*100))"
      ],
      "execution_count": null,
      "outputs": [
        {
          "output_type": "stream",
          "name": "stdout",
          "text": [
            "238/238 [==============================] - 10s 44ms/step - loss: 0.0567 - acc: 0.9825\n",
            "Baseline Error: 1.75%\n"
          ]
        }
      ]
    },
    {
      "cell_type": "markdown",
      "metadata": {
        "id": "ZAcPJQh9-VBS"
      },
      "source": [
        "# Creating checkpoints of model"
      ]
    },
    {
      "cell_type": "code",
      "metadata": {
        "id": "1Vw5q_-M_xuZ",
        "colab": {
          "base_uri": "https://localhost:8080/"
        },
        "outputId": "5c164b14-6034-4faf-e5b8-1a81b1ca4e62"
      },
      "source": [
        "from keras.callbacks import ModelCheckpoint\n",
        "\n",
        "filepath='CNN_valAcc.h5'\n",
        "checkpoint = ModelCheckpoint(filepath, monitor='val_accuracy', save_best_only=True, mode='max')\n",
        "callbacks_list = [checkpoint]\n",
        "model.fit(X_train, y_train, validation_data=(X_val, y_val), epochs=2, batch_size=200, callbacks=callbacks_list)"
      ],
      "execution_count": null,
      "outputs": [
        {
          "output_type": "stream",
          "name": "stdout",
          "text": [
            "Epoch 1/2\n",
            "122/122 [==============================] - 128s 1s/step - loss: 0.0283 - accuracy: 0.9925 - val_loss: 0.0501 - val_accuracy: 0.9842\n",
            "Epoch 2/2\n",
            "122/122 [==============================] - 127s 1s/step - loss: 0.0266 - accuracy: 0.9927 - val_loss: 0.0489 - val_accuracy: 0.9845\n"
          ]
        },
        {
          "output_type": "execute_result",
          "data": {
            "text/plain": [
              "<keras.callbacks.History at 0x7f1e32e49a30>"
            ]
          },
          "metadata": {},
          "execution_count": 44
        }
      ]
    },
    {
      "cell_type": "markdown",
      "metadata": {
        "id": "11MYT4fQCJM2"
      },
      "source": [
        "# Defining Learning Rate Decay and Other Parameters of Optimizer"
      ]
    },
    {
      "cell_type": "code",
      "metadata": {
        "id": "C5ZWRHHHCPsN",
        "colab": {
          "base_uri": "https://localhost:8080/"
        },
        "outputId": "11246268-aab2-4e15-a03c-935dabde4d3f"
      },
      "source": [
        "from keras.optimizers import SGD, Adam\n",
        "\n",
        "# sgd = SGD(learning_rate = 0.001, momentum = 0.0005, decay = 0.0005)\n",
        "\n",
        "adam = Adam(learning_rate=0.001, beta_1=0.9, beta_2=0.999, epsilon=None, decay=0.0005)\n",
        "\n",
        "model.compile(loss='categorical_crossentropy', optimizer=adam, metrics=['accuracy'])\n",
        "\n",
        "# model.compile(loss='categorical_crossentropy', optimizer=sgd, metrics=['accuracy'])\n",
        "\n",
        "model.fit(X_train, y_train, validation_data=(X_val, y_val), epochs=1, batch_size=200)\n",
        "\n",
        "# Final evaluation of the model\n",
        "\n",
        "scores = model.evaluate(X_test, y_test)\n",
        "\n",
        "print(\"Baseline Error: %.2f%%\" % (100-scores[1]*100))"
      ],
      "execution_count": null,
      "outputs": [
        {
          "output_type": "stream",
          "name": "stdout",
          "text": [
            "122/122 [==============================] - 129s 1s/step - loss: 0.0312 - accuracy: 0.9905 - val_loss: 0.0704 - val_accuracy: 0.9789\n",
            "238/238 [==============================] - 11s 48ms/step - loss: 0.0747 - accuracy: 0.9781\n",
            "Baseline Error: 2.19%\n"
          ]
        }
      ]
    }
  ]
}