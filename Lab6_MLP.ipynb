{
  "nbformat": 4,
  "nbformat_minor": 0,
  "metadata": {
    "colab": {
      "provenance": [],
      "collapsed_sections": [],
      "include_colab_link": true
    },
    "kernelspec": {
      "name": "python3",
      "display_name": "Python 3"
    },
    "language_info": {
      "name": "python"
    }
  },
  "cells": [
    {
      "cell_type": "markdown",
      "metadata": {
        "id": "view-in-github",
        "colab_type": "text"
      },
      "source": [
        "<a href=\"https://colab.research.google.com/github/vivek6311/Artificial-Intelligence-with-Python/blob/master/Lab6_MLP.ipynb\" target=\"_parent\"><img src=\"https://colab.research.google.com/assets/colab-badge.svg\" alt=\"Open In Colab\"/></a>"
      ]
    },
    {
      "cell_type": "code",
      "execution_count": 2,
      "metadata": {
        "id": "fJNYVdxmsm8F"
      },
      "outputs": [],
      "source": [
        "# Imports\n",
        "import math\n",
        "import torch\n",
        "import numpy as np\n",
        "import pandas as pd\n",
        "import matplotlib.pyplot as plt"
      ]
    },
    {
      "cell_type": "markdown",
      "source": [
        "### Task 1: Creating the single layer perceptron (3 points)\n",
        "\n",
        "In this lab we will focus on the perceptron, and how it can be used to model logic gates. Further, this same idea can be extended further due to perceptrons being a universal function approximator"
      ],
      "metadata": {
        "id": "ZxYOhSDgTJ5z"
      }
    },
    {
      "cell_type": "markdown",
      "source": [
        "**Implement the `sigmoid` function** *(1 point)*\n",
        "\n",
        "$𝑆(x) = \\frac{1}{1 + e^{-x}}$\n",
        "\n"
      ],
      "metadata": {
        "id": "fgU5WY3TV-GM"
      }
    },
    {
      "cell_type": "code",
      "source": [
        "def sigmoid(x):\n",
        "  '''\n",
        "    Applies the sigmoid function to the given input\n",
        "\n",
        "    Parameters\n",
        "    ----------\n",
        "    x: torch.Tensor\n",
        "        Input array/tensor\n",
        "\n",
        "    Returns\n",
        "    -------\n",
        "    out: torch.Tensor\n",
        "        Tensor after applying sigmoid function to it\n",
        "  '''\n",
        "  res = torch.sigmoid(x)\n",
        "  return res\n",
        "\n",
        "a = torch.randn ((4, 4, 4))\n",
        "sigmoid(a)"
      ],
      "metadata": {
        "id": "44NvwA86iYS5",
        "outputId": "63347e91-2279-42ed-a89c-fba2f6300afb",
        "colab": {
          "base_uri": "https://localhost:8080/"
        }
      },
      "execution_count": 3,
      "outputs": [
        {
          "output_type": "execute_result",
          "data": {
            "text/plain": [
              "tensor([[[0.2887, 0.3483, 0.8267, 0.8074],\n",
              "         [0.6564, 0.4792, 0.5701, 0.3187],\n",
              "         [0.5042, 0.5363, 0.6165, 0.7264],\n",
              "         [0.3062, 0.7862, 0.1944, 0.6522]],\n",
              "\n",
              "        [[0.3442, 0.8175, 0.6334, 0.3743],\n",
              "         [0.4645, 0.4702, 0.3596, 0.2221],\n",
              "         [0.5474, 0.7317, 0.6512, 0.3287],\n",
              "         [0.2402, 0.8818, 0.8246, 0.7449]],\n",
              "\n",
              "        [[0.0805, 0.1734, 0.2513, 0.5652],\n",
              "         [0.2107, 0.4451, 0.2970, 0.7690],\n",
              "         [0.0574, 0.9096, 0.8229, 0.2849],\n",
              "         [0.3343, 0.4878, 0.6732, 0.7849]],\n",
              "\n",
              "        [[0.8053, 0.4873, 0.8609, 0.2626],\n",
              "         [0.6049, 0.6855, 0.8187, 0.2202],\n",
              "         [0.3440, 0.2846, 0.5240, 0.4090],\n",
              "         [0.5635, 0.8380, 0.5633, 0.2133]]])"
            ]
          },
          "metadata": {},
          "execution_count": 3
        }
      ]
    },
    {
      "cell_type": "markdown",
      "source": [
        "**Implement the `perceptron` function** *(1 point)*\n",
        "\n",
        "$y' = x \\bullet W^t + b$"
      ],
      "metadata": {
        "id": "J-Tunf1PWDRG"
      }
    },
    {
      "cell_type": "code",
      "source": [
        "def perceptron(inputs, weights, bias):\n",
        "\n",
        "  '''\n",
        "    Defines the single layer perceptron model\n",
        "  '''\n",
        "  return sigmoid(inputs@(weights.T)+bias)\n",
        "  "
      ],
      "metadata": {
        "id": "8wzx5Zt-haY8"
      },
      "execution_count": 4,
      "outputs": []
    },
    {
      "cell_type": "code",
      "source": [],
      "metadata": {
        "id": "AaZeFjN-7hUp"
      },
      "execution_count": 3,
      "outputs": []
    },
    {
      "cell_type": "markdown",
      "source": [
        "**Implement the `binary_cross_entropy` function** *(1 point)*\n",
        "\n",
        "$\\mathrm{Loss} = - \\frac{1}{\\mathrm{N}} \\sum_{i=1}^{\\mathrm{N}} y_i \\cdot \\mathrm{log}\\; {\\hat{y}}_i + (1-y_i) \\cdot \\mathrm{log}\\; (1-{\\hat{y}}_i)$"
      ],
      "metadata": {
        "id": "STk3yf2tWFM3"
      }
    },
    {
      "cell_type": "code",
      "source": [
        "def binary_cross_entropy(preds, targets):\n",
        "  '''\n",
        "    Applies binary cross entropy given predictions and ground truth\n",
        "  '''\n",
        "  loss =  torch.nn.BCELoss()\n",
        "  return loss(preds, targets)"
      ],
      "metadata": {
        "id": "lAg5YyfPiL9i"
      },
      "execution_count": 5,
      "outputs": []
    },
    {
      "cell_type": "markdown",
      "source": [
        "## AND Gate"
      ],
      "metadata": {
        "id": "PitABqssebNz"
      }
    },
    {
      "cell_type": "code",
      "source": [
        "and_data = np.array([[0,0,0],\n",
        "                     [0,1,0],\n",
        "                     [1,0,0],\n",
        "                     [1,1,1]])\n",
        "\n",
        "# Creating a PyTorch tensor\n",
        "and_data = torch.Tensor(and_data)"
      ],
      "metadata": {
        "id": "9pVPVp6WeJfu"
      },
      "execution_count": 7,
      "outputs": []
    },
    {
      "cell_type": "code",
      "source": [
        "# Same slicing as np arrays\n",
        "X = and_data[:,:-1]\n",
        "y = and_data[:,-1:]"
      ],
      "metadata": {
        "id": "miB9u_0yfGWf"
      },
      "execution_count": 8,
      "outputs": []
    },
    {
      "cell_type": "code",
      "source": [
        "W = torch.randn((1,2), requires_grad=True)\n",
        "b = torch.randn((1,1), requires_grad=True)\n",
        "print(X.shape); print(W.T.shape)\n",
        "print(perceptron(X, W, b))"
      ],
      "metadata": {
        "id": "zt5YcThwf_3f",
        "outputId": "0814e8cd-1420-4457-d146-6c8c0f07eedf",
        "colab": {
          "base_uri": "https://localhost:8080/"
        }
      },
      "execution_count": 9,
      "outputs": [
        {
          "output_type": "stream",
          "name": "stdout",
          "text": [
            "torch.Size([4, 2])\n",
            "torch.Size([2, 1])\n",
            "tensor([[0.7433],\n",
            "        [0.9290],\n",
            "        [0.6535],\n",
            "        [0.8949]], grad_fn=<SigmoidBackward0>)\n"
          ]
        }
      ]
    },
    {
      "cell_type": "markdown",
      "source": [
        "**Create the training loop** *(1 point)*"
      ],
      "metadata": {
        "id": "thpCI3K1WID_"
      }
    },
    {
      "cell_type": "code",
      "source": [
        "n_epochs = 100\n",
        "lr = 5e-1\n",
        "losses = []\n",
        "for _ in range(n_epochs):\n",
        "  # Define the Training Loop here\n",
        "  # Get predictions\n",
        "  y_pred=perceptron(X,W,b)\n",
        "  # Calculate Loss\n",
        "  loss=binary_cross_entropy(y_pred, y)\n",
        "  \n",
        "  # Do a backward step (to calculate gradients)\n",
        "  loss.backward()\n",
        "\n",
        "  # Update Weights\n",
        "  with torch.no_grad():\n",
        "    W-= (lr*W.grad)\n",
        "    b-= (lr*b.grad) \n",
        "  W.requires_grad=True\n",
        "  b.requires_grad=True\n",
        "  # Append Loss\n",
        "  losses.append(float(loss))\n",
        "\n",
        "plt.plot(losses)\n",
        "\n",
        "with torch.no_grad():\n",
        "  print((perceptron(X, W, b) > 0.5).int())"
      ],
      "metadata": {
        "id": "Htp_t7erfnY-",
        "outputId": "02f74099-0688-4dd7-e99b-1d143da81d91",
        "colab": {
          "base_uri": "https://localhost:8080/",
          "height": 334
        }
      },
      "execution_count": 10,
      "outputs": [
        {
          "output_type": "stream",
          "name": "stdout",
          "text": [
            "tensor([[0],\n",
            "        [0],\n",
            "        [0],\n",
            "        [1]], dtype=torch.int32)\n"
          ]
        },
        {
          "output_type": "display_data",
          "data": {
            "text/plain": [
              "<Figure size 432x288 with 1 Axes>"
            ],
            "image/png": "[encoded data removed]"
          },
          "metadata": {
            "needs_background": "light"
          }
        }
      ]
    },
    {
      "cell_type": "code",
      "source": [],
      "metadata": {
        "id": "ZhGdWNaNkIJK"
      },
      "execution_count": 10,
      "outputs": []
    },
    {
      "cell_type": "code",
      "source": [],
      "metadata": {
        "id": "_AFaaDwkkbWK"
      },
      "execution_count": 10,
      "outputs": []
    },
    {
      "cell_type": "markdown",
      "source": [
        "## OR Gate"
      ],
      "metadata": {
        "id": "nxayZJ1UlLhR"
      }
    },
    {
      "cell_type": "code",
      "source": [
        "or_data = np.array([[0,0,0],\n",
        "                     [0,1,1],\n",
        "                     [1,0,1],\n",
        "                     [1,1,1]])\n",
        "\n",
        "# Creating a PyTorch tensor\n",
        "or_data = torch.Tensor(or_data)"
      ],
      "metadata": {
        "id": "O-C34mEjlFmj"
      },
      "execution_count": 12,
      "outputs": []
    },
    {
      "cell_type": "code",
      "source": [
        "# Same slicing as np arrays\n",
        "X = or_data[:,:-1]\n",
        "y = or_data[:,-1:]"
      ],
      "metadata": {
        "id": "vxOYpywhlVMm"
      },
      "execution_count": 13,
      "outputs": []
    },
    {
      "cell_type": "code",
      "source": [
        "W = torch.randn((1,2), requires_grad=True)\n",
        "b = torch.randn((1,1), requires_grad=True)"
      ],
      "metadata": {
        "id": "unqZ4I0vlVPB"
      },
      "execution_count": 14,
      "outputs": []
    },
    {
      "cell_type": "markdown",
      "source": [
        "**Reuse the training loop**"
      ],
      "metadata": {
        "id": "Nh9u6mxAWNhn"
      }
    },
    {
      "cell_type": "code",
      "source": [
        "n_epochs = 100\n",
        "lr = 5e-1\n",
        "losses = []\n",
        "for _ in range(n_epochs):\n",
        "  # Define the Training Loop here\n",
        "  # Get predictions\n",
        "  y_pred=perceptron(X,W,b)\n",
        "\n",
        "  # Calculate Loss\n",
        "  loss=binary_cross_entropy(y_pred, y)\n",
        "  \n",
        "  # Do a backward step (to calculate gradients)\n",
        "  loss.backward()\n",
        "\n",
        "  # Update Weights\n",
        "  with torch.no_grad():\n",
        "    W-= (lr*W.grad)\n",
        "    b-= (lr*b.grad) \n",
        "  W.requires_grad=True\n",
        "  b.requires_grad=True\n",
        "  # Append Loss\n",
        "  losses.append(float(loss))\n"
      ],
      "metadata": {
        "id": "L0KkuJdhlVRV"
      },
      "execution_count": 15,
      "outputs": []
    },
    {
      "cell_type": "code",
      "source": [
        "plt.plot(losses)"
      ],
      "metadata": {
        "id": "mNDDOtiblVTt",
        "outputId": "b0708dca-6b3e-439d-ca15-89a00144d9e4",
        "colab": {
          "base_uri": "https://localhost:8080/",
          "height": 282
        }
      },
      "execution_count": 16,
      "outputs": [
        {
          "output_type": "execute_result",
          "data": {
            "text/plain": [
              "[<matplotlib.lines.Line2D at 0x7f97667d4e90>]"
            ]
          },
          "metadata": {},
          "execution_count": 16
        },
        {
          "output_type": "display_data",
          "data": {
            "text/plain": [
              "<Figure size 432x288 with 1 Axes>"
            ],
            "image/png": "[encoded data removed]"
          },
          "metadata": {
            "needs_background": "light"
          }
        }
      ]
    },
    {
      "cell_type": "code",
      "source": [
        "with torch.no_grad():\n",
        "  print((perceptron(X, W, b) > 0.5).int())"
      ],
      "metadata": {
        "colab": {
          "base_uri": "https://localhost:8080/"
        },
        "id": "X3UCWJUXlVV5",
        "outputId": "d55946d9-7701-4963-d977-2cc923ececb5"
      },
      "execution_count": 17,
      "outputs": [
        {
          "output_type": "stream",
          "name": "stdout",
          "text": [
            "tensor([[0],\n",
            "        [1],\n",
            "        [1],\n",
            "        [1]], dtype=torch.int32)\n"
          ]
        }
      ]
    },
    {
      "cell_type": "markdown",
      "source": [
        "## XOR Gate"
      ],
      "metadata": {
        "id": "wiDm-OVLmPbJ"
      }
    },
    {
      "cell_type": "code",
      "source": [
        "xor_data = np.array([[0,0,0],\n",
        "                     [0,1,1],\n",
        "                     [1,0,1],\n",
        "                     [1,1,0]])\n",
        "\n",
        "# Creating a PyTorch tensor\n",
        "xor_data = torch.Tensor(xor_data)"
      ],
      "metadata": {
        "id": "OKEcg3LhmO96"
      },
      "execution_count": 18,
      "outputs": []
    },
    {
      "cell_type": "code",
      "source": [
        "# Same slicing as np arrays\n",
        "X = xor_data[:,:-1]\n",
        "y = xor_data[:,-1:]"
      ],
      "metadata": {
        "id": "zKIahsfhmdlZ"
      },
      "execution_count": 19,
      "outputs": []
    },
    {
      "cell_type": "code",
      "source": [
        "W = torch.randn((1,2), requires_grad=True)\n",
        "b = torch.randn((1,1), requires_grad=True)"
      ],
      "metadata": {
        "id": "OoSEcw4_mgX_"
      },
      "execution_count": 20,
      "outputs": []
    },
    {
      "cell_type": "markdown",
      "source": [
        "**Reuse the training loop**"
      ],
      "metadata": {
        "id": "pnwosFetWV0g"
      }
    },
    {
      "cell_type": "code",
      "source": [
        "n_epochs = 100\n",
        "lr = 5e-1\n",
        "losses = []\n",
        "for _ in range(n_epochs):\n",
        "  # Define the Training Loop here\n",
        "  # Get predictions\n",
        "  y_pred=perceptron(X,W,b)\n",
        "  # Calculate Loss\n",
        "  loss=binary_cross_entropy(y_pred, y)\n",
        "  \n",
        "  # Do a backward step (to calculate gradients)\n",
        "  loss.backward()\n",
        "\n",
        "  # Update Weights\n",
        "  with torch.no_grad():\n",
        "    W-= (lr*W.grad)\n",
        "    b-= (lr*b.grad) \n",
        "  W.requires_grad=True\n",
        "  b.requires_grad=True\n",
        "  # Append Loss\n",
        "  losses.append(float(loss))"
      ],
      "metadata": {
        "id": "wSqYPKw1miXl"
      },
      "execution_count": 21,
      "outputs": []
    },
    {
      "cell_type": "code",
      "source": [
        "plt.plot(losses)"
      ],
      "metadata": {
        "id": "yxOtiWiamnvE",
        "outputId": "a2e2dbb5-276a-4902-ccf5-96e52fe0a1b9",
        "colab": {
          "base_uri": "https://localhost:8080/",
          "height": 282
        }
      },
      "execution_count": 22,
      "outputs": [
        {
          "output_type": "execute_result",
          "data": {
            "text/plain": [
              "[<matplotlib.lines.Line2D at 0x7f9766757310>]"
            ]
          },
          "metadata": {},
          "execution_count": 22
        },
        {
          "output_type": "display_data",
          "data": {
            "text/plain": [
              "<Figure size 432x288 with 1 Axes>"
            ],
            "image/png": "[encoded data removed]"
          },
          "metadata": {
            "needs_background": "light"
          }
        }
      ]
    },
    {
      "cell_type": "code",
      "source": [
        "with torch.no_grad():\n",
        "  print((perceptron(X, W, b) > 0.5).int())"
      ],
      "metadata": {
        "colab": {
          "base_uri": "https://localhost:8080/"
        },
        "id": "cG7JSCcKmpHq",
        "outputId": "071e073d-4179-4bf6-a901-f7c647b3e5ef"
      },
      "execution_count": 23,
      "outputs": [
        {
          "output_type": "stream",
          "name": "stdout",
          "text": [
            "tensor([[1],\n",
            "        [0],\n",
            "        [0],\n",
            "        [0]], dtype=torch.int32)\n"
          ]
        }
      ]
    },
    {
      "cell_type": "markdown",
      "source": [
        "## Need for MLP\n",
        "\n",
        "As seen above, we are unable to model the XOR gate using a single layer perceptron, so we need to add a hidden layer."
      ],
      "metadata": {
        "id": "likiWP34nI7w"
      }
    },
    {
      "cell_type": "code",
      "source": [
        "W1 = torch.randn((10,2), requires_grad=True)\n",
        "W2 = torch.randn((1,10), requires_grad=True)\n",
        "b1 = torch.randn((1,10), requires_grad=True)\n",
        "b2 = torch.randn((1,1), requires_grad=True)"
      ],
      "metadata": {
        "id": "5EAfHk5EmrWx"
      },
      "execution_count": 24,
      "outputs": []
    },
    {
      "cell_type": "markdown",
      "source": [
        "**Implement the `mlp` function** *(1 point)*"
      ],
      "metadata": {
        "id": "IgLcqBZvWiBB"
      }
    },
    {
      "cell_type": "code",
      "source": [
        "def mlp(inputs, W1, W2, b1, b2):\n",
        "\n",
        "  '''\n",
        "    Defines the multi-layer perceptron model\n",
        "\n",
        "    Note: Only 1 hidden layer\n",
        "  '''\n",
        "  y_hidden=perceptron(inputs, W1, b1)\n",
        "  y_layer2=perceptron(y_hidden, W2, b2)\n",
        "  return y_layer2"
      ],
      "metadata": {
        "id": "HPkqgXl0nTOu"
      },
      "execution_count": 27,
      "outputs": []
    },
    {
      "cell_type": "markdown",
      "source": [
        "**Reuse the training loop**\n",
        "\n",
        "NOTE: It will require slight modification due to the hidden layer"
      ],
      "metadata": {
        "id": "WSYnvKmHWXwx"
      }
    },
    {
      "cell_type": "code",
      "source": [
        "n_epochs = 1000\n",
        "lr = 5e-1\n",
        "losses = []\n",
        "for _ in range(n_epochs):\n",
        "  # Define the Training Loop here\n",
        "  # Get predictions\n",
        "  y_pred = mlp(X, W1, W2, b1, b2)\n",
        "\n",
        "  # Calculate Loss\n",
        "  loss = binary_cross_entropy(y_pred, y)\n",
        "\n",
        "  # Do a backward step (to calculate gradients)\n",
        "  loss.backward()\n",
        "  \n",
        "  # Update Weights'\n",
        "  with torch.no_grad():\n",
        "    W1-= lr*W1.grad\n",
        "    b1-= lr*b1.grad\n",
        "    W2-= lr*W2.grad\n",
        "    b2-= lr*b2.grad\n",
        "  \n",
        "  W1.requires_grad= True\n",
        "  W2.requires_grad= True\n",
        "  b1.requires_grad= True\n",
        "  b2.requires_grad= True\n",
        "\n",
        "  # Append Loss\n",
        "  losses.append(float(loss))"
      ],
      "metadata": {
        "id": "CGNWK3rvn4YA"
      },
      "execution_count": 28,
      "outputs": []
    },
    {
      "cell_type": "code",
      "source": [
        "plt.plot(losses)"
      ],
      "metadata": {
        "id": "aCQ1ytUQn7rR",
        "outputId": "e06be3eb-cafb-454e-ac4d-be1211984ebf",
        "colab": {
          "base_uri": "https://localhost:8080/",
          "height": 282
        }
      },
      "execution_count": 29,
      "outputs": [
        {
          "output_type": "execute_result",
          "data": {
            "text/plain": [
              "[<matplotlib.lines.Line2D at 0x7f97666d95d0>]"
            ]
          },
          "metadata": {},
          "execution_count": 29
        },
        {
          "output_type": "display_data",
          "data": {
            "text/plain": [
              "<Figure size 432x288 with 1 Axes>"
            ],
            "image/png": "[encoded data removed]"
          },
          "metadata": {
            "needs_background": "light"
          }
        }
      ]
    },
    {
      "cell_type": "code",
      "source": [
        "with torch.no_grad():\n",
        "  print((mlp(X, W1, W2, b1, b2) > 0.5).int())"
      ],
      "metadata": {
        "colab": {
          "base_uri": "https://localhost:8080/"
        },
        "id": "f79jOcDZoXwl",
        "outputId": "93be49a4-6941-4c0e-e6f9-998447c5d86a"
      },
      "execution_count": 30,
      "outputs": [
        {
          "output_type": "stream",
          "name": "stdout",
          "text": [
            "tensor([[0],\n",
            "        [0],\n",
            "        [1],\n",
            "        [0]], dtype=torch.int32)\n"
          ]
        }
      ]
    },
    {
      "cell_type": "code",
      "source": [],
      "metadata": {
        "id": "ECHc8EExobNl"
      },
      "execution_count": null,
      "outputs": []
    }
  ]
}