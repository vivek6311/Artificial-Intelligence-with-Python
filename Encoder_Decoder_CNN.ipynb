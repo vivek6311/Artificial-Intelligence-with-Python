{
  "nbformat": 4,
  "nbformat_minor": 0,
  "metadata": {
    "colab": {
      "provenance": [],
      "include_colab_link": true
    },
    "kernelspec": {
      "name": "python3",
      "display_name": "Python 3"
    }
  },
  "cells": [
    {
      "cell_type": "markdown",
      "metadata": {
        "id": "view-in-github",
        "colab_type": "text"
      },
      "source": [
        "<a href=\"https://colab.research.google.com/github/vivek6311/Artificial-Intelligence-with-Python/blob/master/Encoder_Decoder_CNN.ipynb\" target=\"_parent\"><img src=\"https://colab.research.google.com/assets/colab-badge.svg\" alt=\"Open In Colab\"/></a>"
      ]
    },
    {
      "cell_type": "markdown",
      "metadata": {
        "id": "ATLtO3kRn3IP"
      },
      "source": [
        "# **Encoder-Decoder Network**"
      ]
    },
    {
      "cell_type": "markdown",
      "metadata": {
        "id": "yhaqXdAKoMjB"
      },
      "source": [
        "Encoder-Decoder consists of two structures: the encoder and the decoder. The encoder network downsamples the data into lower dimensions and the decoder network reconstructs the original data from the lower dimension representation. The lower dimension representation is usually called latent space representation."
      ]
    },
    {
      "cell_type": "markdown",
      "metadata": {
        "id": "Sbp3P7REySJS"
      },
      "source": [
        "![alt text](https://cdn-images-1.medium.com/max/1000/1*8ixTe1VHLsmKB3AquWdxpQ.png)"
      ]
    },
    {
      "cell_type": "markdown",
      "metadata": {
        "id": "5oOwXHEpsGRY"
      },
      "source": [
        "# Load Libraries"
      ]
    },
    {
      "cell_type": "code",
      "metadata": {
        "id": "J-OzQjtmOY2R"
      },
      "source": [
        "from matplotlib import pyplot as plt\n",
        "import numpy as np\n",
        "from keras.layers import Input,Conv2D,MaxPooling2D,UpSampling2D\n",
        "from keras.models import Model\n",
        "from keras.datasets import mnist"
      ],
      "execution_count": null,
      "outputs": []
    },
    {
      "cell_type": "markdown",
      "metadata": {
        "id": "ldGLmd-rMadu"
      },
      "source": [
        "# Load Dataset in Numpy Format"
      ]
    },
    {
      "cell_type": "markdown",
      "metadata": {
        "id": "Mn8lgM-oMd5p"
      },
      "source": [
        "MNIST is a simple computer vision dataset. It consists of images of handwritten digits. It also includes labels for each image, telling us which digit it is.\n",
        "The MNIST data is split into three parts: 60,000 data points of training data, and 10,000 points of test data. Each image is 28 pixels by 28 pixels.\n"
      ]
    },
    {
      "cell_type": "code",
      "metadata": {
        "id": "8IAL81mF2UME",
        "colab": {
          "base_uri": "https://localhost:8080/"
        },
        "outputId": "5326de08-7b41-44c8-8e4a-ced9ca443948"
      },
      "source": [
        "(X_train, y_train), (X_test, y_test) = mnist.load_data()"
      ],
      "execution_count": null,
      "outputs": [
        {
          "output_type": "stream",
          "name": "stdout",
          "text": [
            "Downloading data from https://storage.googleapis.com/tensorflow/tf-keras-datasets/mnist.npz\n",
            "11490434/11490434 [==============================] - 0s 0us/step\n"
          ]
        }
      ]
    },
    {
      "cell_type": "markdown",
      "metadata": {
        "id": "8TWyleCpP6l3"
      },
      "source": [
        "# Formatting Data for Keras"
      ]
    },
    {
      "cell_type": "code",
      "metadata": {
        "id": "dYN_GQ-SQKqo"
      },
      "source": [
        "# forcing the precision of the pixel values to be 32 bit\n",
        "X_train = X_train.astype('float32')\n",
        "X_test = X_test.astype('float32')\n",
        "\n",
        "# normalize inputs from 0-255 to 0-1\n",
        "X_train = X_train / 255\n",
        "X_test = X_test / 255\n",
        "\n",
        "X_train = X_train[:,:,:,np.newaxis]\n",
        "X_test = X_test[:,:,:,np.newaxis]"
      ],
      "execution_count": null,
      "outputs": []
    },
    {
      "cell_type": "markdown",
      "metadata": {
        "id": "VwLReWLOSxlg"
      },
      "source": [
        "# Splitting Data into Training, and Validation"
      ]
    },
    {
      "cell_type": "code",
      "metadata": {
        "id": "qTZW3KykS3gd"
      },
      "source": [
        "from sklearn.model_selection import train_test_split\n",
        "\n",
        "#Splitting the trining data into training and validation\n",
        "\n",
        "X_train, X_val, y_train, y_val = train_test_split(X_train, y_train, test_size=0.2)"
      ],
      "execution_count": null,
      "outputs": []
    },
    {
      "cell_type": "markdown",
      "metadata": {
        "id": "HCAlRUzqRbfF"
      },
      "source": [
        "# Adding Noise to Images"
      ]
    },
    {
      "cell_type": "markdown",
      "metadata": {
        "id": "Ms3tEvKuSecU"
      },
      "source": [
        "Let's first define a noise factor which is a hyperparameter. The noise factor is multiplied with a random matrix that has a mean of 0.0 and standard deviation of 1.0. This matrix will draw samples from normal (Gaussian) distribution. The shape of the random normal array will be similar to the shape of the data you will be adding the noise."
      ]
    },
    {
      "cell_type": "code",
      "metadata": {
        "id": "jguo_yd2Rh0v"
      },
      "source": [
        "noise_factor = 0.2\n",
        "x_train_noisy = X_train + noise_factor * np.random.normal(loc=0.0, scale=1.0, size=X_train.shape)\n",
        "x_valid_noisy = X_val + noise_factor * np.random.normal(loc=0.0, scale=1.0, size=X_val.shape)\n",
        "x_test_noisy = X_test + noise_factor * np.random.normal(loc=0.0, scale=1.0, size=X_test.shape)\n",
        "x_train_noisy = np.clip(x_train_noisy, 0., 1.)\n",
        "x_valid_noisy = np.clip(x_valid_noisy, 0., 1.)\n",
        "x_test_noisy = np.clip(x_test_noisy, 0., 1.)"
      ],
      "execution_count": null,
      "outputs": []
    },
    {
      "cell_type": "markdown",
      "metadata": {
        "id": "WEgEfhOATkuu"
      },
      "source": [
        "# Visualizing the noisy images"
      ]
    },
    {
      "cell_type": "code",
      "metadata": {
        "id": "Eo2JA3q5TnYN",
        "colab": {
          "base_uri": "https://localhost:8080/",
          "height": 193
        },
        "outputId": "cba63985-0ae5-4a5f-b18d-a72436ca1e41"
      },
      "source": [
        "plt.figure(figsize=[5,5])\n",
        "\n",
        "# Display the first image in training data\n",
        "plt.subplot(121)\n",
        "curr_img = np.reshape(x_train_noisy[1], (28,28))\n",
        "plt.imshow(curr_img, cmap='gray')\n",
        "\n",
        "# Display the first image in testing data\n",
        "plt.subplotplt.figure(figsize=[5,5])\n",
        "\n",
        "# Display the first image in training data\n",
        "plt.subplot(121)\n",
        "curr_img = np.reshape(x_train_noisy[1], (28,28))\n",
        "plt.imshow(curr_img, cmap='gray')\n",
        "\n",
        "# Display the first image in testing data\n",
        "plt.subplot(122)\n",
        "curr_img = np.reshape(x_test_noisy[1], (28,28))\n",
        "plt.imshow(curr_img, cmap='gray')(122)\n",
        "curr_img = np.reshape(x_test_noisy[1], (28,28))\n",
        "plt.imshow(curr_img, cmap='gray')"
      ],
      "execution_count": null,
      "outputs": [
        {
          "output_type": "execute_result",
          "data": {
            "text/plain": [
              "<matplotlib.image.AxesImage at 0x7f4b6614e0f0>"
            ]
          },
          "metadata": {
            "tags": []
          },
          "execution_count": 6
        },
        {
          "output_type": "display_data",
          "data": {
            "image/png": "[encoded data removed]",
            "text/plain": [
              "<Figure size 360x360 with 2 Axes>"
            ]
          },
          "metadata": {
            "tags": []
          }
        }
      ]
    },
    {
      "cell_type": "markdown",
      "metadata": {
        "id": "MlOJ8ge0Tz7N"
      },
      "source": [
        "# Denoising Encoder-Decoder Network"
      ]
    },
    {
      "cell_type": "code",
      "metadata": {
        "id": "Axqt0fFPUHZg"
      },
      "source": [
        "epochs = 2\n",
        "\n",
        "inChannel = 1\n",
        "\n",
        "batch_size = 128\n",
        "\n",
        "x, y = 28, 28\n",
        "\n",
        "input_img = Input(shape = (x, y, inChannel))\n",
        "\n",
        "\n",
        "\n",
        "def autoencoder(input_img):\n",
        "    #encoder\n",
        "    conv1 = Conv2D(16, (3, 3), activation='relu', padding='same')(input_img)\n",
        "    pool1 = MaxPooling2D(pool_size=(2, 2))(conv1)\n",
        "    conv2 = Conv2D(32, (3, 3), activation='relu', padding='same')(pool1)\n",
        "    pool2 = MaxPooling2D(pool_size=(2, 2))(conv2)\n",
        "\n",
        "    #decoder\n",
        "    conv4 = Conv2D(32, (3, 3), activation='relu', padding='same')(pool2)\n",
        "    up1 = UpSampling2D((2,2))(conv4)\n",
        "    conv5 = Conv2D(32, (3, 3), activation='relu', padding='same')(up1)\n",
        "    up2 =  UpSampling2D((2,2))(conv5)\n",
        "    conv5 = Conv2D(16, (3, 3), activation='relu', padding='same')(up2)\n",
        "    decoded = Conv2D(1, (3, 3), activation='sigmoid', padding='same')(conv5)\n",
        "    return decoded"
      ],
      "execution_count": null,
      "outputs": []
    },
    {
      "cell_type": "markdown",
      "metadata": {
        "id": "xs7iQPUcU_0r"
      },
      "source": [
        "# Build the model and compile"
      ]
    },
    {
      "cell_type": "code",
      "metadata": {
        "id": "ur2qjozXVG3z"
      },
      "source": [
        "model = Model(input_img, autoencoder(input_img))\n",
        "model.compile(loss='binary_crossentropy', optimizer = 'adam')"
      ],
      "execution_count": null,
      "outputs": []
    },
    {
      "cell_type": "markdown",
      "metadata": {
        "id": "KtSe_wyBVT_Y"
      },
      "source": [
        "# Training"
      ]
    },
    {
      "cell_type": "code",
      "metadata": {
        "id": "IgN-OX2SVWFo",
        "colab": {
          "base_uri": "https://localhost:8080/",
          "height": 104
        },
        "outputId": "d3dc4c93-94ae-4fc6-d045-e63f71ed53a1"
      },
      "source": [
        "model.save_weights(\"enc_dec.h5\")\n",
        "autoencoder_train = model.fit(x_train_noisy, X_train, validation_data=(x_valid_noisy, X_val), batch_size=batch_size,epochs=epochs)\n",
        "model.save_weights(\"enc_dec.h5\")"
      ],
      "execution_count": null,
      "outputs": [
        {
          "output_type": "stream",
          "text": [
            "Train on 48000 samples, validate on 12000 samples\n",
            "Epoch 1/2\n",
            "48000/48000 [==============================] - 151s 3ms/step - loss: 0.0858 - val_loss: 0.0815\n",
            "Epoch 2/2\n",
            "48000/48000 [==============================] - 151s 3ms/step - loss: 0.0801 - val_loss: 0.0783\n"
          ],
          "name": "stdout"
        }
      ]
    },
    {
      "cell_type": "markdown",
      "metadata": {
        "id": "0_xjPcdLWBNs"
      },
      "source": [
        "# Train versus Validation Loss Plot"
      ]
    },
    {
      "cell_type": "code",
      "metadata": {
        "id": "fsyYudyCWDIm",
        "colab": {
          "base_uri": "https://localhost:8080/",
          "height": 298
        },
        "outputId": "f3fe4c29-9efb-4df7-e4ce-3b0d7d83788d"
      },
      "source": [
        "loss = autoencoder_train.history['loss']\n",
        "val_loss = autoencoder_train.history['val_loss']\n",
        "epochs = range(epochs)\n",
        "plt.figure()\n",
        "plt.plot(epochs, loss, 'bo', label='Training loss')\n",
        "plt.plot(epochs, val_loss, 'b', label='Validation loss')\n",
        "plt.title('Training and validation loss')\n",
        "plt.legend()"
      ],
      "execution_count": null,
      "outputs": [
        {
          "output_type": "execute_result",
          "data": {
            "text/plain": [
              "<matplotlib.legend.Legend at 0x7f4b588be470>"
            ]
          },
          "metadata": {
            "tags": []
          },
          "execution_count": 16
        },
        {
          "output_type": "display_data",
          "data": {
            "image/png": "[encoded data removed]",
            "text/plain": [
              "<Figure size 432x288 with 1 Axes>"
            ]
          },
          "metadata": {
            "tags": []
          }
        }
      ]
    },
    {
      "cell_type": "markdown",
      "metadata": {
        "id": "DyYviBZoXRcx"
      },
      "source": [
        "# Predicting on Test dataset"
      ]
    },
    {
      "cell_type": "code",
      "metadata": {
        "id": "r9w4O2NDXTxc"
      },
      "source": [
        "def autoencoder(input_img):\n",
        "    #encoder\n",
        "    conv1 = Conv2D(16, (3, 3), activation='relu', padding='same')(input_img)\n",
        "    pool1 = MaxPooling2D(pool_size=(2, 2))(conv1)\n",
        "    conv2 = Conv2D(32, (3, 3), activation='relu', padding='same')(pool1)\n",
        "    pool2 = MaxPooling2D(pool_size=(2, 2))(conv2)\n",
        "\n",
        "    #decoder\n",
        "    conv4 = Conv2D(32, (3, 3), activation='relu', padding='same')(pool2)\n",
        "    up1 = UpSampling2D((2,2))(conv4)\n",
        "    conv5 = Conv2D(32, (3, 3), activation='relu', padding='same')(up1)\n",
        "    up2 =  UpSampling2D((2,2))(conv5)\n",
        "    conv5 = Conv2D(16, (3, 3), activation='relu', padding='same')(up2)\n",
        "    decoded = Conv2D(1, (3, 3), activation='sigmoid', padding='same')(conv5)\n",
        "    return decoded, conv1\n",
        "model = Model(input_img, autoencoder(input_img))  \n",
        "model.load_weights(\"enc_dec.h5\")  \n",
        "pred, conv1 = model.predict(x_test_noisy)"
      ],
      "execution_count": null,
      "outputs": []
    },
    {
      "cell_type": "code",
      "metadata": {
        "id": "c78suzOpXf38",
        "colab": {
          "base_uri": "https://localhost:8080/",
          "height": 466
        },
        "outputId": "e23461f6-a9e9-49f0-fef8-ac80c3b08e3e"
      },
      "source": [
        "plt.figure(figsize=(20, 4))\n",
        "print(\"Test Images\")\n",
        "for i in range(10,20,1):\n",
        "    plt.subplot(2, 10, i+1)\n",
        "    plt.imshow(X_test[i, ..., 0], cmap='gray')\n",
        "    curr_lbl = y_test[i]\n",
        "    plt.title(\"(Label: \" + str(curr_lbl) + \")\")\n",
        "plt.show()    \n",
        "plt.figure(figsize=(20, 4))\n",
        "print(\"Test Images with Noise\")\n",
        "for i in range(10,20,1):\n",
        "    plt.subplot(2, 10, i+1)\n",
        "    plt.imshow(x_test_noisy[i, ..., 0], cmap='gray')\n",
        "plt.show()    \n",
        "\n",
        "plt.figure(figsize=(20, 4))\n",
        "print(\"Reconstruction of Noisy Test Images\")\n",
        "for i in range(10,20,1):\n",
        "    plt.subplot(2, 10, i+1)\n",
        "    plt.imshow(pred[i, ..., 0], cmap='gray')  \n",
        "plt.show()"
      ],
      "execution_count": null,
      "outputs": [
        {
          "output_type": "stream",
          "text": [
            "Test Images\n"
          ],
          "name": "stdout"
        },
        {
          "output_type": "display_data",
          "data": {
            "image/png": "[encoded data removed]",
            "text/plain": [
              "<Figure size 1440x288 with 10 Axes>"
            ]
          },
          "metadata": {
            "tags": []
          }
        },
        {
          "output_type": "stream",
          "text": [
            "Test Images with Noise\n"
          ],
          "name": "stdout"
        },
        {
          "output_type": "display_data",
          "data": {
            "image/png": "[encoded data removed]",
            "text/plain": [
              "<Figure size 1440x288 with 10 Axes>"
            ]
          },
          "metadata": {
            "tags": []
          }
        },
        {
          "output_type": "stream",
          "text": [
            "Reconstruction of Noisy Test Images\n"
          ],
          "name": "stdout"
        },
        {
          "output_type": "display_data",
          "data": {
            "image/png": "[encoded data removed]",
            "text/plain": [
              "<Figure size 1440x288 with 10 Axes>"
            ]
          },
          "metadata": {
            "tags": []
          }
        }
      ]
    }
  ]
}