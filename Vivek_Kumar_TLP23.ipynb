{
  "nbformat": 4,
  "nbformat_minor": 0,
  "metadata": {
    "colab": {
      "provenance": [],
      "include_colab_link": true
    },
    "kernelspec": {
      "display_name": "Python 3",
      "language": "python",
      "name": "python3"
    },
    "language_info": {
      "codemirror_mode": {
        "name": "ipython",
        "version": 3
      },
      "file_extension": ".py",
      "mimetype": "text/x-python",
      "name": "python",
      "nbconvert_exporter": "python",
      "pygments_lexer": "ipython3",
      "version": "3.7.6"
    }
  },
  "cells": [
    {
      "cell_type": "markdown",
      "metadata": {
        "id": "view-in-github",
        "colab_type": "text"
      },
      "source": [
        "<a href=\"https://colab.research.google.com/github/vivek6311/Artificial-Intelligence-with-Python/blob/master/Vivek_Kumar_TLP23.ipynb\" target=\"_parent\"><img src=\"https://colab.research.google.com/assets/colab-badge.svg\" alt=\"Open In Colab\"/></a>"
      ]
    },
    {
      "cell_type": "markdown",
      "metadata": {
        "id": "8E5wSu_P7r9F"
      },
      "source": [
        "# Programming Test `Instructions`\n",
        "\n",
        "---\n",
        "### <u>Due date:</u> 28.11.2022\n",
        "\n",
        "### <u>Important remarks: </u>\n",
        "\n",
        "1. All of your functions have to **return** the desired values. Do not use a print statement instead of a return statement. Please delete all print statements from your functions before submitting your notebook.\n",
        "2. **Do not rename your functions!** We will only grade functions with the original name.\n",
        "3. Do not use Python's `input()` function. Code cells containing the `input()` function will not be graded.\n",
        "4. Before submitting the notebook, please make sure that the code cells in which you define the functions can be executed without errors.\n",
        "\n",
        "### <u>How to submit: </u>\n",
        "\n",
        "1. Solve the tasks *in a copy of this notebook* and save your edited Notebook as an .ipynb file\n",
        "2. Rename the edited Notebook according to the naming convention stated below!\n",
        "3. Upload the Jupyter Notebook to this course Brightspace assignment module.\n",
        "\n",
        "### <u>Regarding the evaluation: </u>\n",
        "1. The evaluation of your submission is partially automated. Therefore, it is important that you solve the tasks according to the instructions.\n",
        "2. Your functions will be evaluated using tests (unknown to you). These tests are similar to the test cases provided under each task, but differ in the function arguments. Make sure that your functions pass our test cases. These are a good indicator for passing the further tests.\n",
        "3. For a final check, you should do the following: Click \"Runtime\"/\"Kernel\" in the toolbar and select the \"Restart and run all\" option. Then take another look at the self-tests and check if they return True.\n",
        "\n",
        "It is **important** that you name the edited Jupyter Notebook files you want to upload (file identifier \".ipynb\") according to a specific naming convention! If the naming is incorrect, we will not be able to record your submission with regard to your required efforts.\n",
        "\n",
        "Therefore please name your upload as follows:  \n",
        "> Firstname_Lastname_TLP23.ipynb  \n",
        "> e.g. Joseph_Thachil_TLP23.ipynb"
      ]
    },
    {
      "cell_type": "markdown",
      "metadata": {
        "id": "gQM5zcRmsc-f"
      },
      "source": [
        "# 1. What is my grade? [10 points]\n",
        "\n",
        "---"
      ]
    },
    {
      "cell_type": "markdown",
      "metadata": {
        "id": "U0Pwy41ts8-w"
      },
      "source": [
        "Let's assume that, after finishing your study program at Plaksha, you join another university that wants to give letter grades in the future. You are asked to write a small program that turns a score into a grade.\n",
        "\n",
        "**Task:** Write a function that takes the achieved percentage of an exam (a float or integer value) and **returns** the corresponding grade (a string value). Possible grades are `'A'`, `'B'`, `'C'`, `'D'`, `'E'`, and `'F'`. Letter grades are associated with scores as follows:\n",
        "* A: $\\geq$ 90 \n",
        "* B: $<$ 90 and $\\geq$ 80 \n",
        "* C: $<$ 80 and $\\geq$ 70 \n",
        "* D: $<$ 70 and $\\geq$ 60 \n",
        "* E: $<$ 60 and $\\geq$ 50 \n",
        "* F: $<$ 50 "
      ]
    },
    {
      "cell_type": "code",
      "metadata": {
        "id": "58RsrcrYjA_P"
      },
      "source": [
        "def grade(score):\n",
        "  if score>=90:\n",
        "    return 'A'\n",
        "  elif score>=80 and score<90:\n",
        "    return 'B'\n",
        "  elif score>=70 and score<80:\n",
        "    return 'C'\n",
        "  elif score>=60 and score<70:\n",
        "    return 'D'\n",
        "  elif score>=50 and score<60:\n",
        "    return 'E'\n",
        "  else:\n",
        "    return 'F'\n",
        "    \n",
        "    pass"
      ],
      "execution_count": null,
      "outputs": []
    },
    {
      "cell_type": "code",
      "metadata": {
        "id": "cGdPTLT0SJc2",
        "outputId": "1774869b-1d27-49d8-a907-8d8c66ac96be",
        "colab": {
          "base_uri": "https://localhost:8080/"
        }
      },
      "source": [
        "print(grade(70.5) == 'C')   # should print True\n",
        "print(grade(90) == 'A')     # should print True\n",
        "print(grade(50) == 'E')     # should print True"
      ],
      "execution_count": null,
      "outputs": [
        {
          "output_type": "stream",
          "name": "stdout",
          "text": [
            "True\n",
            "True\n",
            "True\n"
          ]
        }
      ]
    },
    {
      "cell_type": "markdown",
      "metadata": {
        "id": "nAoB-oiaTN9B"
      },
      "source": [
        "# 2. Classifying wrenches [10 points]\n",
        "---\n",
        "\n",
        "You work at a company that produces three different wrenches (\"Type A\", \"Type B\", and \"Type C\"). A sensor can measure the length and width of each wrench. Now, you are asked to implement a function that classifies each wrench based on its length (a float value in mm) and width (float value in mm) according to the following rules:\n",
        "\n",
        "- Type A: $40$ mm $\\leq$ length $\\leq 50$ mm *and*  $9$ mm $\\leq$ width $\\leq 12$ mm \n",
        "- Type B: $58$ mm $\\leq$ length $\\leq 60$ mm *and* $11$ mm $\\leq$ width $\\leq 13$ mm \n",
        "- Type C: $58$ mm $\\leq$ length $\\leq 60$ mm *and* $16$ mm $\\leq$ width $\\leq 18$ mm \n",
        "- Production failure in any other case \n",
        "\n",
        "The function should return a string that specifies the type. For instance, if you pass the arguments 58 and 12 to your function, the return value should be 'Type B'. In case of a production failure, the function shall return 'Production failure'"
      ]
    },
    {
      "cell_type": "code",
      "metadata": {
        "id": "9fPWOwE1TMNM"
      },
      "source": [
        "def classify_wrenches(length, width):\n",
        "  if 40 <=length <=50 and 9<= width <=12:\n",
        "    return \"Type A\"\n",
        "  elif 58 <=length <=60 and 11<= width <=13:\n",
        "    return \"Type B\"\n",
        "  elif 58 <=length <=60 and 16<= width <=18:\n",
        "    return \"Type C\"\n",
        "  else:\n",
        "    return \"Production failure\"\n",
        "  pass     "
      ],
      "execution_count": null,
      "outputs": []
    },
    {
      "cell_type": "code",
      "metadata": {
        "id": "sdpmOPnboklt",
        "outputId": "5242b356-4367-4a33-ae92-b3bdbedad86c",
        "colab": {
          "base_uri": "https://localhost:8080/"
        }
      },
      "source": [
        "print(classify_wrenches(60.1, 17.0) == 'Production failure') # should print True\n",
        "print(classify_wrenches(59.3, 18.0) == 'Type C')             # should print True"
      ],
      "execution_count": null,
      "outputs": [
        {
          "output_type": "stream",
          "name": "stdout",
          "text": [
            "True\n",
            "True\n"
          ]
        }
      ]
    },
    {
      "cell_type": "markdown",
      "metadata": {
        "id": "fj1CFb9E68Hk"
      },
      "source": [
        "# 3. Overtime [10 points]\n",
        "\n",
        "---"
      ]
    },
    {
      "cell_type": "markdown",
      "metadata": {
        "id": "YO8kRW4T-TXe"
      },
      "source": [
        "You work in the finance department of a small company. At the end of the week, salary transfers are due again. Unfortunately, the company servers have an error that causes overtime to be paid incorrectly. It is now your task to determine the correct weekly salary.\n",
        "\n",
        "**Task:** Write a function that takes a person's weekly work hours (a float value) as well as their regular hourly rate (a float value). **Return** a person's total pay for the week (a float value), considering overtime hours. \n",
        "\n",
        "Every hour worked over $40$ is considered overtime and compensated at $1.4$ times the rate of normal pay. However, if a person works **more than** $50$ hours, they will receive double their hourly wage. Therefore, they are paid at $1.4$ times the normal rate for a maximum of $10$ hours of overtime and *double* ($2.0$ times) the normal rate thereafter. "
      ]
    },
    {
      "cell_type": "code",
      "metadata": {
        "id": "TqlMS17Pn1Sv"
      },
      "source": [
        "def overtime(working_hours, hourly_rate):\n",
        "  salary=0\n",
        "  if working_hours<=40:\n",
        "    salary=working_hours * hourly_rate\n",
        "    return salary\n",
        "  elif 40<= working_hours<=50:\n",
        "    salary= (salary +(working_hours -40)* (1.4* hourly_rate))\n",
        "    return salary\n",
        "  else:\n",
        "    salary= (salary +(working_hours -40)* (2* hourly_rate))\n",
        "    return salary\n",
        "    pass"
      ],
      "execution_count": null,
      "outputs": []
    },
    {
      "cell_type": "code",
      "metadata": {
        "id": "EgKeTUPhSJdF",
        "outputId": "d0f87629-91df-4bce-d374-55bd0d8bed47",
        "colab": {
          "base_uri": "https://localhost:8080/"
        }
      },
      "source": [
        "print(overtime(65.0, 16.5) == 1386.0)   # should print True\n",
        "print(overtime(35.0, 12.0) == 420.0)    # should print True"
      ],
      "execution_count": null,
      "outputs": [
        {
          "output_type": "stream",
          "name": "stdout",
          "text": [
            "False\n",
            "True\n"
          ]
        }
      ]
    },
    {
      "cell_type": "markdown",
      "source": [
        "# 4. List vs Tuple [10 points]\n",
        "\n",
        "---"
      ],
      "metadata": {
        "id": "x4mYCVM-cnQd"
      }
    },
    {
      "cell_type": "markdown",
      "source": [
        "Instantiate a list of 5 real number. Instantiate a tuple of 5 real numbers. What is the difference between the two - demonstrate programmatically."
      ],
      "metadata": {
        "id": "neoDstvIc2px"
      }
    },
    {
      "cell_type": "code",
      "source": [
        "# Instantiate list\n",
        "l=[1,2,3,4,5]\n",
        "# Instantiate tuple\n",
        "T=(6, 7,8,10,11)"
      ],
      "metadata": {
        "id": "mEhrLsaLczvs"
      },
      "execution_count": null,
      "outputs": []
    },
    {
      "cell_type": "markdown",
      "source": [
        "The contents of a tuple cannot change once they have been created where as we can add/ modify the values in the list."
      ],
      "metadata": {
        "id": "Mjus8rbMsDdd"
      }
    },
    {
      "cell_type": "code",
      "metadata": {
        "id": "73pEc6hLb5HX"
      },
      "source": [
        "# write a short comment and demonstrate programmatically\n",
        "l=l.insert(12)\n",
        "#The contents of a tuple cannot change once they have been created where as we can"
      ],
      "execution_count": null,
      "outputs": []
    },
    {
      "cell_type": "markdown",
      "source": [
        "# 5. Python 101 [10 points]\n",
        "\n",
        "---"
      ],
      "metadata": {
        "id": "o8ql6Q57dJ2l"
      }
    },
    {
      "cell_type": "markdown",
      "source": [
        "Instantiate a variable 'alpha' to take integer value 10. Then, pass the \n",
        "\n",
        "1.   List item\n",
        "\n",
        "1.   List item\n",
        "2.   List item\n",
        "\n",
        "\n",
        "2.   List item\n",
        "\n",
        "character 'a' to this variable. Then pass the boolean value True to it. \n",
        "\n",
        "Do you get any error passing different data types to 'alpha'? Why or Why not? \n",
        "What is this feature of python called? And what is the high-level code to machine code translation paradigm of python that enables this?"
      ],
      "metadata": {
        "id": "DxJkaMu3dgxM"
      }
    },
    {
      "cell_type": "code",
      "source": [
        "alpha=int(10)\n",
        "alpha= str('a')\n",
        "alpha= True\n"
      ],
      "metadata": {
        "id": "hJfwF90cdQdX"
      },
      "execution_count": null,
      "outputs": []
    },
    {
      "cell_type": "markdown",
      "source": [
        "I did not got any error while passing different value to the alpha. "
      ],
      "metadata": {
        "id": "6okVo_nzuBu4"
      }
    },
    {
      "cell_type": "markdown",
      "source": [
        "# 6. Fibonacci [10 points]\n",
        "\n",
        "---"
      ],
      "metadata": {
        "id": "69Lgt90Adwk-"
      }
    },
    {
      "cell_type": "markdown",
      "source": [
        "In a remote island off the coast of India, a scientist finds a connection between the average number of rabbits in each successive generation and the Fibonnaci series. Write for him a generator function that can be called with **the starting index and the number of elements desired** for a Fibonacci series."
      ],
      "metadata": {
        "id": "BSsd9VB7dxQY"
      }
    },
    {
      "cell_type": "code",
      "source": [
        "def fibonacci(index, num):\n",
        "    # Remove the pass and write your code here\n",
        "    for i in range(num):\n",
        "        yield num\n",
        "        index,num= num,index+ num\n",
        "    pass"
      ],
      "metadata": {
        "id": "ReGyDtYYdmCB"
      },
      "execution_count": null,
      "outputs": []
    },
    {
      "cell_type": "code",
      "source": [
        "print(list(fibonacci(0,5))==[0, 1, 1, 2, 3])\n",
        "print(list(fibonacci(5,5))==[5, 8, 13, 21, 34])"
      ],
      "metadata": {
        "id": "EZU5O5UtfMjV",
        "outputId": "affacb7b-f09f-4804-9c9d-5697e73791e1",
        "colab": {
          "base_uri": "https://localhost:8080/"
        }
      },
      "execution_count": null,
      "outputs": [
        {
          "output_type": "stream",
          "name": "stdout",
          "text": [
            "False\n",
            "False\n"
          ]
        }
      ]
    },
    {
      "cell_type": "markdown",
      "source": [
        "# 7. One-Liner [10 points]\n",
        "\n",
        "---"
      ],
      "metadata": {
        "id": "LrrFl-8gheKz"
      }
    },
    {
      "cell_type": "markdown",
      "source": [
        "Create a one line code to implement x^2-2x on a predefined list of positive integers and return as list"
      ],
      "metadata": {
        "id": "-e0N5JDXhd6d"
      }
    },
    {
      "cell_type": "code",
      "source": [
        "# define list\n",
        "lis = [1,2,3,4]\n",
        "\n",
        "# your code here\n",
        "def square(x):\n",
        "\treturn  (x*x)\n",
        "sqr_iter = map(square, lis)\n",
        "squared_numbers = list(sqr_iter)\n",
        "#print(squared_numbers) "
      ],
      "metadata": {
        "id": "DydPIDUmf6td",
        "outputId": "2fd31fbb-09d2-495c-ab94-93ccfc41a5e9",
        "colab": {
          "base_uri": "https://localhost:8080/"
        }
      },
      "execution_count": null,
      "outputs": [
        {
          "output_type": "stream",
          "name": "stdout",
          "text": [
            "[1, 4, 9, 16]\n"
          ]
        }
      ]
    },
    {
      "cell_type": "markdown",
      "source": [
        "# 8. Matrix [10 points]\n",
        "\n",
        "---"
      ],
      "metadata": {
        "id": "Ld-5qJO2ij4O"
      }
    },
    {
      "cell_type": "markdown",
      "source": [
        "We have a huge 12x12 matrix defined. We would like to multiply this with a 3x2 kernel matrix in a block by block manner (with 3x3 sub matrices of the 12x12 matrix, without any overlap), as compression strategy. Write a piece of code to take inputs of the above size and return a 12x8 matrix.\n",
        "What would you change if a third dimension was added to the big matrix: it is now of size 12x12x3."
      ],
      "metadata": {
        "id": "a5Hmq5q2in-V"
      }
    },
    {
      "cell_type": "code",
      "source": [
        "import numpy as np\n",
        "\n",
        "np.random.seed(0)\n",
        "array = np.random.randint(10, size=(12, 12))\n",
        "print(array)\n",
        "kernel = np.random.randint(10, size=(3, 2))\n",
        "print(kernel)\n",
        "\n",
        "def compress(array, kernel):\n",
        "  compressed_arr = np.tensordot(array,kernel,([12,12],[3,2]))\n"
      ],
      "metadata": {
        "id": "LE4sWugPh-11",
        "outputId": "d2fa1b69-7a9b-4da9-d876-2456dc6d2c09",
        "colab": {
          "base_uri": "https://localhost:8080/"
        }
      },
      "execution_count": null,
      "outputs": [
        {
          "output_type": "stream",
          "name": "stdout",
          "text": [
            "[[5 0 3 3 7 9 3 5 2 4 7 6]\n",
            " [8 8 1 6 7 7 8 1 5 9 8 9]\n",
            " [4 3 0 3 5 0 2 3 8 1 3 3]\n",
            " [3 7 0 1 9 9 0 4 7 3 2 7]\n",
            " [2 0 0 4 5 5 6 8 4 1 4 9]\n",
            " [8 1 1 7 9 9 3 6 7 2 0 3]\n",
            " [5 9 4 4 6 4 4 3 4 4 8 4]\n",
            " [3 7 5 5 0 1 5 9 3 0 5 0]\n",
            " [1 2 4 2 0 3 2 0 7 5 9 0]\n",
            " [2 7 2 9 2 3 3 2 3 4 1 2]\n",
            " [9 1 4 6 8 2 3 0 0 6 0 6]\n",
            " [3 3 8 8 8 2 3 2 0 8 8 3]]\n",
            "[[8 2]\n",
            " [8 4]\n",
            " [3 0]]\n"
          ]
        }
      ]
    },
    {
      "cell_type": "code",
      "source": [
        "compressed_arr = compress(array, kernel)\n",
        "print(compressed_arr.shape == (12, 8))"
      ],
      "metadata": {
        "id": "g5NSi4b_-MCV",
        "outputId": "ac808ecd-1207-4ba3-af8b-e5464b185ac8",
        "colab": {
          "base_uri": "https://localhost:8080/",
          "height": 364
        }
      },
      "execution_count": null,
      "outputs": [
        {
          "output_type": "error",
          "ename": "IndexError",
          "evalue": "ignored",
          "traceback": [
            "\u001b[0;31m---------------------------------------------------------------------------\u001b[0m",
            "\u001b[0;31mIndexError\u001b[0m                                Traceback (most recent call last)",
            "\u001b[0;32m<ipython-input-50-ce1922957e9e>\u001b[0m in \u001b[0;36m<module>\u001b[0;34m\u001b[0m\n\u001b[0;32m----> 1\u001b[0;31m \u001b[0mcompressed_arr\u001b[0m \u001b[0;34m=\u001b[0m \u001b[0mcompress\u001b[0m\u001b[0;34m(\u001b[0m\u001b[0marray\u001b[0m\u001b[0;34m,\u001b[0m \u001b[0mkernel\u001b[0m\u001b[0;34m)\u001b[0m\u001b[0;34m\u001b[0m\u001b[0;34m\u001b[0m\u001b[0m\n\u001b[0m\u001b[1;32m      2\u001b[0m \u001b[0mprint\u001b[0m\u001b[0;34m(\u001b[0m\u001b[0mcompressed_arr\u001b[0m\u001b[0;34m.\u001b[0m\u001b[0mshape\u001b[0m \u001b[0;34m==\u001b[0m \u001b[0;34m(\u001b[0m\u001b[0;36m12\u001b[0m\u001b[0;34m,\u001b[0m \u001b[0;36m8\u001b[0m\u001b[0;34m)\u001b[0m\u001b[0;34m)\u001b[0m\u001b[0;34m\u001b[0m\u001b[0;34m\u001b[0m\u001b[0m\n",
            "\u001b[0;32m<ipython-input-49-fc66949deb6f>\u001b[0m in \u001b[0;36mcompress\u001b[0;34m(array, kernel)\u001b[0m\n\u001b[1;32m      8\u001b[0m \u001b[0;34m\u001b[0m\u001b[0m\n\u001b[1;32m      9\u001b[0m \u001b[0;32mdef\u001b[0m \u001b[0mcompress\u001b[0m\u001b[0;34m(\u001b[0m\u001b[0marray\u001b[0m\u001b[0;34m,\u001b[0m \u001b[0mkernel\u001b[0m\u001b[0;34m)\u001b[0m\u001b[0;34m:\u001b[0m\u001b[0;34m\u001b[0m\u001b[0;34m\u001b[0m\u001b[0m\n\u001b[0;32m---> 10\u001b[0;31m   \u001b[0mcompressed_arr\u001b[0m \u001b[0;34m=\u001b[0m \u001b[0mnp\u001b[0m\u001b[0;34m.\u001b[0m\u001b[0mtensordot\u001b[0m\u001b[0;34m(\u001b[0m\u001b[0marray\u001b[0m\u001b[0;34m,\u001b[0m\u001b[0mkernel\u001b[0m\u001b[0;34m,\u001b[0m\u001b[0;34m(\u001b[0m\u001b[0;34m[\u001b[0m\u001b[0;36m12\u001b[0m\u001b[0;34m,\u001b[0m\u001b[0;36m12\u001b[0m\u001b[0;34m]\u001b[0m\u001b[0;34m,\u001b[0m\u001b[0;34m[\u001b[0m\u001b[0;36m3\u001b[0m\u001b[0;34m,\u001b[0m\u001b[0;36m2\u001b[0m\u001b[0;34m]\u001b[0m\u001b[0;34m)\u001b[0m\u001b[0;34m)\u001b[0m\u001b[0;34m\u001b[0m\u001b[0;34m\u001b[0m\u001b[0m\n\u001b[0m\u001b[1;32m     11\u001b[0m   \u001b[0mcompressed_arr\u001b[0m\u001b[0;34m\u001b[0m\u001b[0;34m\u001b[0m\u001b[0m\n\u001b[1;32m     12\u001b[0m \u001b[0;34m\u001b[0m\u001b[0m\n",
            "\u001b[0;32m<__array_function__ internals>\u001b[0m in \u001b[0;36mtensordot\u001b[0;34m(*args, **kwargs)\u001b[0m\n",
            "\u001b[0;32m/usr/local/lib/python3.7/dist-packages/numpy/core/numeric.py\u001b[0m in \u001b[0;36mtensordot\u001b[0;34m(a, b, axes)\u001b[0m\n\u001b[1;32m   1100\u001b[0m     \u001b[0;32melse\u001b[0m\u001b[0;34m:\u001b[0m\u001b[0;34m\u001b[0m\u001b[0;34m\u001b[0m\u001b[0m\n\u001b[1;32m   1101\u001b[0m         \u001b[0;32mfor\u001b[0m \u001b[0mk\u001b[0m \u001b[0;32min\u001b[0m \u001b[0mrange\u001b[0m\u001b[0;34m(\u001b[0m\u001b[0mna\u001b[0m\u001b[0;34m)\u001b[0m\u001b[0;34m:\u001b[0m\u001b[0;34m\u001b[0m\u001b[0;34m\u001b[0m\u001b[0m\n\u001b[0;32m-> 1102\u001b[0;31m             \u001b[0;32mif\u001b[0m \u001b[0mas_\u001b[0m\u001b[0;34m[\u001b[0m\u001b[0maxes_a\u001b[0m\u001b[0;34m[\u001b[0m\u001b[0mk\u001b[0m\u001b[0;34m]\u001b[0m\u001b[0;34m]\u001b[0m \u001b[0;34m!=\u001b[0m \u001b[0mbs\u001b[0m\u001b[0;34m[\u001b[0m\u001b[0maxes_b\u001b[0m\u001b[0;34m[\u001b[0m\u001b[0mk\u001b[0m\u001b[0;34m]\u001b[0m\u001b[0;34m]\u001b[0m\u001b[0;34m:\u001b[0m\u001b[0;34m\u001b[0m\u001b[0;34m\u001b[0m\u001b[0m\n\u001b[0m\u001b[1;32m   1103\u001b[0m                 \u001b[0mequal\u001b[0m \u001b[0;34m=\u001b[0m \u001b[0;32mFalse\u001b[0m\u001b[0;34m\u001b[0m\u001b[0;34m\u001b[0m\u001b[0m\n\u001b[1;32m   1104\u001b[0m                 \u001b[0;32mbreak\u001b[0m\u001b[0;34m\u001b[0m\u001b[0;34m\u001b[0m\u001b[0m\n",
            "\u001b[0;31mIndexError\u001b[0m: tuple index out of range"
          ]
        }
      ]
    },
    {
      "cell_type": "markdown",
      "source": [
        "# 9. Sort this out [10 points]\n",
        "\n",
        "---"
      ],
      "metadata": {
        "id": "h4qocjusiuqF"
      }
    },
    {
      "cell_type": "markdown",
      "source": [
        "a) Define a 'sorted_list' class as an abstract class.\n",
        "\n",
        "b) Inherit this into a child class that executes a vanilla sorting algorithm on the list is it intialised with.\n",
        "\n",
        "c) We want this class to provide meta-analytics such as the time and space taken to sort the list. Can you add those as functions to this class.\n",
        "\n",
        "d) Having noted the space and time taken on a list of 10000 elements - we were disconcerted - it takes too long and is memory guzzling. Can we create a new class to override the vanilla sorting algorithm.\n",
        "\n",
        "e) Show programmatically on a list of length 10000 that this new sorting algorithm is better.\n",
        "\n",
        "f) Use this to run the function for comparing the performance at the script call (__name__ == main)"
      ],
      "metadata": {
        "id": "Mx7I6ML7i0XQ"
      }
    },
    {
      "cell_type": "code",
      "source": [],
      "metadata": {
        "id": "6FutNIrCizeT"
      },
      "execution_count": null,
      "outputs": []
    },
    {
      "cell_type": "code",
      "source": [],
      "metadata": {
        "id": "MmEF9OYFtS_m"
      },
      "execution_count": null,
      "outputs": []
    }
  ]
}