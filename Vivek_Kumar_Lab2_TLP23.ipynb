{
  "nbformat": 4,
  "nbformat_minor": 0,
  "metadata": {
    "colab": {
      "provenance": [],
      "include_colab_link": true
    },
    "kernelspec": {
      "name": "python3",
      "display_name": "Python 3"
    },
    "language_info": {
      "name": "python"
    }
  },
  "cells": [
    {
      "cell_type": "markdown",
      "metadata": {
        "id": "view-in-github",
        "colab_type": "text"
      },
      "source": [
        "<a href=\"https://colab.research.google.com/github/vivek6311/Artificial-Intelligence-with-Python/blob/master/Vivek_Kumar_Lab2_TLP23.ipynb\" target=\"_parent\"><img src=\"https://colab.research.google.com/assets/colab-badge.svg\" alt=\"Open In Colab\"/></a>"
      ]
    },
    {
      "cell_type": "markdown",
      "source": [
        "# Machine Learning Lab 1"
      ],
      "metadata": {
        "id": "IVNxn1z4PSCJ"
      }
    },
    {
      "cell_type": "markdown",
      "source": [
        "## Assignment 2 (Deadline : 4/12/2022 11:59PM)\n",
        "\n",
        "Total Points : 100\n",
        "\n",
        "Your answers must be entered in LMS by midnight of the day it is due. \n",
        "\n",
        "If the question requires a textual response, you can create a PDF and upload that. \n",
        "\n",
        "The PDF might be generated from MS-WORD, LATEX, the image of a hand- written response, or using any other mechanism. \n",
        "\n",
        "Code must be uploaded and may require demonstration to the TA. \n",
        "\n",
        "Numbers in the parentheses indicate points allocated to the question. \n",
        "\n",
        "**Naming Convention**: FirstName_LastName_Lab2_TLP23.ipynb"
      ],
      "metadata": {
        "id": "CMO2e5qhPWal"
      }
    },
    {
      "cell_type": "markdown",
      "source": [
        "# Question 1 (50 points)"
      ],
      "metadata": {
        "id": "aQ4ykPDrPgvv"
      }
    },
    {
      "cell_type": "markdown",
      "source": [
        "## 1. Read the data into a numpy array"
      ],
      "metadata": {
        "id": "c155js1XPnDT"
      }
    },
    {
      "cell_type": "code",
      "source": [
        "# Read data from file: 'data.csv'. \n",
        "import numpy as np \n",
        "import pandas as pd\n",
        "#df = np.loadtxt('dataml.csv',  delimiter=\", \", skiprows= 1)\n",
        "#df\n",
        "# Note that the first row has the number of inputs and number of outputs specified.\n",
        "# For your reference: you can use \"np.loadtxt\"."
      ],
      "metadata": {
        "id": "pN9dXM6RPV4C"
      },
      "execution_count": 32,
      "outputs": []
    },
    {
      "cell_type": "code",
      "source": [
        "df1= pd.read_csv('dataml.csv')\n",
        "df1 = df1.reset_index()\n",
        "df_np = df1.to_numpy()\n",
        "df_np"
      ],
      "metadata": {
        "colab": {
          "base_uri": "https://localhost:8080/"
        },
        "id": "O4Q3kbaeJyZv",
        "outputId": "9498ee70-c2c9-481e-97a7-4fbb0ed8836c"
      },
      "execution_count": 33,
      "outputs": [
        {
          "output_type": "execute_result",
          "data": {
            "text/plain": [
              "array([[  51.87,   79.72, 1249.99],\n",
              "       [ -30.66,  -15.64, -516.61],\n",
              "       [ -57.57,   94.22,  312.09],\n",
              "       ...,\n",
              "       [ -18.6 ,   32.61,  -45.14],\n",
              "       [ -38.31,   77.81,  -20.13],\n",
              "       [ -38.33,   45.69, -460.47]])"
            ]
          },
          "metadata": {},
          "execution_count": 33
        }
      ]
    },
    {
      "cell_type": "code",
      "source": [
        "#from google.colab import drive\n",
        "#drive.mount('/content/drive')"
      ],
      "metadata": {
        "id": "gW-yHDQYqk5F"
      },
      "execution_count": 34,
      "outputs": []
    },
    {
      "cell_type": "code",
      "source": [
        "x1= df_np[:, [0]]\n",
        "print(x1)\n",
        "x=df_np[:, [0,1]]\n",
        "print(x)\n",
        "x2= df_np[:, [1]]\n",
        "print(x2)\n",
        "y= df_np[:,[2]]\n",
        "print(y)"
      ],
      "metadata": {
        "id": "pO7SuNCwo1rU",
        "colab": {
          "base_uri": "https://localhost:8080/"
        },
        "outputId": "05d9960b-daae-4bbc-9b55-4c26f993e077"
      },
      "execution_count": 35,
      "outputs": [
        {
          "output_type": "stream",
          "name": "stdout",
          "text": [
            "[[ 51.87]\n",
            " [-30.66]\n",
            " [-57.57]\n",
            " ...\n",
            " [-18.6 ]\n",
            " [-38.31]\n",
            " [-38.33]]\n",
            "[[ 51.87  79.72]\n",
            " [-30.66 -15.64]\n",
            " [-57.57  94.22]\n",
            " ...\n",
            " [-18.6   32.61]\n",
            " [-38.31  77.81]\n",
            " [-38.33  45.69]]\n",
            "[[ 79.72]\n",
            " [-15.64]\n",
            " [ 94.22]\n",
            " ...\n",
            " [ 32.61]\n",
            " [ 77.81]\n",
            " [ 45.69]]\n",
            "[[1249.99]\n",
            " [-516.61]\n",
            " [ 312.09]\n",
            " ...\n",
            " [ -45.14]\n",
            " [ -20.13]\n",
            " [-460.47]]\n"
          ]
        }
      ]
    },
    {
      "cell_type": "markdown",
      "source": [
        "## 2. Plot and explore the data to get a better understanding"
      ],
      "metadata": {
        "id": "QXyPyRDIPvML"
      }
    },
    {
      "cell_type": "code",
      "execution_count": 36,
      "metadata": {
        "id": "UayaQqiuPDuL",
        "colab": {
          "base_uri": "https://localhost:8080/",
          "height": 296
        },
        "outputId": "cab7a3cf-9e48-4552-bde2-5b2194c4ea4a"
      },
      "outputs": [
        {
          "output_type": "execute_result",
          "data": {
            "text/plain": [
              "[<matplotlib.lines.Line2D at 0x7ffaf8261430>]"
            ]
          },
          "metadata": {},
          "execution_count": 36
        },
        {
          "output_type": "display_data",
          "data": {
            "text/plain": [
              "<Figure size 432x288 with 1 Axes>"
            ],
            "image/png": "[encoded data removed]"
          },
          "metadata": {
            "needs_background": "light"
          }
        }
      ],
      "source": [
        "# EDA\n",
        "import matplotlib.pyplot as plt\n",
        "plt.xlabel(\"X1 and X2\")\n",
        "plt.ylabel(\"Y\")\n",
        "plt.plot(x1,y)\n",
        "plt.plot(x2,y)"
      ]
    },
    {
      "cell_type": "code",
      "source": [
        "plt.scatter(x1,y)\n",
        "plt.scatter(x2,y)"
      ],
      "metadata": {
        "colab": {
          "base_uri": "https://localhost:8080/",
          "height": 282
        },
        "id": "N66dA2q1BXNL",
        "outputId": "a3f827ae-0302-46c1-a802-19f8a6bb8b3f"
      },
      "execution_count": 37,
      "outputs": [
        {
          "output_type": "execute_result",
          "data": {
            "text/plain": [
              "<matplotlib.collections.PathCollection at 0x7ffaf81c2e80>"
            ]
          },
          "metadata": {},
          "execution_count": 37
        },
        {
          "output_type": "display_data",
          "data": {
            "text/plain": [
              "<Figure size 432x288 with 1 Axes>"
            ],
            "image/png": "[encoded data removed]"
          },
          "metadata": {
            "needs_background": "light"
          }
        }
      ]
    },
    {
      "cell_type": "markdown",
      "source": [
        "## 3. Prepare the data for modelling"
      ],
      "metadata": {
        "id": "WYhxih7jP304"
      }
    },
    {
      "cell_type": "code",
      "source": [
        "# Separate the data: input and output.\n",
        "input_data=x\n",
        "output_data= y"
      ],
      "metadata": {
        "id": "3UqrKgDBP9Jk"
      },
      "execution_count": 38,
      "outputs": []
    },
    {
      "cell_type": "code",
      "source": [
        "# Perform a train-val-test split of 60-20-20.\n",
        "from sklearn.model_selection import train_test_split\n",
        "train_ratio = 0.60\n",
        "validation_ratio = 0.20\n",
        "test_ratio = 0.20\n",
        "random_state=42\n",
        "x_train_val, x_test, y_train_val, y_test = train_test_split(input_data, output_data, test_size=0.20)\n",
        "\n",
        "# test is now 20% of the initial data set\n",
        "# validation is now 20% of the initial data set\n",
        "x_train, x_val, y_train, y_val = train_test_split(x_train_val, y_train_val, test_size=0.25) \n",
        "#print(x_train, x_val, x_test)\n",
        "# Use \"random_state=42\".\n",
        "# For your reference: you can use \"train_test_split\" from sklearn twice to perform this. "
      ],
      "metadata": {
        "id": "FQ4fHTVWQJ0x"
      },
      "execution_count": 39,
      "outputs": []
    },
    {
      "cell_type": "markdown",
      "source": [
        " * From your understanding of the dataset, is stratified sampling necessary in this case? Why / Why not?\n"
      ],
      "metadata": {
        "id": "43fNP30lQUzq"
      }
    },
    {
      "cell_type": "markdown",
      "source": [
        "From the plot of the it seems like data is moreover homogeneous meaning taking any sample at random should give similar result. Hence, Startified sampling is not necessary in this case. "
      ],
      "metadata": {
        "id": "THKHBOXW_8tP"
      }
    },
    {
      "cell_type": "markdown",
      "source": [
        "## 4. Modelling"
      ],
      "metadata": {
        "id": "zvNv-X4aQdwK"
      }
    },
    {
      "cell_type": "markdown",
      "source": [
        "### 4.1 Linear Regression"
      ],
      "metadata": {
        "id": "lDaep4fIQhcq"
      }
    },
    {
      "cell_type": "code",
      "source": [
        "# Implement Linear Regression.\n",
        "from sklearn import linear_model\n",
        "from sklearn.linear_model import LinearRegression\n",
        "import seaborn as sns\n",
        "# Use both train and val data for training purpose.\n",
        "regr = linear_model.LinearRegression()\n",
        "regr.fit(x_train_val, y_train_val)\n",
        "LinearRegression()\n",
        "print(regr.coef_)\n",
        "# Make preditions on both training(train+val) and test data.\n",
        "#print(regr.score(x_test,y_test))\n",
        "regr.score(x_train_val, y_train_val)\n",
        "#sns.regplot(x=x_train_val, y=y_train_val,ci=None,color ='red')"
      ],
      "metadata": {
        "id": "_zweZ855QXUV",
        "colab": {
          "base_uri": "https://localhost:8080/"
        },
        "outputId": "4a5f96bc-e31e-4238-f369-e403d99fa802"
      },
      "execution_count": 77,
      "outputs": [
        {
          "output_type": "stream",
          "name": "stdout",
          "text": [
            "[[12.86923452  6.95280276]]\n"
          ]
        },
        {
          "output_type": "execute_result",
          "data": {
            "text/plain": [
              "0.9490719147980439"
            ]
          },
          "metadata": {},
          "execution_count": 77
        }
      ]
    },
    {
      "cell_type": "code",
      "source": [
        "regr.predict(x_test)"
      ],
      "metadata": {
        "colab": {
          "base_uri": "https://localhost:8080/"
        },
        "id": "sW-hbVAkidX-",
        "outputId": "586a0ca2-19b4-43a7-c9bf-0b8a9d595c9f"
      },
      "execution_count": 41,
      "outputs": [
        {
          "output_type": "execute_result",
          "data": {
            "text/plain": [
              "array([[-3.28881642e+01],\n",
              "       [-2.19719072e+02],\n",
              "       [ 3.87152960e+02],\n",
              "       [-1.42015544e+02],\n",
              "       [-2.54428134e+02],\n",
              "       [-1.01247488e+03],\n",
              "       [-6.57465480e+02],\n",
              "       [ 5.67065152e+02],\n",
              "       [-3.27414686e+02],\n",
              "       [ 3.19880992e+00],\n",
              "       [ 5.12557054e+02],\n",
              "       [ 9.52533390e+02],\n",
              "       [ 1.18519441e+03],\n",
              "       [-4.50318600e+02],\n",
              "       [-1.79513338e+01],\n",
              "       [ 7.48907120e+02],\n",
              "       [-5.64386135e+02],\n",
              "       [ 1.32700950e+02],\n",
              "       [-1.00917059e+02],\n",
              "       [ 6.44521262e+02],\n",
              "       [-7.34344418e+02],\n",
              "       [-6.33826974e+01],\n",
              "       [-2.92506262e+02],\n",
              "       [ 2.82013777e+02],\n",
              "       [-6.92092031e+02],\n",
              "       [ 6.75900146e+02],\n",
              "       [ 2.72357356e+02],\n",
              "       [ 2.79763675e+01],\n",
              "       [-2.22983500e+01],\n",
              "       [-2.10191541e+02],\n",
              "       [-5.50296540e+02],\n",
              "       [ 5.58756426e+01],\n",
              "       [-2.76180576e+02],\n",
              "       [-1.39414561e+03],\n",
              "       [ 3.40362316e+02],\n",
              "       [-3.92470399e+02],\n",
              "       [-1.13105091e+03],\n",
              "       [-5.01318975e+02],\n",
              "       [ 7.34492718e+02],\n",
              "       [-5.46856983e+02],\n",
              "       [ 4.60694531e+02],\n",
              "       [ 7.85632349e+02],\n",
              "       [-2.21186998e+02],\n",
              "       [ 3.02341247e+02],\n",
              "       [-5.93175308e+02],\n",
              "       [-1.23675629e+03],\n",
              "       [ 6.35627993e+02],\n",
              "       [-7.24008811e+02],\n",
              "       [-2.93927441e+02],\n",
              "       [-6.07928788e+02],\n",
              "       [ 6.27934902e+02],\n",
              "       [ 5.76671809e+02],\n",
              "       [-3.59025375e+02],\n",
              "       [-3.41964517e+02],\n",
              "       [-3.09323262e+02],\n",
              "       [-3.71920368e+02],\n",
              "       [ 2.16657755e+02],\n",
              "       [-1.65907658e+02],\n",
              "       [ 1.53256186e+03],\n",
              "       [-2.42492556e+02],\n",
              "       [ 3.77651764e+02],\n",
              "       [ 4.96470920e+02],\n",
              "       [ 9.91204181e+00],\n",
              "       [ 9.75992985e+02],\n",
              "       [-1.07440213e+03],\n",
              "       [ 4.24403468e+02],\n",
              "       [-9.84240608e+02],\n",
              "       [ 4.54445875e+02],\n",
              "       [-1.10475650e+03],\n",
              "       [ 3.73887747e+01],\n",
              "       [-1.66460183e+02],\n",
              "       [ 1.66953316e+02],\n",
              "       [-1.39459395e+02],\n",
              "       [ 1.05000527e+03],\n",
              "       [-5.22547187e+02],\n",
              "       [-1.28462996e+02],\n",
              "       [-6.47328168e+02],\n",
              "       [ 3.32574675e+02],\n",
              "       [-4.52387326e+01],\n",
              "       [ 2.18850954e+02],\n",
              "       [-2.09360308e+02],\n",
              "       [ 2.19429707e+02],\n",
              "       [-4.20067924e+02],\n",
              "       [-1.27245841e+03],\n",
              "       [ 8.89188192e+01],\n",
              "       [ 8.28768916e+01],\n",
              "       [-4.37204838e+02],\n",
              "       [ 1.10382148e+02],\n",
              "       [ 6.56033144e+02],\n",
              "       [ 1.04820629e+03],\n",
              "       [-3.49802228e+02],\n",
              "       [-1.09969917e+03],\n",
              "       [-7.60538489e+01],\n",
              "       [ 4.99794359e+02],\n",
              "       [-1.59802751e+02],\n",
              "       [-4.12486068e+02],\n",
              "       [ 6.43040245e+02],\n",
              "       [ 1.33391257e+03],\n",
              "       [-6.15736592e+02],\n",
              "       [-5.41457218e+02],\n",
              "       [-5.94796133e+02],\n",
              "       [-6.21216449e+02],\n",
              "       [-4.60523306e+01],\n",
              "       [ 2.33856943e+01],\n",
              "       [ 4.43843724e+01],\n",
              "       [ 3.37676910e+02],\n",
              "       [ 7.85301496e+02],\n",
              "       [ 3.37682957e+02],\n",
              "       [-3.31451387e+02],\n",
              "       [-3.30889640e+02],\n",
              "       [-3.01155568e+02],\n",
              "       [-1.14486314e+03],\n",
              "       [-1.99705990e+03],\n",
              "       [ 4.66319208e+02],\n",
              "       [-3.60102237e+02],\n",
              "       [-1.15239836e+03],\n",
              "       [ 5.12921146e+02],\n",
              "       [ 5.10605491e+02],\n",
              "       [ 1.26937353e+03],\n",
              "       [-2.37243950e+02],\n",
              "       [-5.72302752e+02],\n",
              "       [ 2.14551942e+02],\n",
              "       [ 8.68639772e+02],\n",
              "       [ 1.13213793e+03],\n",
              "       [ 8.96742015e+02],\n",
              "       [-4.45480318e+02],\n",
              "       [ 5.25262282e+02],\n",
              "       [ 4.99404133e+02],\n",
              "       [ 5.10735337e+02],\n",
              "       [-6.78558405e+00],\n",
              "       [-2.77266041e+02],\n",
              "       [ 9.96655677e+02],\n",
              "       [ 9.68243959e+02],\n",
              "       [-1.76210160e+01],\n",
              "       [ 5.37085693e+02],\n",
              "       [ 1.30043732e+02],\n",
              "       [-8.35380403e+01],\n",
              "       [ 5.02319480e+02],\n",
              "       [-2.29504268e+02],\n",
              "       [ 1.10317103e+03],\n",
              "       [ 3.67480688e+02],\n",
              "       [-7.57577069e+02],\n",
              "       [-4.72179564e+02],\n",
              "       [-1.49384938e+02],\n",
              "       [ 2.61115842e+02],\n",
              "       [ 8.84662274e+00],\n",
              "       [-7.34089977e+02],\n",
              "       [-6.72934218e+01],\n",
              "       [ 1.59723441e+03],\n",
              "       [ 8.53664084e+02],\n",
              "       [ 6.27486906e+02],\n",
              "       [-9.66308111e+02],\n",
              "       [-7.58428843e+02],\n",
              "       [ 2.09575788e+02],\n",
              "       [ 1.41768902e+02],\n",
              "       [-1.25669354e+03],\n",
              "       [-2.23539017e+02],\n",
              "       [-4.02838199e+02],\n",
              "       [ 4.33660966e+02],\n",
              "       [-1.76488064e+02],\n",
              "       [-2.29131878e+02],\n",
              "       [ 8.50833146e+02],\n",
              "       [-6.57252025e+02],\n",
              "       [ 1.07172217e+03],\n",
              "       [-1.21798312e+02],\n",
              "       [-1.26038241e+03],\n",
              "       [-4.68924563e+02],\n",
              "       [-2.00109370e+02],\n",
              "       [-2.65659430e+02],\n",
              "       [ 9.95770630e+01],\n",
              "       [ 2.20957973e+02],\n",
              "       [ 2.43496127e+01],\n",
              "       [ 2.04300670e+02],\n",
              "       [ 5.36462278e+02],\n",
              "       [-3.32736655e+02],\n",
              "       [-2.05279131e+02],\n",
              "       [-7.96346580e+02],\n",
              "       [-8.42863889e+02],\n",
              "       [ 3.36385238e+02],\n",
              "       [ 5.34760899e+02],\n",
              "       [-6.76639889e+01],\n",
              "       [-7.69902378e+01],\n",
              "       [ 5.77121145e+01],\n",
              "       [-5.40399260e+02],\n",
              "       [-6.77538207e+02],\n",
              "       [ 3.19690568e+01],\n",
              "       [-1.91725725e+02],\n",
              "       [ 2.90121395e+02],\n",
              "       [ 6.51334484e+02],\n",
              "       [-8.15859559e+02],\n",
              "       [-2.95278087e+02],\n",
              "       [ 6.11078910e+01],\n",
              "       [ 1.62703517e+03],\n",
              "       [ 1.91846267e+02],\n",
              "       [-7.76871763e+02],\n",
              "       [-2.34151791e+02],\n",
              "       [-1.37787295e+01],\n",
              "       [ 9.11490613e+02],\n",
              "       [ 9.28392253e+02],\n",
              "       [-2.29827043e+02],\n",
              "       [-1.93368493e+02],\n",
              "       [-3.10387989e+02],\n",
              "       [-3.38746774e+01],\n",
              "       [ 1.28722007e+02],\n",
              "       [ 2.99519477e+01],\n",
              "       [ 6.34584696e+02],\n",
              "       [-5.50470952e+02],\n",
              "       [-1.00940522e+02],\n",
              "       [-1.15093241e+03],\n",
              "       [ 6.97374676e+02],\n",
              "       [ 2.25215277e+02],\n",
              "       [ 9.24699051e+02],\n",
              "       [-4.38179321e+02],\n",
              "       [-8.58873276e+02],\n",
              "       [-1.36082108e+03],\n",
              "       [-2.23672171e+02],\n",
              "       [-1.38513280e+02],\n",
              "       [-6.24275797e+02],\n",
              "       [-4.99813230e+02],\n",
              "       [-7.42299483e+02],\n",
              "       [-2.59215506e+02],\n",
              "       [-1.89468899e+02],\n",
              "       [ 1.48101308e+02],\n",
              "       [-1.48182153e+03],\n",
              "       [ 2.38903665e+02],\n",
              "       [ 5.02386083e+02],\n",
              "       [-2.18645437e+02],\n",
              "       [ 1.46644461e+00],\n",
              "       [ 4.38025382e+01],\n",
              "       [-3.98437079e+02],\n",
              "       [-6.01258016e+02],\n",
              "       [-3.84684142e+02],\n",
              "       [ 4.75759919e+02],\n",
              "       [ 1.68855565e+02],\n",
              "       [-6.44797212e+02],\n",
              "       [-1.18935750e+03],\n",
              "       [ 4.67202408e+02],\n",
              "       [-8.72043572e+02],\n",
              "       [-5.02118573e+02],\n",
              "       [-4.89945111e+02],\n",
              "       [-3.22575556e+02],\n",
              "       [ 1.20354371e+03],\n",
              "       [-4.52548610e+02],\n",
              "       [-1.66902752e+02],\n",
              "       [-5.42778102e+02],\n",
              "       [ 4.40552792e+02],\n",
              "       [-7.55503322e+02],\n",
              "       [ 1.61667006e+02],\n",
              "       [ 5.13461924e+02],\n",
              "       [-6.07658275e+02],\n",
              "       [ 9.78249260e+01],\n",
              "       [-3.41925306e+02],\n",
              "       [-5.63368519e+01],\n",
              "       [ 1.13454201e+03],\n",
              "       [-4.43112429e+00],\n",
              "       [ 1.47510576e+02],\n",
              "       [ 1.33653708e+02],\n",
              "       [-1.75805086e+02],\n",
              "       [ 6.00652660e+02],\n",
              "       [-7.15637669e+02],\n",
              "       [ 1.49625141e+03],\n",
              "       [ 2.10271101e+02],\n",
              "       [ 4.58997178e+02],\n",
              "       [-1.23265352e+03],\n",
              "       [ 4.30320413e+02],\n",
              "       [-3.00132359e+02],\n",
              "       [-2.62292932e+02],\n",
              "       [ 1.17335237e+03],\n",
              "       [-1.73500759e+02],\n",
              "       [ 1.54959140e+02],\n",
              "       [ 9.53791328e+02],\n",
              "       [-4.12000712e+02],\n",
              "       [ 1.01880159e+03],\n",
              "       [ 5.37255107e+02],\n",
              "       [-4.32505258e+02],\n",
              "       [ 2.71795955e+02],\n",
              "       [-5.42689640e+02],\n",
              "       [-1.29058830e+03],\n",
              "       [-6.33827716e+01],\n",
              "       [-1.47680206e+02],\n",
              "       [-9.55644449e+02],\n",
              "       [-6.16566600e+02],\n",
              "       [ 3.60490393e+02],\n",
              "       [ 8.16282830e+02],\n",
              "       [-8.51400118e+02],\n",
              "       [ 7.81100234e+02],\n",
              "       [ 8.36509156e+02],\n",
              "       [-7.97328647e+02],\n",
              "       [-1.10877307e+03],\n",
              "       [-2.15631577e+02],\n",
              "       [-1.64463455e+02],\n",
              "       [ 4.71875101e+02],\n",
              "       [-1.14615608e+03],\n",
              "       [-6.17558037e+02],\n",
              "       [ 3.89650573e+02],\n",
              "       [ 2.81499774e+02],\n",
              "       [-1.48614659e+02],\n",
              "       [-4.58722866e+02],\n",
              "       [ 6.78290579e+02],\n",
              "       [-3.57599689e+02],\n",
              "       [ 8.57328782e+02],\n",
              "       [-8.11137354e+02],\n",
              "       [ 1.19261258e+03],\n",
              "       [-1.25102905e+03],\n",
              "       [ 5.92014722e+02],\n",
              "       [-4.72407313e+02],\n",
              "       [-8.17981951e+02],\n",
              "       [ 4.61644482e+02],\n",
              "       [-6.02368556e+01],\n",
              "       [-4.53565627e+02],\n",
              "       [ 3.34758735e+02],\n",
              "       [-3.35789256e+02],\n",
              "       [-4.38153216e+02],\n",
              "       [ 6.28234485e+02],\n",
              "       [-2.16972414e+02],\n",
              "       [ 1.17306909e+03],\n",
              "       [ 5.55523730e+02],\n",
              "       [ 1.31878097e+02],\n",
              "       [-4.93464718e+01],\n",
              "       [-1.53247689e+03],\n",
              "       [-1.37116124e+03],\n",
              "       [-7.16039077e+02],\n",
              "       [ 1.83774805e+03],\n",
              "       [-1.77754941e+02],\n",
              "       [ 7.34484308e+01],\n",
              "       [-8.54528634e+01],\n",
              "       [-1.79294408e+02],\n",
              "       [-6.28723337e+02],\n",
              "       [-2.62249665e+02],\n",
              "       [-1.56328539e+03],\n",
              "       [-8.68589009e+01],\n",
              "       [ 2.16563466e+02],\n",
              "       [ 4.84196619e+02],\n",
              "       [-9.22910759e+02],\n",
              "       [ 4.65785315e+02],\n",
              "       [-3.28466367e+02],\n",
              "       [-1.54710397e+02],\n",
              "       [-1.11833306e+02],\n",
              "       [ 7.22273926e+02],\n",
              "       [ 4.00920432e+02],\n",
              "       [-5.00815920e+02],\n",
              "       [-5.31687943e+01],\n",
              "       [-2.88127347e+02],\n",
              "       [-2.46184572e+02],\n",
              "       [ 3.90942055e+02],\n",
              "       [ 3.41796323e+02],\n",
              "       [ 5.79467726e+02],\n",
              "       [ 4.29089468e+02],\n",
              "       [ 1.09720314e+03],\n",
              "       [ 7.48820279e+01],\n",
              "       [ 7.33975875e+02],\n",
              "       [ 1.28314827e+02],\n",
              "       [-1.13293003e+03],\n",
              "       [ 9.87767082e+02],\n",
              "       [-3.23691766e+02],\n",
              "       [-1.81064715e+02],\n",
              "       [-1.85375390e+02],\n",
              "       [ 5.16691326e+02],\n",
              "       [-1.06277402e+03],\n",
              "       [ 6.63113214e+02],\n",
              "       [ 1.23894864e+03],\n",
              "       [ 9.09570874e+02],\n",
              "       [ 2.96825846e+01],\n",
              "       [ 1.76902403e+03],\n",
              "       [ 5.45766061e+02],\n",
              "       [-4.21261783e+02],\n",
              "       [ 2.30607100e+02],\n",
              "       [ 6.09984610e+02],\n",
              "       [-7.97636332e+02],\n",
              "       [-1.60983250e+02],\n",
              "       [ 9.00839171e+02],\n",
              "       [-3.29886351e+02],\n",
              "       [ 6.50309053e+02],\n",
              "       [-8.83603321e+02],\n",
              "       [ 2.35244311e+02],\n",
              "       [ 1.09303369e+02],\n",
              "       [-4.51210958e+02],\n",
              "       [ 1.96707491e+01],\n",
              "       [ 4.40710689e+02],\n",
              "       [-2.73036903e+02],\n",
              "       [-6.95499250e+02],\n",
              "       [-2.81809298e+02],\n",
              "       [-7.09288823e+02],\n",
              "       [ 1.05286440e+03],\n",
              "       [-1.25375113e+02],\n",
              "       [-2.11237814e+02],\n",
              "       [ 6.87586680e+01],\n",
              "       [ 1.09529788e+03],\n",
              "       [ 4.59870465e+02],\n",
              "       [-9.36588195e+02],\n",
              "       [-1.07479104e+03],\n",
              "       [ 8.35670816e+02],\n",
              "       [ 1.32447380e+03],\n",
              "       [-7.39862921e+02],\n",
              "       [-7.52642153e+02],\n",
              "       [ 7.51649198e+02],\n",
              "       [-2.22785011e+02],\n",
              "       [-1.75078525e+02],\n",
              "       [ 1.86719334e+01],\n",
              "       [-1.13202055e+03],\n",
              "       [-1.77935134e+03],\n",
              "       [ 9.89307920e+01],\n",
              "       [-1.84513887e+03],\n",
              "       [-4.42644330e+02],\n",
              "       [ 1.83373154e+02],\n",
              "       [-7.46909715e+01],\n",
              "       [-7.15620357e+02],\n",
              "       [ 1.40884671e+03],\n",
              "       [ 3.26600754e+02],\n",
              "       [ 8.95566599e+02],\n",
              "       [ 1.12074975e+02],\n",
              "       [-4.67639660e+02],\n",
              "       [-1.55870619e+02],\n",
              "       [ 2.82530956e+01],\n",
              "       [-8.41965075e+02],\n",
              "       [-7.80493014e+02],\n",
              "       [ 2.58080343e+02],\n",
              "       [ 1.00272511e+03],\n",
              "       [-4.37006167e+02],\n",
              "       [-9.72182281e+02],\n",
              "       [ 9.27687238e+02],\n",
              "       [ 1.29094369e+03],\n",
              "       [ 5.50712096e+02],\n",
              "       [-3.09579787e+02],\n",
              "       [-1.64532209e+02],\n",
              "       [ 1.42859994e+02],\n",
              "       [ 6.28850421e+01],\n",
              "       [ 5.86359247e+02],\n",
              "       [-7.07160552e+02],\n",
              "       [-1.00290563e+02],\n",
              "       [ 5.06870597e+01],\n",
              "       [-4.75316572e+02],\n",
              "       [-7.12503461e+01],\n",
              "       [ 4.49812426e+02],\n",
              "       [ 2.98747261e+02],\n",
              "       [-7.81053704e+02],\n",
              "       [ 4.96630462e+02],\n",
              "       [ 1.44371901e+02],\n",
              "       [-3.90312202e+02],\n",
              "       [ 9.36173530e+01],\n",
              "       [ 1.69120872e+02],\n",
              "       [-1.57377467e+03],\n",
              "       [ 1.20745325e+02],\n",
              "       [-1.49462471e+02],\n",
              "       [ 5.03411745e+02],\n",
              "       [-2.04980741e+03],\n",
              "       [ 1.15874088e+03],\n",
              "       [-4.60175452e+02],\n",
              "       [ 4.97660786e+02],\n",
              "       [-9.91915927e+02],\n",
              "       [-1.73013988e+02],\n",
              "       [ 5.82354802e-01],\n",
              "       [ 4.79646206e+02],\n",
              "       [-3.66368080e+02],\n",
              "       [ 2.12950378e+02],\n",
              "       [ 6.10835241e+02],\n",
              "       [ 1.70269160e+02],\n",
              "       [ 5.06459367e+02],\n",
              "       [ 1.57763954e+02],\n",
              "       [ 1.09337136e+03],\n",
              "       [ 9.84668229e+02],\n",
              "       [-5.83218790e+02],\n",
              "       [-5.13785219e+02],\n",
              "       [ 7.40946503e+02],\n",
              "       [ 6.07484764e+02],\n",
              "       [-5.77766210e+02],\n",
              "       [-4.70678240e+02],\n",
              "       [-1.90508519e+02],\n",
              "       [ 9.03383110e+02],\n",
              "       [ 8.84121394e+02],\n",
              "       [-4.90366241e+02],\n",
              "       [-3.13510662e+02],\n",
              "       [ 1.49235521e+02],\n",
              "       [ 6.12899123e+01],\n",
              "       [-8.83398417e+02],\n",
              "       [-1.29044715e+02],\n",
              "       [-5.29584481e+02],\n",
              "       [ 3.50056084e+02],\n",
              "       [ 5.84746397e+02],\n",
              "       [ 4.11187747e+02],\n",
              "       [-1.22691642e+03],\n",
              "       [ 5.37098855e+02],\n",
              "       [-1.10225611e+00],\n",
              "       [ 2.66095264e+02],\n",
              "       [ 3.46271477e+02],\n",
              "       [ 1.49324556e+03],\n",
              "       [ 2.50596319e+02],\n",
              "       [ 6.02383812e+00],\n",
              "       [ 1.21901797e+03],\n",
              "       [ 3.81449451e+02],\n",
              "       [-1.25657029e+02],\n",
              "       [-4.91463537e+02],\n",
              "       [ 4.94017948e+02],\n",
              "       [ 4.34252535e+02],\n",
              "       [-1.43624140e+02],\n",
              "       [-5.29378558e+02],\n",
              "       [-7.11079292e+02],\n",
              "       [-1.63814010e+02],\n",
              "       [ 5.21350846e+02],\n",
              "       [-5.15186731e+02],\n",
              "       [ 6.79426174e+02],\n",
              "       [-9.26063589e+02],\n",
              "       [-1.00373103e+03],\n",
              "       [-1.36091420e+02],\n",
              "       [ 4.71269392e+02],\n",
              "       [-1.01552658e+03],\n",
              "       [ 1.25489862e+03],\n",
              "       [ 9.76735965e+02],\n",
              "       [ 1.91557802e+02],\n",
              "       [ 5.11608561e+02],\n",
              "       [ 8.65196588e+01],\n",
              "       [-4.32881820e+02],\n",
              "       [ 8.20881182e+01],\n",
              "       [ 1.08457736e+03],\n",
              "       [-8.50948830e+02],\n",
              "       [ 5.47136806e+02],\n",
              "       [ 3.51265999e+02],\n",
              "       [ 7.03003439e+02],\n",
              "       [ 1.28349375e+02],\n",
              "       [ 1.51521764e+03],\n",
              "       [-1.08180890e+03],\n",
              "       [ 2.56489091e+02],\n",
              "       [ 2.47018000e+02],\n",
              "       [-4.00410396e+02],\n",
              "       [-3.76764738e+02],\n",
              "       [ 4.23933926e+02],\n",
              "       [ 7.87063453e+02],\n",
              "       [-4.53391855e+02],\n",
              "       [ 4.22606062e+02],\n",
              "       [-8.71758962e+02],\n",
              "       [ 1.16356665e+02],\n",
              "       [ 4.05871907e+02],\n",
              "       [ 5.78954567e+01],\n",
              "       [ 6.01201119e+01],\n",
              "       [ 6.67167363e+02],\n",
              "       [-1.33892218e+03],\n",
              "       [ 1.41155501e+03],\n",
              "       [-2.53027743e+02],\n",
              "       [ 4.35860785e+02],\n",
              "       [-5.28821089e+01],\n",
              "       [ 1.28978011e+03],\n",
              "       [-5.94416262e+01],\n",
              "       [-5.11473725e+02],\n",
              "       [ 4.38545654e+01],\n",
              "       [-2.55579574e+02],\n",
              "       [-3.73163016e+02],\n",
              "       [-3.12123581e+02],\n",
              "       [-1.31791896e+03],\n",
              "       [-1.69447551e+02],\n",
              "       [ 3.14746001e+02],\n",
              "       [ 2.72402342e+02],\n",
              "       [-3.19549215e+02],\n",
              "       [ 4.19170036e+02],\n",
              "       [ 4.35329103e+02],\n",
              "       [-5.96583805e+02],\n",
              "       [-1.70847910e+02],\n",
              "       [-5.14468815e+02],\n",
              "       [-4.34687212e+02],\n",
              "       [-1.36770133e+02],\n",
              "       [ 2.21795220e+03],\n",
              "       [-6.42516787e+02],\n",
              "       [ 1.53828427e+03],\n",
              "       [ 5.82813329e+02],\n",
              "       [ 2.97003873e+02],\n",
              "       [ 6.11485409e+02],\n",
              "       [ 1.32003449e+01],\n",
              "       [ 1.88387690e+02],\n",
              "       [ 2.12055756e+03],\n",
              "       [-6.23813464e+02],\n",
              "       [ 7.03365268e+02],\n",
              "       [ 2.10585994e+02],\n",
              "       [ 6.90808441e+02],\n",
              "       [-1.52138834e+02],\n",
              "       [ 3.48639069e+01],\n",
              "       [ 3.47044993e+02],\n",
              "       [ 1.27873480e+01],\n",
              "       [ 5.92697220e+01],\n",
              "       [-2.41577562e+02],\n",
              "       [ 6.43759713e+02],\n",
              "       [ 1.14274654e+03],\n",
              "       [-1.56245583e+03],\n",
              "       [-4.18709921e+02],\n",
              "       [ 8.84599613e+02],\n",
              "       [-8.19254968e+02],\n",
              "       [ 4.85801003e+02],\n",
              "       [ 9.82606919e+02],\n",
              "       [-1.31461105e+02],\n",
              "       [ 1.47542538e+02],\n",
              "       [-8.07100181e+02],\n",
              "       [-4.80559437e+02],\n",
              "       [ 1.92121603e+02],\n",
              "       [-5.36647586e+02],\n",
              "       [-3.75626278e+02],\n",
              "       [ 4.92255569e+01],\n",
              "       [ 1.09838093e+03],\n",
              "       [-3.00501554e+02],\n",
              "       [-9.44800851e+00],\n",
              "       [-9.98908540e+02],\n",
              "       [-3.73083366e+02],\n",
              "       [-9.78857768e+02]])"
            ]
          },
          "metadata": {},
          "execution_count": 41
        }
      ]
    },
    {
      "cell_type": "code",
      "source": [],
      "metadata": {
        "id": "G0WiGnJyi1UL"
      },
      "execution_count": 41,
      "outputs": []
    },
    {
      "cell_type": "markdown",
      "source": [
        "### 4.2 Ridge Reegression"
      ],
      "metadata": {
        "id": "cYHke4e6Qn2w"
      }
    },
    {
      "cell_type": "code",
      "source": [
        "# Implement Ridge Regression.\n",
        "from sklearn.linear_model import Ridge\n",
        "\n",
        "model = Ridge(alpha=1.0)\n",
        "\n",
        "# Fit the model to the data\n",
        "model.fit(x_train_val, y_train_val)\n",
        "\n",
        "# Predict target values for the input data\n",
        "y_pred = model.predict(x_test)\n",
        "print(y_pred)\n",
        "print(model.score(x_test, y_test))\n",
        "\n",
        "# Perform cross validation to find a good value for your hyper-parameter.\n",
        "\n",
        "# After choosing a good value for your hyper-parameter, use both train and val data for final training purpose of your model.\n",
        "# Make preditions on both training(train+val) and test data.\n"
      ],
      "metadata": {
        "id": "_JVqRAVSQrM2",
        "colab": {
          "base_uri": "https://localhost:8080/"
        },
        "outputId": "96b3796b-99e1-4173-ca2d-784003dfa7f9"
      },
      "execution_count": 82,
      "outputs": [
        {
          "output_type": "execute_result",
          "data": {
            "text/plain": [
              "Ridge()"
            ]
          },
          "metadata": {},
          "execution_count": 82
        }
      ]
    },
    {
      "cell_type": "markdown",
      "source": [
        "### 4.3 Lasso Regression"
      ],
      "metadata": {
        "id": "TKaw6g3zQvUf"
      }
    },
    {
      "cell_type": "code",
      "source": [
        "# Implement Lasso Regression.\n",
        "from sklearn.linear_model import Lasso\n",
        "\n",
        "# Create the model\n",
        "model = Lasso(alpha=1.0)\n",
        "\n",
        "# Fit the model to the data\n",
        "model.fit(x_train_val, y_train_val)\n",
        "\n",
        "# Predict target values for the input data\n",
        "y_pred = model.predict(x_test)\n",
        "print(model.score(x_test, y_test))\n",
        "# Perform cross validation to find a good value for your hyper-parameter.\n",
        "# After choosing a good value for your hyper-parameter, use both train and val data for final training purpose of your model.\n",
        "# Make preditions on both training(train+val) and test data."
      ],
      "metadata": {
        "id": "2RuAcem_Qyta",
        "colab": {
          "base_uri": "https://localhost:8080/"
        },
        "outputId": "4e1ec772-c630-4f76-9e40-859d2f73fe38"
      },
      "execution_count": 43,
      "outputs": [
        {
          "output_type": "stream",
          "name": "stdout",
          "text": [
            "0.9444648136832293\n"
          ]
        }
      ]
    },
    {
      "cell_type": "markdown",
      "source": [
        "### 4.4 ElasticNet Regression"
      ],
      "metadata": {
        "id": "oBgZa2jcQ6a3"
      }
    },
    {
      "cell_type": "code",
      "source": [
        "# Implement ElasticNet Regression.\n",
        "from sklearn.linear_model import ElasticNet\n",
        "from numpy import absolute\n",
        "from pandas import read_csv\n",
        "from sklearn.model_selection import cross_val_score\n",
        "from sklearn.model_selection import RepeatedKFold\n",
        "from numpy import mean\n",
        "from numpy import std\n",
        "# define model\n",
        "model = ElasticNet(alpha=1.0, l1_ratio=0.5)\n",
        "# define model evaluation method\n",
        "cv = RepeatedKFold(n_splits=10, n_repeats=3, random_state=1)\n",
        "# evaluate model\n",
        "scores = cross_val_score(model, input_data, output_data, scoring='neg_mean_absolute_error', cv=cv, n_jobs=-1)\n",
        "# force scores to be positive\n",
        "scores = absolute(scores)\n",
        "print('Mean MAE: %.3f (%.3f)' % (mean(scores), std(scores)))\n",
        "# Perform cross validation to find a good value for your hyper-parameters.\n",
        "# After choosing a good value for your hyper-parameter, use both train and val data for final training purpose of your model.\n",
        "# Make preditions on both training(train+val) and test data."
      ],
      "metadata": {
        "id": "xSUtXn8WQ0l1",
        "colab": {
          "base_uri": "https://localhost:8080/"
        },
        "outputId": "e4f7e82e-fb5e-417e-d62a-b6af0dd41f1a"
      },
      "execution_count": 44,
      "outputs": [
        {
          "output_type": "stream",
          "name": "stdout",
          "text": [
            "Mean MAE: 120.460 (5.442)\n"
          ]
        }
      ]
    },
    {
      "cell_type": "markdown",
      "source": [
        "## 5. Analysis"
      ],
      "metadata": {
        "id": "oRiHfBFAROWi"
      }
    },
    {
      "cell_type": "code",
      "source": [
        "# Write down the actual value along with the preditions from all the regression models, for the first 10 points in test data."
      ],
      "metadata": {
        "id": "I6Go-40ARQW7"
      },
      "execution_count": 45,
      "outputs": []
    },
    {
      "cell_type": "code",
      "source": [
        "# Find both RMSE and MAE for all the regression models on both training(train+val) and testing data."
      ],
      "metadata": {
        "id": "6I-n5D6fRedg"
      },
      "execution_count": 46,
      "outputs": []
    },
    {
      "cell_type": "markdown",
      "source": [
        "## 6. Final Observations\n",
        "Write down your final conclusions and observations"
      ],
      "metadata": {
        "id": "93Aod5H3RTNu"
      }
    },
    {
      "cell_type": "markdown",
      "source": [
        "The data set given to us has very low error point as the regression line fits very well. In all the three regrssions the accuracy is coming above 90%. "
      ],
      "metadata": {
        "id": "weqEsEvp8Gj9"
      }
    },
    {
      "cell_type": "code",
      "source": [],
      "metadata": {
        "id": "7MRO8pNwRS34"
      },
      "execution_count": 46,
      "outputs": []
    },
    {
      "cell_type": "markdown",
      "source": [
        "# Question 2 (30 points)\n",
        "\n",
        "Given the automobile dataset at https://s3-api.us-geo.objectstorage.softlayer.net/cf-courses-data/CognitiveClass/DA0101EN/automobileEDA.csv , "
      ],
      "metadata": {
        "id": "423bWO--Sx0_"
      }
    },
    {
      "cell_type": "markdown",
      "source": [
        "## 1. Load and examine the dataset"
      ],
      "metadata": {
        "id": "aGXZyLX5Txdj"
      }
    },
    {
      "cell_type": "code",
      "source": [
        "import pandas as pd\n",
        "url=\"https://s3-api.us-geo.objectstorage.softlayer.net/cf-courses-data/CognitiveClass/DA0101EN/automobileEDA.csv\"\n",
        "data= pd.read_csv(url)\n",
        "data.head()"
      ],
      "metadata": {
        "id": "gDd0icwlS1VR",
        "colab": {
          "base_uri": "https://localhost:8080/",
          "height": 386
        },
        "outputId": "8d9a3d5a-f6df-45cd-c5b0-2df4aebc7b89"
      },
      "execution_count": 47,
      "outputs": [
        {
          "output_type": "execute_result",
          "data": {
            "text/plain": [
              "   symboling  normalized-losses         make aspiration num-of-doors  \\\n",
              "0          3                122  alfa-romero        std          two   \n",
              "1          3                122  alfa-romero        std          two   \n",
              "2          1                122  alfa-romero        std          two   \n",
              "3          2                164         audi        std         four   \n",
              "4          2                164         audi        std         four   \n",
              "\n",
              "    body-style drive-wheels engine-location  wheel-base    length  ...  \\\n",
              "0  convertible          rwd           front        88.6  0.811148  ...   \n",
              "1  convertible          rwd           front        88.6  0.811148  ...   \n",
              "2    hatchback          rwd           front        94.5  0.822681  ...   \n",
              "3        sedan          fwd           front        99.8  0.848630  ...   \n",
              "4        sedan          4wd           front        99.4  0.848630  ...   \n",
              "\n",
              "   compression-ratio  horsepower  peak-rpm city-mpg highway-mpg    price  \\\n",
              "0                9.0       111.0    5000.0       21          27  13495.0   \n",
              "1                9.0       111.0    5000.0       21          27  16500.0   \n",
              "2                9.0       154.0    5000.0       19          26  16500.0   \n",
              "3               10.0       102.0    5500.0       24          30  13950.0   \n",
              "4                8.0       115.0    5500.0       18          22  17450.0   \n",
              "\n",
              "  city-L/100km  horsepower-binned  diesel  gas  \n",
              "0    11.190476             Medium       0    1  \n",
              "1    11.190476             Medium       0    1  \n",
              "2    12.368421             Medium       0    1  \n",
              "3     9.791667             Medium       0    1  \n",
              "4    13.055556             Medium       0    1  \n",
              "\n",
              "[5 rows x 29 columns]"
            ],
            "text/html": [
              "\n",
              "  <div id=\"df-46d2f1b7-27aa-4d41-9b44-b598d8dd7889\">\n",
              "    <div class=\"colab-df-container\">\n",
              "      <div>\n",
              "<style scoped>\n",
              "    .dataframe tbody tr th:only-of-type {\n",
              "        vertical-align: middle;\n",
              "    }\n",
              "\n",
              "    .dataframe tbody tr th {\n",
              "        vertical-align: top;\n",
              "    }\n",
              "\n",
              "    .dataframe thead th {\n",
              "        text-align: right;\n",
              "    }\n",
              "</style>\n",
              "<table border=\"1\" class=\"dataframe\">\n",
              "  <thead>\n",
              "    <tr style=\"text-align: right;\">\n",
              "      <th></th>\n",
              "      <th>symboling</th>\n",
              "      <th>normalized-losses</th>\n",
              "      <th>make</th>\n",
              "      <th>aspiration</th>\n",
              "      <th>num-of-doors</th>\n",
              "      <th>body-style</th>\n",
              "      <th>drive-wheels</th>\n",
              "      <th>engine-location</th>\n",
              "      <th>wheel-base</th>\n",
              "      <th>length</th>\n",
              "      <th>...</th>\n",
              "      <th>compression-ratio</th>\n",
              "      <th>horsepower</th>\n",
              "      <th>peak-rpm</th>\n",
              "      <th>city-mpg</th>\n",
              "      <th>highway-mpg</th>\n",
              "      <th>price</th>\n",
              "      <th>city-L/100km</th>\n",
              "      <th>horsepower-binned</th>\n",
              "      <th>diesel</th>\n",
              "      <th>gas</th>\n",
              "    </tr>\n",
              "  </thead>\n",
              "  <tbody>\n",
              "    <tr>\n",
              "      <th>0</th>\n",
              "      <td>3</td>\n",
              "      <td>122</td>\n",
              "      <td>alfa-romero</td>\n",
              "      <td>std</td>\n",
              "      <td>two</td>\n",
              "      <td>convertible</td>\n",
              "      <td>rwd</td>\n",
              "      <td>front</td>\n",
              "      <td>88.6</td>\n",
              "      <td>0.811148</td>\n",
              "      <td>...</td>\n",
              "      <td>9.0</td>\n",
              "      <td>111.0</td>\n",
              "      <td>5000.0</td>\n",
              "      <td>21</td>\n",
              "      <td>27</td>\n",
              "      <td>13495.0</td>\n",
              "      <td>11.190476</td>\n",
              "      <td>Medium</td>\n",
              "      <td>0</td>\n",
              "      <td>1</td>\n",
              "    </tr>\n",
              "    <tr>\n",
              "      <th>1</th>\n",
              "      <td>3</td>\n",
              "      <td>122</td>\n",
              "      <td>alfa-romero</td>\n",
              "      <td>std</td>\n",
              "      <td>two</td>\n",
              "      <td>convertible</td>\n",
              "      <td>rwd</td>\n",
              "      <td>front</td>\n",
              "      <td>88.6</td>\n",
              "      <td>0.811148</td>\n",
              "      <td>...</td>\n",
              "      <td>9.0</td>\n",
              "      <td>111.0</td>\n",
              "      <td>5000.0</td>\n",
              "      <td>21</td>\n",
              "      <td>27</td>\n",
              "      <td>16500.0</td>\n",
              "      <td>11.190476</td>\n",
              "      <td>Medium</td>\n",
              "      <td>0</td>\n",
              "      <td>1</td>\n",
              "    </tr>\n",
              "    <tr>\n",
              "      <th>2</th>\n",
              "      <td>1</td>\n",
              "      <td>122</td>\n",
              "      <td>alfa-romero</td>\n",
              "      <td>std</td>\n",
              "      <td>two</td>\n",
              "      <td>hatchback</td>\n",
              "      <td>rwd</td>\n",
              "      <td>front</td>\n",
              "      <td>94.5</td>\n",
              "      <td>0.822681</td>\n",
              "      <td>...</td>\n",
              "      <td>9.0</td>\n",
              "      <td>154.0</td>\n",
              "      <td>5000.0</td>\n",
              "      <td>19</td>\n",
              "      <td>26</td>\n",
              "      <td>16500.0</td>\n",
              "      <td>12.368421</td>\n",
              "      <td>Medium</td>\n",
              "      <td>0</td>\n",
              "      <td>1</td>\n",
              "    </tr>\n",
              "    <tr>\n",
              "      <th>3</th>\n",
              "      <td>2</td>\n",
              "      <td>164</td>\n",
              "      <td>audi</td>\n",
              "      <td>std</td>\n",
              "      <td>four</td>\n",
              "      <td>sedan</td>\n",
              "      <td>fwd</td>\n",
              "      <td>front</td>\n",
              "      <td>99.8</td>\n",
              "      <td>0.848630</td>\n",
              "      <td>...</td>\n",
              "      <td>10.0</td>\n",
              "      <td>102.0</td>\n",
              "      <td>5500.0</td>\n",
              "      <td>24</td>\n",
              "      <td>30</td>\n",
              "      <td>13950.0</td>\n",
              "      <td>9.791667</td>\n",
              "      <td>Medium</td>\n",
              "      <td>0</td>\n",
              "      <td>1</td>\n",
              "    </tr>\n",
              "    <tr>\n",
              "      <th>4</th>\n",
              "      <td>2</td>\n",
              "      <td>164</td>\n",
              "      <td>audi</td>\n",
              "      <td>std</td>\n",
              "      <td>four</td>\n",
              "      <td>sedan</td>\n",
              "      <td>4wd</td>\n",
              "      <td>front</td>\n",
              "      <td>99.4</td>\n",
              "      <td>0.848630</td>\n",
              "      <td>...</td>\n",
              "      <td>8.0</td>\n",
              "      <td>115.0</td>\n",
              "      <td>5500.0</td>\n",
              "      <td>18</td>\n",
              "      <td>22</td>\n",
              "      <td>17450.0</td>\n",
              "      <td>13.055556</td>\n",
              "      <td>Medium</td>\n",
              "      <td>0</td>\n",
              "      <td>1</td>\n",
              "    </tr>\n",
              "  </tbody>\n",
              "</table>\n",
              "<p>5 rows × 29 columns</p>\n",
              "</div>\n",
              "      <button class=\"colab-df-convert\" onclick=\"convertToInteractive('df-46d2f1b7-27aa-4d41-9b44-b598d8dd7889')\"\n",
              "              title=\"Convert this dataframe to an interactive table.\"\n",
              "              style=\"display:none;\">\n",
              "        \n",
              "  <svg xmlns=\"http://www.w3.org/2000/svg\" height=\"24px\"viewBox=\"0 0 24 24\"\n",
              "       width=\"24px\">\n",
              "    <path d=\"M0 0h24v24H0V0z\" fill=\"none\"/>\n",
              "    <path d=\"M18.56 5.44l.94 2.06.94-2.06 2.06-.94-2.06-.94-.94-2.06-.94 2.06-2.06.94zm-11 1L8.5 8.5l.94-2.06 2.06-.94-2.06-.94L8.5 2.5l-.94 2.06-2.06.94zm10 10l.94 2.06.94-2.06 2.06-.94-2.06-.94-.94-2.06-.94 2.06-2.06.94z\"/><path d=\"M17.41 7.96l-1.37-1.37c-.4-.4-.92-.59-1.43-.59-.52 0-1.04.2-1.43.59L10.3 9.45l-7.72 7.72c-.78.78-.78 2.05 0 2.83L4 21.41c.39.39.9.59 1.41.59.51 0 1.02-.2 1.41-.59l7.78-7.78 2.81-2.81c.8-.78.8-2.07 0-2.86zM5.41 20L4 18.59l7.72-7.72 1.47 1.35L5.41 20z\"/>\n",
              "  </svg>\n",
              "      </button>\n",
              "      \n",
              "  <style>\n",
              "    .colab-df-container {\n",
              "      display:flex;\n",
              "      flex-wrap:wrap;\n",
              "      gap: 12px;\n",
              "    }\n",
              "\n",
              "    .colab-df-convert {\n",
              "      background-color: #E8F0FE;\n",
              "      border: none;\n",
              "      border-radius: 50%;\n",
              "      cursor: pointer;\n",
              "      display: none;\n",
              "      fill: #1967D2;\n",
              "      height: 32px;\n",
              "      padding: 0 0 0 0;\n",
              "      width: 32px;\n",
              "    }\n",
              "\n",
              "    .colab-df-convert:hover {\n",
              "      background-color: #E2EBFA;\n",
              "      box-shadow: 0px 1px 2px rgba(60, 64, 67, 0.3), 0px 1px 3px 1px rgba(60, 64, 67, 0.15);\n",
              "      fill: #174EA6;\n",
              "    }\n",
              "\n",
              "    [theme=dark] .colab-df-convert {\n",
              "      background-color: #3B4455;\n",
              "      fill: #D2E3FC;\n",
              "    }\n",
              "\n",
              "    [theme=dark] .colab-df-convert:hover {\n",
              "      background-color: #434B5C;\n",
              "      box-shadow: 0px 1px 3px 1px rgba(0, 0, 0, 0.15);\n",
              "      filter: drop-shadow(0px 1px 2px rgba(0, 0, 0, 0.3));\n",
              "      fill: #FFFFFF;\n",
              "    }\n",
              "  </style>\n",
              "\n",
              "      <script>\n",
              "        const buttonEl =\n",
              "          document.querySelector('#df-46d2f1b7-27aa-4d41-9b44-b598d8dd7889 button.colab-df-convert');\n",
              "        buttonEl.style.display =\n",
              "          google.colab.kernel.accessAllowed ? 'block' : 'none';\n",
              "\n",
              "        async function convertToInteractive(key) {\n",
              "          const element = document.querySelector('#df-46d2f1b7-27aa-4d41-9b44-b598d8dd7889');\n",
              "          const dataTable =\n",
              "            await google.colab.kernel.invokeFunction('convertToInteractive',\n",
              "                                                     [key], {});\n",
              "          if (!dataTable) return;\n",
              "\n",
              "          const docLinkHtml = 'Like what you see? Visit the ' +\n",
              "            '<a target=\"_blank\" href=https://colab.research.google.com/notebooks/data_table.ipynb>data table notebook</a>'\n",
              "            + ' to learn more about interactive tables.';\n",
              "          element.innerHTML = '';\n",
              "          dataTable['output_type'] = 'display_data';\n",
              "          await google.colab.output.renderOutput(dataTable, element);\n",
              "          const docLink = document.createElement('div');\n",
              "          docLink.innerHTML = docLinkHtml;\n",
              "          element.appendChild(docLink);\n",
              "        }\n",
              "      </script>\n",
              "    </div>\n",
              "  </div>\n",
              "  "
            ]
          },
          "metadata": {},
          "execution_count": 47
        }
      ]
    },
    {
      "cell_type": "code",
      "source": [
        "data.fillna(0)\n",
        "from sklearn.preprocessing import OrdinalEncoder\n",
        "ord_enc = OrdinalEncoder()\n",
        "data['data_aspiration'] = pd.DataFrame(ord_enc.fit_transform(data[[\"aspiration\"]]))\n",
        "data['data_doors'] = pd.DataFrame(ord_enc.fit_transform(data[[\"num-of-doors\"]]))\n",
        "data['data_style'] = pd.DataFrame(ord_enc.fit_transform(data[[\"body-style\"]]))\n",
        "data['data_wheels'] = pd.DataFrame(ord_enc.fit_transform(data[[\"drive-wheels\"]]))\n",
        "data['data_engine'] = pd.DataFrame(ord_enc.fit_transform(data[[\"engine-location\"]]))\n",
        "data['data_engine_type'] = pd.DataFrame(ord_enc.fit_transform(data[[\"engine-type\"]]))\n",
        "data['data_cylinder'] = pd.DataFrame(ord_enc.fit_transform(data[[\"num-of-cylinders\"]]))\n",
        "data['data_fuel'] = pd.DataFrame(ord_enc.fit_transform(data[[\"fuel-system\"]]))\n",
        "data['data_horsepower'] = pd.DataFrame(ord_enc.fit_transform(data[[\"horsepower-binned\"]]))"
      ],
      "metadata": {
        "id": "0HaxaWBYMxzB"
      },
      "execution_count": 48,
      "outputs": []
    },
    {
      "cell_type": "code",
      "source": [
        "data.drop(data.columns[[0,1,2,3,4,5,6,7,13,14,16,23,24,25,26]], axis=1, inplace=True)"
      ],
      "metadata": {
        "id": "7pdN4Bu-NX0Q"
      },
      "execution_count": 49,
      "outputs": []
    },
    {
      "cell_type": "code",
      "source": [
        "import numpy as np\n",
        "Target = data['city-mpg'].copy()\n",
        "data.drop(['city-mpg'],axis=1,inplace=True)\n",
        "Input = data.copy()\n",
        "Input = Input.replace(np.nan, 0)\n",
        "Target"
      ],
      "metadata": {
        "colab": {
          "base_uri": "https://localhost:8080/"
        },
        "id": "cdYtakqiNZ8K",
        "outputId": "55edeab6-bdad-4bb3-f705-4013aa93e621"
      },
      "execution_count": 50,
      "outputs": [
        {
          "output_type": "execute_result",
          "data": {
            "text/plain": [
              "0      21\n",
              "1      21\n",
              "2      19\n",
              "3      24\n",
              "4      18\n",
              "       ..\n",
              "196    23\n",
              "197    19\n",
              "198    18\n",
              "199    26\n",
              "200    19\n",
              "Name: city-mpg, Length: 201, dtype: int64"
            ]
          },
          "metadata": {},
          "execution_count": 50
        }
      ]
    },
    {
      "cell_type": "markdown",
      "source": [
        "## 2. Visualise/Plot the regression model"
      ],
      "metadata": {
        "id": "uhCZ1KetT9eR"
      }
    },
    {
      "cell_type": "code",
      "source": [
        "from matplotlib import pyplot as plt \n",
        "from sklearn.model_selection import train_test_split\n",
        "from sklearn import linear_model,metrics\n",
        "from sklearn.metrics import r2_score\n",
        "reg = linear_model.LinearRegression()\n",
        "import seaborn as sns\n",
        "x_train,x_test,y_train,y_test = train_test_split(Input,Target, test_size=0.2,random_state=42)\n",
        "reg.fit(x_train, y_train)\n",
        "y_train_pred = reg.predict(x_train)\n",
        "y_test_pred = reg.predict(x_test)\n",
        "print(r2_score(y_train, y_train_pred))\n",
        "print(r2_score(y_test, y_test_pred))\n",
        "print('Coefficients: ', reg.coef_)\n",
        "print('Variance score: {}'.format(reg.score(x_test, y_test)))\n",
        "sns.regplot(x=y_test,y=y_test_pred,ci=None,color ='red')"
      ],
      "metadata": {
        "id": "9JbPrxgIUAsA",
        "colab": {
          "base_uri": "https://localhost:8080/",
          "height": 453
        },
        "outputId": "e31d7bbe-6c22-4a2f-efc5-584c5bcfb708"
      },
      "execution_count": 51,
      "outputs": [
        {
          "output_type": "stream",
          "name": "stdout",
          "text": [
            "0.8750467293412157\n",
            "0.9045497791116032\n",
            "Coefficients:  [-3.91314685e-02 -3.79363984e+01  1.53934641e+01  1.35437382e-01\n",
            " -5.38065284e-03  3.89465863e-02 -1.77923602e-01  1.42281506e+00\n",
            "  1.79003406e+00 -8.35348922e-02 -1.22565319e-03 -9.85839099e+00\n",
            "  9.85839099e+00  1.68138714e+00  3.19118745e-02  6.58835196e-01\n",
            "  6.61443824e-01 -9.02493163e-01 -5.94713705e-01  5.73825710e-02\n",
            " -9.97806572e-03 -9.18619335e-01]\n",
            "Variance score: 0.9045497791116032\n"
          ]
        },
        {
          "output_type": "execute_result",
          "data": {
            "text/plain": [
              "<matplotlib.axes._subplots.AxesSubplot at 0x7ffaf8181730>"
            ]
          },
          "metadata": {},
          "execution_count": 51
        },
        {
          "output_type": "display_data",
          "data": {
            "text/plain": [
              "<Figure size 432x288 with 1 Axes>"
            ],
            "image/png": "[encoded data removed]"
          },
          "metadata": {
            "needs_background": "light"
          }
        }
      ]
    },
    {
      "cell_type": "markdown",
      "source": [
        "## 3. Generate a Linear Regression equation"
      ],
      "metadata": {
        "id": "z6bwJSrlUB2-"
      }
    },
    {
      "cell_type": "code",
      "source": [
        "# Implement Linear Regression.\n",
        "from sklearn import linear_model\n",
        "from sklearn.linear_model import LinearRegression\n",
        "\n",
        "# Use both train and val data for training purpose.\n",
        "regr = linear_model.LinearRegression()\n",
        "regr.fit(x_train, y_train)\n",
        "LinearRegression()\n",
        "print(regr.coef_)\n",
        "# Make preditions on both training(train+val) and test data.\n",
        "print(regr.score(x_test,y_test))\n",
        "regr.score(x_train, y_train)"
      ],
      "metadata": {
        "id": "qNJJPKnRUEcA",
        "colab": {
          "base_uri": "https://localhost:8080/"
        },
        "outputId": "d1d3e5a9-7f8d-4fdc-da1a-2db8cde56950"
      },
      "execution_count": 52,
      "outputs": [
        {
          "output_type": "stream",
          "name": "stdout",
          "text": [
            "[-3.91314685e-02 -3.79363984e+01  1.53934641e+01  1.35437382e-01\n",
            " -5.38065284e-03  3.89465863e-02 -1.77923602e-01  1.42281506e+00\n",
            "  1.79003406e+00 -8.35348922e-02 -1.22565319e-03 -9.85839099e+00\n",
            "  9.85839099e+00  1.68138714e+00  3.19118745e-02  6.58835196e-01\n",
            "  6.61443824e-01 -9.02493163e-01 -5.94713705e-01  5.73825710e-02\n",
            " -9.97806572e-03 -9.18619335e-01]\n",
            "0.9045497791116032\n"
          ]
        },
        {
          "output_type": "execute_result",
          "data": {
            "text/plain": [
              "0.8750467293412157"
            ]
          },
          "metadata": {},
          "execution_count": 52
        }
      ]
    },
    {
      "cell_type": "markdown",
      "source": [
        "## 4. Use a residual plot to inspect if LR fits the model"
      ],
      "metadata": {
        "id": "l_c0JMfiUFAs"
      }
    },
    {
      "cell_type": "code",
      "source": [
        "import seaborn as sns\n",
        "import matplotlib.pyplot as plt\n",
        "# draw residplot\n",
        "# with lowess = True\n",
        "#sns.residplot(x_train, y_train, lowess = True)\n",
        "y_pred = reg.predict(x_test)\n",
        "sns.residplot(x=y_pred, y=y_test, lowess=True)\n",
        "# show the plot\n",
        "plt.show()"
      ],
      "metadata": {
        "id": "0l78Xd1jUH_0",
        "colab": {
          "base_uri": "https://localhost:8080/",
          "height": 266
        },
        "outputId": "6b8da742-8561-44d1-f138-bc4c14e45533"
      },
      "execution_count": 53,
      "outputs": [
        {
          "output_type": "display_data",
          "data": {
            "text/plain": [
              "<Figure size 432x288 with 1 Axes>"
            ],
            "image/png": "[encoded data removed]"
          },
          "metadata": {
            "needs_background": "light"
          }
        }
      ]
    },
    {
      "cell_type": "markdown",
      "source": [
        "## 5. Use R2 and MSE to determine the accuracy of the LR fit "
      ],
      "metadata": {
        "id": "_0i261n5UIgQ"
      }
    },
    {
      "cell_type": "code",
      "source": [
        "from sklearn.metrics import mean_squared_error\n",
        "MSE = mean_squared_error(y_test, y_pred, squared=False)\n",
        "print(MSE)\n",
        "r2_score = regr.score(x_test, y_test)\n",
        "print(r2_score)"
      ],
      "metadata": {
        "id": "KIvCXwuZULKC",
        "colab": {
          "base_uri": "https://localhost:8080/"
        },
        "outputId": "1cfdb23b-570a-4e75-ca0e-49a7c4b376b9"
      },
      "execution_count": 54,
      "outputs": [
        {
          "output_type": "stream",
          "name": "stdout",
          "text": [
            "2.0909804616830185\n",
            "0.9045497791116032\n"
          ]
        }
      ]
    },
    {
      "cell_type": "markdown",
      "source": [
        "# Question 3 (20 points)"
      ],
      "metadata": {
        "id": "UNRD8r7mUNVU"
      }
    },
    {
      "cell_type": "markdown",
      "source": [
        "### In this assignment, you will experiment with a toy dataset – the Iris dataset."
      ],
      "metadata": {
        "id": "ItR7cF5fUY66"
      }
    },
    {
      "cell_type": "markdown",
      "source": [
        "## 1. Load the Iris dataset."
      ],
      "metadata": {
        "id": "gtcrm-IDUbr5"
      }
    },
    {
      "cell_type": "code",
      "source": [
        "from sklearn.datasets import load_iris\n",
        " #use -  sklearn.datasets.load_iris\n",
        "data= load_iris()\n",
        "data.target\n",
        "#data"
      ],
      "metadata": {
        "id": "hE_vKdz6UQVt",
        "colab": {
          "base_uri": "https://localhost:8080/"
        },
        "outputId": "05c44a64-666f-425c-d1ae-77f0639f8a0c"
      },
      "execution_count": 64,
      "outputs": [
        {
          "output_type": "execute_result",
          "data": {
            "text/plain": [
              "array([0, 0, 0, 0, 0, 0, 0, 0, 0, 0, 0, 0, 0, 0, 0, 0, 0, 0, 0, 0, 0, 0,\n",
              "       0, 0, 0, 0, 0, 0, 0, 0, 0, 0, 0, 0, 0, 0, 0, 0, 0, 0, 0, 0, 0, 0,\n",
              "       0, 0, 0, 0, 0, 0, 1, 1, 1, 1, 1, 1, 1, 1, 1, 1, 1, 1, 1, 1, 1, 1,\n",
              "       1, 1, 1, 1, 1, 1, 1, 1, 1, 1, 1, 1, 1, 1, 1, 1, 1, 1, 1, 1, 1, 1,\n",
              "       1, 1, 1, 1, 1, 1, 1, 1, 1, 1, 1, 1, 2, 2, 2, 2, 2, 2, 2, 2, 2, 2,\n",
              "       2, 2, 2, 2, 2, 2, 2, 2, 2, 2, 2, 2, 2, 2, 2, 2, 2, 2, 2, 2, 2, 2,\n",
              "       2, 2, 2, 2, 2, 2, 2, 2, 2, 2, 2, 2, 2, 2, 2, 2, 2, 2])"
            ]
          },
          "metadata": {},
          "execution_count": 64
        }
      ]
    },
    {
      "cell_type": "markdown",
      "source": [
        "## 2. The Iris data has 3 classes. For the purpose of this assignment, you will modify it such that it has two classes – specifically, you will merge the “setosa” and “versicolor” classes."
      ],
      "metadata": {
        "id": "0kZJ_PPsVOIS"
      }
    },
    {
      "cell_type": "code",
      "source": [
        "for i in range(len(data.target)):\n",
        "  if (data.target[i] ==2):\n",
        "    data.target[i] = 2\n",
        "  else :\n",
        "    data.target[i] = 1\n",
        "print(data.target)"
      ],
      "metadata": {
        "id": "SjHzStWgVSbg",
        "colab": {
          "base_uri": "https://localhost:8080/"
        },
        "outputId": "52e8d28c-2da7-41c6-95dd-4500b76902fd"
      },
      "execution_count": 56,
      "outputs": [
        {
          "output_type": "stream",
          "name": "stdout",
          "text": [
            "[1 1 1 1 1 1 1 1 1 1 1 1 1 1 1 1 1 1 1 1 1 1 1 1 1 1 1 1 1 1 1 1 1 1 1 1 1\n",
            " 1 1 1 1 1 1 1 1 1 1 1 1 1 1 1 1 1 1 1 1 1 1 1 1 1 1 1 1 1 1 1 1 1 1 1 1 1\n",
            " 1 1 1 1 1 1 1 1 1 1 1 1 1 1 1 1 1 1 1 1 1 1 1 1 1 1 2 2 2 2 2 2 2 2 2 2 2\n",
            " 2 2 2 2 2 2 2 2 2 2 2 2 2 2 2 2 2 2 2 2 2 2 2 2 2 2 2 2 2 2 2 2 2 2 2 2 2\n",
            " 2 2]\n"
          ]
        }
      ]
    },
    {
      "cell_type": "markdown",
      "source": [
        "## 3. Construct a training set and a testing set using 80-20 split using random sampling."
      ],
      "metadata": {
        "id": "op2Xh95_VS83"
      }
    },
    {
      "cell_type": "code",
      "source": [
        "import numpy as np\n",
        "import pandas as pd\n",
        "y=data.target\n",
        "x=data.data\n",
        "#print(x)"
      ],
      "metadata": {
        "id": "sY8bt64fVW7Y"
      },
      "execution_count": 65,
      "outputs": []
    },
    {
      "cell_type": "markdown",
      "source": [
        "## 4. Use Logistic Regression as a black box classifier and assess the performance."
      ],
      "metadata": {
        "id": "Hn_mAD5bVX1x"
      }
    },
    {
      "cell_type": "code",
      "source": [
        "# Fitting Logistic Regression to the Training set\n",
        "from sklearn.linear_model import LogisticRegression\n",
        "import matplotlib.pyplot as plt\n",
        "classifier = LogisticRegression(random_state = 0, solver='lbfgs', multi_class='auto')\n",
        "classifier.fit(x, y)\n",
        "\n",
        "# Predicting the Test set results\n",
        "y_pred = classifier.predict(x)\n",
        "print(y_pred)\n",
        "# Predict probabilities\n",
        "probs_y=classifier.predict_proba(x)\n",
        "#print(probs_y)\n",
        "#fig = plt.figure(figsize=(14, 8))\n"
      ],
      "metadata": {
        "id": "GxixZXXjV3tn",
        "colab": {
          "base_uri": "https://localhost:8080/"
        },
        "outputId": "38beb5b0-09f8-4bd5-c123-6880c30cec47"
      },
      "execution_count": 67,
      "outputs": [
        {
          "output_type": "stream",
          "name": "stdout",
          "text": [
            "[0 0 0 0 0 0 0 0 0 0 0 0 0 0 0 0 0 0 0 0 0 0 0 0 0 0 0 0 0 0 0 0 0 0 0 0 0\n",
            " 0 0 0 0 0 0 0 0 0 0 0 0 0 1 1 1 1 1 1 1 1 1 1 1 1 1 1 1 1 1 1 1 1 2 1 1 1\n",
            " 1 1 1 2 1 1 1 1 1 2 1 1 1 1 1 1 1 1 1 1 1 1 1 1 1 1 2 2 2 2 2 2 1 2 2 2 2\n",
            " 2 2 2 2 2 2 2 2 2 2 2 2 2 2 2 2 2 2 2 2 2 2 2 2 2 2 2 2 2 2 2 2 2 2 2 2 2\n",
            " 2 2]\n"
          ]
        },
        {
          "output_type": "stream",
          "name": "stderr",
          "text": [
            "/usr/local/lib/python3.8/dist-packages/sklearn/linear_model/_logistic.py:814: ConvergenceWarning: lbfgs failed to converge (status=1):\n",
            "STOP: TOTAL NO. of ITERATIONS REACHED LIMIT.\n",
            "\n",
            "Increase the number of iterations (max_iter) or scale the data as shown in:\n",
            "    https://scikit-learn.org/stable/modules/preprocessing.html\n",
            "Please also refer to the documentation for alternative solver options:\n",
            "    https://scikit-learn.org/stable/modules/linear_model.html#logistic-regression\n",
            "  n_iter_i = _check_optimize_result(\n"
          ]
        }
      ]
    },
    {
      "cell_type": "code",
      "source": [
        "data.target"
      ],
      "metadata": {
        "colab": {
          "base_uri": "https://localhost:8080/"
        },
        "id": "h_BdrGgj7PUN",
        "outputId": "de83309b-3e99-4c39-aad3-ddc33a54a68c"
      },
      "execution_count": 59,
      "outputs": [
        {
          "output_type": "execute_result",
          "data": {
            "text/plain": [
              "array([1, 1, 1, 1, 1, 1, 1, 1, 1, 1, 1, 1, 1, 1, 1, 1, 1, 1, 1, 1, 1, 1,\n",
              "       1, 1, 1, 1, 1, 1, 1, 1, 1, 1, 1, 1, 1, 1, 1, 1, 1, 1, 1, 1, 1, 1,\n",
              "       1, 1, 1, 1, 1, 1, 1, 1, 1, 1, 1, 1, 1, 1, 1, 1, 1, 1, 1, 1, 1, 1,\n",
              "       1, 1, 1, 1, 1, 1, 1, 1, 1, 1, 1, 1, 1, 1, 1, 1, 1, 1, 1, 1, 1, 1,\n",
              "       1, 1, 1, 1, 1, 1, 1, 1, 1, 1, 1, 1, 2, 2, 2, 2, 2, 2, 2, 2, 2, 2,\n",
              "       2, 2, 2, 2, 2, 2, 2, 2, 2, 2, 2, 2, 2, 2, 2, 2, 2, 2, 2, 2, 2, 2,\n",
              "       2, 2, 2, 2, 2, 2, 2, 2, 2, 2, 2, 2, 2, 2, 2, 2, 2, 2])"
            ]
          },
          "metadata": {},
          "execution_count": 59
        }
      ]
    },
    {
      "cell_type": "code",
      "source": [
        "data = np.column_stack([x,y]) \n",
        "df = pd.DataFrame(data, columns =['A', 'B', 'C','D','E'])\n",
        "df"
      ],
      "metadata": {
        "colab": {
          "base_uri": "https://localhost:8080/",
          "height": 424
        },
        "id": "eSaZRmUazBf5",
        "outputId": "ca054457-eb82-4eb1-adc0-1e8f2ed47e89"
      },
      "execution_count": 60,
      "outputs": [
        {
          "output_type": "execute_result",
          "data": {
            "text/plain": [
              "       A    B    C    D    E\n",
              "0    5.1  3.5  1.4  0.2  1.0\n",
              "1    4.9  3.0  1.4  0.2  1.0\n",
              "2    4.7  3.2  1.3  0.2  1.0\n",
              "3    4.6  3.1  1.5  0.2  1.0\n",
              "4    5.0  3.6  1.4  0.2  1.0\n",
              "..   ...  ...  ...  ...  ...\n",
              "145  6.7  3.0  5.2  2.3  2.0\n",
              "146  6.3  2.5  5.0  1.9  2.0\n",
              "147  6.5  3.0  5.2  2.0  2.0\n",
              "148  6.2  3.4  5.4  2.3  2.0\n",
              "149  5.9  3.0  5.1  1.8  2.0\n",
              "\n",
              "[150 rows x 5 columns]"
            ],
            "text/html": [
              "\n",
              "  <div id=\"df-7e04ab3f-72c0-449e-8843-a260852a4723\">\n",
              "    <div class=\"colab-df-container\">\n",
              "      <div>\n",
              "<style scoped>\n",
              "    .dataframe tbody tr th:only-of-type {\n",
              "        vertical-align: middle;\n",
              "    }\n",
              "\n",
              "    .dataframe tbody tr th {\n",
              "        vertical-align: top;\n",
              "    }\n",
              "\n",
              "    .dataframe thead th {\n",
              "        text-align: right;\n",
              "    }\n",
              "</style>\n",
              "<table border=\"1\" class=\"dataframe\">\n",
              "  <thead>\n",
              "    <tr style=\"text-align: right;\">\n",
              "      <th></th>\n",
              "      <th>A</th>\n",
              "      <th>B</th>\n",
              "      <th>C</th>\n",
              "      <th>D</th>\n",
              "      <th>E</th>\n",
              "    </tr>\n",
              "  </thead>\n",
              "  <tbody>\n",
              "    <tr>\n",
              "      <th>0</th>\n",
              "      <td>5.1</td>\n",
              "      <td>3.5</td>\n",
              "      <td>1.4</td>\n",
              "      <td>0.2</td>\n",
              "      <td>1.0</td>\n",
              "    </tr>\n",
              "    <tr>\n",
              "      <th>1</th>\n",
              "      <td>4.9</td>\n",
              "      <td>3.0</td>\n",
              "      <td>1.4</td>\n",
              "      <td>0.2</td>\n",
              "      <td>1.0</td>\n",
              "    </tr>\n",
              "    <tr>\n",
              "      <th>2</th>\n",
              "      <td>4.7</td>\n",
              "      <td>3.2</td>\n",
              "      <td>1.3</td>\n",
              "      <td>0.2</td>\n",
              "      <td>1.0</td>\n",
              "    </tr>\n",
              "    <tr>\n",
              "      <th>3</th>\n",
              "      <td>4.6</td>\n",
              "      <td>3.1</td>\n",
              "      <td>1.5</td>\n",
              "      <td>0.2</td>\n",
              "      <td>1.0</td>\n",
              "    </tr>\n",
              "    <tr>\n",
              "      <th>4</th>\n",
              "      <td>5.0</td>\n",
              "      <td>3.6</td>\n",
              "      <td>1.4</td>\n",
              "      <td>0.2</td>\n",
              "      <td>1.0</td>\n",
              "    </tr>\n",
              "    <tr>\n",
              "      <th>...</th>\n",
              "      <td>...</td>\n",
              "      <td>...</td>\n",
              "      <td>...</td>\n",
              "      <td>...</td>\n",
              "      <td>...</td>\n",
              "    </tr>\n",
              "    <tr>\n",
              "      <th>145</th>\n",
              "      <td>6.7</td>\n",
              "      <td>3.0</td>\n",
              "      <td>5.2</td>\n",
              "      <td>2.3</td>\n",
              "      <td>2.0</td>\n",
              "    </tr>\n",
              "    <tr>\n",
              "      <th>146</th>\n",
              "      <td>6.3</td>\n",
              "      <td>2.5</td>\n",
              "      <td>5.0</td>\n",
              "      <td>1.9</td>\n",
              "      <td>2.0</td>\n",
              "    </tr>\n",
              "    <tr>\n",
              "      <th>147</th>\n",
              "      <td>6.5</td>\n",
              "      <td>3.0</td>\n",
              "      <td>5.2</td>\n",
              "      <td>2.0</td>\n",
              "      <td>2.0</td>\n",
              "    </tr>\n",
              "    <tr>\n",
              "      <th>148</th>\n",
              "      <td>6.2</td>\n",
              "      <td>3.4</td>\n",
              "      <td>5.4</td>\n",
              "      <td>2.3</td>\n",
              "      <td>2.0</td>\n",
              "    </tr>\n",
              "    <tr>\n",
              "      <th>149</th>\n",
              "      <td>5.9</td>\n",
              "      <td>3.0</td>\n",
              "      <td>5.1</td>\n",
              "      <td>1.8</td>\n",
              "      <td>2.0</td>\n",
              "    </tr>\n",
              "  </tbody>\n",
              "</table>\n",
              "<p>150 rows × 5 columns</p>\n",
              "</div>\n",
              "      <button class=\"colab-df-convert\" onclick=\"convertToInteractive('df-7e04ab3f-72c0-449e-8843-a260852a4723')\"\n",
              "              title=\"Convert this dataframe to an interactive table.\"\n",
              "              style=\"display:none;\">\n",
              "        \n",
              "  <svg xmlns=\"http://www.w3.org/2000/svg\" height=\"24px\"viewBox=\"0 0 24 24\"\n",
              "       width=\"24px\">\n",
              "    <path d=\"M0 0h24v24H0V0z\" fill=\"none\"/>\n",
              "    <path d=\"M18.56 5.44l.94 2.06.94-2.06 2.06-.94-2.06-.94-.94-2.06-.94 2.06-2.06.94zm-11 1L8.5 8.5l.94-2.06 2.06-.94-2.06-.94L8.5 2.5l-.94 2.06-2.06.94zm10 10l.94 2.06.94-2.06 2.06-.94-2.06-.94-.94-2.06-.94 2.06-2.06.94z\"/><path d=\"M17.41 7.96l-1.37-1.37c-.4-.4-.92-.59-1.43-.59-.52 0-1.04.2-1.43.59L10.3 9.45l-7.72 7.72c-.78.78-.78 2.05 0 2.83L4 21.41c.39.39.9.59 1.41.59.51 0 1.02-.2 1.41-.59l7.78-7.78 2.81-2.81c.8-.78.8-2.07 0-2.86zM5.41 20L4 18.59l7.72-7.72 1.47 1.35L5.41 20z\"/>\n",
              "  </svg>\n",
              "      </button>\n",
              "      \n",
              "  <style>\n",
              "    .colab-df-container {\n",
              "      display:flex;\n",
              "      flex-wrap:wrap;\n",
              "      gap: 12px;\n",
              "    }\n",
              "\n",
              "    .colab-df-convert {\n",
              "      background-color: #E8F0FE;\n",
              "      border: none;\n",
              "      border-radius: 50%;\n",
              "      cursor: pointer;\n",
              "      display: none;\n",
              "      fill: #1967D2;\n",
              "      height: 32px;\n",
              "      padding: 0 0 0 0;\n",
              "      width: 32px;\n",
              "    }\n",
              "\n",
              "    .colab-df-convert:hover {\n",
              "      background-color: #E2EBFA;\n",
              "      box-shadow: 0px 1px 2px rgba(60, 64, 67, 0.3), 0px 1px 3px 1px rgba(60, 64, 67, 0.15);\n",
              "      fill: #174EA6;\n",
              "    }\n",
              "\n",
              "    [theme=dark] .colab-df-convert {\n",
              "      background-color: #3B4455;\n",
              "      fill: #D2E3FC;\n",
              "    }\n",
              "\n",
              "    [theme=dark] .colab-df-convert:hover {\n",
              "      background-color: #434B5C;\n",
              "      box-shadow: 0px 1px 3px 1px rgba(0, 0, 0, 0.15);\n",
              "      filter: drop-shadow(0px 1px 2px rgba(0, 0, 0, 0.3));\n",
              "      fill: #FFFFFF;\n",
              "    }\n",
              "  </style>\n",
              "\n",
              "      <script>\n",
              "        const buttonEl =\n",
              "          document.querySelector('#df-7e04ab3f-72c0-449e-8843-a260852a4723 button.colab-df-convert');\n",
              "        buttonEl.style.display =\n",
              "          google.colab.kernel.accessAllowed ? 'block' : 'none';\n",
              "\n",
              "        async function convertToInteractive(key) {\n",
              "          const element = document.querySelector('#df-7e04ab3f-72c0-449e-8843-a260852a4723');\n",
              "          const dataTable =\n",
              "            await google.colab.kernel.invokeFunction('convertToInteractive',\n",
              "                                                     [key], {});\n",
              "          if (!dataTable) return;\n",
              "\n",
              "          const docLinkHtml = 'Like what you see? Visit the ' +\n",
              "            '<a target=\"_blank\" href=https://colab.research.google.com/notebooks/data_table.ipynb>data table notebook</a>'\n",
              "            + ' to learn more about interactive tables.';\n",
              "          element.innerHTML = '';\n",
              "          dataTable['output_type'] = 'display_data';\n",
              "          await google.colab.output.renderOutput(dataTable, element);\n",
              "          const docLink = document.createElement('div');\n",
              "          docLink.innerHTML = docLinkHtml;\n",
              "          element.appendChild(docLink);\n",
              "        }\n",
              "      </script>\n",
              "    </div>\n",
              "  </div>\n",
              "  "
            ]
          },
          "metadata": {},
          "execution_count": 60
        }
      ]
    },
    {
      "cell_type": "markdown",
      "source": [
        "## 5. Implement stratified sampling, again using the 80-20 split. Decide the stratification variable and explain your choice."
      ],
      "metadata": {
        "id": "Mqnqyj06V5bs"
      }
    },
    {
      "cell_type": "code",
      "source": [
        "#Stratified sampling\n",
        "from sklearn.model_selection import StratifiedShuffleSplit\n",
        "split = StratifiedShuffleSplit(n_splits=1, test_size=0.2, random_state=42)\n",
        "for train_index, test_index in split.split(df, df['E']):\n",
        "    strat_train_data = df.loc[train_index]\n",
        "    strat_test_data = df.loc[test_index]\n",
        "#print(strat_test_data)"
      ],
      "metadata": {
        "id": "VqkFW4BgV7x3"
      },
      "execution_count": 61,
      "outputs": []
    },
    {
      "cell_type": "markdown",
      "source": [
        "## 6. Re-assess the performance. Comment on any changes from the random sampling case. If there is no significant change, comment on why or why not?"
      ],
      "metadata": {
        "id": "2NDZQWq0V8Ne"
      }
    },
    {
      "cell_type": "code",
      "source": [
        "# Fitting Logistic Regression to the Training set\n",
        "from sklearn.linear_model import LogisticRegression\n",
        "import matplotlib.pyplot as plt\n",
        "classifier = LogisticRegression(random_state = 0, solver='lbfgs', multi_class='auto')\n",
        "classifier.fit(x, y)\n",
        "\n",
        "# Predicting the Test set results\n",
        "y_pred = classifier.predict(x)\n",
        "print(y_pred)\n",
        "# Predict probabilities\n",
        "probs_y=classifier.predict_proba(x)\n",
        "#print(probs_y)\n",
        "fig = plt.figure(figsize=(14, 8))\n"
      ],
      "metadata": {
        "id": "v4DOjn7TV_Kr",
        "colab": {
          "base_uri": "https://localhost:8080/",
          "height": 280
        },
        "outputId": "ab237fa0-d1a0-4f7a-a370-c3bdddaba85a"
      },
      "execution_count": 68,
      "outputs": [
        {
          "output_type": "stream",
          "name": "stdout",
          "text": [
            "[0 0 0 0 0 0 0 0 0 0 0 0 0 0 0 0 0 0 0 0 0 0 0 0 0 0 0 0 0 0 0 0 0 0 0 0 0\n",
            " 0 0 0 0 0 0 0 0 0 0 0 0 0 1 1 1 1 1 1 1 1 1 1 1 1 1 1 1 1 1 1 1 1 2 1 1 1\n",
            " 1 1 1 2 1 1 1 1 1 2 1 1 1 1 1 1 1 1 1 1 1 1 1 1 1 1 2 2 2 2 2 2 1 2 2 2 2\n",
            " 2 2 2 2 2 2 2 2 2 2 2 2 2 2 2 2 2 2 2 2 2 2 2 2 2 2 2 2 2 2 2 2 2 2 2 2 2\n",
            " 2 2]\n"
          ]
        },
        {
          "output_type": "stream",
          "name": "stderr",
          "text": [
            "/usr/local/lib/python3.8/dist-packages/sklearn/linear_model/_logistic.py:814: ConvergenceWarning: lbfgs failed to converge (status=1):\n",
            "STOP: TOTAL NO. of ITERATIONS REACHED LIMIT.\n",
            "\n",
            "Increase the number of iterations (max_iter) or scale the data as shown in:\n",
            "    https://scikit-learn.org/stable/modules/preprocessing.html\n",
            "Please also refer to the documentation for alternative solver options:\n",
            "    https://scikit-learn.org/stable/modules/linear_model.html#logistic-regression\n",
            "  n_iter_i = _check_optimize_result(\n"
          ]
        },
        {
          "output_type": "display_data",
          "data": {
            "text/plain": [
              "<Figure size 1008x576 with 0 Axes>"
            ]
          },
          "metadata": {}
        }
      ]
    }
  ]
}