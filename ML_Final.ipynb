{
  "nbformat": 4,
  "nbformat_minor": 0,
  "metadata": {
    "colab": {
      "provenance": [],
      "authorship_tag": "ABX9TyOCLr6e2+myZ+7k1tmwu/Ji",
      "include_colab_link": true
    },
    "kernelspec": {
      "name": "python3",
      "display_name": "Python 3"
    },
    "language_info": {
      "name": "python"
    }
  },
  "cells": [
    {
      "cell_type": "markdown",
      "metadata": {
        "id": "view-in-github",
        "colab_type": "text"
      },
      "source": [
        "<a href=\"https://colab.research.google.com/github/vivek6311/Artificial-Intelligence-with-Python/blob/master/ML_Final.ipynb\" target=\"_parent\"><img src=\"https://colab.research.google.com/assets/colab-badge.svg\" alt=\"Open In Colab\"/></a>"
      ]
    },
    {
      "cell_type": "code",
      "execution_count": null,
      "metadata": {
        "id": "GGEoBAHLlWIc"
      },
      "outputs": [],
      "source": [
        "import numpy as np\n",
        "import pandas as pd\n"
      ]
    },
    {
      "cell_type": "code",
      "source": [
        "A=np.array( [[0.7820,0.7190,0.5210,0.6280,0.8640,0.5630],\n",
        "[1.0750,0.8780,0.6030,0.9290,1.0630,0.8520],\n",
        "[1.1250,0.7250,0.4340,1.0860,0.8930,1.0280],\n",
        "[0.6600,0.7770,0.6130,0.4290,0.9210,0.3540],\n",
        "[0.3600,0.3080,0.2160,0.3020,0.3710,0.2750],\n",
        "[1.2270,0.8830,0.5680,1.1300,1.0790,1.0560],\n",
        "[0.5520,0.3850,0.2430,0.5160,0.4710,0.4840]])\n"
      ],
      "metadata": {
        "id": "ko9JQXzKnOAL"
      },
      "execution_count": null,
      "outputs": []
    },
    {
      "cell_type": "code",
      "source": [
        "A"
      ],
      "metadata": {
        "colab": {
          "base_uri": "https://localhost:8080/"
        },
        "id": "akwAP9i_oBp3",
        "outputId": "db36c8fa-0f92-46a4-eaf1-54232f81f8f7"
      },
      "execution_count": null,
      "outputs": [
        {
          "output_type": "execute_result",
          "data": {
            "text/plain": [
              "array([[0.782, 0.719, 0.521, 0.628, 0.864, 0.563],\n",
              "       [1.075, 0.878, 0.603, 0.929, 1.063, 0.852],\n",
              "       [1.125, 0.725, 0.434, 1.086, 0.893, 1.028],\n",
              "       [0.66 , 0.777, 0.613, 0.429, 0.921, 0.354],\n",
              "       [0.36 , 0.308, 0.216, 0.302, 0.371, 0.275],\n",
              "       [1.227, 0.883, 0.568, 1.13 , 1.079, 1.056],\n",
              "       [0.552, 0.385, 0.243, 0.516, 0.471, 0.484]])"
            ]
          },
          "metadata": {},
          "execution_count": 59
        }
      ]
    },
    {
      "cell_type": "code",
      "source": [
        "u,s, v= np.linalg.svd(A)"
      ],
      "metadata": {
        "id": "7YlOeZvLoLw_"
      },
      "execution_count": null,
      "outputs": []
    },
    {
      "cell_type": "code",
      "source": [
        "v=v.T\n",
        "v"
      ],
      "metadata": {
        "colab": {
          "base_uri": "https://localhost:8080/"
        },
        "id": "lwe_ITYBInG5",
        "outputId": "12a40687-b02e-45c1-8a71-e06ca3214f30"
      },
      "execution_count": null,
      "outputs": [
        {
          "output_type": "execute_result",
          "data": {
            "text/plain": [
              "array([[-0.48442184, -0.38308146, -0.2591655 , -0.42580257, -0.46472818,\n",
              "        -0.39260312],\n",
              "       [-0.16059866,  0.38933784,  0.43998183, -0.44663438,  0.42895582,\n",
              "        -0.4955348 ],\n",
              "       [-0.62649115, -0.38363632, -0.01603745,  0.3049619 ,  0.59270683,\n",
              "         0.12558531],\n",
              "       [-0.03888381,  0.43209899, -0.83925185, -0.14686162,  0.29294352,\n",
              "        -0.00711374],\n",
              "       [-0.49830556,  0.57509402,  0.09600182,  0.50105104, -0.39040238,\n",
              "        -0.09097216],\n",
              "       [ 0.31182048, -0.19247116, -0.15947422,  0.50357489,  0.10243688,\n",
              "        -0.75908487]])"
            ]
          },
          "metadata": {},
          "execution_count": 84
        }
      ]
    },
    {
      "cell_type": "code",
      "source": [
        "#print(u)\n",
        "np.around([u], decimals=2)"
      ],
      "metadata": {
        "colab": {
          "base_uri": "https://localhost:8080/"
        },
        "id": "IyyljWyLoPPm",
        "outputId": "1d041780-b4f7-4465-fc1c-c2260392034e"
      },
      "execution_count": null,
      "outputs": [
        {
          "output_type": "execute_result",
          "data": {
            "text/plain": [
              "array([[[-0.35,  0.3 ,  0.24, -0.18, -0.08, -0.73, -0.39],\n",
              "        [-0.47,  0.08,  0.42,  0.68,  0.29,  0.08,  0.23],\n",
              "        [-0.46, -0.49, -0.36,  0.14,  0.02,  0.19, -0.6 ],\n",
              "        [-0.32,  0.76, -0.26, -0.17,  0.  ,  0.47, -0.1 ],\n",
              "        [-0.16,  0.07, -0.71,  0.3 , -0.16, -0.41,  0.43],\n",
              "        [-0.52, -0.26,  0.21, -0.39, -0.53,  0.14,  0.42],\n",
              "        [-0.23, -0.15, -0.13, -0.47,  0.78, -0.1 ,  0.26]]])"
            ]
          },
          "metadata": {},
          "execution_count": 73
        }
      ]
    },
    {
      "cell_type": "code",
      "source": [
        "np.around([s], decimals=3)\n",
        "print(s)"
      ],
      "metadata": {
        "colab": {
          "base_uri": "https://localhost:8080/"
        },
        "id": "GUAV3_lhsHR8",
        "outputId": "52288d71-db99-46ce-96d5-d10488c30b2a"
      },
      "execution_count": null,
      "outputs": [
        {
          "output_type": "stream",
          "name": "stdout",
          "text": [
            "[4.79578924e+00 6.53591704e-01 8.89568036e-04 6.17694732e-04\n",
            " 3.93943309e-04 3.31942081e-04]\n"
          ]
        }
      ]
    },
    {
      "cell_type": "code",
      "source": [
        "s_prime = np.zeros(s.shape[0])"
      ],
      "metadata": {
        "id": "dg7SpF17JCbL"
      },
      "execution_count": null,
      "outputs": []
    },
    {
      "cell_type": "code",
      "source": [
        "r = 5\n",
        "s_prime[:r]=s[:r]"
      ],
      "metadata": {
        "id": "zpF_IKl1JEXB"
      },
      "execution_count": null,
      "outputs": []
    },
    {
      "cell_type": "code",
      "source": [
        "s_prime"
      ],
      "metadata": {
        "colab": {
          "base_uri": "https://localhost:8080/"
        },
        "id": "flPC3tEoJI_Z",
        "outputId": "b1c9058a-9c89-4ce1-ae2a-2b21bb85f2e6"
      },
      "execution_count": null,
      "outputs": [
        {
          "output_type": "execute_result",
          "data": {
            "text/plain": [
              "array([4.79578924e+00, 6.53591704e-01, 8.89568036e-04, 6.17694732e-04,\n",
              "       3.93943309e-04, 0.00000000e+00])"
            ]
          },
          "metadata": {},
          "execution_count": 116
        }
      ]
    },
    {
      "cell_type": "code",
      "source": [
        "rank_1= u @ (s_prime * np.eye(7,6)) @ v"
      ],
      "metadata": {
        "id": "kDClNo_PJaVi"
      },
      "execution_count": null,
      "outputs": []
    },
    {
      "cell_type": "code",
      "source": [
        "rank_1"
      ],
      "metadata": {
        "colab": {
          "base_uri": "https://localhost:8080/"
        },
        "id": "m0EJETvUJqVp",
        "outputId": "cd08461b-257a-4160-d1d1-867266e74fec"
      },
      "execution_count": null,
      "outputs": [
        {
          "output_type": "execute_result",
          "data": {
            "text/plain": [
              "array([[0.78207593, 0.71895313, 0.52096117, 0.62812262, 0.86402494,\n",
              "        0.56281516],\n",
              "       [1.07499203, 0.87800492, 0.60300407, 0.92898714, 1.06299738,\n",
              "        0.85201939],\n",
              "       [1.12498009, 0.72501229, 0.43401018, 1.08596785, 0.89299346,\n",
              "        1.02804847],\n",
              "       [0.65995146, 0.77702996, 0.61302483, 0.4289216 , 0.92098405,\n",
              "        0.35411817],\n",
              "       [0.36004266, 0.30797367, 0.21597818, 0.3020689 , 0.37101402,\n",
              "        0.27489614],\n",
              "       [1.22698574, 0.8830088 , 0.56800729, 1.12997697, 1.07899532,\n",
              "        1.05603471],\n",
              "       [0.55201041, 0.38499357, 0.24299467, 0.51601682, 0.47100342,\n",
              "        0.48397465]])"
            ]
          },
          "metadata": {},
          "execution_count": 118
        }
      ]
    },
    {
      "cell_type": "code",
      "source": [
        "print(v)"
      ],
      "metadata": {
        "colab": {
          "base_uri": "https://localhost:8080/"
        },
        "id": "Lbce5KTQsHNL",
        "outputId": "d1a145f5-5048-4bbd-9ec7-428aba3b728e"
      },
      "execution_count": null,
      "outputs": [
        {
          "output_type": "stream",
          "name": "stdout",
          "text": [
            "[[-0.48442184 -0.16059866 -0.62649115 -0.03888381 -0.49830556  0.31182048]\n",
            " [-0.38308146  0.38933784 -0.38363632  0.43209899  0.57509402 -0.19247116]\n",
            " [-0.2591655   0.43998183 -0.01603745 -0.83925185  0.09600182 -0.15947422]\n",
            " [-0.42580257 -0.44663438  0.3049619  -0.14686162  0.50105104  0.50357489]\n",
            " [-0.46472818  0.42895582  0.59270683  0.29294352 -0.39040238  0.10243688]\n",
            " [-0.39260312 -0.4955348   0.12558531 -0.00711374 -0.09097216 -0.75908487]]\n"
          ]
        }
      ]
    },
    {
      "cell_type": "code",
      "source": [
        "pd.Series(s)"
      ],
      "metadata": {
        "colab": {
          "base_uri": "https://localhost:8080/"
        },
        "id": "2u70OfM_CW1w",
        "outputId": "62f8c0d6-2a7b-4cca-f2c1-3d753f0460d6"
      },
      "execution_count": null,
      "outputs": [
        {
          "output_type": "execute_result",
          "data": {
            "text/plain": [
              "0    4.795789\n",
              "1    0.653592\n",
              "2    0.000890\n",
              "3    0.000618\n",
              "4    0.000394\n",
              "5    0.000332\n",
              "dtype: float64"
            ]
          },
          "metadata": {},
          "execution_count": 76
        }
      ]
    },
    {
      "cell_type": "markdown",
      "source": [
        "Question-2"
      ],
      "metadata": {
        "id": "jqA6joZhsIWL"
      }
    },
    {
      "cell_type": "code",
      "source": [
        "B= np.array([[4.4300, 2.9200, 3.6800, 3.9300, 3.4200, 4.0500, 3.3000],\n",
        "[1.5800, 1.9300, 1.7600, 1.7000, 1.8200, 1.6700, 1.8400],\n",
        "[0.4400, 0.5500, 0.4900, 0.4800, 0.5100, 0.4700, 0.5200],\n",
        "[7.4400, 5.4200, 6.4300, 6.7600, 6.0900, 6.9300, 5.9300],\n",
        "[4.7400, 6.3400, 5.5400, 5.2700, 5.8100, 5.1400, 5.9400],\n",
        "[6.1500, 8.1200, 7.1400, 6.8100, 7.4600, 6.6500, 7.6300],\n",
        "[3.1600, 3.7400, 3.4500, 3.3500, 3.5400, 3.3000, 3.5900],\n",
        "[7.1600, 4.9400, 6.0500, 6.4200, 5.6800, 6.6100, 5.5000],\n",
        "[2.8200, 7.4500, 5.1300, 4.3600, 5.9100, 3.9700, 6.2900],\n",
        "[6.1900, 6.3800, 6.2900, 6.2500, 6.3200, 6.2400, 6.3400]])"
      ],
      "metadata": {
        "id": "tS0KnMZxsJ06"
      },
      "execution_count": null,
      "outputs": []
    },
    {
      "cell_type": "code",
      "source": [
        "B"
      ],
      "metadata": {
        "colab": {
          "base_uri": "https://localhost:8080/"
        },
        "id": "JwjFuxIXtD-7",
        "outputId": "7f9495d9-d1ed-4c64-eaf2-497b51ff673d"
      },
      "execution_count": null,
      "outputs": [
        {
          "output_type": "execute_result",
          "data": {
            "text/plain": [
              "array([[4.43, 2.92, 3.68, 3.93, 3.42, 4.05, 3.3 ],\n",
              "       [1.58, 1.93, 1.76, 1.7 , 1.82, 1.67, 1.84],\n",
              "       [0.44, 0.55, 0.49, 0.48, 0.51, 0.47, 0.52],\n",
              "       [7.44, 5.42, 6.43, 6.76, 6.09, 6.93, 5.93],\n",
              "       [4.74, 6.34, 5.54, 5.27, 5.81, 5.14, 5.94],\n",
              "       [6.15, 8.12, 7.14, 6.81, 7.46, 6.65, 7.63],\n",
              "       [3.16, 3.74, 3.45, 3.35, 3.54, 3.3 , 3.59],\n",
              "       [7.16, 4.94, 6.05, 6.42, 5.68, 6.61, 5.5 ],\n",
              "       [2.82, 7.45, 5.13, 4.36, 5.91, 3.97, 6.29],\n",
              "       [6.19, 6.38, 6.29, 6.25, 6.32, 6.24, 6.34]])"
            ]
          },
          "metadata": {},
          "execution_count": 21
        }
      ]
    },
    {
      "cell_type": "code",
      "source": [],
      "metadata": {
        "id": "BYcdQ48H7vbG"
      },
      "execution_count": null,
      "outputs": []
    },
    {
      "cell_type": "code",
      "source": [
        "X=B[:, [0,1,2,3,4,5]]\n",
        "print(X)"
      ],
      "metadata": {
        "colab": {
          "base_uri": "https://localhost:8080/"
        },
        "id": "vuleSyK5tFTa",
        "outputId": "87cc5849-55b5-4548-bbdf-c6198eab2088"
      },
      "execution_count": null,
      "outputs": [
        {
          "output_type": "stream",
          "name": "stdout",
          "text": [
            "[[4.43 2.92 3.68 3.93 3.42 4.05]\n",
            " [1.58 1.93 1.76 1.7  1.82 1.67]\n",
            " [0.44 0.55 0.49 0.48 0.51 0.47]\n",
            " [7.44 5.42 6.43 6.76 6.09 6.93]\n",
            " [4.74 6.34 5.54 5.27 5.81 5.14]\n",
            " [6.15 8.12 7.14 6.81 7.46 6.65]\n",
            " [3.16 3.74 3.45 3.35 3.54 3.3 ]\n",
            " [7.16 4.94 6.05 6.42 5.68 6.61]\n",
            " [2.82 7.45 5.13 4.36 5.91 3.97]\n",
            " [6.19 6.38 6.29 6.25 6.32 6.24]]\n"
          ]
        }
      ]
    },
    {
      "cell_type": "code",
      "source": [
        "y=B[:, [6]]\n",
        "print(y)"
      ],
      "metadata": {
        "colab": {
          "base_uri": "https://localhost:8080/"
        },
        "id": "cgcYMQcGukYL",
        "outputId": "51aa451a-9b43-4f14-916a-cfeedbcf3d24"
      },
      "execution_count": null,
      "outputs": [
        {
          "output_type": "stream",
          "name": "stdout",
          "text": [
            "[[3.3 ]\n",
            " [1.84]\n",
            " [0.52]\n",
            " [5.93]\n",
            " [5.94]\n",
            " [7.63]\n",
            " [3.59]\n",
            " [5.5 ]\n",
            " [6.29]\n",
            " [6.34]]\n"
          ]
        }
      ]
    },
    {
      "cell_type": "code",
      "source": [
        "input_data=X\n",
        "output_data= y"
      ],
      "metadata": {
        "id": "D5MO6XrBu1rh"
      },
      "execution_count": null,
      "outputs": []
    },
    {
      "cell_type": "code",
      "source": [
        "# Implement Ridge Regression.\n",
        "from sklearn.linear_model import Ridge\n",
        "\n",
        "model = Ridge(alpha=0.1)\n",
        "\n",
        "# Fit the model to the data\n",
        "model.fit(input_data, output_data)\n",
        "\n",
        "# Predict target values for the input data\n",
        "#y_pred = model.predict(x_test)\n",
        "#print(y_pred)\n",
        "print(model.score(input_data, output_data))"
      ],
      "metadata": {
        "colab": {
          "base_uri": "https://localhost:8080/"
        },
        "id": "ydCFS1khvAhy",
        "outputId": "711f8e70-2cdc-4870-de3d-ce315e899da2"
      },
      "execution_count": null,
      "outputs": [
        {
          "output_type": "stream",
          "name": "stdout",
          "text": [
            "0.9999978560428622\n"
          ]
        }
      ]
    },
    {
      "cell_type": "code",
      "source": [
        "C=X.transpose()\n",
        "C"
      ],
      "metadata": {
        "colab": {
          "base_uri": "https://localhost:8080/"
        },
        "id": "731cAPLkwkV5",
        "outputId": "9a300777-d0ff-4107-bda4-ca399fb1ed5f"
      },
      "execution_count": null,
      "outputs": [
        {
          "output_type": "execute_result",
          "data": {
            "text/plain": [
              "array([[4.43, 1.58, 0.44, 7.44, 4.74, 6.15, 3.16, 7.16, 2.82, 6.19],\n",
              "       [2.92, 1.93, 0.55, 5.42, 6.34, 8.12, 3.74, 4.94, 7.45, 6.38],\n",
              "       [3.68, 1.76, 0.49, 6.43, 5.54, 7.14, 3.45, 6.05, 5.13, 6.29],\n",
              "       [3.93, 1.7 , 0.48, 6.76, 5.27, 6.81, 3.35, 6.42, 4.36, 6.25],\n",
              "       [3.42, 1.82, 0.51, 6.09, 5.81, 7.46, 3.54, 5.68, 5.91, 6.32],\n",
              "       [4.05, 1.67, 0.47, 6.93, 5.14, 6.65, 3.3 , 6.61, 3.97, 6.24]])"
            ]
          },
          "metadata": {},
          "execution_count": 27
        }
      ]
    },
    {
      "cell_type": "code",
      "source": [
        "# D gives X transpose X\n",
        "D=np.dot(C, X)\n",
        "D"
      ],
      "metadata": {
        "colab": {
          "base_uri": "https://localhost:8080/"
        },
        "id": "x9FUkTrUxH5H",
        "outputId": "94598e31-ef18-41c7-c4be-f5ad885ff598"
      },
      "execution_count": null,
      "outputs": [
        {
          "output_type": "execute_result",
          "data": {
            "text/plain": [
              "array([[245.4783, 244.2314, 244.9303, 244.9987, 244.6208, 245.1838],\n",
              "       [244.2314, 282.6583, 263.5016, 256.9696, 269.8478, 253.8369],\n",
              "       [244.9303, 263.5016, 254.2822, 251.0534, 257.2973, 249.5812],\n",
              "       [244.9987, 256.9696, 251.0534, 248.9229, 252.9613, 248.0026],\n",
              "       [244.6208, 269.8478, 257.2973, 252.9613, 261.4292, 250.9325],\n",
              "       [245.1838, 253.8369, 249.5812, 248.0026, 250.9325, 247.3599]])"
            ]
          },
          "metadata": {},
          "execution_count": 30
        }
      ]
    },
    {
      "cell_type": "code",
      "source": [],
      "metadata": {
        "id": "5fyHKZPH0oc1"
      },
      "execution_count": null,
      "outputs": []
    },
    {
      "cell_type": "code",
      "source": [
        "E=np.identity(6)\n",
        "E"
      ],
      "metadata": {
        "colab": {
          "base_uri": "https://localhost:8080/"
        },
        "id": "p9l1EhvUydzf",
        "outputId": "579b395c-93d4-4c4a-b724-ec12d9abca9a"
      },
      "execution_count": null,
      "outputs": [
        {
          "output_type": "execute_result",
          "data": {
            "text/plain": [
              "array([[1., 0., 0., 0., 0., 0.],\n",
              "       [0., 1., 0., 0., 0., 0.],\n",
              "       [0., 0., 1., 0., 0., 0.],\n",
              "       [0., 0., 0., 1., 0., 0.],\n",
              "       [0., 0., 0., 0., 1., 0.],\n",
              "       [0., 0., 0., 0., 0., 1.]])"
            ]
          },
          "metadata": {},
          "execution_count": 39
        }
      ]
    },
    {
      "cell_type": "code",
      "source": [
        "lam=0.1\n",
        "E=lam*E\n",
        "E"
      ],
      "metadata": {
        "colab": {
          "base_uri": "https://localhost:8080/"
        },
        "id": "4miSG8Sdy3RW",
        "outputId": "a046fc9c-8231-47c3-e57b-a36b5e053b33"
      },
      "execution_count": null,
      "outputs": [
        {
          "output_type": "execute_result",
          "data": {
            "text/plain": [
              "array([[0.1, 0. , 0. , 0. , 0. , 0. ],\n",
              "       [0. , 0.1, 0. , 0. , 0. , 0. ],\n",
              "       [0. , 0. , 0.1, 0. , 0. , 0. ],\n",
              "       [0. , 0. , 0. , 0.1, 0. , 0. ],\n",
              "       [0. , 0. , 0. , 0. , 0.1, 0. ],\n",
              "       [0. , 0. , 0. , 0. , 0. , 0.1]])"
            ]
          },
          "metadata": {},
          "execution_count": 42
        }
      ]
    },
    {
      "cell_type": "code",
      "source": [
        "z=D+E\n",
        "z"
      ],
      "metadata": {
        "colab": {
          "base_uri": "https://localhost:8080/"
        },
        "id": "-exIJQgyzPFl",
        "outputId": "522cdf06-aec1-4d6f-ca72-fc4d56a13daf"
      },
      "execution_count": null,
      "outputs": [
        {
          "output_type": "execute_result",
          "data": {
            "text/plain": [
              "array([[245.5783, 244.2314, 244.9303, 244.9987, 244.6208, 245.1838],\n",
              "       [244.2314, 282.7583, 263.5016, 256.9696, 269.8478, 253.8369],\n",
              "       [244.9303, 263.5016, 254.3822, 251.0534, 257.2973, 249.5812],\n",
              "       [244.9987, 256.9696, 251.0534, 249.0229, 252.9613, 248.0026],\n",
              "       [244.6208, 269.8478, 257.2973, 252.9613, 261.5292, 250.9325],\n",
              "       [245.1838, 253.8369, 249.5812, 248.0026, 250.9325, 247.4599]])"
            ]
          },
          "metadata": {},
          "execution_count": 43
        }
      ]
    },
    {
      "cell_type": "code",
      "source": [
        "Inverse= np.linalg.inv(z)\n",
        "Inverse"
      ],
      "metadata": {
        "colab": {
          "base_uri": "https://localhost:8080/"
        },
        "id": "KfKU_U9S1UP0",
        "outputId": "d036d6f5-8b61-4c33-8739-ebe5bac424a5"
      },
      "execution_count": null,
      "outputs": [
        {
          "output_type": "execute_result",
          "data": {
            "text/plain": [
              "array([[ 4.88943648,  2.39681362, -1.35698973, -2.60117717, -0.09865945,\n",
              "        -3.22749531],\n",
              "       [ 2.39681362,  3.52414411, -2.03085651, -0.55839539, -3.51816517,\n",
              "         0.18569234],\n",
              "       [-1.35698973, -2.03085651,  8.29852422, -1.58193619, -1.80627503,\n",
              "        -1.524934  ],\n",
              "       [-2.60117717, -0.55839539, -1.58193619,  8.07362298, -1.23438631,\n",
              "        -2.0940866 ],\n",
              "       [-0.09865945, -3.51816517, -1.80627503, -1.23438631,  7.60923645,\n",
              "        -0.95058465],\n",
              "       [-3.22749531,  0.18569234, -1.524934  , -2.0940866 , -0.95058465,\n",
              "         7.61198222]])"
            ]
          },
          "metadata": {},
          "execution_count": 46
        }
      ]
    },
    {
      "cell_type": "code",
      "source": [
        "X_trans_y=np.dot(C, y)\n",
        "X_trans_y"
      ],
      "metadata": {
        "colab": {
          "base_uri": "https://localhost:8080/"
        },
        "id": "e0pQYqTB1pYT",
        "outputId": "d930fb90-31d1-4d96-f06d-fef06fc34a09"
      },
      "execution_count": null,
      "outputs": [
        {
          "output_type": "execute_result",
          "data": {
            "text/plain": [
              "array([[244.6611],\n",
              "       [273.1353],\n",
              "       [258.9597],\n",
              "       [254.0834],\n",
              "       [263.6362],\n",
              "       [251.7831]])"
            ]
          },
          "metadata": {},
          "execution_count": 49
        }
      ]
    },
    {
      "cell_type": "code",
      "source": [
        "Beta= np.dot(Inverse, X_trans_y)\n",
        "Beta"
      ],
      "metadata": {
        "colab": {
          "base_uri": "https://localhost:8080/"
        },
        "id": "ePSOsUov2HIU",
        "outputId": "e042d395-8c0d-487c-f015-291f04ad59ac"
      },
      "execution_count": null,
      "outputs": [
        {
          "output_type": "execute_result",
          "data": {
            "text/plain": [
              "array([[-0.05125453],\n",
              "       [ 0.42471989],\n",
              "       [ 0.18631824],\n",
              "       [ 0.10696734],\n",
              "       [ 0.26629343],\n",
              "       [ 0.06744087]])"
            ]
          },
          "metadata": {},
          "execution_count": 50
        }
      ]
    },
    {
      "cell_type": "code",
      "source": [],
      "metadata": {
        "id": "UvAk34hx2ZfK"
      },
      "execution_count": null,
      "outputs": []
    },
    {
      "cell_type": "markdown",
      "source": [
        "Hence the value of ridge equation will be given by:\n",
        "$y= x_0 -0.05x_1 + 0.42x_2 +0.18x_3 + 0.10x_4 +0.26x_5 +0.06x_6$"
      ],
      "metadata": {
        "id": "PzlHnTRx4aWJ"
      }
    },
    {
      "cell_type": "code",
      "source": [],
      "metadata": {
        "id": "MrXzQ2LJ4t1_"
      },
      "execution_count": null,
      "outputs": []
    }
  ]
}