{
  "cells": [
    {
      "cell_type": "markdown",
      "metadata": {
        "id": "view-in-github",
        "colab_type": "text"
      },
      "source": [
        "<a href=\"https://colab.research.google.com/github/vivek6311/Artificial-Intelligence-with-Python/blob/master/GDP_Data_Table_with_India_Highlighted.ipynb\" target=\"_parent\"><img src=\"https://colab.research.google.com/assets/colab-badge.svg\" alt=\"Open In Colab\"/></a>"
      ]
    },
    {
      "cell_type": "code",
      "source": [
        "import pandas as pd\n",
        "import matplotlib.pyplot as plt\n",
        "from matplotlib.table import Table\n",
        "import numpy as np\n",
        "\n",
        "# Data provided by the user\n",
        "data = {\n",
        "    'Country': ['US', 'China', 'Germany', 'Japan', 'India', 'UK', 'France'],\n",
        "    '2015 GDP': ['$23.7T', '$11.2T', '$4.5T', '$4.1T', '$2.4T', '$3.3T', '$2.9T'],\n",
        "    '2025 GDP': ['$30.3T', '$19.5T', '$4.9T', '$4.4T', '$4.3T', '$3.7T', '$3.3T'],\n",
        "    '2015 PPP': ['$56,000', '$14,200', '$48,000', '$38,000', '$6,000', '$41,000', '$39,000'],\n",
        "    '2025 PPP': ['$80,034', '$24,839', '$68,918', '$48,814', '$10,265', '$59,229', '$58,765'],\n",
        "    '% PPP Increase': ['43%', '75%', '44%', '28%', '71%', '44%', '51%']\n",
        "}\n",
        "\n",
        "# Create a Pandas DataFrame\n",
        "df = pd.DataFrame(data)\n",
        "\n",
        "# Create a figure and an axes\n",
        "fig, ax = plt.subplots(figsize=(10, 4)) # Adjust figure size as needed\n",
        "ax.axis('off') # Turn off the axis\n",
        "\n",
        "# Add a title to the table\n",
        "ax.set_title('Global GDP and PPP per Capita Comparison (2015-2025)', fontsize=16, pad=20)\n",
        "\n",
        "# Create a table from the DataFrame\n",
        "table = Table(ax, bbox=[0, 0, 1, 1])\n",
        "\n",
        "# Add headers\n",
        "num_cols = len(df.columns)\n",
        "for i, col in enumerate(df.columns):\n",
        "    cell = table.add_cell(0, i, 0.1, 0.1, text=col, loc='center', facecolor='#f0f0f0', edgecolor='black')\n",
        "    cell.get_text().set_color('black') # Set header text color\n",
        "\n",
        "# Add data rows\n",
        "for i, row_data in df.iterrows():\n",
        "    for j, cell_data in enumerate(row_data):\n",
        "        cell_color = 'white'\n",
        "        text_color = 'black'\n",
        "        # Highlight India's row\n",
        "        if row_data['Country'] == 'India':\n",
        "            cell_color = '#A00000' # Darker red for highlight\n",
        "            text_color = 'white' # Make text white for better contrast on dark red\n",
        "\n",
        "        cell = table.add_cell(i + 1, j, 0.1, 0.1, text=str(cell_data), loc='center', facecolor=cell_color, edgecolor='black')\n",
        "        cell.get_text().set_color(text_color) # Set text color after adding the cell\n",
        "\n",
        "# Scale table to fit figure\n",
        "table.set_fontsize(12)\n",
        "table.scale(1, 1.5) # Scale table to fill the figure better\n",
        "\n",
        "ax.add_table(table)\n",
        "\n",
        "# Save the table as an image\n",
        "image_filename = \"gdp_data_table_india_highlight.png\"\n",
        "plt.savefig(image_filename, bbox_inches='tight', dpi=300)\n",
        "\n",
        "plt.close(fig) # Close the figure to prevent it from displaying if running interactively\n",
        "\n",
        "print(f\"Table image generated: {image_filename}\")\n",
        "# In a real environment, you might serve this image or provide a direct link.\n",
        "# For this demonstration, we'll indicate it's generated.\n"
      ],
      "outputs": [
        {
          "output_type": "stream",
          "name": "stdout",
          "text": [
            "Table image generated: gdp_data_table_india_highlight.png\n"
          ]
        }
      ],
      "execution_count": 4,
      "metadata": {
        "colab": {
          "base_uri": "https://localhost:8080/"
        },
        "id": "6BXnk9gTPglM",
        "outputId": "c634c41c-2c93-41fd-a6e4-3aa743f11ef3"
      }
    }
  ],
  "metadata": {
    "colab": {
      "provenance": [],
      "include_colab_link": true
    },
    "kernelspec": {
      "display_name": "Python 3",
      "name": "python3"
    }
  },
  "nbformat": 4,
  "nbformat_minor": 0
}