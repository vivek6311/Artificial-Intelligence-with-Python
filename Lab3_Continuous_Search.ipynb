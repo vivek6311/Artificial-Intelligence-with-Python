{
  "nbformat": 4,
  "nbformat_minor": 0,
  "metadata": {
    "colab": {
      "provenance": [],
      "collapsed_sections": [],
      "include_colab_link": true
    },
    "kernelspec": {
      "name": "python3",
      "display_name": "Python 3"
    },
    "language_info": {
      "name": "python"
    }
  },
  "cells": [
    {
      "cell_type": "markdown",
      "metadata": {
        "id": "view-in-github",
        "colab_type": "text"
      },
      "source": [
        "<a href=\"https://colab.research.google.com/github/vivek6311/Artificial-Intelligence-with-Python/blob/master/Lab3_Continuous_Search.ipynb\" target=\"_parent\"><img src=\"https://colab.research.google.com/assets/colab-badge.svg\" alt=\"Open In Colab\"/></a>"
      ]
    },
    {
      "cell_type": "markdown",
      "metadata": {
        "id": "U2IAL_xgz62Y"
      },
      "source": [
        "## Implement Newton-Raphson method to find the root of a function."
      ]
    },
    {
      "cell_type": "markdown",
      "metadata": {
        "id": "ibVhyqki0BRC"
      },
      "source": [
        "The Newton-Raphson method is a numerical method to find a good approximation of the root of a function. The method involves starting with a function $f(x)$, its derivative $f'(x)$ and an initial guess $x_0$ for the root of the function that is resonably close to the actual root.\n",
        "\n",
        "The point where the tangent $(f'(x))$ of the function $f$ at $(x_0, f(x_0))$ crosses the x-axis will be a better guess of the root compared to $x_0$, this point can be called $x_1$ with coordinates $(x_1, 0)$. This is formulated as:\n",
        "\n",
        "$\n",
        "\\begin{align}\n",
        "f'(x_0) & = \\frac{dy}{dx} \\\\\n",
        "f'(x_0) & = \\frac{f(x_0) - 0}{x_0 - x_1} \\\\\n",
        "x_1 & = x_0 - \\frac{f(x_0)}{f'(x_0)}\n",
        "\\end{align}\n",
        "$\n",
        "\n",
        "This can be repeated and generalised to:\n",
        "$\n",
        "\\begin{align}\n",
        "x_{i+1} & = x_i - \\frac{f(x_i)}{f'(x_i)}\n",
        "\\end{align}\n",
        "$"
      ]
    },
    {
      "cell_type": "markdown",
      "metadata": {
        "id": "TSKskhxRxq3K"
      },
      "source": [
        "![NewtRaph](https://upload.wikimedia.org/wikipedia/commons/e/e0/NewtonIteration_Ani.gif)"
      ]
    },
    {
      "cell_type": "code",
      "metadata": {
        "id": "-CdkB1ePnr2Z"
      },
      "source": [
        "# define a function to find the root for\n",
        "def f():\n",
        "\n",
        "    \n",
        "# Newton-Raphson method to find the root\n",
        "def NewtRaph():\n"
      ],
      "execution_count": null,
      "outputs": []
    },
    {
      "cell_type": "code",
      "metadata": {
        "id": "vofviZ6ZndhU"
      },
      "source": [
        "import time\n",
        "\n",
        "start = time.time()\n",
        "# your function call here\n",
        "\n",
        "\n",
        "end = time.time()\n",
        "print(f\"Runtime of the program is {end - start}\")"
      ],
      "execution_count": null,
      "outputs": []
    },
    {
      "cell_type": "code",
      "source": [],
      "metadata": {
        "id": "rvhFgIx2Izdu"
      },
      "execution_count": null,
      "outputs": []
    },
    {
      "cell_type": "code",
      "source": [],
      "metadata": {
        "id": "jFNuEzflIzaQ"
      },
      "execution_count": null,
      "outputs": []
    },
    {
      "cell_type": "markdown",
      "metadata": {
        "id": "ghbWG_1dd3nz"
      },
      "source": [
        "## Implement Gradient Descent to find the root of a function."
      ]
    },
    {
      "cell_type": "markdown",
      "metadata": {
        "id": "Kpk26s1RObiy"
      },
      "source": [
        "The Gradient Descent method in an iterative process that involves starting with an initial guess of $x_i$, and updating it to $x_{i + 1}$ by moving along the gradient $f'(x_i)$ of the function and tempering the shift with a learning rate $lr$.\n",
        "\n",
        "$\n",
        "\\begin{align}\n",
        "x_{i+1} & = x_i - lr\\frac{d(f(x_i))}{dx}\n",
        "\\end{align}\n",
        "$"
      ]
    },
    {
      "cell_type": "markdown",
      "source": [
        "![NewtRaph](https://baptiste-monpezat.github.io/6f5cc892ec345d96f64c881b62b0d910/gradient_descent_parameter_a.gif)"
      ],
      "metadata": {
        "id": "ATmKOx3VXc5b"
      }
    },
    {
      "cell_type": "code",
      "source": [
        "# define a function to find the root for\n",
        "def f():\n",
        "\n",
        "    \n",
        "# Gradient Descent to find the root\n",
        "def GradDes():\n"
      ],
      "metadata": {
        "id": "mvfTuyhJd-oF"
      },
      "execution_count": null,
      "outputs": []
    },
    {
      "cell_type": "code",
      "source": [
        "import time\n",
        "\n",
        "start = time.time()\n",
        "# your function call here\n",
        "\n",
        "\n",
        "end = time.time()\n",
        "print(f\"Runtime of the program is {end - start}\")"
      ],
      "metadata": {
        "id": "4T1JA9hPJE2j"
      },
      "execution_count": null,
      "outputs": []
    },
    {
      "cell_type": "code",
      "source": [],
      "metadata": {
        "id": "n_6myMbI6fy9"
      },
      "execution_count": null,
      "outputs": []
    }
  ]
}