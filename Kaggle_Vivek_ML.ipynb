{
  "cells": [
    {
      "cell_type": "markdown",
      "metadata": {
        "id": "view-in-github",
        "colab_type": "text"
      },
      "source": [
        "<a href=\"https://colab.research.google.com/github/vivek6311/Artificial-Intelligence-with-Python/blob/master/Kaggle_Vivek_ML.ipynb\" target=\"_parent\"><img src=\"https://colab.research.google.com/assets/colab-badge.svg\" alt=\"Open In Colab\"/></a>"
      ]
    },
    {
      "cell_type": "code",
      "execution_count": null,
      "metadata": {
        "id": "ojZxH_kqWeak"
      },
      "outputs": [],
      "source": [
        "import numpy as np\n",
        "import pandas as pd\n",
        "import matplotlib.pyplot as plt"
      ]
    },
    {
      "cell_type": "code",
      "execution_count": null,
      "metadata": {
        "id": "wAcwFtwuWeat",
        "outputId": "10323936-25b9-4ced-b66a-de2f9463c432"
      },
      "outputs": [
        {
          "data": {
            "text/html": [
              "<div>\n",
              "<style scoped>\n",
              "    .dataframe tbody tr th:only-of-type {\n",
              "        vertical-align: middle;\n",
              "    }\n",
              "\n",
              "    .dataframe tbody tr th {\n",
              "        vertical-align: top;\n",
              "    }\n",
              "\n",
              "    .dataframe thead th {\n",
              "        text-align: right;\n",
              "    }\n",
              "</style>\n",
              "<table border=\"1\" class=\"dataframe\">\n",
              "  <thead>\n",
              "    <tr style=\"text-align: right;\">\n",
              "      <th></th>\n",
              "      <th>Unnamed: 0</th>\n",
              "      <th>lepton_1_pT</th>\n",
              "      <th>lepton_1_eta</th>\n",
              "      <th>lepton_1_phi</th>\n",
              "      <th>lepton_2_pT</th>\n",
              "      <th>lepton_2_eta</th>\n",
              "      <th>lepton_2_phi</th>\n",
              "      <th>missing_energy_magnitude</th>\n",
              "      <th>missing_energy_phi</th>\n",
              "      <th>MET_rel</th>\n",
              "      <th>axial_MET</th>\n",
              "      <th>M_R</th>\n",
              "      <th>M_TR_2</th>\n",
              "      <th>R</th>\n",
              "      <th>MT2</th>\n",
              "      <th>S_R</th>\n",
              "      <th>M_Delta_R</th>\n",
              "      <th>dPhi_r_b</th>\n",
              "      <th>cos(theta_r1)</th>\n",
              "      <th>class</th>\n",
              "    </tr>\n",
              "  </thead>\n",
              "  <tbody>\n",
              "    <tr>\n",
              "      <th>0</th>\n",
              "      <td>0</td>\n",
              "      <td>0.841381</td>\n",
              "      <td>1.832647</td>\n",
              "      <td>-0.689286</td>\n",
              "      <td>0.781839</td>\n",
              "      <td>0.572864</td>\n",
              "      <td>1.577097</td>\n",
              "      <td>0.398978</td>\n",
              "      <td>-0.683847</td>\n",
              "      <td>0.001826</td>\n",
              "      <td>0.651397</td>\n",
              "      <td>0.865560</td>\n",
              "      <td>0.429017</td>\n",
              "      <td>0.439840</td>\n",
              "      <td>0.000000</td>\n",
              "      <td>0.796105</td>\n",
              "      <td>0.342497</td>\n",
              "      <td>0.461542</td>\n",
              "      <td>0.005710</td>\n",
              "      <td>0.0</td>\n",
              "    </tr>\n",
              "    <tr>\n",
              "      <th>1</th>\n",
              "      <td>1</td>\n",
              "      <td>0.663798</td>\n",
              "      <td>2.058290</td>\n",
              "      <td>0.681435</td>\n",
              "      <td>1.054036</td>\n",
              "      <td>0.575352</td>\n",
              "      <td>-1.001445</td>\n",
              "      <td>0.462154</td>\n",
              "      <td>-0.833411</td>\n",
              "      <td>0.199734</td>\n",
              "      <td>0.215158</td>\n",
              "      <td>0.949988</td>\n",
              "      <td>0.618046</td>\n",
              "      <td>0.577324</td>\n",
              "      <td>0.000000</td>\n",
              "      <td>0.962927</td>\n",
              "      <td>0.333800</td>\n",
              "      <td>1.455247</td>\n",
              "      <td>0.101246</td>\n",
              "      <td>0.0</td>\n",
              "    </tr>\n",
              "    <tr>\n",
              "      <th>2</th>\n",
              "      <td>2</td>\n",
              "      <td>1.792225</td>\n",
              "      <td>-1.099978</td>\n",
              "      <td>0.088109</td>\n",
              "      <td>0.573157</td>\n",
              "      <td>-0.472629</td>\n",
              "      <td>1.642084</td>\n",
              "      <td>1.203374</td>\n",
              "      <td>1.506731</td>\n",
              "      <td>0.457695</td>\n",
              "      <td>-0.640507</td>\n",
              "      <td>1.157024</td>\n",
              "      <td>1.585432</td>\n",
              "      <td>1.215963</td>\n",
              "      <td>0.000000</td>\n",
              "      <td>1.113292</td>\n",
              "      <td>0.645729</td>\n",
              "      <td>0.721326</td>\n",
              "      <td>0.613326</td>\n",
              "      <td>1.0</td>\n",
              "    </tr>\n",
              "    <tr>\n",
              "      <th>3</th>\n",
              "      <td>3</td>\n",
              "      <td>0.893018</td>\n",
              "      <td>0.297782</td>\n",
              "      <td>-1.274870</td>\n",
              "      <td>1.316164</td>\n",
              "      <td>1.593303</td>\n",
              "      <td>0.672115</td>\n",
              "      <td>0.307014</td>\n",
              "      <td>-1.189868</td>\n",
              "      <td>0.064561</td>\n",
              "      <td>0.430909</td>\n",
              "      <td>1.162625</td>\n",
              "      <td>0.548821</td>\n",
              "      <td>0.418897</td>\n",
              "      <td>0.163908</td>\n",
              "      <td>1.157707</td>\n",
              "      <td>0.298163</td>\n",
              "      <td>0.803802</td>\n",
              "      <td>0.038902</td>\n",
              "      <td>0.0</td>\n",
              "    </tr>\n",
              "    <tr>\n",
              "      <th>4</th>\n",
              "      <td>4</td>\n",
              "      <td>1.338997</td>\n",
              "      <td>0.350023</td>\n",
              "      <td>-1.518510</td>\n",
              "      <td>1.482963</td>\n",
              "      <td>-0.491807</td>\n",
              "      <td>0.340170</td>\n",
              "      <td>0.415071</td>\n",
              "      <td>-1.292034</td>\n",
              "      <td>0.240712</td>\n",
              "      <td>0.611775</td>\n",
              "      <td>1.307798</td>\n",
              "      <td>0.697804</td>\n",
              "      <td>0.473487</td>\n",
              "      <td>0.429977</td>\n",
              "      <td>1.287935</td>\n",
              "      <td>0.330327</td>\n",
              "      <td>0.717237</td>\n",
              "      <td>0.003147</td>\n",
              "      <td>1.0</td>\n",
              "    </tr>\n",
              "  </tbody>\n",
              "</table>\n",
              "</div>"
            ],
            "text/plain": [
              "   Unnamed: 0  lepton_1_pT  lepton_1_eta  lepton_1_phi  lepton_2_pT  \\\n",
              "0           0     0.841381      1.832647     -0.689286     0.781839   \n",
              "1           1     0.663798      2.058290      0.681435     1.054036   \n",
              "2           2     1.792225     -1.099978      0.088109     0.573157   \n",
              "3           3     0.893018      0.297782     -1.274870     1.316164   \n",
              "4           4     1.338997      0.350023     -1.518510     1.482963   \n",
              "\n",
              "   lepton_2_eta  lepton_2_phi  missing_energy_magnitude  missing_energy_phi  \\\n",
              "0      0.572864      1.577097                  0.398978           -0.683847   \n",
              "1      0.575352     -1.001445                  0.462154           -0.833411   \n",
              "2     -0.472629      1.642084                  1.203374            1.506731   \n",
              "3      1.593303      0.672115                  0.307014           -1.189868   \n",
              "4     -0.491807      0.340170                  0.415071           -1.292034   \n",
              "\n",
              "    MET_rel  axial_MET       M_R    M_TR_2         R       MT2       S_R  \\\n",
              "0  0.001826   0.651397  0.865560  0.429017  0.439840  0.000000  0.796105   \n",
              "1  0.199734   0.215158  0.949988  0.618046  0.577324  0.000000  0.962927   \n",
              "2  0.457695  -0.640507  1.157024  1.585432  1.215963  0.000000  1.113292   \n",
              "3  0.064561   0.430909  1.162625  0.548821  0.418897  0.163908  1.157707   \n",
              "4  0.240712   0.611775  1.307798  0.697804  0.473487  0.429977  1.287935   \n",
              "\n",
              "   M_Delta_R  dPhi_r_b  cos(theta_r1)  class  \n",
              "0   0.342497  0.461542       0.005710    0.0  \n",
              "1   0.333800  1.455247       0.101246    0.0  \n",
              "2   0.645729  0.721326       0.613326    1.0  \n",
              "3   0.298163  0.803802       0.038902    0.0  \n",
              "4   0.330327  0.717237       0.003147    1.0  "
            ]
          },
          "execution_count": 5,
          "metadata": {},
          "output_type": "execute_result"
        }
      ],
      "source": [
        "Train= pd.read_csv('/Users/vivek_sharma/Downloads/Plaksha_ML/train.csv')\n",
        "Test= pd.read_csv('/Users/vivek_sharma/Downloads/Plaksha_ML/test.csv')\n",
        "Train.head()    "
      ]
    },
    {
      "cell_type": "code",
      "execution_count": null,
      "metadata": {
        "id": "rSoYmyslWeau",
        "outputId": "5d9d78c0-01fe-4bf3-96ed-f3204e1d2b7c"
      },
      "outputs": [
        {
          "data": {
            "text/plain": [
              "(3500000, 20)"
            ]
          },
          "execution_count": 6,
          "metadata": {},
          "output_type": "execute_result"
        }
      ],
      "source": [
        "Train.shape"
      ]
    },
    {
      "cell_type": "code",
      "execution_count": null,
      "metadata": {
        "id": "QmW1_M02Weav",
        "outputId": "6e231ed9-1469-4741-f3a7-41d9b8be78a1"
      },
      "outputs": [
        {
          "data": {
            "text/plain": [
              "(1500000, 19)"
            ]
          },
          "execution_count": 7,
          "metadata": {},
          "output_type": "execute_result"
        }
      ],
      "source": [
        "Test.shape"
      ]
    },
    {
      "cell_type": "code",
      "execution_count": null,
      "metadata": {
        "id": "RoH9REnoWeaw"
      },
      "outputs": [],
      "source": [
        "Train= Train.drop(['Unnamed: 0'], axis='columns')"
      ]
    },
    {
      "cell_type": "code",
      "execution_count": null,
      "metadata": {
        "id": "BXo1mka4Weaw"
      },
      "outputs": [],
      "source": [
        "Train.rename(columns = {'class':'Class'}, inplace = True)"
      ]
    },
    {
      "cell_type": "code",
      "execution_count": null,
      "metadata": {
        "id": "MPbqASzPWeax"
      },
      "outputs": [],
      "source": [
        "y= Train.Class\n",
        "y=y.fillna(0)"
      ]
    },
    {
      "cell_type": "code",
      "execution_count": null,
      "metadata": {
        "id": "A8Ut32lmWeay",
        "outputId": "42c30a9e-e524-4f14-a88b-03e585f2100a"
      },
      "outputs": [
        {
          "data": {
            "text/plain": [
              "0    0.0\n",
              "1    0.0\n",
              "2    1.0\n",
              "3    0.0\n",
              "4    1.0\n",
              "Name: Class, dtype: float64"
            ]
          },
          "execution_count": 11,
          "metadata": {},
          "output_type": "execute_result"
        }
      ],
      "source": [
        "y.head()"
      ]
    },
    {
      "cell_type": "code",
      "execution_count": null,
      "metadata": {
        "id": "M_Do6LaLWeay",
        "outputId": "cfb16242-1dad-489c-e403-ddd2063a4b3c"
      },
      "outputs": [
        {
          "data": {
            "text/plain": [
              "0    0\n",
              "1    0\n",
              "2    1\n",
              "3    0\n",
              "4    1\n",
              "Name: Class, dtype: int64"
            ]
          },
          "execution_count": 12,
          "metadata": {},
          "output_type": "execute_result"
        }
      ],
      "source": [
        "y = y.astype(int)\n",
        "y.head()"
      ]
    },
    {
      "cell_type": "code",
      "execution_count": null,
      "metadata": {
        "id": "yBH97CMiWeaz",
        "outputId": "415b0b84-4cd7-4c52-ac31-c0e17e75dfe8"
      },
      "outputs": [
        {
          "data": {
            "text/html": [
              "<div>\n",
              "<style scoped>\n",
              "    .dataframe tbody tr th:only-of-type {\n",
              "        vertical-align: middle;\n",
              "    }\n",
              "\n",
              "    .dataframe tbody tr th {\n",
              "        vertical-align: top;\n",
              "    }\n",
              "\n",
              "    .dataframe thead th {\n",
              "        text-align: right;\n",
              "    }\n",
              "</style>\n",
              "<table border=\"1\" class=\"dataframe\">\n",
              "  <thead>\n",
              "    <tr style=\"text-align: right;\">\n",
              "      <th></th>\n",
              "      <th>lepton_1_pT</th>\n",
              "      <th>lepton_1_eta</th>\n",
              "      <th>lepton_1_phi</th>\n",
              "      <th>lepton_2_pT</th>\n",
              "      <th>lepton_2_eta</th>\n",
              "      <th>lepton_2_phi</th>\n",
              "      <th>missing_energy_magnitude</th>\n",
              "      <th>missing_energy_phi</th>\n",
              "      <th>MET_rel</th>\n",
              "      <th>axial_MET</th>\n",
              "      <th>M_R</th>\n",
              "      <th>M_TR_2</th>\n",
              "      <th>R</th>\n",
              "      <th>MT2</th>\n",
              "      <th>S_R</th>\n",
              "      <th>M_Delta_R</th>\n",
              "      <th>dPhi_r_b</th>\n",
              "      <th>cos(theta_r1)</th>\n",
              "    </tr>\n",
              "  </thead>\n",
              "  <tbody>\n",
              "    <tr>\n",
              "      <th>0</th>\n",
              "      <td>0.841381</td>\n",
              "      <td>1.832647</td>\n",
              "      <td>-0.689286</td>\n",
              "      <td>0.781839</td>\n",
              "      <td>0.572864</td>\n",
              "      <td>1.577097</td>\n",
              "      <td>0.398978</td>\n",
              "      <td>-0.683847</td>\n",
              "      <td>0.001826</td>\n",
              "      <td>0.651397</td>\n",
              "      <td>0.865560</td>\n",
              "      <td>0.429017</td>\n",
              "      <td>0.439840</td>\n",
              "      <td>0.000000</td>\n",
              "      <td>0.796105</td>\n",
              "      <td>0.342497</td>\n",
              "      <td>0.461542</td>\n",
              "      <td>0.005710</td>\n",
              "    </tr>\n",
              "    <tr>\n",
              "      <th>1</th>\n",
              "      <td>0.663798</td>\n",
              "      <td>2.058290</td>\n",
              "      <td>0.681435</td>\n",
              "      <td>1.054036</td>\n",
              "      <td>0.575352</td>\n",
              "      <td>-1.001445</td>\n",
              "      <td>0.462154</td>\n",
              "      <td>-0.833411</td>\n",
              "      <td>0.199734</td>\n",
              "      <td>0.215158</td>\n",
              "      <td>0.949988</td>\n",
              "      <td>0.618046</td>\n",
              "      <td>0.577324</td>\n",
              "      <td>0.000000</td>\n",
              "      <td>0.962927</td>\n",
              "      <td>0.333800</td>\n",
              "      <td>1.455247</td>\n",
              "      <td>0.101246</td>\n",
              "    </tr>\n",
              "    <tr>\n",
              "      <th>2</th>\n",
              "      <td>1.792225</td>\n",
              "      <td>-1.099978</td>\n",
              "      <td>0.088109</td>\n",
              "      <td>0.573157</td>\n",
              "      <td>-0.472629</td>\n",
              "      <td>1.642084</td>\n",
              "      <td>1.203374</td>\n",
              "      <td>1.506731</td>\n",
              "      <td>0.457695</td>\n",
              "      <td>-0.640507</td>\n",
              "      <td>1.157024</td>\n",
              "      <td>1.585432</td>\n",
              "      <td>1.215963</td>\n",
              "      <td>0.000000</td>\n",
              "      <td>1.113292</td>\n",
              "      <td>0.645729</td>\n",
              "      <td>0.721326</td>\n",
              "      <td>0.613326</td>\n",
              "    </tr>\n",
              "    <tr>\n",
              "      <th>3</th>\n",
              "      <td>0.893018</td>\n",
              "      <td>0.297782</td>\n",
              "      <td>-1.274870</td>\n",
              "      <td>1.316164</td>\n",
              "      <td>1.593303</td>\n",
              "      <td>0.672115</td>\n",
              "      <td>0.307014</td>\n",
              "      <td>-1.189868</td>\n",
              "      <td>0.064561</td>\n",
              "      <td>0.430909</td>\n",
              "      <td>1.162625</td>\n",
              "      <td>0.548821</td>\n",
              "      <td>0.418897</td>\n",
              "      <td>0.163908</td>\n",
              "      <td>1.157707</td>\n",
              "      <td>0.298163</td>\n",
              "      <td>0.803802</td>\n",
              "      <td>0.038902</td>\n",
              "    </tr>\n",
              "    <tr>\n",
              "      <th>4</th>\n",
              "      <td>1.338997</td>\n",
              "      <td>0.350023</td>\n",
              "      <td>-1.518510</td>\n",
              "      <td>1.482963</td>\n",
              "      <td>-0.491807</td>\n",
              "      <td>0.340170</td>\n",
              "      <td>0.415071</td>\n",
              "      <td>-1.292034</td>\n",
              "      <td>0.240712</td>\n",
              "      <td>0.611775</td>\n",
              "      <td>1.307798</td>\n",
              "      <td>0.697804</td>\n",
              "      <td>0.473487</td>\n",
              "      <td>0.429977</td>\n",
              "      <td>1.287935</td>\n",
              "      <td>0.330327</td>\n",
              "      <td>0.717237</td>\n",
              "      <td>0.003147</td>\n",
              "    </tr>\n",
              "  </tbody>\n",
              "</table>\n",
              "</div>"
            ],
            "text/plain": [
              "   lepton_1_pT  lepton_1_eta  lepton_1_phi  lepton_2_pT  lepton_2_eta  \\\n",
              "0     0.841381      1.832647     -0.689286     0.781839      0.572864   \n",
              "1     0.663798      2.058290      0.681435     1.054036      0.575352   \n",
              "2     1.792225     -1.099978      0.088109     0.573157     -0.472629   \n",
              "3     0.893018      0.297782     -1.274870     1.316164      1.593303   \n",
              "4     1.338997      0.350023     -1.518510     1.482963     -0.491807   \n",
              "\n",
              "   lepton_2_phi  missing_energy_magnitude  missing_energy_phi   MET_rel  \\\n",
              "0      1.577097                  0.398978           -0.683847  0.001826   \n",
              "1     -1.001445                  0.462154           -0.833411  0.199734   \n",
              "2      1.642084                  1.203374            1.506731  0.457695   \n",
              "3      0.672115                  0.307014           -1.189868  0.064561   \n",
              "4      0.340170                  0.415071           -1.292034  0.240712   \n",
              "\n",
              "   axial_MET       M_R    M_TR_2         R       MT2       S_R  M_Delta_R  \\\n",
              "0   0.651397  0.865560  0.429017  0.439840  0.000000  0.796105   0.342497   \n",
              "1   0.215158  0.949988  0.618046  0.577324  0.000000  0.962927   0.333800   \n",
              "2  -0.640507  1.157024  1.585432  1.215963  0.000000  1.113292   0.645729   \n",
              "3   0.430909  1.162625  0.548821  0.418897  0.163908  1.157707   0.298163   \n",
              "4   0.611775  1.307798  0.697804  0.473487  0.429977  1.287935   0.330327   \n",
              "\n",
              "   dPhi_r_b  cos(theta_r1)  \n",
              "0  0.461542       0.005710  \n",
              "1  1.455247       0.101246  \n",
              "2  0.721326       0.613326  \n",
              "3  0.803802       0.038902  \n",
              "4  0.717237       0.003147  "
            ]
          },
          "execution_count": 13,
          "metadata": {},
          "output_type": "execute_result"
        }
      ],
      "source": [
        "X= Train.drop(['Class'], axis='columns')\n",
        "X.head()"
      ]
    },
    {
      "cell_type": "code",
      "execution_count": null,
      "metadata": {
        "id": "gDBxItP-Wea0",
        "outputId": "cd21fd13-b4d9-4dfc-ff8f-c4c3b1d99ff1"
      },
      "outputs": [
        {
          "data": {
            "text/html": [
              "<div>\n",
              "<style scoped>\n",
              "    .dataframe tbody tr th:only-of-type {\n",
              "        vertical-align: middle;\n",
              "    }\n",
              "\n",
              "    .dataframe tbody tr th {\n",
              "        vertical-align: top;\n",
              "    }\n",
              "\n",
              "    .dataframe thead th {\n",
              "        text-align: right;\n",
              "    }\n",
              "</style>\n",
              "<table border=\"1\" class=\"dataframe\">\n",
              "  <thead>\n",
              "    <tr style=\"text-align: right;\">\n",
              "      <th></th>\n",
              "      <th>lepton_1_pT</th>\n",
              "      <th>lepton_1_eta</th>\n",
              "      <th>lepton_1_phi</th>\n",
              "      <th>lepton_2_pT</th>\n",
              "      <th>lepton_2_eta</th>\n",
              "      <th>lepton_2_phi</th>\n",
              "      <th>missing_energy_magnitude</th>\n",
              "      <th>missing_energy_phi</th>\n",
              "      <th>MET_rel</th>\n",
              "      <th>axial_MET</th>\n",
              "      <th>M_R</th>\n",
              "      <th>M_TR_2</th>\n",
              "      <th>R</th>\n",
              "      <th>MT2</th>\n",
              "      <th>S_R</th>\n",
              "      <th>M_Delta_R</th>\n",
              "      <th>dPhi_r_b</th>\n",
              "      <th>cos(theta_r1)</th>\n",
              "      <th>Class</th>\n",
              "    </tr>\n",
              "  </thead>\n",
              "  <tbody>\n",
              "    <tr>\n",
              "      <th>count</th>\n",
              "      <td>3.500000e+06</td>\n",
              "      <td>3.500000e+06</td>\n",
              "      <td>3.500000e+06</td>\n",
              "      <td>3.500000e+06</td>\n",
              "      <td>3.500000e+06</td>\n",
              "      <td>3.500000e+06</td>\n",
              "      <td>3.500000e+06</td>\n",
              "      <td>3.500000e+06</td>\n",
              "      <td>3.500000e+06</td>\n",
              "      <td>3.500000e+06</td>\n",
              "      <td>3.500000e+06</td>\n",
              "      <td>3.500000e+06</td>\n",
              "      <td>3.500000e+06</td>\n",
              "      <td>3.500000e+06</td>\n",
              "      <td>3.500000e+06</td>\n",
              "      <td>3.500000e+06</td>\n",
              "      <td>3.500000e+06</td>\n",
              "      <td>3.500000e+06</td>\n",
              "      <td>3.500000e+06</td>\n",
              "    </tr>\n",
              "    <tr>\n",
              "      <th>mean</th>\n",
              "      <td>1.000232e+00</td>\n",
              "      <td>3.599349e-04</td>\n",
              "      <td>3.409634e-04</td>\n",
              "      <td>9.992382e-01</td>\n",
              "      <td>3.546249e-04</td>\n",
              "      <td>-2.609503e-04</td>\n",
              "      <td>9.994536e-01</td>\n",
              "      <td>-4.940216e-04</td>\n",
              "      <td>1.000944e+00</td>\n",
              "      <td>-8.176786e-05</td>\n",
              "      <td>1.000253e+00</td>\n",
              "      <td>9.996171e-01</td>\n",
              "      <td>9.998163e-01</td>\n",
              "      <td>1.000160e+00</td>\n",
              "      <td>9.999674e-01</td>\n",
              "      <td>9.997972e-01</td>\n",
              "      <td>9.992375e-01</td>\n",
              "      <td>2.248649e-01</td>\n",
              "      <td>4.572371e-01</td>\n",
              "    </tr>\n",
              "    <tr>\n",
              "      <th>std</th>\n",
              "      <td>6.873955e-01</td>\n",
              "      <td>1.003109e+00</td>\n",
              "      <td>1.001971e+00</td>\n",
              "      <td>6.537354e-01</td>\n",
              "      <td>1.002817e+00</td>\n",
              "      <td>1.001447e+00</td>\n",
              "      <td>8.724024e-01</td>\n",
              "      <td>1.001655e+00</td>\n",
              "      <td>8.897569e-01</td>\n",
              "      <td>1.000707e+00</td>\n",
              "      <td>6.286597e-01</td>\n",
              "      <td>5.839003e-01</td>\n",
              "      <td>4.711496e-01</td>\n",
              "      <td>8.590315e-01</td>\n",
              "      <td>6.205179e-01</td>\n",
              "      <td>6.235858e-01</td>\n",
              "      <td>4.361374e-01</td>\n",
              "      <td>1.970049e-01</td>\n",
              "      <td>4.981681e-01</td>\n",
              "    </tr>\n",
              "    <tr>\n",
              "      <th>min</th>\n",
              "      <td>2.548815e-01</td>\n",
              "      <td>-2.102919e+00</td>\n",
              "      <td>-1.734789e+00</td>\n",
              "      <td>4.285860e-01</td>\n",
              "      <td>-2.059306e+00</td>\n",
              "      <td>-1.734202e+00</td>\n",
              "      <td>7.199480e-04</td>\n",
              "      <td>-1.727112e+00</td>\n",
              "      <td>7.693475e-08</td>\n",
              "      <td>-1.533509e+01</td>\n",
              "      <td>2.680643e-01</td>\n",
              "      <td>2.427395e-03</td>\n",
              "      <td>4.528082e-03</td>\n",
              "      <td>0.000000e+00</td>\n",
              "      <td>2.734135e-02</td>\n",
              "      <td>4.452858e-03</td>\n",
              "      <td>3.211849e-07</td>\n",
              "      <td>1.498080e-07</td>\n",
              "      <td>0.000000e+00</td>\n",
              "    </tr>\n",
              "    <tr>\n",
              "      <th>25%</th>\n",
              "      <td>5.625003e-01</td>\n",
              "      <td>-7.569637e-01</td>\n",
              "      <td>-8.673235e-01</td>\n",
              "      <td>5.969753e-01</td>\n",
              "      <td>-7.693463e-01</td>\n",
              "      <td>-8.680870e-01</td>\n",
              "      <td>4.781798e-01</td>\n",
              "      <td>-8.663442e-01</td>\n",
              "      <td>3.689606e-01</td>\n",
              "      <td>-4.920890e-01</td>\n",
              "      <td>5.883102e-01</td>\n",
              "      <td>6.222096e-01</td>\n",
              "      <td>6.503162e-01</td>\n",
              "      <td>1.708098e-01</td>\n",
              "      <td>5.984608e-01</td>\n",
              "      <td>5.134528e-01</td>\n",
              "      <td>6.874365e-01</td>\n",
              "      <td>6.910075e-02</td>\n",
              "      <td>0.000000e+00</td>\n",
              "    </tr>\n",
              "    <tr>\n",
              "      <th>50%</th>\n",
              "      <td>7.913588e-01</td>\n",
              "      <td>6.139759e-04</td>\n",
              "      <td>-3.000550e-04</td>\n",
              "      <td>7.997329e-01</td>\n",
              "      <td>1.132228e-04</td>\n",
              "      <td>-3.504302e-04</td>\n",
              "      <td>7.734768e-01</td>\n",
              "      <td>-1.038813e-02</td>\n",
              "      <td>8.017117e-01</td>\n",
              "      <td>-8.002724e-02</td>\n",
              "      <td>8.284981e-01</td>\n",
              "      <td>8.778247e-01</td>\n",
              "      <td>9.341271e-01</td>\n",
              "      <td>9.014440e-01</td>\n",
              "      <td>8.353698e-01</td>\n",
              "      <td>9.137308e-01</td>\n",
              "      <td>1.094097e+00</td>\n",
              "      <td>1.671680e-01</td>\n",
              "      <td>0.000000e+00</td>\n",
              "    </tr>\n",
              "    <tr>\n",
              "      <th>75%</th>\n",
              "      <td>1.204264e+00</td>\n",
              "      <td>7.581109e-01</td>\n",
              "      <td>8.681473e-01</td>\n",
              "      <td>1.161961e+00</td>\n",
              "      <td>7.698279e-01</td>\n",
              "      <td>8.670100e-01</td>\n",
              "      <td>1.206897e+00</td>\n",
              "      <td>8.681880e-01</td>\n",
              "      <td>1.374708e+00</td>\n",
              "      <td>3.489328e-01</td>\n",
              "      <td>1.210956e+00</td>\n",
              "      <td>1.219851e+00</td>\n",
              "      <td>1.283126e+00</td>\n",
              "      <td>1.612343e+00</td>\n",
              "      <td>1.207777e+00</td>\n",
              "      <td>1.383827e+00</td>\n",
              "      <td>1.369023e+00</td>\n",
              "      <td>3.301480e-01</td>\n",
              "      <td>1.000000e+00</td>\n",
              "    </tr>\n",
              "    <tr>\n",
              "      <th>max</th>\n",
              "      <td>2.055345e+01</td>\n",
              "      <td>2.101605e+00</td>\n",
              "      <td>1.734839e+00</td>\n",
              "      <td>3.303562e+01</td>\n",
              "      <td>2.059721e+00</td>\n",
              "      <td>1.734686e+00</td>\n",
              "      <td>2.106888e+01</td>\n",
              "      <td>1.740689e+00</td>\n",
              "      <td>2.338644e+01</td>\n",
              "      <td>1.959220e+01</td>\n",
              "      <td>2.107572e+01</td>\n",
              "      <td>1.616682e+01</td>\n",
              "      <td>6.731210e+00</td>\n",
              "      <td>2.068624e+01</td>\n",
              "      <td>2.115226e+01</td>\n",
              "      <td>1.561370e+01</td>\n",
              "      <td>1.591660e+00</td>\n",
              "      <td>1.000000e+00</td>\n",
              "      <td>1.000000e+00</td>\n",
              "    </tr>\n",
              "  </tbody>\n",
              "</table>\n",
              "</div>"
            ],
            "text/plain": [
              "        lepton_1_pT  lepton_1_eta  lepton_1_phi   lepton_2_pT  lepton_2_eta  \\\n",
              "count  3.500000e+06  3.500000e+06  3.500000e+06  3.500000e+06  3.500000e+06   \n",
              "mean   1.000232e+00  3.599349e-04  3.409634e-04  9.992382e-01  3.546249e-04   \n",
              "std    6.873955e-01  1.003109e+00  1.001971e+00  6.537354e-01  1.002817e+00   \n",
              "min    2.548815e-01 -2.102919e+00 -1.734789e+00  4.285860e-01 -2.059306e+00   \n",
              "25%    5.625003e-01 -7.569637e-01 -8.673235e-01  5.969753e-01 -7.693463e-01   \n",
              "50%    7.913588e-01  6.139759e-04 -3.000550e-04  7.997329e-01  1.132228e-04   \n",
              "75%    1.204264e+00  7.581109e-01  8.681473e-01  1.161961e+00  7.698279e-01   \n",
              "max    2.055345e+01  2.101605e+00  1.734839e+00  3.303562e+01  2.059721e+00   \n",
              "\n",
              "       lepton_2_phi  missing_energy_magnitude  missing_energy_phi  \\\n",
              "count  3.500000e+06              3.500000e+06        3.500000e+06   \n",
              "mean  -2.609503e-04              9.994536e-01       -4.940216e-04   \n",
              "std    1.001447e+00              8.724024e-01        1.001655e+00   \n",
              "min   -1.734202e+00              7.199480e-04       -1.727112e+00   \n",
              "25%   -8.680870e-01              4.781798e-01       -8.663442e-01   \n",
              "50%   -3.504302e-04              7.734768e-01       -1.038813e-02   \n",
              "75%    8.670100e-01              1.206897e+00        8.681880e-01   \n",
              "max    1.734686e+00              2.106888e+01        1.740689e+00   \n",
              "\n",
              "            MET_rel     axial_MET           M_R        M_TR_2             R  \\\n",
              "count  3.500000e+06  3.500000e+06  3.500000e+06  3.500000e+06  3.500000e+06   \n",
              "mean   1.000944e+00 -8.176786e-05  1.000253e+00  9.996171e-01  9.998163e-01   \n",
              "std    8.897569e-01  1.000707e+00  6.286597e-01  5.839003e-01  4.711496e-01   \n",
              "min    7.693475e-08 -1.533509e+01  2.680643e-01  2.427395e-03  4.528082e-03   \n",
              "25%    3.689606e-01 -4.920890e-01  5.883102e-01  6.222096e-01  6.503162e-01   \n",
              "50%    8.017117e-01 -8.002724e-02  8.284981e-01  8.778247e-01  9.341271e-01   \n",
              "75%    1.374708e+00  3.489328e-01  1.210956e+00  1.219851e+00  1.283126e+00   \n",
              "max    2.338644e+01  1.959220e+01  2.107572e+01  1.616682e+01  6.731210e+00   \n",
              "\n",
              "                MT2           S_R     M_Delta_R      dPhi_r_b  cos(theta_r1)  \\\n",
              "count  3.500000e+06  3.500000e+06  3.500000e+06  3.500000e+06   3.500000e+06   \n",
              "mean   1.000160e+00  9.999674e-01  9.997972e-01  9.992375e-01   2.248649e-01   \n",
              "std    8.590315e-01  6.205179e-01  6.235858e-01  4.361374e-01   1.970049e-01   \n",
              "min    0.000000e+00  2.734135e-02  4.452858e-03  3.211849e-07   1.498080e-07   \n",
              "25%    1.708098e-01  5.984608e-01  5.134528e-01  6.874365e-01   6.910075e-02   \n",
              "50%    9.014440e-01  8.353698e-01  9.137308e-01  1.094097e+00   1.671680e-01   \n",
              "75%    1.612343e+00  1.207777e+00  1.383827e+00  1.369023e+00   3.301480e-01   \n",
              "max    2.068624e+01  2.115226e+01  1.561370e+01  1.591660e+00   1.000000e+00   \n",
              "\n",
              "              Class  \n",
              "count  3.500000e+06  \n",
              "mean   4.572371e-01  \n",
              "std    4.981681e-01  \n",
              "min    0.000000e+00  \n",
              "25%    0.000000e+00  \n",
              "50%    0.000000e+00  \n",
              "75%    1.000000e+00  \n",
              "max    1.000000e+00  "
            ]
          },
          "execution_count": 78,
          "metadata": {},
          "output_type": "execute_result"
        }
      ],
      "source": [
        "Train.describe()"
      ]
    },
    {
      "cell_type": "code",
      "execution_count": null,
      "metadata": {
        "id": "faslHSSQWea0",
        "outputId": "460d35b3-0a0f-4519-9fdb-448cbaff8b82"
      },
      "outputs": [
        {
          "data": {
            "image/png": "[encoded data removed]",
            "text/plain": [
              "<Figure size 1440x1080 with 20 Axes>"
            ]
          },
          "metadata": {
            "needs_background": "light"
          },
          "output_type": "display_data"
        }
      ],
      "source": [
        "Train.hist(bins=50, figsize=(20,15))\n",
        "plt.show()"
      ]
    },
    {
      "cell_type": "code",
      "execution_count": null,
      "metadata": {
        "id": "d6pY9h_pWea1"
      },
      "outputs": [],
      "source": [
        "Test= Test.drop(['Unnamed: 0'], axis='columns')"
      ]
    },
    {
      "cell_type": "code",
      "execution_count": null,
      "metadata": {
        "id": "-F33_IGIWea1"
      },
      "outputs": [],
      "source": [
        "X=X.fillna(0)"
      ]
    },
    {
      "cell_type": "code",
      "execution_count": null,
      "metadata": {
        "id": "Zo36WiSsWea1",
        "outputId": "76bbdeed-1bfb-4cee-80da-b2c41d934292"
      },
      "outputs": [
        {
          "name": "stderr",
          "output_type": "stream",
          "text": [
            "/opt/anaconda3/lib/python3.7/site-packages/sklearn/linear_model/least_angle.py:30: DeprecationWarning: `np.float` is a deprecated alias for the builtin `float`. To silence this warning, use `float` by itself. Doing this will not modify any behavior and is safe. If you specifically wanted the numpy scalar type, use `np.float64` here.\n",
            "Deprecated in NumPy 1.20; for more details and guidance: https://numpy.org/devdocs/release/1.20.0-notes.html#deprecations\n",
            "  method='lar', copy_X=True, eps=np.finfo(np.float).eps,\n",
            "/opt/anaconda3/lib/python3.7/site-packages/sklearn/linear_model/least_angle.py:167: DeprecationWarning: `np.float` is a deprecated alias for the builtin `float`. To silence this warning, use `float` by itself. Doing this will not modify any behavior and is safe. If you specifically wanted the numpy scalar type, use `np.float64` here.\n",
            "Deprecated in NumPy 1.20; for more details and guidance: https://numpy.org/devdocs/release/1.20.0-notes.html#deprecations\n",
            "  method='lar', copy_X=True, eps=np.finfo(np.float).eps,\n",
            "/opt/anaconda3/lib/python3.7/site-packages/sklearn/linear_model/least_angle.py:284: DeprecationWarning: `np.float` is a deprecated alias for the builtin `float`. To silence this warning, use `float` by itself. Doing this will not modify any behavior and is safe. If you specifically wanted the numpy scalar type, use `np.float64` here.\n",
            "Deprecated in NumPy 1.20; for more details and guidance: https://numpy.org/devdocs/release/1.20.0-notes.html#deprecations\n",
            "  eps=np.finfo(np.float).eps, copy_Gram=True, verbose=0,\n",
            "/opt/anaconda3/lib/python3.7/site-packages/sklearn/linear_model/least_angle.py:862: DeprecationWarning: `np.float` is a deprecated alias for the builtin `float`. To silence this warning, use `float` by itself. Doing this will not modify any behavior and is safe. If you specifically wanted the numpy scalar type, use `np.float64` here.\n",
            "Deprecated in NumPy 1.20; for more details and guidance: https://numpy.org/devdocs/release/1.20.0-notes.html#deprecations\n",
            "  eps=np.finfo(np.float).eps, copy_X=True, fit_path=True,\n",
            "/opt/anaconda3/lib/python3.7/site-packages/sklearn/linear_model/least_angle.py:1101: DeprecationWarning: `np.float` is a deprecated alias for the builtin `float`. To silence this warning, use `float` by itself. Doing this will not modify any behavior and is safe. If you specifically wanted the numpy scalar type, use `np.float64` here.\n",
            "Deprecated in NumPy 1.20; for more details and guidance: https://numpy.org/devdocs/release/1.20.0-notes.html#deprecations\n",
            "  eps=np.finfo(np.float).eps, copy_X=True, fit_path=True,\n",
            "/opt/anaconda3/lib/python3.7/site-packages/sklearn/linear_model/least_angle.py:1127: DeprecationWarning: `np.float` is a deprecated alias for the builtin `float`. To silence this warning, use `float` by itself. Doing this will not modify any behavior and is safe. If you specifically wanted the numpy scalar type, use `np.float64` here.\n",
            "Deprecated in NumPy 1.20; for more details and guidance: https://numpy.org/devdocs/release/1.20.0-notes.html#deprecations\n",
            "  eps=np.finfo(np.float).eps, positive=False):\n",
            "/opt/anaconda3/lib/python3.7/site-packages/sklearn/linear_model/least_angle.py:1362: DeprecationWarning: `np.float` is a deprecated alias for the builtin `float`. To silence this warning, use `float` by itself. Doing this will not modify any behavior and is safe. If you specifically wanted the numpy scalar type, use `np.float64` here.\n",
            "Deprecated in NumPy 1.20; for more details and guidance: https://numpy.org/devdocs/release/1.20.0-notes.html#deprecations\n",
            "  max_n_alphas=1000, n_jobs=None, eps=np.finfo(np.float).eps,\n",
            "/opt/anaconda3/lib/python3.7/site-packages/sklearn/linear_model/least_angle.py:1602: DeprecationWarning: `np.float` is a deprecated alias for the builtin `float`. To silence this warning, use `float` by itself. Doing this will not modify any behavior and is safe. If you specifically wanted the numpy scalar type, use `np.float64` here.\n",
            "Deprecated in NumPy 1.20; for more details and guidance: https://numpy.org/devdocs/release/1.20.0-notes.html#deprecations\n",
            "  max_n_alphas=1000, n_jobs=None, eps=np.finfo(np.float).eps,\n",
            "/opt/anaconda3/lib/python3.7/site-packages/sklearn/linear_model/least_angle.py:1738: DeprecationWarning: `np.float` is a deprecated alias for the builtin `float`. To silence this warning, use `float` by itself. Doing this will not modify any behavior and is safe. If you specifically wanted the numpy scalar type, use `np.float64` here.\n",
            "Deprecated in NumPy 1.20; for more details and guidance: https://numpy.org/devdocs/release/1.20.0-notes.html#deprecations\n",
            "  eps=np.finfo(np.float).eps, copy_X=True, positive=False):\n"
          ]
        }
      ],
      "source": [
        "from sklearn.linear_model import LogisticRegression\n",
        "model = LogisticRegression()"
      ]
    },
    {
      "cell_type": "code",
      "execution_count": null,
      "metadata": {
        "id": "l6grzx8wWea2",
        "outputId": "0f72ecb2-2360-45ad-c07f-257081bc8c12"
      },
      "outputs": [
        {
          "name": "stderr",
          "output_type": "stream",
          "text": [
            "/opt/anaconda3/lib/python3.7/site-packages/sklearn/linear_model/logistic.py:432: FutureWarning: Default solver will be changed to 'lbfgs' in 0.22. Specify a solver to silence this warning.\n",
            "  FutureWarning)\n"
          ]
        },
        {
          "data": {
            "text/plain": [
              "LogisticRegression(C=1.0, class_weight=None, dual=False, fit_intercept=True,\n",
              "                   intercept_scaling=1, l1_ratio=None, max_iter=100,\n",
              "                   multi_class='warn', n_jobs=None, penalty='l2',\n",
              "                   random_state=None, solver='warn', tol=0.0001, verbose=0,\n",
              "                   warm_start=False)"
            ]
          },
          "execution_count": 18,
          "metadata": {},
          "output_type": "execute_result"
        }
      ],
      "source": [
        "model.fit(X, y)"
      ]
    },
    {
      "cell_type": "code",
      "execution_count": null,
      "metadata": {
        "id": "Z7YZIOHxWea2",
        "outputId": "daecef86-a9c4-4e18-a997-25df1b3b17fe"
      },
      "outputs": [
        {
          "name": "stderr",
          "output_type": "stream",
          "text": [
            "/opt/anaconda3/lib/python3.7/site-packages/sklearn/linear_model/base.py:291: DeprecationWarning: `np.int` is a deprecated alias for the builtin `int`. To silence this warning, use `int` by itself. Doing this will not modify any behavior and is safe. When replacing `np.int`, you may wish to use e.g. `np.int64` or `np.int32` to specify the precision. If you wish to review your current use, check the release note link for additional information.\n",
            "Deprecated in NumPy 1.20; for more details and guidance: https://numpy.org/devdocs/release/1.20.0-notes.html#deprecations\n",
            "  indices = (scores > 0).astype(np.int)\n"
          ]
        },
        {
          "data": {
            "text/plain": [
              "array([1, 0, 0, ..., 0, 1, 0])"
            ]
          },
          "execution_count": 26,
          "metadata": {},
          "output_type": "execute_result"
        }
      ],
      "source": [
        "y_predicted = model.predict(Test)\n",
        "y_predicted"
      ]
    },
    {
      "cell_type": "code",
      "execution_count": null,
      "metadata": {
        "id": "d1rMxTpOWea3",
        "outputId": "9e335b3e-fad2-4db9-b23c-ca300da9a384"
      },
      "outputs": [
        {
          "data": {
            "text/plain": [
              "1500000"
            ]
          },
          "execution_count": 41,
          "metadata": {},
          "output_type": "execute_result"
        }
      ],
      "source": [
        "len(y_predicted)"
      ]
    },
    {
      "cell_type": "code",
      "execution_count": null,
      "metadata": {
        "id": "GE0o2OV6Wea3"
      },
      "outputs": [],
      "source": [
        "res = pd.DataFrame(y_predicted)\n",
        "#res.to_csv(\"prediction_ML.csv\",index_label = 'Id',header = ['class'])"
      ]
    },
    {
      "cell_type": "code",
      "execution_count": null,
      "metadata": {
        "id": "BzcOZb_EWea4",
        "outputId": "fb455d01-a3c9-42a4-856f-1e30fb3af469"
      },
      "outputs": [
        {
          "data": {
            "text/plain": [
              "0          1\n",
              "1          0\n",
              "2          0\n",
              "3          1\n",
              "4          1\n",
              "          ..\n",
              "1499995    0\n",
              "1499996    0\n",
              "1499997    0\n",
              "1499998    1\n",
              "1499999    0\n",
              "Name: 0, Length: 1500000, dtype: int64"
            ]
          },
          "execution_count": 43,
          "metadata": {},
          "output_type": "execute_result"
        }
      ],
      "source": [
        "res[0]"
      ]
    },
    {
      "cell_type": "code",
      "execution_count": null,
      "metadata": {
        "id": "p2cPwgkBWea4"
      },
      "outputs": [],
      "source": [
        "res[0] = res[0].astype(float)"
      ]
    },
    {
      "cell_type": "code",
      "execution_count": null,
      "metadata": {
        "id": "pogWV5qUWea4",
        "outputId": "8c5f9cc2-826e-40d1-ead5-2ada2a8cd4a6"
      },
      "outputs": [
        {
          "data": {
            "text/plain": [
              "0          1.0\n",
              "1          0.0\n",
              "2          0.0\n",
              "3          1.0\n",
              "4          1.0\n",
              "          ... \n",
              "1499995    0.0\n",
              "1499996    0.0\n",
              "1499997    0.0\n",
              "1499998    1.0\n",
              "1499999    0.0\n",
              "Name: 0, Length: 1500000, dtype: float64"
            ]
          },
          "execution_count": 57,
          "metadata": {},
          "output_type": "execute_result"
        }
      ],
      "source": [
        "res[0]"
      ]
    },
    {
      "cell_type": "code",
      "execution_count": null,
      "metadata": {
        "id": "A3MAtBsfWea4"
      },
      "outputs": [],
      "source": [
        "res.to_csv(\"prediction_ML.csv\",index_label = 'Id',header = ['class'])"
      ]
    },
    {
      "cell_type": "markdown",
      "metadata": {
        "id": "UcFyf5QEWea5"
      },
      "source": [
        "# Using SVM Model"
      ]
    },
    {
      "cell_type": "code",
      "execution_count": null,
      "metadata": {
        "id": "i5VBIFLTWea6"
      },
      "outputs": [],
      "source": [
        "from sklearn import svm\n",
        "model = svm.SVC(kernel='linear', C=1)\n",
        "# Train the model using the training data\n",
        "model.fit(X, y)\n",
        "y_pred = model.predict(Test)\n",
        "# Calculate the accuracy of the model\n",
        "accuracy = sum(y_pred == y_test) / len(y_test)"
      ]
    },
    {
      "cell_type": "code",
      "execution_count": null,
      "metadata": {
        "id": "CqeLP0-3Wea7"
      },
      "outputs": [],
      "source": [
        "y_pred"
      ]
    },
    {
      "cell_type": "markdown",
      "metadata": {
        "id": "T-wakD0eWea7"
      },
      "source": [
        "## SVM Model also gives the same accuracy as that of Logistic Regression\n"
      ]
    },
    {
      "cell_type": "markdown",
      "metadata": {
        "id": "r0iNpH9ZWea7"
      },
      "source": [
        "# Now Using Xgboost"
      ]
    },
    {
      "cell_type": "markdown",
      "metadata": {
        "id": "DEfvOaYRWea7"
      },
      "source": [
        "## I used XGBoost (eXtreme Gradient Boosting) because it is a powerful machine learning algorithm particularly good at handling large datasets with a large number of features. It is an implementation of gradient boosting, which is a type of ensemble learning algorithm that combines the predictions of multiple simpler models (such as decision trees) to create a more accurate overall prediction. It is also customizable, with a number of hyperparameters that can be tuned to achieve the best performance for a specific problem."
      ]
    },
    {
      "cell_type": "code",
      "execution_count": null,
      "metadata": {
        "id": "XnumMK56Wea8"
      },
      "outputs": [],
      "source": [
        "from sklearn.linear_model import LogisticRegression \n",
        "from sklearn.svm import SVC\n",
        "from sklearn.ensemble import RandomForestClassifier\n",
        "from sklearn.neighbors import KNeighborsClassifier \n",
        "from sklearn.linear_model import Perceptron\n",
        "from sklearn.tree import DecisionTreeClassifier \n",
        "import xgboost as xgb"
      ]
    },
    {
      "cell_type": "code",
      "execution_count": null,
      "metadata": {
        "id": "fdYbhjIXWea9"
      },
      "outputs": [],
      "source": [
        "num_cols = X.select_dtypes(include=\"number\").columns"
      ]
    },
    {
      "cell_type": "code",
      "execution_count": null,
      "metadata": {
        "id": "9sqZ-O3QWea9"
      },
      "outputs": [],
      "source": [
        "from sklearn.preprocessing import StandardScaler from sklearn.impute import SimpleImputer\n",
        "from sklearn.pipeline import Pipeline\n",
        "from sklearn.compose import ColumnTransformer\n",
        "numeric_pipeline = Pipeline(steps=[(\"impute\", SimpleImputer(strategy=\"mean\")), (\"scale\", StandardScaler())]) full_processor = ColumnTransformer(\n",
        "transformers=[(\"numeric\", numeric_pipeline, num_cols)])"
      ]
    },
    {
      "cell_type": "code",
      "execution_count": null,
      "metadata": {
        "id": "3yklPxrjWea9"
      },
      "outputs": [],
      "source": [
        "num_cols1 = Test.select_dtypes(include=\"number\").columns"
      ]
    },
    {
      "cell_type": "code",
      "execution_count": null,
      "metadata": {
        "id": "F3frfg0GWea-"
      },
      "outputs": [],
      "source": [
        "X_processed1 = full_processor.fit_transform(Test)"
      ]
    },
    {
      "cell_type": "code",
      "execution_count": null,
      "metadata": {
        "id": "1SO3rk7cWea-"
      },
      "outputs": [],
      "source": [
        "X_processed = full_processor.fit_transform(X) \n",
        "xgb_cl = xgb.XGBClassifier() \n",
        "xgb_cl.fit(X_processed, y)\n",
        "preds = xgb_cl.predict(Test)"
      ]
    },
    {
      "cell_type": "code",
      "execution_count": null,
      "metadata": {
        "id": "24UYsIKjWea-"
      },
      "outputs": [],
      "source": [
        "Preds = xgb_cl.predict(X_processed1)"
      ]
    },
    {
      "cell_type": "code",
      "execution_count": null,
      "metadata": {
        "id": "KjZBYylxWea_"
      },
      "outputs": [],
      "source": [
        "Preds3 = pd.DataFrame(Preds)"
      ]
    },
    {
      "cell_type": "code",
      "execution_count": null,
      "metadata": {
        "id": "8eFwvSe5Wea_"
      },
      "outputs": [],
      "source": [
        "Preds3[0] = Preds3[0].astype(float)"
      ]
    },
    {
      "cell_type": "code",
      "execution_count": null,
      "metadata": {
        "id": "OzYd4pl3Wea_"
      },
      "outputs": [],
      "source": [
        "Preds3.to_csv(\"Output_ML_LAB.csv\",index_label = 'Id', header = ['class'])"
      ]
    },
    {
      "cell_type": "markdown",
      "metadata": {
        "id": "HFsF4wuaWea_"
      },
      "source": [
        "## The predicted value is 80.289% times predicting the correct value. "
      ]
    },
    {
      "cell_type": "markdown",
      "metadata": {
        "id": "ZwvRJrYKWebA"
      },
      "source": [
        "# Using Hyper Parameter for xgboost"
      ]
    },
    {
      "cell_type": "code",
      "execution_count": null,
      "metadata": {
        "id": "XHAAPIfEWebA"
      },
      "outputs": [],
      "source": [
        "import xgboost as xgb\n",
        "# Define the hyperparameters\n",
        "params = { 'max_depth': 5,\n",
        "    'n_estimators': 450,\n",
        "    'subsample': 0.85,\n",
        "    'min_child_weight': 10\n",
        "}\n",
        "# Create the XGBoost model\n",
        "model = xgb.XGBClassifier(**params)\n",
        "# Fit the model to the training data\n",
        "model.fit(X_processed, y)"
      ]
    },
    {
      "cell_type": "code",
      "execution_count": null,
      "metadata": {
        "id": "EXOeM0TaWebA"
      },
      "outputs": [],
      "source": [
        "preds1 = xgb.predict(Test)"
      ]
    },
    {
      "cell_type": "code",
      "execution_count": null,
      "metadata": {
        "id": "70rLZjMhWebA"
      },
      "outputs": [],
      "source": []
    }
  ],
  "metadata": {
    "kernelspec": {
      "display_name": "Python 3",
      "language": "python",
      "name": "python3"
    },
    "colab": {
      "provenance": [],
      "include_colab_link": true
    }
  },
  "nbformat": 4,
  "nbformat_minor": 0
}